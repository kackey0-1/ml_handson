{
 "cells": [
  {
   "cell_type": "markdown",
   "source": [
    "# 4 基礎的な回帰予測 10"
   ],
   "metadata": {
    "id": "G8ES62aBYZiF"
   }
  },
  {
   "cell_type": "markdown",
   "source": [
    "## データを読み込む"
   ],
   "metadata": {
    "id": "FUmF-YxKYhfv"
   }
  },
  {
   "cell_type": "code",
   "execution_count": 5,
   "metadata": {
    "collapsed": true,
    "colab": {
     "base_uri": "https://localhost:8080/"
    },
    "id": "-60119XhYYIi",
    "executionInfo": {
     "status": "ok",
     "timestamp": 1648854723292,
     "user_tz": -540,
     "elapsed": 234,
     "user": {
      "displayName": "Kentaro Kakimoto",
      "userId": "10433744363719433316"
     }
    },
    "outputId": "7ec55446-d97b-45e6-f76f-9f7aedd21eb2"
   },
   "outputs": [
    {
     "output_type": "stream",
     "name": "stdout",
     "text": [
      "説明変数\n",
      "506 件\n",
      "[[6.3200e-03 1.8000e+01 2.3100e+00 0.0000e+00 5.3800e-01 6.5750e+00\n",
      "  6.5200e+01 4.0900e+00 1.0000e+00 2.9600e+02 1.5300e+01 3.9690e+02\n",
      "  4.9800e+00]\n",
      " [2.7310e-02 0.0000e+00 7.0700e+00 0.0000e+00 4.6900e-01 6.4210e+00\n",
      "  7.8900e+01 4.9671e+00 2.0000e+00 2.4200e+02 1.7800e+01 3.9690e+02\n",
      "  9.1400e+00]\n",
      " [2.7290e-02 0.0000e+00 7.0700e+00 0.0000e+00 4.6900e-01 7.1850e+00\n",
      "  6.1100e+01 4.9671e+00 2.0000e+00 2.4200e+02 1.7800e+01 3.9283e+02\n",
      "  4.0300e+00]\n",
      " [3.2370e-02 0.0000e+00 2.1800e+00 0.0000e+00 4.5800e-01 6.9980e+00\n",
      "  4.5800e+01 6.0622e+00 3.0000e+00 2.2200e+02 1.8700e+01 3.9463e+02\n",
      "  2.9400e+00]\n",
      " [6.9050e-02 0.0000e+00 2.1800e+00 0.0000e+00 4.5800e-01 7.1470e+00\n",
      "  5.4200e+01 6.0622e+00 3.0000e+00 2.2200e+02 1.8700e+01 3.9690e+02\n",
      "  5.3300e+00]]\n",
      "目的変数\n",
      "506 件\n",
      "[24.  21.6 34.7 33.4 36.2]\n",
      "変数名\n",
      "13 件\n",
      "['CRIM' 'ZN' 'INDUS' 'CHAS' 'NOX' 'RM' 'AGE' 'DIS' 'RAD' 'TAX' 'PTRATIO'\n",
      " 'B' 'LSTAT']\n"
     ]
    }
   ],
   "source": [
    "from sklearn.datasets import load_boston\n",
    "import warnings\n",
    "warnings.simplefilter('ignore', FutureWarning)\n",
    "boston = load_boston()\n",
    "boston\n",
    "\n",
    "print('説明変数')\n",
    "print(f'{len(boston.data)} 件')\n",
    "print(boston.data[:5])\n",
    "print('目的変数')\n",
    "print(f'{len(boston.target)} 件')\n",
    "print(boston.target[:5])\n",
    "print('変数名')\n",
    "print(f'{len(boston.feature_names)} 件')\n",
    "print(boston.feature_names)"
   ]
  },
  {
   "cell_type": "code",
   "source": [
    ""
   ],
   "metadata": {
    "id": "1TXfsrKHYtal"
   },
   "execution_count": null,
   "outputs": []
  }
 ],
 "metadata": {
  "kernelspec": {
   "display_name": "Python 3",
   "language": "python",
   "name": "python3"
  },
  "language_info": {
   "codemirror_mode": {
    "name": "ipython",
    "version": 2
   },
   "file_extension": ".py",
   "mimetype": "text/x-python",
   "name": "python",
   "nbconvert_exporter": "python",
   "pygments_lexer": "ipython2",
   "version": "2.7.6"
  },
  "colab": {
   "name": "4_basic_regression.ipynb",
   "provenance": [],
   "toc_visible": true
  }
 },
 "nbformat": 4,
 "nbformat_minor": 0
}