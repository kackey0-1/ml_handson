{
 "cells": [
  {
   "cell_type": "markdown",
   "id": "428f8939-10ec-40f2-9bfb-a720156a89eb",
   "metadata": {},
   "source": [
    "# COVID\n",
    "\n"
   ]
  },
  {
   "cell_type": "code",
   "execution_count": 1,
   "id": "a131df5c-3d9b-4bb7-a172-a86ad8220a77",
   "metadata": {},
   "outputs": [],
   "source": [
    "import urllib\n",
    "import json\n",
    "from datetime import datetime\n",
    "import pandas as pd\n",
    "import numpy as np"
   ]
  },
  {
   "cell_type": "code",
   "execution_count": 36,
   "id": "f686bc62-487e-4823-82ae-c51baab2bb39",
   "metadata": {},
   "outputs": [],
   "source": [
    "# today = datetime.strftime(datetime.now(), '%Y-%m-%d')\n",
    "# url = f'https://data.vrs.digital.go.jp/vaccination/opendata/{today}/prefecture.ndjson'\n",
    "# response = urllib.request.urlopen(url)\n",
    "# response = response.read()\n"
   ]
  },
  {
   "cell_type": "code",
   "execution_count": 3,
   "id": "a574c6f6-cb16-4a6b-8184-f421575f3c00",
   "metadata": {},
   "outputs": [
    {
     "name": "stdout",
     "output_type": "stream",
     "text": [
      "['hokkaido', 'aomori', 'iwate', 'miyagi', 'akita', 'yamagata', 'fukushima', 'ibaraki', 'tochigi', 'gunma', 'saitama', 'chiba', 'tokyo', 'kanagawa', 'niigata', 'toyama', 'ishikawa', 'fukui', 'yamanashi', 'nagano', 'gifu', 'shizuoka', 'aichi', 'mie', 'shiga', 'kyoto', 'osaka', 'hyogo', 'nara', 'tottori', 'shimane', 'okayama', 'hiroshima', 'yamaguchi', 'tokushima', 'kagawa', 'ehime', 'kochi', 'fukuoka', 'saga', 'nagasaki', 'kumamoto', 'oita', 'miyazaki', 'kagoshima', 'okinawa']\n",
      "hokkaido\n"
     ]
    },
    {
     "name": "stderr",
     "output_type": "stream",
     "text": [
      "/var/folders/ht/jxpc68cx6flfn8khw5l066lm0000gn/T/ipykernel_29094/2767297202.py:26: FutureWarning: The frame.append method is deprecated and will be removed from pandas in a future version. Use pandas.concat instead.\n",
      "  data3=data3.append(dfs)\n"
     ]
    },
    {
     "name": "stdout",
     "output_type": "stream",
     "text": [
      "aomori\n"
     ]
    },
    {
     "name": "stderr",
     "output_type": "stream",
     "text": [
      "/var/folders/ht/jxpc68cx6flfn8khw5l066lm0000gn/T/ipykernel_29094/2767297202.py:26: FutureWarning: The frame.append method is deprecated and will be removed from pandas in a future version. Use pandas.concat instead.\n",
      "  data3=data3.append(dfs)\n"
     ]
    },
    {
     "name": "stdout",
     "output_type": "stream",
     "text": [
      "iwate\n"
     ]
    },
    {
     "name": "stderr",
     "output_type": "stream",
     "text": [
      "/var/folders/ht/jxpc68cx6flfn8khw5l066lm0000gn/T/ipykernel_29094/2767297202.py:26: FutureWarning: The frame.append method is deprecated and will be removed from pandas in a future version. Use pandas.concat instead.\n",
      "  data3=data3.append(dfs)\n"
     ]
    },
    {
     "name": "stdout",
     "output_type": "stream",
     "text": [
      "miyagi\n"
     ]
    },
    {
     "name": "stderr",
     "output_type": "stream",
     "text": [
      "/var/folders/ht/jxpc68cx6flfn8khw5l066lm0000gn/T/ipykernel_29094/2767297202.py:26: FutureWarning: The frame.append method is deprecated and will be removed from pandas in a future version. Use pandas.concat instead.\n",
      "  data3=data3.append(dfs)\n"
     ]
    },
    {
     "name": "stdout",
     "output_type": "stream",
     "text": [
      "akita\n"
     ]
    },
    {
     "name": "stderr",
     "output_type": "stream",
     "text": [
      "/var/folders/ht/jxpc68cx6flfn8khw5l066lm0000gn/T/ipykernel_29094/2767297202.py:26: FutureWarning: The frame.append method is deprecated and will be removed from pandas in a future version. Use pandas.concat instead.\n",
      "  data3=data3.append(dfs)\n"
     ]
    },
    {
     "name": "stdout",
     "output_type": "stream",
     "text": [
      "yamagata\n"
     ]
    },
    {
     "name": "stderr",
     "output_type": "stream",
     "text": [
      "/var/folders/ht/jxpc68cx6flfn8khw5l066lm0000gn/T/ipykernel_29094/2767297202.py:26: FutureWarning: The frame.append method is deprecated and will be removed from pandas in a future version. Use pandas.concat instead.\n",
      "  data3=data3.append(dfs)\n"
     ]
    },
    {
     "name": "stdout",
     "output_type": "stream",
     "text": [
      "fukushima\n"
     ]
    },
    {
     "name": "stderr",
     "output_type": "stream",
     "text": [
      "/var/folders/ht/jxpc68cx6flfn8khw5l066lm0000gn/T/ipykernel_29094/2767297202.py:26: FutureWarning: The frame.append method is deprecated and will be removed from pandas in a future version. Use pandas.concat instead.\n",
      "  data3=data3.append(dfs)\n"
     ]
    },
    {
     "name": "stdout",
     "output_type": "stream",
     "text": [
      "ibaraki\n"
     ]
    },
    {
     "name": "stderr",
     "output_type": "stream",
     "text": [
      "/var/folders/ht/jxpc68cx6flfn8khw5l066lm0000gn/T/ipykernel_29094/2767297202.py:26: FutureWarning: The frame.append method is deprecated and will be removed from pandas in a future version. Use pandas.concat instead.\n",
      "  data3=data3.append(dfs)\n"
     ]
    },
    {
     "name": "stdout",
     "output_type": "stream",
     "text": [
      "tochigi\n"
     ]
    },
    {
     "name": "stderr",
     "output_type": "stream",
     "text": [
      "/var/folders/ht/jxpc68cx6flfn8khw5l066lm0000gn/T/ipykernel_29094/2767297202.py:26: FutureWarning: The frame.append method is deprecated and will be removed from pandas in a future version. Use pandas.concat instead.\n",
      "  data3=data3.append(dfs)\n"
     ]
    },
    {
     "name": "stdout",
     "output_type": "stream",
     "text": [
      "gunma\n"
     ]
    },
    {
     "name": "stderr",
     "output_type": "stream",
     "text": [
      "/var/folders/ht/jxpc68cx6flfn8khw5l066lm0000gn/T/ipykernel_29094/2767297202.py:26: FutureWarning: The frame.append method is deprecated and will be removed from pandas in a future version. Use pandas.concat instead.\n",
      "  data3=data3.append(dfs)\n"
     ]
    },
    {
     "name": "stdout",
     "output_type": "stream",
     "text": [
      "saitama\n"
     ]
    },
    {
     "name": "stderr",
     "output_type": "stream",
     "text": [
      "/var/folders/ht/jxpc68cx6flfn8khw5l066lm0000gn/T/ipykernel_29094/2767297202.py:26: FutureWarning: The frame.append method is deprecated and will be removed from pandas in a future version. Use pandas.concat instead.\n",
      "  data3=data3.append(dfs)\n"
     ]
    },
    {
     "name": "stdout",
     "output_type": "stream",
     "text": [
      "chiba\n"
     ]
    },
    {
     "name": "stderr",
     "output_type": "stream",
     "text": [
      "/var/folders/ht/jxpc68cx6flfn8khw5l066lm0000gn/T/ipykernel_29094/2767297202.py:26: FutureWarning: The frame.append method is deprecated and will be removed from pandas in a future version. Use pandas.concat instead.\n",
      "  data3=data3.append(dfs)\n"
     ]
    },
    {
     "name": "stdout",
     "output_type": "stream",
     "text": [
      "tokyo\n"
     ]
    },
    {
     "name": "stderr",
     "output_type": "stream",
     "text": [
      "/var/folders/ht/jxpc68cx6flfn8khw5l066lm0000gn/T/ipykernel_29094/2767297202.py:26: FutureWarning: The frame.append method is deprecated and will be removed from pandas in a future version. Use pandas.concat instead.\n",
      "  data3=data3.append(dfs)\n"
     ]
    },
    {
     "name": "stdout",
     "output_type": "stream",
     "text": [
      "kanagawa\n"
     ]
    },
    {
     "name": "stderr",
     "output_type": "stream",
     "text": [
      "/var/folders/ht/jxpc68cx6flfn8khw5l066lm0000gn/T/ipykernel_29094/2767297202.py:26: FutureWarning: The frame.append method is deprecated and will be removed from pandas in a future version. Use pandas.concat instead.\n",
      "  data3=data3.append(dfs)\n"
     ]
    },
    {
     "name": "stdout",
     "output_type": "stream",
     "text": [
      "niigata\n"
     ]
    },
    {
     "name": "stderr",
     "output_type": "stream",
     "text": [
      "/var/folders/ht/jxpc68cx6flfn8khw5l066lm0000gn/T/ipykernel_29094/2767297202.py:26: FutureWarning: The frame.append method is deprecated and will be removed from pandas in a future version. Use pandas.concat instead.\n",
      "  data3=data3.append(dfs)\n"
     ]
    },
    {
     "name": "stdout",
     "output_type": "stream",
     "text": [
      "toyama\n",
      "ishikawa\n"
     ]
    },
    {
     "name": "stderr",
     "output_type": "stream",
     "text": [
      "/var/folders/ht/jxpc68cx6flfn8khw5l066lm0000gn/T/ipykernel_29094/2767297202.py:26: FutureWarning: The frame.append method is deprecated and will be removed from pandas in a future version. Use pandas.concat instead.\n",
      "  data3=data3.append(dfs)\n",
      "/var/folders/ht/jxpc68cx6flfn8khw5l066lm0000gn/T/ipykernel_29094/2767297202.py:26: FutureWarning: The frame.append method is deprecated and will be removed from pandas in a future version. Use pandas.concat instead.\n",
      "  data3=data3.append(dfs)\n"
     ]
    },
    {
     "name": "stdout",
     "output_type": "stream",
     "text": [
      "fukui\n",
      "yamanashi\n"
     ]
    },
    {
     "name": "stderr",
     "output_type": "stream",
     "text": [
      "/var/folders/ht/jxpc68cx6flfn8khw5l066lm0000gn/T/ipykernel_29094/2767297202.py:26: FutureWarning: The frame.append method is deprecated and will be removed from pandas in a future version. Use pandas.concat instead.\n",
      "  data3=data3.append(dfs)\n",
      "/var/folders/ht/jxpc68cx6flfn8khw5l066lm0000gn/T/ipykernel_29094/2767297202.py:26: FutureWarning: The frame.append method is deprecated and will be removed from pandas in a future version. Use pandas.concat instead.\n",
      "  data3=data3.append(dfs)\n"
     ]
    },
    {
     "name": "stdout",
     "output_type": "stream",
     "text": [
      "nagano\n"
     ]
    },
    {
     "name": "stderr",
     "output_type": "stream",
     "text": [
      "/var/folders/ht/jxpc68cx6flfn8khw5l066lm0000gn/T/ipykernel_29094/2767297202.py:26: FutureWarning: The frame.append method is deprecated and will be removed from pandas in a future version. Use pandas.concat instead.\n",
      "  data3=data3.append(dfs)\n"
     ]
    },
    {
     "name": "stdout",
     "output_type": "stream",
     "text": [
      "gifu\n"
     ]
    },
    {
     "name": "stderr",
     "output_type": "stream",
     "text": [
      "/var/folders/ht/jxpc68cx6flfn8khw5l066lm0000gn/T/ipykernel_29094/2767297202.py:26: FutureWarning: The frame.append method is deprecated and will be removed from pandas in a future version. Use pandas.concat instead.\n",
      "  data3=data3.append(dfs)\n"
     ]
    },
    {
     "name": "stdout",
     "output_type": "stream",
     "text": [
      "shizuoka\n"
     ]
    },
    {
     "name": "stderr",
     "output_type": "stream",
     "text": [
      "/var/folders/ht/jxpc68cx6flfn8khw5l066lm0000gn/T/ipykernel_29094/2767297202.py:26: FutureWarning: The frame.append method is deprecated and will be removed from pandas in a future version. Use pandas.concat instead.\n",
      "  data3=data3.append(dfs)\n"
     ]
    },
    {
     "name": "stdout",
     "output_type": "stream",
     "text": [
      "aichi\n"
     ]
    },
    {
     "name": "stderr",
     "output_type": "stream",
     "text": [
      "/var/folders/ht/jxpc68cx6flfn8khw5l066lm0000gn/T/ipykernel_29094/2767297202.py:26: FutureWarning: The frame.append method is deprecated and will be removed from pandas in a future version. Use pandas.concat instead.\n",
      "  data3=data3.append(dfs)\n"
     ]
    },
    {
     "name": "stdout",
     "output_type": "stream",
     "text": [
      "mie\n"
     ]
    },
    {
     "name": "stderr",
     "output_type": "stream",
     "text": [
      "/var/folders/ht/jxpc68cx6flfn8khw5l066lm0000gn/T/ipykernel_29094/2767297202.py:26: FutureWarning: The frame.append method is deprecated and will be removed from pandas in a future version. Use pandas.concat instead.\n",
      "  data3=data3.append(dfs)\n"
     ]
    },
    {
     "name": "stdout",
     "output_type": "stream",
     "text": [
      "shiga\n"
     ]
    },
    {
     "name": "stderr",
     "output_type": "stream",
     "text": [
      "/var/folders/ht/jxpc68cx6flfn8khw5l066lm0000gn/T/ipykernel_29094/2767297202.py:26: FutureWarning: The frame.append method is deprecated and will be removed from pandas in a future version. Use pandas.concat instead.\n",
      "  data3=data3.append(dfs)\n"
     ]
    },
    {
     "name": "stdout",
     "output_type": "stream",
     "text": [
      "kyoto\n"
     ]
    },
    {
     "name": "stderr",
     "output_type": "stream",
     "text": [
      "/var/folders/ht/jxpc68cx6flfn8khw5l066lm0000gn/T/ipykernel_29094/2767297202.py:26: FutureWarning: The frame.append method is deprecated and will be removed from pandas in a future version. Use pandas.concat instead.\n",
      "  data3=data3.append(dfs)\n"
     ]
    },
    {
     "name": "stdout",
     "output_type": "stream",
     "text": [
      "osaka\n"
     ]
    },
    {
     "name": "stderr",
     "output_type": "stream",
     "text": [
      "/var/folders/ht/jxpc68cx6flfn8khw5l066lm0000gn/T/ipykernel_29094/2767297202.py:26: FutureWarning: The frame.append method is deprecated and will be removed from pandas in a future version. Use pandas.concat instead.\n",
      "  data3=data3.append(dfs)\n"
     ]
    },
    {
     "name": "stdout",
     "output_type": "stream",
     "text": [
      "hyogo\n"
     ]
    },
    {
     "name": "stderr",
     "output_type": "stream",
     "text": [
      "/var/folders/ht/jxpc68cx6flfn8khw5l066lm0000gn/T/ipykernel_29094/2767297202.py:26: FutureWarning: The frame.append method is deprecated and will be removed from pandas in a future version. Use pandas.concat instead.\n",
      "  data3=data3.append(dfs)\n"
     ]
    },
    {
     "name": "stdout",
     "output_type": "stream",
     "text": [
      "nara\n",
      "tottori\n"
     ]
    },
    {
     "name": "stderr",
     "output_type": "stream",
     "text": [
      "/var/folders/ht/jxpc68cx6flfn8khw5l066lm0000gn/T/ipykernel_29094/2767297202.py:26: FutureWarning: The frame.append method is deprecated and will be removed from pandas in a future version. Use pandas.concat instead.\n",
      "  data3=data3.append(dfs)\n",
      "/var/folders/ht/jxpc68cx6flfn8khw5l066lm0000gn/T/ipykernel_29094/2767297202.py:26: FutureWarning: The frame.append method is deprecated and will be removed from pandas in a future version. Use pandas.concat instead.\n",
      "  data3=data3.append(dfs)\n"
     ]
    },
    {
     "name": "stdout",
     "output_type": "stream",
     "text": [
      "shimane\n",
      "okayama\n"
     ]
    },
    {
     "name": "stderr",
     "output_type": "stream",
     "text": [
      "/var/folders/ht/jxpc68cx6flfn8khw5l066lm0000gn/T/ipykernel_29094/2767297202.py:26: FutureWarning: The frame.append method is deprecated and will be removed from pandas in a future version. Use pandas.concat instead.\n",
      "  data3=data3.append(dfs)\n",
      "/var/folders/ht/jxpc68cx6flfn8khw5l066lm0000gn/T/ipykernel_29094/2767297202.py:26: FutureWarning: The frame.append method is deprecated and will be removed from pandas in a future version. Use pandas.concat instead.\n",
      "  data3=data3.append(dfs)\n"
     ]
    },
    {
     "name": "stdout",
     "output_type": "stream",
     "text": [
      "hiroshima\n",
      "yamaguchi\n"
     ]
    },
    {
     "name": "stderr",
     "output_type": "stream",
     "text": [
      "/var/folders/ht/jxpc68cx6flfn8khw5l066lm0000gn/T/ipykernel_29094/2767297202.py:26: FutureWarning: The frame.append method is deprecated and will be removed from pandas in a future version. Use pandas.concat instead.\n",
      "  data3=data3.append(dfs)\n",
      "/var/folders/ht/jxpc68cx6flfn8khw5l066lm0000gn/T/ipykernel_29094/2767297202.py:26: FutureWarning: The frame.append method is deprecated and will be removed from pandas in a future version. Use pandas.concat instead.\n",
      "  data3=data3.append(dfs)\n",
      "/var/folders/ht/jxpc68cx6flfn8khw5l066lm0000gn/T/ipykernel_29094/2767297202.py:26: FutureWarning: The frame.append method is deprecated and will be removed from pandas in a future version. Use pandas.concat instead.\n",
      "  data3=data3.append(dfs)\n"
     ]
    },
    {
     "name": "stdout",
     "output_type": "stream",
     "text": [
      "tokushima\n",
      "kagawa\n"
     ]
    },
    {
     "name": "stderr",
     "output_type": "stream",
     "text": [
      "/var/folders/ht/jxpc68cx6flfn8khw5l066lm0000gn/T/ipykernel_29094/2767297202.py:26: FutureWarning: The frame.append method is deprecated and will be removed from pandas in a future version. Use pandas.concat instead.\n",
      "  data3=data3.append(dfs)\n"
     ]
    },
    {
     "name": "stdout",
     "output_type": "stream",
     "text": [
      "ehime\n"
     ]
    },
    {
     "name": "stderr",
     "output_type": "stream",
     "text": [
      "/var/folders/ht/jxpc68cx6flfn8khw5l066lm0000gn/T/ipykernel_29094/2767297202.py:26: FutureWarning: The frame.append method is deprecated and will be removed from pandas in a future version. Use pandas.concat instead.\n",
      "  data3=data3.append(dfs)\n"
     ]
    },
    {
     "name": "stdout",
     "output_type": "stream",
     "text": [
      "kochi\n"
     ]
    },
    {
     "name": "stderr",
     "output_type": "stream",
     "text": [
      "/var/folders/ht/jxpc68cx6flfn8khw5l066lm0000gn/T/ipykernel_29094/2767297202.py:26: FutureWarning: The frame.append method is deprecated and will be removed from pandas in a future version. Use pandas.concat instead.\n",
      "  data3=data3.append(dfs)\n"
     ]
    },
    {
     "name": "stdout",
     "output_type": "stream",
     "text": [
      "fukuoka\n"
     ]
    },
    {
     "name": "stderr",
     "output_type": "stream",
     "text": [
      "/var/folders/ht/jxpc68cx6flfn8khw5l066lm0000gn/T/ipykernel_29094/2767297202.py:26: FutureWarning: The frame.append method is deprecated and will be removed from pandas in a future version. Use pandas.concat instead.\n",
      "  data3=data3.append(dfs)\n"
     ]
    },
    {
     "name": "stdout",
     "output_type": "stream",
     "text": [
      "saga\n",
      "nagasaki\n"
     ]
    },
    {
     "name": "stderr",
     "output_type": "stream",
     "text": [
      "/var/folders/ht/jxpc68cx6flfn8khw5l066lm0000gn/T/ipykernel_29094/2767297202.py:26: FutureWarning: The frame.append method is deprecated and will be removed from pandas in a future version. Use pandas.concat instead.\n",
      "  data3=data3.append(dfs)\n",
      "/var/folders/ht/jxpc68cx6flfn8khw5l066lm0000gn/T/ipykernel_29094/2767297202.py:26: FutureWarning: The frame.append method is deprecated and will be removed from pandas in a future version. Use pandas.concat instead.\n",
      "  data3=data3.append(dfs)\n"
     ]
    },
    {
     "name": "stdout",
     "output_type": "stream",
     "text": [
      "kumamoto\n"
     ]
    },
    {
     "name": "stderr",
     "output_type": "stream",
     "text": [
      "/var/folders/ht/jxpc68cx6flfn8khw5l066lm0000gn/T/ipykernel_29094/2767297202.py:26: FutureWarning: The frame.append method is deprecated and will be removed from pandas in a future version. Use pandas.concat instead.\n",
      "  data3=data3.append(dfs)\n"
     ]
    },
    {
     "name": "stdout",
     "output_type": "stream",
     "text": [
      "oita\n"
     ]
    },
    {
     "name": "stderr",
     "output_type": "stream",
     "text": [
      "/var/folders/ht/jxpc68cx6flfn8khw5l066lm0000gn/T/ipykernel_29094/2767297202.py:26: FutureWarning: The frame.append method is deprecated and will be removed from pandas in a future version. Use pandas.concat instead.\n",
      "  data3=data3.append(dfs)\n"
     ]
    },
    {
     "name": "stdout",
     "output_type": "stream",
     "text": [
      "miyazaki\n"
     ]
    },
    {
     "name": "stderr",
     "output_type": "stream",
     "text": [
      "/var/folders/ht/jxpc68cx6flfn8khw5l066lm0000gn/T/ipykernel_29094/2767297202.py:26: FutureWarning: The frame.append method is deprecated and will be removed from pandas in a future version. Use pandas.concat instead.\n",
      "  data3=data3.append(dfs)\n"
     ]
    },
    {
     "name": "stdout",
     "output_type": "stream",
     "text": [
      "kagoshima\n"
     ]
    },
    {
     "name": "stderr",
     "output_type": "stream",
     "text": [
      "/var/folders/ht/jxpc68cx6flfn8khw5l066lm0000gn/T/ipykernel_29094/2767297202.py:26: FutureWarning: The frame.append method is deprecated and will be removed from pandas in a future version. Use pandas.concat instead.\n",
      "  data3=data3.append(dfs)\n"
     ]
    },
    {
     "name": "stdout",
     "output_type": "stream",
     "text": [
      "okinawa\n"
     ]
    },
    {
     "name": "stderr",
     "output_type": "stream",
     "text": [
      "/var/folders/ht/jxpc68cx6flfn8khw5l066lm0000gn/T/ipykernel_29094/2767297202.py:26: FutureWarning: The frame.append method is deprecated and will be removed from pandas in a future version. Use pandas.concat instead.\n",
      "  data3=data3.append(dfs)\n"
     ]
    }
   ],
   "source": [
    "import pandas as pd\n",
    "import numpy as np\n",
    "\n",
    "list = [\"hokkaido\", \"aomori\",\"iwate\", \"miyagi\", \"akita\", \"yamagata\", \"fukushima\", \"ibaraki\", \"tochigi\", \"gunma\",\n",
    "        \"saitama\", \"chiba\", \"tokyo\", \"kanagawa\", \"niigata\", \"toyama\", \"ishikawa\",\"fukui\", \"yamanashi\", \"nagano\", \"gifu\",\n",
    "        \"shizuoka\", \"aichi\", \"mie\",\"shiga\", \"kyoto\", \"osaka\", \"hyogo\", \"nara\", \"tottori\", \"shimane\", \"okayama\",\n",
    "        \"hiroshima\", \"yamaguchi\", \"tokushima\", \"kagawa\", \"ehime\", \"kochi\", \"fukuoka\", \"saga\", \"nagasaki\", \"kumamoto\", \"oita\",\n",
    "       \"miyazaki\", \"kagoshima\", \"okinawa\"]\n",
    "\n",
    "#list = [\"tokyo\"]\n",
    "\n",
    "#どうやら和歌山だけサイト構造が他の都道府県と違うので、listから一時的に除外する\n",
    "#list2 = [\"wakayama\"]\n",
    "\n",
    "print(list)\n",
    "url1 = 'http://koko-pachi.com/htm/korona.' \n",
    "\n",
    "for j in range(len(list)):\n",
    "    data3=pd.DataFrame()\n",
    "    print(list[j])\n",
    "    #全体の営業状況のページが 5.htm から 6.htm に変更されているので修正\n",
    "    url2 = list[j]+\".6.htm\"\n",
    "    url3=url1+url2\n",
    "    #print(url3)\n",
    "    dfs= pd.read_html(url3)\n",
    "    data3=data3.append(dfs)\n",
    "    \n",
    "    #data3\n",
    "    #print(data3)\n",
    "    #データ整理用\n",
    "    #簡易的にラベルを付与する\n",
    "    data3.columns={'A','B','C','D','E','F', 'G'}\n",
    "    \n",
    "    #不要な行を削除する\n",
    "    data3=data3.dropna(how='all', axis=1)\n",
    "    #data3=data3.dropna(how='any')\n",
    "    #data3=data3.drop('D', axis=1)\n",
    "    data3=data3.drop('E', axis=1)\n",
    "    data3=data3.drop('F', axis=1)\n",
    "    data3=data3.drop('G', axis=1)\n",
    "    data3=data3.drop('C', axis=1)\n",
    "    #data3=data3.drop('H', axis=1)\n",
    "    data3=data3.drop('B', axis=1)\n",
    "    data3=data3.drop('A', axis=1)\n",
    "    #data3=data3.dropna(how='any')\n",
    "   \n",
    "\n",
    "    #データの整理. 余計な箇所を削除する\n",
    "    temp1=data3.loc[[0]]\n",
    "    temp1.reset_index(drop=True, inplace=True)\n",
    "    #temp1.drop(temp1.tail(1).index, inplace=True)\n",
    "    #temp1.drop(temp1.head(1).index, inplace=True)\n",
    "    #temp1.drop(temp1.head(1).index, inplace=True)\n",
    "    #temp1.reset_index(drop=True, inplace=True)\n",
    "\n",
    "    #データの整理. index を並べ直して, データを取り出す.\n",
    "    temp2=data3.loc[[1]]\n",
    "    temp2.reset_index(drop=True, inplace=True)\n",
    "    temp3=data3.loc[[2]]\n",
    "    temp3.reset_index(drop=True, inplace=True)\n",
    "    \n",
    "    data5=pd.concat([temp1,temp2,temp3], axis=1)\n",
    "    #data5.reset_index(drop=True, inplace=True)\n",
    "    data5.columns=['住所','店名','状態']\n",
    "    data5=data5.dropna(how='any')\n",
    "    \n",
    "    label=\"pachinko_\"+list[j]+\"_20210215.csv\"\n",
    "    data5.to_csv(label)"
   ]
  },
  {
   "cell_type": "code",
   "execution_count": 8,
   "id": "aa234a55-792d-4831-8b65-7dd3093bb1e3",
   "metadata": {},
   "outputs": [],
   "source": [
    "import pandas as pd\n",
    "import numpy as np\n",
    "import time\n",
    "import urllib.request\n",
    "\n",
    "from urllib import request\n",
    "from bs4 import BeautifulSoup\n",
    "\n",
    "url1 = 'https://hojyokin-portal.jp/subsidies/'\n",
    "data4 = pd.DataFrame()\n",
    "list = np.arange(2392, 0, -1)\n",
    "for j in range(len(list)):\n",
    "    try:\n",
    "        daa3 = pd.DataFrame()\n",
    "        url2 = list[j]\n",
    "        \n",
    "        url3 = url1+str(url2)\n",
    "        # print(url3)\n",
    "    except urllib.error.HTTPError:\n",
    "        print(\"not available\")\n",
    "    else:\n",
    "        pass\n"
   ]
  },
  {
   "cell_type": "code",
   "execution_count": 24,
   "id": "3179370f-87ad-426b-b43e-d40cdce7fc32",
   "metadata": {},
   "outputs": [
    {
     "data": {
      "text/plain": [
       "id    0\n",
       "A     4\n",
       "B     0\n",
       "C     1\n",
       "D     1\n",
       "E     1\n",
       "F     0\n",
       "G     4\n",
       "dtype: int64"
      ]
     },
     "execution_count": 24,
     "metadata": {},
     "output_type": "execute_result"
    }
   ],
   "source": [
    "import sys\n",
    "from io import StringIO\n",
    "\n",
    "import pandas as pd\n",
    "\n",
    "TESTDATA = StringIO(\"\"\"id,A,B,C,D,E,F,G\n",
    "    id1,T,F,F,F,F,F,T\n",
    "    id2,T,F,T,F,F,F,T\n",
    "    id3,T,F,F,T,F,F,T\n",
    "    id4,T,F,F,F,T,F,T\n",
    "    \"\"\")\n",
    "\n",
    "df = pd.read_csv(TESTDATA, sep=\",\")\n",
    "df.isin(['T']).sum()\n"
   ]
  },
  {
   "cell_type": "code",
   "execution_count": null,
   "id": "13fc4547-7396-4671-b4c4-9be635ac8799",
   "metadata": {},
   "outputs": [],
   "source": []
  }
 ],
 "metadata": {
  "kernelspec": {
   "display_name": "Python 3 (ipykernel)",
   "language": "python",
   "name": "python3"
  },
  "language_info": {
   "codemirror_mode": {
    "name": "ipython",
    "version": 3
   },
   "file_extension": ".py",
   "mimetype": "text/x-python",
   "name": "python",
   "nbconvert_exporter": "python",
   "pygments_lexer": "ipython3",
   "version": "3.8.9"
  }
 },
 "nbformat": 4,
 "nbformat_minor": 5
}
