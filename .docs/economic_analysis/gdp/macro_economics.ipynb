{
 "cells": [
  {
   "cell_type": "code",
   "execution_count": 215,
   "id": "b2a50bb0-7f17-435e-be71-003d4a736b38",
   "metadata": {},
   "outputs": [],
   "source": [
    "# https://en.wikipedia.org/wiki/ISO_3166-1_alpha-2\n",
    "# http://api.worldbank.org/v2/country\n",
    "import pandas as pd\n",
    "import urllib\n",
    "import json\n",
    "\n",
    "url = 'https://api.worldbank.org/v2/country?format=json&per_page=299'\n",
    "response = urllib.request.urlopen(url)\n",
    "json_data = json.loads(response.read())\n",
    "country_codes = [_['iso2Code'] for _ in json_data[1]]\n",
    "# country_codes\n",
    "# countries = [\n",
    "#     'US',\n",
    "#     'CN',\n",
    "#     'JP',\n",
    "#     'DE',\n",
    "#     'GB',\n",
    "#     'IN',\n",
    "#     'FR',\n",
    "#     'IT',\n",
    "#     'CA',\n",
    "#     'KR',\n",
    "#     'RU',\n",
    "#     'BR',\n",
    "#     'AU',\n",
    "#     'ES',\n",
    "#     'MX',\n",
    "#     'ID',\n",
    "#     'NL',\n",
    "#     'CH',\n",
    "#     'TR',\n",
    "#     'SA',\n",
    "# ]"
   ]
  },
  {
   "cell_type": "code",
   "execution_count": 216,
   "id": "2694fb12-b9cf-4b7a-b8ec-f7b3d07515d1",
   "metadata": {},
   "outputs": [],
   "source": [
    "import pandas as pd\n",
    "import numpy as np\n",
    "from pandas_datareader import wb\n",
    "import matplotlib.pyplot as plt\n",
    "from sklearn import linear_model"
   ]
  },
  {
   "cell_type": "markdown",
   "id": "db38579b-0d2f-4d5f-9e63-f62a35249638",
   "metadata": {},
   "source": [
    "# 通貨増加率とインフレ率の関係\n",
    "\n",
    "https://data.worldbank.org/indicator\n",
    "\n",
    "- Broad money growth (annual %)\n",
    "    - https://databank.worldbank.org/metadataglossary/world-development-indicators/series/FM.LBL.BMNY.ZG\n",
    "- Inflation consumer price (annual %)\n",
    "    - https://databank.worldbank.org/metadataglossary/world-development-indicators/series/FP.CPI.TOTL.ZG"
   ]
  },
  {
   "cell_type": "code",
   "execution_count": 217,
   "id": "15f82ccd-067d-437d-99ad-cfd9eac9afe7",
   "metadata": {},
   "outputs": [
    {
     "name": "stderr",
     "output_type": "stream",
     "text": [
      "/Users/k-kakimoto/dev/ml_samples/.venv/lib/python3.8/site-packages/pandas_datareader/wb.py:592: UserWarning: Non-standard ISO country codes: 1A, 1W, 4E, 6F, 6N, 6X, 7E, 8S, A4, A5, A9, B1, B2, B3, B4, B6, B7, B8, C4, C5, C6, C7, C8, C9, D2, D3, D4, D5, D6, D7, D8, D9, EU, F1, F6, JG, M1, M2, N6, OE, R6, S1, S2, S3, S4, T2, T3, T4, T5, T6, T7, V1, V2, V3, V4, XC, XD, XE, XF, XG, XH, XI, XJ, XK, XL, XM, XN, XO, XP, XQ, XT, XU, XY, Z4, Z7, ZB, ZF, ZG, ZH, ZI, ZJ, ZQ, ZT\n",
      "  warnings.warn(\n",
      "/Users/k-kakimoto/dev/ml_samples/.venv/lib/python3.8/site-packages/pandas_datareader/wb.py:592: UserWarning: Non-standard ISO country codes: 1A, 1W, 4E, 6F, 6N, 6X, 7E, 8S, A4, A5, A9, B1, B2, B3, B4, B6, B7, B8, C4, C5, C6, C7, C8, C9, D2, D3, D4, D5, D6, D7, D8, D9, EU, F1, F6, JG, M1, M2, N6, OE, R6, S1, S2, S3, S4, T2, T3, T4, T5, T6, T7, V1, V2, V3, V4, XC, XD, XE, XF, XG, XH, XI, XJ, XK, XL, XM, XN, XO, XP, XQ, XT, XU, XY, Z4, Z7, ZB, ZF, ZG, ZH, ZI, ZJ, ZQ, ZT\n",
      "  warnings.warn(\n"
     ]
    }
   ],
   "source": [
    "money_growth = wb.download(indicator='FM.LBL.BMNY.ZG', start=2000, end=2020, country=country_codes)\n",
    "money_growth = money_growth.rename(columns={'FM.LBL.BMNY.ZG': 'money_growth'})\n",
    "inflation    = wb.download(indicator='FP.CPI.TOTL.ZG', start=2000, end=2020, country=country_codes)\n",
    "inflation = inflation.rename(columns={'FP.CPI.TOTL.ZG': 'inflation'})\n",
    "# money_growth = money_growth.sort_values(by=['country', 'year', 'money_growth'])\n",
    "# inflation = inflation.sort_values(by=['country', 'year', 'inflation'])\n",
    "# print(money_growth.isna().sum())\n",
    "# print(inflation.isna().sum())\n",
    "# money_growth.query(\"money_growth != money_growth\")"
   ]
  },
  {
   "cell_type": "code",
   "execution_count": 218,
   "id": "2552222a-5119-4c05-a247-e28a50b4ae57",
   "metadata": {},
   "outputs": [],
   "source": [
    "nan_money_growth = money_growth.query(\"money_growth != money_growth\")\n",
    "\n",
    "fixed_money_growth = money_growth.drop(index=nan_money_growth.index)\n",
    "fixed_inflation = inflation.drop(index=nan_money_growth.index)\n",
    "\n",
    "nan_inflation = fixed_inflation.query(\"inflation != inflation\")\n",
    "fixed_money_growth = fixed_money_growth.drop(index=nan_inflation.index)\n",
    "fixed_inflation = fixed_inflation.drop(index=nan_inflation.index)"
   ]
  },
  {
   "cell_type": "code",
   "execution_count": 219,
   "id": "9360bc60-fa74-4b2f-883e-24846ac34310",
   "metadata": {},
   "outputs": [],
   "source": [
    "japan_money_growth = fixed_inflation.loc[['Japan']]\n",
    "japan_inflation = fixed_inflation.loc[['Japan']]"
   ]
  },
  {
   "cell_type": "code",
   "execution_count": 220,
   "id": "3c90be0b-b946-42d8-8ae9-4ad328b63aa6",
   "metadata": {},
   "outputs": [
    {
     "name": "stdout",
     "output_type": "stream",
     "text": [
      "(3131, 1)\n",
      "(3131, 1)\n"
     ]
    }
   ],
   "source": [
    "# fixed_inflation\n",
    "x = fixed_money_growth.values\n",
    "y = fixed_inflation.values\n",
    "print(x.shape)\n",
    "print(y.shape)\n",
    "data = {'fixed_money_growth': x.reshape(3131), 'fixed_inflation': y.reshape(3131)}\n",
    "df = pd.DataFrame(data=data)"
   ]
  },
  {
   "cell_type": "code",
   "execution_count": 221,
   "id": "ead4732a-112f-4a72-a513-32f1d5925cea",
   "metadata": {},
   "outputs": [
    {
     "name": "stdout",
     "output_type": "stream",
     "text": [
      "                    fixed_money_growth  fixed_inflation\n",
      "fixed_money_growth            1.000000         0.657838\n",
      "fixed_inflation               0.657838         1.000000\n",
      "R2. : 0.67\n"
     ]
    },
    {
     "data": {
      "image/png": "[encoded data removed]",
      "text/plain": [
       "<Figure size 432x288 with 1 Axes>"
      ]
     },
     "metadata": {
      "needs_background": "light"
     },
     "output_type": "display_data"
    }
   ],
   "source": [
    "from sklearn.linear_model import LinearRegression\n",
    "from sklearn.metrics import r2_score\n",
    "\n",
    "regression = LinearRegression().fit(x, y)\n",
    "y_pred = regression.predict(x)\n",
    "\n",
    "plt.scatter(x, y)\n",
    "plt.scatter(japan_money_growth.values, japan_inflation.values, color='black')\n",
    "plt.plot(x, y_pred, color='red')\n",
    "plt.ylabel('2000-2020 inflation')\n",
    "plt.xlabel('2000-2020 monery growth')\n",
    "\n",
    "# # パラメータの表示\n",
    "r2  = r2_score(x, y_pred)\n",
    "print(df.corr())\n",
    "print('R2. : {:.2f}'.format(r2))\n",
    "plt.show()"
   ]
  },
  {
   "cell_type": "code",
   "execution_count": 244,
   "id": "9095b065-0ad9-486c-9940-584587264b43",
   "metadata": {},
   "outputs": [
    {
     "data": {
      "image/png": "[encoded data removed]",
      "text/plain": [
       "<Figure size 432x288 with 1 Axes>"
      ]
     },
     "metadata": {
      "needs_background": "light"
     },
     "output_type": "display_data"
    }
   ],
   "source": [
    "japan_money_growth = fixed_inflation.loc[['Japan']]\n",
    "japan_inflation = fixed_inflation.loc[['Japan']]\n",
    "\n",
    "from sklearn.linear_model import LinearRegression\n",
    "from sklearn.metrics import r2_score\n",
    "\n",
    "plt.scatter(japan_money_growth.values, japan_inflation.values)\n",
    "plt.ylabel('2000-2020 inflation')\n",
    "plt.xlabel('2000-2020 monery growth')\n",
    "plt.show()"
   ]
  },
  {
   "cell_type": "markdown",
   "id": "9150564a-1205-4551-be2c-6ad456dd866d",
   "metadata": {},
   "source": [
    "# 人口増加率とGDPの散布図\n",
    "\n",
    "https://data.worldbank.org/indicator\n",
    "\n",
    "- Population growth (annual %)\n",
    "    - https://databank.worldbank.org/metadataglossary/world-development-indicators/series/SP.POP.GROW\n",
    "- GDP growth (annual %)\n",
    "    - https://databank.worldbank.org/metadataglossary/world-development-indicators/series/NY.GDP.MKTP.KD.ZG"
   ]
  },
  {
   "cell_type": "code",
   "execution_count": 228,
   "id": "2aef79f7-7057-4440-909d-dfbbbc974cb8",
   "metadata": {},
   "outputs": [
    {
     "name": "stderr",
     "output_type": "stream",
     "text": [
      "/Users/k-kakimoto/dev/ml_samples/.venv/lib/python3.8/site-packages/pandas_datareader/wb.py:592: UserWarning: Non-standard ISO country codes: 1A, 1W, 4E, 6F, 6N, 6X, 7E, 8S, A4, A5, A9, B1, B2, B3, B4, B6, B7, B8, C4, C5, C6, C7, C8, C9, D2, D3, D4, D5, D6, D7, D8, D9, EU, F1, F6, JG, M1, M2, N6, OE, R6, S1, S2, S3, S4, T2, T3, T4, T5, T6, T7, V1, V2, V3, V4, XC, XD, XE, XF, XG, XH, XI, XJ, XK, XL, XM, XN, XO, XP, XQ, XT, XU, XY, Z4, Z7, ZB, ZF, ZG, ZH, ZI, ZJ, ZQ, ZT\n",
      "  warnings.warn(\n",
      "/Users/k-kakimoto/dev/ml_samples/.venv/lib/python3.8/site-packages/pandas_datareader/wb.py:592: UserWarning: Non-standard ISO country codes: 1A, 1W, 4E, 6F, 6N, 6X, 7E, 8S, A4, A5, A9, B1, B2, B3, B4, B6, B7, B8, C4, C5, C6, C7, C8, C9, D2, D3, D4, D5, D6, D7, D8, D9, EU, F1, F6, JG, M1, M2, N6, OE, R6, S1, S2, S3, S4, T2, T3, T4, T5, T6, T7, V1, V2, V3, V4, XC, XD, XE, XF, XG, XH, XI, XJ, XK, XL, XM, XN, XO, XP, XQ, XT, XU, XY, Z4, Z7, ZB, ZF, ZG, ZH, ZI, ZJ, ZQ, ZT\n",
      "  warnings.warn(\n"
     ]
    }
   ],
   "source": [
    "population = wb.download(indicator='SP.POP.GROW', start=2000, end=2020, country=country_codes)\n",
    "population = population.rename(columns={'SP.POP.GROW': 'population'})\n",
    "gdp        = wb.download(indicator='NY.GDP.MKTP.KD.ZG', start=2000, end=2020, country=country_codes)\n",
    "gdp        = gdp.rename(columns={'NY.GDP.MKTP.KD.ZG': 'gdp'})\n"
   ]
  },
  {
   "cell_type": "code",
   "execution_count": 229,
   "id": "15e4fd86-335a-46e3-997f-af665b4b7bf5",
   "metadata": {},
   "outputs": [],
   "source": [
    "nan_population = population.query(\"population != population\")\n",
    "\n",
    "fixed_population = population.drop(index=nan_population.index)\n",
    "fixed_gdp = gdp.drop(index=nan_population.index)\n",
    "\n",
    "nan_gdp = gdp.query(\"gdp != gdp\")\n",
    "fixed_population = population.drop(index=nan_gdp.index)\n",
    "fixed_gdp = gdp.drop(index=nan_gdp.index)"
   ]
  },
  {
   "cell_type": "code",
   "execution_count": 230,
   "id": "040ba105-1006-4da3-b61c-26bf8edb26b9",
   "metadata": {},
   "outputs": [
    {
     "name": "stdout",
     "output_type": "stream",
     "text": [
      "(5270, 1)\n",
      "(5270, 1)\n"
     ]
    }
   ],
   "source": [
    "x = fixed_population.values\n",
    "y = fixed_gdp.values\n",
    "print(x.shape)\n",
    "print(y.shape)\n",
    "data = {'fixed_population': x.reshape(5270), 'fixed_gdp': y.reshape(5270)}\n",
    "df = pd.DataFrame(data=data)\n"
   ]
  },
  {
   "cell_type": "code",
   "execution_count": 231,
   "id": "d99dea59-9662-4fec-b84c-ce843c675ace",
   "metadata": {},
   "outputs": [
    {
     "name": "stdout",
     "output_type": "stream",
     "text": [
      "                  fixed_population  fixed_gdp\n",
      "fixed_population          1.000000   0.188558\n",
      "fixed_gdp                 0.188558   1.000000\n",
      "R2. : -1.04\n"
     ]
    },
    {
     "data": {
      "image/png": "[encoded data removed]",
      "text/plain": [
       "<Figure size 432x288 with 1 Axes>"
      ]
     },
     "metadata": {
      "needs_background": "light"
     },
     "output_type": "display_data"
    }
   ],
   "source": [
    "from sklearn.linear_model import LinearRegression\n",
    "from sklearn.metrics import r2_score\n",
    "\n",
    "regression = LinearRegression().fit(x, y)\n",
    "y_pred = regression.predict(x)\n",
    "\n",
    "plt.scatter(x, y)\n",
    "# plt.scatter(japan_money_growth.values, japan_inflation.values, color='black')\n",
    "plt.plot(x, y_pred, color='red')\n",
    "plt.xlabel('2000-2020 population growth')\n",
    "plt.ylabel('2000-2020 gdp')\n",
    "\n",
    "# # パラメータの表示\n",
    "r2  = r2_score(x, y_pred)\n",
    "print(df.corr())\n",
    "print('R2. : {:.2f}'.format(r2))\n",
    "plt.show()\n"
   ]
  },
  {
   "cell_type": "markdown",
   "id": "fdbdc2c2-811b-4edd-8e24-3c012f5507fc",
   "metadata": {},
   "source": [
    "# 人口増加率と一人当たりのGDPの関係\n",
    "\n",
    "https://data.worldbank.org/indicator\n",
    "\n"
   ]
  },
  {
   "cell_type": "code",
   "execution_count": 239,
   "id": "39f78fca-0736-47c6-b489-42fcddd3aa51",
   "metadata": {},
   "outputs": [
    {
     "data": {
      "text/plain": [
       "array([[-22.7469649 ],\n",
       "       [ -2.52301497],\n",
       "       [  0.80795174],\n",
       "       ...,\n",
       "       [ -9.14854045],\n",
       "       [  1.08319149],\n",
       "       [ -3.55496781]])"
      ]
     },
     "execution_count": 239,
     "metadata": {},
     "output_type": "execute_result"
    }
   ],
   "source": [
    "gdp_per_capita = fixed_gdp\n",
    "gdp_per_capita = fixed_gdp.values - fixed_population.values\n",
    "gdp_per_capita"
   ]
  },
  {
   "cell_type": "code",
   "execution_count": 240,
   "id": "0cc94bb6-d21c-4bd2-8219-cdd3eede61af",
   "metadata": {},
   "outputs": [
    {
     "name": "stdout",
     "output_type": "stream",
     "text": [
      "(5270, 1)\n",
      "(5270, 1)\n"
     ]
    }
   ],
   "source": [
    "x = fixed_population.values\n",
    "y = gdp_per_capita\n",
    "print(x.shape)\n",
    "print(y.shape)\n",
    "data = {'fixed_population': x.reshape(5270), 'gdp_per_capita': y.reshape(5270)}\n",
    "df = pd.DataFrame(data=data)\n"
   ]
  },
  {
   "cell_type": "code",
   "execution_count": 241,
   "id": "b7719788-2ce8-4c9d-8857-c77fa65e1a0d",
   "metadata": {},
   "outputs": [
    {
     "name": "stdout",
     "output_type": "stream",
     "text": [
      "                  fixed_population  gdp_per_capita\n",
      "fixed_population          1.000000       -0.077119\n",
      "gdp_per_capita           -0.077119        1.000000\n",
      "R2. : -0.81\n"
     ]
    },
    {
     "data": {
      "image/png": "[encoded data removed]",
      "text/plain": [
       "<Figure size 432x288 with 1 Axes>"
      ]
     },
     "metadata": {
      "needs_background": "light"
     },
     "output_type": "display_data"
    }
   ],
   "source": [
    "from sklearn.linear_model import LinearRegression\n",
    "from sklearn.metrics import r2_score\n",
    "\n",
    "regression = LinearRegression().fit(x, y)\n",
    "y_pred = regression.predict(x)\n",
    "\n",
    "plt.scatter(x, y)\n",
    "# plt.scatter(japan_money_growth.values, japan_inflation.values, color='black')\n",
    "plt.plot(x, y_pred, color='red')\n",
    "plt.xlabel('2000-2020 population growth')\n",
    "plt.ylabel('2000-2020 gdp per capita')\n",
    "\n",
    "# # パラメータの表示\n",
    "r2  = r2_score(x, y_pred)\n",
    "print(df.corr())\n",
    "print('R2. : {:.2f}'.format(r2))\n",
    "plt.show()\n"
   ]
  },
  {
   "cell_type": "code",
   "execution_count": null,
   "id": "af5e241a-a276-46f0-b22e-b4552e3d878e",
   "metadata": {},
   "outputs": [],
   "source": []
  }
 ],
 "metadata": {
  "kernelspec": {
   "display_name": "Python 3 (ipykernel)",
   "language": "python",
   "name": "python3"
  },
  "language_info": {
   "codemirror_mode": {
    "name": "ipython",
    "version": 3
   },
   "file_extension": ".py",
   "mimetype": "text/x-python",
   "name": "python",
   "nbconvert_exporter": "python",
   "pygments_lexer": "ipython3",
   "version": "3.8.9"
  }
 },
 "nbformat": 4,
 "nbformat_minor": 5
}
