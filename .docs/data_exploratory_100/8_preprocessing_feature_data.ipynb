{
 "cells": [
  {
   "cell_type": "markdown",
   "source": [
    "# 9. 特殊な加工/可視化を行う 10本"
   ],
   "metadata": {
    "id": "59v2NFkWZGcc"
   }
  },
  {
   "cell_type": "code",
   "source": [
    "from google.colab import drive \n",
    "drive.mount('/content/drive')\n",
    "%cd '/content/drive/My Drive/Colab Notebooks/'"
   ],
   "metadata": {
    "id": "aL0-C3weZWjH"
   },
   "execution_count": null,
   "outputs": []
  },
  {
   "cell_type": "markdown",
   "source": [
    "## 9.1 大容量CSVデータを扱う"
   ],
   "metadata": {
    "id": "IRIOLwkjZLwQ"
   }
  },
  {
   "cell_type": "code",
   "execution_count": null,
   "metadata": {
    "collapsed": true,
    "id": "l0ocrlzFY7WK"
   },
   "outputs": [],
   "source": [
    ""
   ]
  }
 ],
 "metadata": {
  "kernelspec": {
   "display_name": "Python 3",
   "language": "python",
   "name": "python3"
  },
  "language_info": {
   "codemirror_mode": {
    "name": "ipython",
    "version": 2
   },
   "file_extension": ".py",
   "mimetype": "text/x-python",
   "name": "python",
   "nbconvert_exporter": "python",
   "pygments_lexer": "ipython2",
   "version": "2.7.6"
  },
  "colab": {
   "name": "8_preprocessing_feature_data.ipynb",
   "provenance": [],
   "toc_visible": true
  }
 },
 "nbformat": 4,
 "nbformat_minor": 0
}