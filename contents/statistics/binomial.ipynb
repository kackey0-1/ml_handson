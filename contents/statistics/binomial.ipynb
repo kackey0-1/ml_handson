{
 "cells": [
  {
   "cell_type": "markdown",
   "metadata": {},
   "source": [
    "# 二項分布の正規近似（ラプラスの定理）"
   ]
  },
  {
   "cell_type": "markdown",
   "metadata": {},
   "source": [
    "```\n",
    "{}_n \\mathrm{ C }_k = \n",
    "{}_n \\mathrm{ P }_k\n",
    "\\int_0^\\infty \\frac{x^3}{e^x-1}\\,dx = \\frac{\\pi^4}{15}\n",
    "X \\sim \\mathcal{N}(\\mu,\\,\\sigma^{2})\\\n",
    "```\n",
    "\n",
    "$$\n",
    "    {}_n \\mathrm{ C }_k = \n",
    "$$\n",
    "\n",
    "$$\n",
    "    {}_n \\mathrm{ P }_k\n",
    "$$\n",
    "\n",
    "$$\n",
    "    \\int_0^\\infty \\frac{x^3}{e^x-1}\\,dx = \\frac{\\pi^4}{15}\n",
    "$$\n",
    "\n",
    "$$\n",
    "    X \\sim \\mathcal{N}(\\mu,\\,\\sigma^{2})\\\n",
    "$$\n",
    "\n",
    "\n",
    "\n",
    "[数式markfown reference](https://jupyterbook.org/en/stable/content/math.html)"
   ]
  },
  {
   "cell_type": "markdown",
   "metadata": {},
   "source": [
    "$$\n",
    "    \\mathcal{N}(\\mu,\\,\\sigma^{2})\\ = \\frac{1}{\\sqrt{2\\pi\\sigma^2}}\\exp^{-\\frac{(x-\\mu)^2}{2\\sigma^2}}\n",
    "$$"
   ]
  },
  {
   "cell_type": "code",
   "execution_count": null,
   "outputs": [],
   "source": [],
   "metadata": {
    "collapsed": false
   }
  }
 ],
 "metadata": {
  "kernelspec": {
   "display_name": "Python 3 (ipykernel)",
   "language": "python",
   "name": "python3"
  },
  "language_info": {
   "codemirror_mode": {
    "name": "ipython",
    "version": 3
   },
   "file_extension": ".py",
   "mimetype": "text/x-python",
   "name": "python",
   "nbconvert_exporter": "python",
   "pygments_lexer": "ipython3",
   "version": "3.8.9"
  }
 },
 "nbformat": 4,
 "nbformat_minor": 1
}
