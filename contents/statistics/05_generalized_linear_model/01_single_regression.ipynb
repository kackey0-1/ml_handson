{
 "cells": [
  {
   "cell_type": "code",
   "execution_count": 33,
   "outputs": [],
   "source": [
    "import numpy as np\n",
    "import pandas as pd\n",
    "import scipy as sp\n",
    "from scipy import stats\n",
    "# 統計モデルを推定するライブラリ\n",
    "import statsmodels.formula.api as smf\n",
    "import statsmodels.api as sm\n",
    "\n",
    "import matplotlib.pyplot as plt\n",
    "import seaborn as sns\n",
    "\n",
    "sns.set()\n",
    "%precision 3\n",
    "%matplotlib inline"
   ],
   "metadata": {
    "collapsed": false
   }
  },
  {
   "cell_type": "markdown",
   "source": [
    "# 連続型の説明変数を1つ持つモデル(単回帰)"
   ],
   "metadata": {
    "collapsed": false
   }
  },
  {
   "cell_type": "code",
   "execution_count": 34,
   "outputs": [
    {
     "data": {
      "text/plain": "    beer  temperature\n0   45.3         20.5\n1   59.3         25.0\n2   40.4         10.0\n3   38.0         26.9\n4   37.0         15.8\n5   40.9          4.2\n6   60.2         13.5\n7   63.3         26.0\n8   51.1         23.3\n9   44.9          8.5\n10  47.0         26.2\n11  53.2         19.1\n12  43.5         24.3\n13  53.2         23.3\n14  37.4          8.4\n15  59.9         23.5\n16  41.5         13.9\n17  75.1         35.5\n18  55.6         27.2\n19  57.2         20.5\n20  46.5         10.2\n21  35.8         20.5\n22  51.9         21.6\n23  38.2          7.9\n24  66.0         42.2\n25  55.3         23.9\n26  55.3         36.9\n27  43.3          8.9\n28  70.5         36.4\n29  38.8          6.4",
      "text/html": "<div>\n<style scoped>\n    .dataframe tbody tr th:only-of-type {\n        vertical-align: middle;\n    }\n\n    .dataframe tbody tr th {\n        vertical-align: top;\n    }\n\n    .dataframe thead th {\n        text-align: right;\n    }\n</style>\n<table border=\"1\" class=\"dataframe\">\n  <thead>\n    <tr style=\"text-align: right;\">\n      <th></th>\n      <th>beer</th>\n      <th>temperature</th>\n    </tr>\n  </thead>\n  <tbody>\n    <tr>\n      <th>0</th>\n      <td>45.3</td>\n      <td>20.5</td>\n    </tr>\n    <tr>\n      <th>1</th>\n      <td>59.3</td>\n      <td>25.0</td>\n    </tr>\n    <tr>\n      <th>2</th>\n      <td>40.4</td>\n      <td>10.0</td>\n    </tr>\n    <tr>\n      <th>3</th>\n      <td>38.0</td>\n      <td>26.9</td>\n    </tr>\n    <tr>\n      <th>4</th>\n      <td>37.0</td>\n      <td>15.8</td>\n    </tr>\n    <tr>\n      <th>5</th>\n      <td>40.9</td>\n      <td>4.2</td>\n    </tr>\n    <tr>\n      <th>6</th>\n      <td>60.2</td>\n      <td>13.5</td>\n    </tr>\n    <tr>\n      <th>7</th>\n      <td>63.3</td>\n      <td>26.0</td>\n    </tr>\n    <tr>\n      <th>8</th>\n      <td>51.1</td>\n      <td>23.3</td>\n    </tr>\n    <tr>\n      <th>9</th>\n      <td>44.9</td>\n      <td>8.5</td>\n    </tr>\n    <tr>\n      <th>10</th>\n      <td>47.0</td>\n      <td>26.2</td>\n    </tr>\n    <tr>\n      <th>11</th>\n      <td>53.2</td>\n      <td>19.1</td>\n    </tr>\n    <tr>\n      <th>12</th>\n      <td>43.5</td>\n      <td>24.3</td>\n    </tr>\n    <tr>\n      <th>13</th>\n      <td>53.2</td>\n      <td>23.3</td>\n    </tr>\n    <tr>\n      <th>14</th>\n      <td>37.4</td>\n      <td>8.4</td>\n    </tr>\n    <tr>\n      <th>15</th>\n      <td>59.9</td>\n      <td>23.5</td>\n    </tr>\n    <tr>\n      <th>16</th>\n      <td>41.5</td>\n      <td>13.9</td>\n    </tr>\n    <tr>\n      <th>17</th>\n      <td>75.1</td>\n      <td>35.5</td>\n    </tr>\n    <tr>\n      <th>18</th>\n      <td>55.6</td>\n      <td>27.2</td>\n    </tr>\n    <tr>\n      <th>19</th>\n      <td>57.2</td>\n      <td>20.5</td>\n    </tr>\n    <tr>\n      <th>20</th>\n      <td>46.5</td>\n      <td>10.2</td>\n    </tr>\n    <tr>\n      <th>21</th>\n      <td>35.8</td>\n      <td>20.5</td>\n    </tr>\n    <tr>\n      <th>22</th>\n      <td>51.9</td>\n      <td>21.6</td>\n    </tr>\n    <tr>\n      <th>23</th>\n      <td>38.2</td>\n      <td>7.9</td>\n    </tr>\n    <tr>\n      <th>24</th>\n      <td>66.0</td>\n      <td>42.2</td>\n    </tr>\n    <tr>\n      <th>25</th>\n      <td>55.3</td>\n      <td>23.9</td>\n    </tr>\n    <tr>\n      <th>26</th>\n      <td>55.3</td>\n      <td>36.9</td>\n    </tr>\n    <tr>\n      <th>27</th>\n      <td>43.3</td>\n      <td>8.9</td>\n    </tr>\n    <tr>\n      <th>28</th>\n      <td>70.5</td>\n      <td>36.4</td>\n    </tr>\n    <tr>\n      <th>29</th>\n      <td>38.8</td>\n      <td>6.4</td>\n    </tr>\n  </tbody>\n</table>\n</div>"
     },
     "execution_count": 34,
     "metadata": {},
     "output_type": "execute_result"
    }
   ],
   "source": [
    "beer = pd.read_csv('../data/5-1-1-beer.csv')\n",
    "beer"
   ],
   "metadata": {
    "collapsed": false
   }
  },
  {
   "cell_type": "code",
   "execution_count": 35,
   "metadata": {
    "collapsed": true
   },
   "outputs": [
    {
     "data": {
      "text/plain": "<Figure size 432x432 with 3 Axes>",
      "image/png": "[encoded data removed]"
     },
     "metadata": {
      "needs_background": "light"
     },
     "output_type": "display_data"
    },
    {
     "data": {
      "text/plain": "<Figure size 432x288 with 2 Axes>",
      "image/png": "[encoded data removed]"
     },
     "metadata": {
      "needs_background": "light"
     },
     "output_type": "display_data"
    }
   ],
   "source": [
    "sns.jointplot(data=beer, x='temperature', y='beer')\n",
    "plt.show()\n",
    "sns.heatmap(data=beer.corr(), annot=True)\n",
    "plt.show()"
   ]
  },
  {
   "cell_type": "markdown",
   "source": [
    "## モデルの構築\n",
    "\n",
    "以下のビールの売上モデルを構築する\n",
    "\n",
    "$$ \\mathcal{ビールの売上 \\sim N(\\beta_0+\\beta_1\\times 気温, \\sigma^2)} $$\n",
    "\n",
    "* 応答変数にビールの売上を説明変数として気温を用いた正規線形モデル\n",
    "* パラメタ推定としては、式にある係数`\\beta_0,\\beta_1`を推定する(`\\sigma^2`は局外パラメタであるため無視)\n"
   ],
   "metadata": {
    "collapsed": false
   }
  },
  {
   "cell_type": "code",
   "execution_count": 36,
   "outputs": [
    {
     "data": {
      "text/plain": "<class 'statsmodels.iolib.summary.Summary'>\n\"\"\"\n                            OLS Regression Results                            \n==============================================================================\nDep. Variable:                   beer   R-squared:                       0.504\nModel:                            OLS   Adj. R-squared:                  0.486\nMethod:                 Least Squares   F-statistic:                     28.45\nDate:                Mon, 06 Feb 2023   Prob (F-statistic):           1.11e-05\nTime:                        20:15:18   Log-Likelihood:                -102.45\nNo. Observations:                  30   AIC:                             208.9\nDf Residuals:                      28   BIC:                             211.7\nDf Model:                           1                                         \nCovariance Type:            nonrobust                                         \n===============================================================================\n                  coef    std err          t      P>|t|      [0.025      0.975]\n-------------------------------------------------------------------------------\nIntercept      34.6102      3.235     10.699      0.000      27.984      41.237\ntemperature     0.7654      0.144      5.334      0.000       0.471       1.059\n==============================================================================\nOmnibus:                        0.587   Durbin-Watson:                   1.960\nProb(Omnibus):                  0.746   Jarque-Bera (JB):                0.290\nSkew:                          -0.240   Prob(JB):                        0.865\nKurtosis:                       2.951   Cond. No.                         52.5\n==============================================================================\n\nNotes:\n[1] Standard Errors assume that the covariance matrix of the errors is correctly specified.\n\"\"\"",
      "text/html": "<table class=\"simpletable\">\n<caption>OLS Regression Results</caption>\n<tr>\n  <th>Dep. Variable:</th>          <td>beer</td>       <th>  R-squared:         </th> <td>   0.504</td>\n</tr>\n<tr>\n  <th>Model:</th>                   <td>OLS</td>       <th>  Adj. R-squared:    </th> <td>   0.486</td>\n</tr>\n<tr>\n  <th>Method:</th>             <td>Least Squares</td>  <th>  F-statistic:       </th> <td>   28.45</td>\n</tr>\n<tr>\n  <th>Date:</th>             <td>Mon, 06 Feb 2023</td> <th>  Prob (F-statistic):</th> <td>1.11e-05</td>\n</tr>\n<tr>\n  <th>Time:</th>                 <td>20:15:18</td>     <th>  Log-Likelihood:    </th> <td> -102.45</td>\n</tr>\n<tr>\n  <th>No. Observations:</th>      <td>    30</td>      <th>  AIC:               </th> <td>   208.9</td>\n</tr>\n<tr>\n  <th>Df Residuals:</th>          <td>    28</td>      <th>  BIC:               </th> <td>   211.7</td>\n</tr>\n<tr>\n  <th>Df Model:</th>              <td>     1</td>      <th>                     </th>     <td> </td>   \n</tr>\n<tr>\n  <th>Covariance Type:</th>      <td>nonrobust</td>    <th>                     </th>     <td> </td>   \n</tr>\n</table>\n<table class=\"simpletable\">\n<tr>\n       <td></td>          <th>coef</th>     <th>std err</th>      <th>t</th>      <th>P>|t|</th>  <th>[0.025</th>    <th>0.975]</th>  \n</tr>\n<tr>\n  <th>Intercept</th>   <td>   34.6102</td> <td>    3.235</td> <td>   10.699</td> <td> 0.000</td> <td>   27.984</td> <td>   41.237</td>\n</tr>\n<tr>\n  <th>temperature</th> <td>    0.7654</td> <td>    0.144</td> <td>    5.334</td> <td> 0.000</td> <td>    0.471</td> <td>    1.059</td>\n</tr>\n</table>\n<table class=\"simpletable\">\n<tr>\n  <th>Omnibus:</th>       <td> 0.587</td> <th>  Durbin-Watson:     </th> <td>   1.960</td>\n</tr>\n<tr>\n  <th>Prob(Omnibus):</th> <td> 0.746</td> <th>  Jarque-Bera (JB):  </th> <td>   0.290</td>\n</tr>\n<tr>\n  <th>Skew:</th>          <td>-0.240</td> <th>  Prob(JB):          </th> <td>   0.865</td>\n</tr>\n<tr>\n  <th>Kurtosis:</th>      <td> 2.951</td> <th>  Cond. No.          </th> <td>    52.5</td>\n</tr>\n</table><br/><br/>Notes:<br/>[1] Standard Errors assume that the covariance matrix of the errors is correctly specified."
     },
     "execution_count": 36,
     "metadata": {},
     "output_type": "execute_result"
    }
   ],
   "source": [
    "# ols=OLS(Ordinary Least Squares)=最小二乗法\n",
    "lm_model = smf.ols(formula=\"beer ~ temperature\", data=beer).fit()\n",
    "lm_model.summary()"
   ],
   "metadata": {
    "collapsed": false
   }
  },
  {
   "cell_type": "markdown",
   "source": [
    "* Intercept: `\\beta_0`=切片\n",
    "* temperature: `\\beta_1`=傾き\n",
    "  * **Coef**: 係数の値\n",
    "  * **std err**: 係数の標準誤差\n",
    "  * **t**: t値\n",
    "  * **P>|t|**: 帰無仮説を「係数の値が0である」とした時のp値\n",
    "  * **[0.025**: 95%信頼区間における下側信頼限界\n",
    "  * **[0.975**: 95%信頼区間における上側信頼限界\n",
    "\n",
    "- 解釈\n",
    "  - p値は、あまりにも小さすぎて桁落ちで0となっていることから、気温にかかる係数は有意に0とは異なると判断できる\n",
    "  - 気温の係数の値が`0.7654`となっていることから、気温が上がるとビールの売上が上がると判断できる\n"
   ],
   "metadata": {
    "collapsed": false
   }
  },
  {
   "cell_type": "markdown",
   "source": [
    "* Dep. Variable: 応答変数の名称\n",
    "* Model - Method: 通常の最小二乗法を使ったという説明\n",
    "* Date - Time: モデルが推定された日時\n",
    "* No.Observations: サンプルサイズ\n",
    "* Df Residuals: サンプルサイズから推定されたパラメタの数を引いたもの\n",
    "* Df Model: 用いられた説明変数\n",
    "* Covariance Type: 共分散のタイプ。特に指定してなければnonrobustになる\n",
    "* R-Squared - Adj.R-Squared: 決定係数と自由度調整済み決定係数\n",
    "* F-statistic - Prob(F-statistic): 分散分析の結果\n",
    "* Log-Likelihood: 最大化対数尤度\n",
    "* AIC: 赤池の情報量基準\n",
    "* BIC: ベイズ情報量基準"
   ],
   "metadata": {
    "collapsed": false
   }
  },
  {
   "cell_type": "markdown",
   "source": [
    "## AICによるモデル選択"
   ],
   "metadata": {
    "collapsed": false
   }
  },
  {
   "cell_type": "code",
   "execution_count": 37,
   "outputs": [
    {
     "name": "stdout",
     "output_type": "stream",
     "text": [
      "AIC for NULL model: 227.94194972563105\n",
      "AIC               : 208.90902935575437\n"
     ]
    }
   ],
   "source": [
    "null_model = smf.ols(formula=\"beer ~ 1\", data=beer).fit()\n",
    "print(f'AIC for NULL model: {null_model.aic}')\n",
    "print(f'AIC               : {lm_model.aic}')"
   ],
   "metadata": {
    "collapsed": false
   }
  },
  {
   "cell_type": "markdown",
   "source": [
    "**説明変数入りのモデルの方が小さなAICとなったので、「気温という説明変数があった方が、予測精度が高くなるのではないか」と判断**\n",
    "\n",
    "$$ AIC = -2 \\times (最大化対数尤度-推定されたパラメタの個数) $$\n"
   ],
   "metadata": {
    "collapsed": false
   }
  },
  {
   "cell_type": "code",
   "execution_count": 38,
   "outputs": [
    {
     "name": "stdout",
     "output_type": "stream",
     "text": [
      "対数尤度: -102.45451467787719\n",
      "推定されたパラメタの数: 2.0\n",
      "AIC: 208.90902935575437\n"
     ]
    }
   ],
   "source": [
    "print(f'対数尤度: {lm_model.llf}')\n",
    "print(f'推定されたパラメタの数: {lm_model.df_model + 1}')\n",
    "print(f'AIC: {-2 * (lm_model.llf - (lm_model.df_model + 1))}')"
   ],
   "metadata": {
    "collapsed": false
   }
  },
  {
   "cell_type": "code",
   "execution_count": 39,
   "outputs": [
    {
     "data": {
      "text/plain": "<seaborn.axisgrid.FacetGrid at 0x17e8b3fa0>"
     },
     "execution_count": 39,
     "metadata": {},
     "output_type": "execute_result"
    },
    {
     "data": {
      "text/plain": "<Figure size 360x360 with 1 Axes>",
      "image/png": "[encoded data removed]"
     },
     "metadata": {
      "needs_background": "light"
     },
     "output_type": "display_data"
    }
   ],
   "source": [
    "# seabornによる回帰直線の図示\n",
    "sns.lmplot(data=beer, x=\"temperature\", y=\"beer\",\n",
    "           scatter_kws={\"color\": \"blue\"},\n",
    "           line_kws={\"color\": \"green\"})\n",
    "# 網かけ部分は回帰直線の95%信頼区間"
   ],
   "metadata": {
    "collapsed": false
   }
  },
  {
   "cell_type": "markdown",
   "source": [
    "## モデルによる予測"
   ],
   "metadata": {
    "collapsed": false
   }
  },
  {
   "cell_type": "code",
   "execution_count": 40,
   "outputs": [
    {
     "data": {
      "text/plain": "0    34.610215\ndtype: float64"
     },
     "execution_count": 40,
     "metadata": {},
     "output_type": "execute_result"
    }
   ],
   "source": [
    "# 引数に何も指定しない場合、訓練データへの当てはめ値がそのまま出力される\n",
    "# lm_model.predict()\n",
    "lm_model.predict(pd.DataFrame({\"temperature\": [0]}))"
   ],
   "metadata": {
    "collapsed": false
   }
  },
  {
   "cell_type": "code",
   "execution_count": 41,
   "outputs": [
    {
     "data": {
      "text/plain": "Intercept      34.610215\ntemperature     0.765428\ndtype: float64"
     },
     "execution_count": 41,
     "metadata": {},
     "output_type": "execute_result"
    }
   ],
   "source": [
    "# 推定されたパラメタ\n",
    "lm_model.params"
   ],
   "metadata": {
    "collapsed": false
   }
  },
  {
   "cell_type": "code",
   "execution_count": 42,
   "outputs": [
    {
     "name": "stdout",
     "output_type": "stream",
     "text": [
      "model_predict: 0    49.918767\n",
      "dtype: float64\n",
      "math_calculate: 49.91876701095053\n"
     ]
    }
   ],
   "source": [
    "# 実際に予測値が (beta0 + beta1 * 気温) の数式に一致しているかを確認\n",
    "temperature = 20\n",
    "beta0 = lm_model.params[0]\n",
    "beta1 = lm_model.params[1]\n",
    "\n",
    "print(f'model_predict: {lm_model.predict(pd.DataFrame({\"temperature\": [temperature]}))}')\n",
    "print(f'math_calculate: {beta0 + beta1 * temperature}')"
   ],
   "metadata": {
    "collapsed": false
   }
  },
  {
   "cell_type": "markdown",
   "source": [
    "## 残差の取得\n",
    "\n",
    "* モデルの評価は主に残差チェックを通して行われる(最小二乗法など)\n",
    "* 正規線形モデルの場合は、残差が平均0の正規分布に従うはずであるため、その通りになっているかをチェックする\n"
   ],
   "metadata": {
    "collapsed": false
   }
  },
  {
   "cell_type": "code",
   "execution_count": 43,
   "outputs": [
    {
     "data": {
      "text/plain": "0   -5.001481\n1    5.554095\n2   -1.864491\ndtype: float64"
     },
     "execution_count": 43,
     "metadata": {},
     "output_type": "execute_result"
    }
   ],
   "source": [
    "resid = lm_model.resid\n",
    "resid.head(3)"
   ],
   "metadata": {
    "collapsed": false
   }
  },
  {
   "cell_type": "code",
   "execution_count": 44,
   "outputs": [
    {
     "data": {
      "text/plain": "0    50.301481\n1    53.745905\n2    42.264491\nName: temperature, dtype: float64"
     },
     "execution_count": 44,
     "metadata": {},
     "output_type": "execute_result"
    }
   ],
   "source": [
    "y_hat = beta0 + beta1 * beer.temperature\n",
    "y_hat.head(3)"
   ],
   "metadata": {
    "collapsed": false
   }
  },
  {
   "cell_type": "code",
   "execution_count": 45,
   "outputs": [
    {
     "data": {
      "text/plain": "0   -5.001481\n1    5.554095\n2   -1.864491\ndtype: float64"
     },
     "execution_count": 45,
     "metadata": {},
     "output_type": "execute_result"
    }
   ],
   "source": [
    "resid_hat = (beer.beer - y_hat)\n",
    "resid_hat.head(3)"
   ],
   "metadata": {
    "collapsed": false
   }
  },
  {
   "cell_type": "code",
   "execution_count": 46,
   "outputs": [
    {
     "data": {
      "text/plain": "0    0.0\n1    0.0\n2    0.0\n3    0.0\n4    0.0\ndtype: float64"
     },
     "execution_count": 46,
     "metadata": {},
     "output_type": "execute_result"
    }
   ],
   "source": [
    "resid_hat = (beer.beer - y_hat)\n",
    "# resid と一致していることがわかる\n",
    "diff = (resid_hat - resid)\n",
    "diff.head(5)"
   ],
   "metadata": {
    "collapsed": false
   }
  },
  {
   "cell_type": "markdown",
   "source": [
    "## 決定係数\n",
    "\n",
    "* R-Squaredが決定係数と呼ばれる指標\n",
    "* 決定係数は手持ちのデータへのモデルの当てはまりの度合いを評価した指標\n",
    "\n",
    "$$ R^2 = \\frac{\\sum^N_{i=1}(\\hat{y}-\\mu)^2}{\\sum^N_{i=1}(y-\\mu)^2} $$\n",
    "\n",
    "モデルによる推測値が応答変数の実際の値と一致していれば、R^2は1になる"
   ],
   "metadata": {
    "collapsed": false
   }
  },
  {
   "cell_type": "code",
   "execution_count": 47,
   "outputs": [
    {
     "name": "stderr",
     "output_type": "stream",
     "text": [
      "/var/folders/ht/jxpc68cx6flfn8khw5l066lm0000gn/T/ipykernel_4553/342876886.py:1: DeprecationWarning: scipy.mean is deprecated and will be removed in SciPy 2.0.0, use numpy.mean instead\n",
      "  mu = sp.mean(beer.beer)\n",
      "/var/folders/ht/jxpc68cx6flfn8khw5l066lm0000gn/T/ipykernel_4553/342876886.py:5: DeprecationWarning: scipy.sum is deprecated and will be removed in SciPy 2.0.0, use numpy.sum instead\n",
      "  sp.sum((yhat - mu)**2) / sp.sum((y - mu)**2)\n"
     ]
    },
    {
     "data": {
      "text/plain": "0.504"
     },
     "execution_count": 47,
     "metadata": {},
     "output_type": "execute_result"
    }
   ],
   "source": [
    "mu = sp.mean(beer.beer)\n",
    "y = beer.beer\n",
    "yhat = lm_model.predict()\n",
    "\n",
    "sp.sum((yhat - mu)**2) / sp.sum((y - mu)**2)"
   ],
   "metadata": {
    "collapsed": false
   }
  },
  {
   "cell_type": "markdown",
   "source": [
    "決定係数の分母は、以下のように分解することができる\n",
    "\n",
    "$$ \\sum^N_{i=1}(y-\\mu)^2 = \\sum^N_{i=1}(\\hat{y}-\\mu)^2 + \\sum^N_{i=1}residuals^2 $$\n",
    "\n",
    "応答変数の変動の大きさΣ(y-μ)^2を、モデルで説明できた変動と、モデルで説明できなかった残差平方和で分けることができるということ\n",
    "\n",
    "そのため、**決定係数は全体の変動の大きさに占める、モデルで説明できた変動の割合**と解釈できる\n",
    "\n",
    "また、上記の関係から以下のようにも計算することができることがわかる\n",
    "\n",
    "$$\n",
    "R^2 = 1-\\frac{\\sum^N_{i=1}residuals^2}{\\sum^N_{i=1}(y-\\mu)^2}\n",
    "$$\n"
   ],
   "metadata": {
    "collapsed": false
   }
  },
  {
   "cell_type": "code",
   "execution_count": 48,
   "outputs": [
    {
     "name": "stdout",
     "output_type": "stream",
     "text": [
      "3277.114666666672\n",
      "3277.1146666666655\n"
     ]
    },
    {
     "name": "stderr",
     "output_type": "stream",
     "text": [
      "/var/folders/ht/jxpc68cx6flfn8khw5l066lm0000gn/T/ipykernel_4553/276144848.py:1: DeprecationWarning: scipy.sum is deprecated and will be removed in SciPy 2.0.0, use numpy.sum instead\n",
      "  print(f'{sp.sum((yhat-mu)**2) + sum(resid**2)}')\n",
      "/var/folders/ht/jxpc68cx6flfn8khw5l066lm0000gn/T/ipykernel_4553/276144848.py:2: DeprecationWarning: scipy.sum is deprecated and will be removed in SciPy 2.0.0, use numpy.sum instead\n",
      "  print(f'{sp.sum((y-mu)**2)}')\n"
     ]
    }
   ],
   "source": [
    "print(f'{sp.sum((yhat-mu)**2) + sum(resid**2)}')\n",
    "print(f'{sp.sum((y-mu)**2)}')"
   ],
   "metadata": {
    "collapsed": false
   }
  },
  {
   "cell_type": "markdown",
   "source": [
    "上記のような関係があるため、決定係数は以下のように表現できる\n",
    "\n",
    "$$\n",
    " R^2 = \\frac{\\sum^N_{i=1}residuals^2}\n",
    " {\\sum^N_{i=1}(y-\\mu)^2}\n",
    "$$"
   ],
   "metadata": {
    "collapsed": false
   }
  },
  {
   "cell_type": "markdown",
   "source": [
    "## 自由度調整済み決定係数\n",
    "\n",
    "- 説明変数の数が増えるという罰則を組み込んだ決定係数を**自由度調整済み決定係数**と呼ぶ\n",
    "- 決定係数は説明変数の数を増やせば増やすほど大きな値になる\n",
    "  - 決定係数を高めることにこだわる場合、過学習を起こすため調整が必要になる\n",
    "\n",
    "$$\n",
    "R^2 = \\frac{\\sum^N_{i=1}residuals^2/(N-s-1)}\n",
    "{\\sum^N_{i=1}(y-\\mu)^2/(N-1)}\n",
    "$$"
   ],
   "metadata": {
    "collapsed": false
   }
  },
  {
   "cell_type": "code",
   "execution_count": 49,
   "outputs": [
    {
     "name": "stdout",
     "output_type": "stream",
     "text": [
      "0.48624358459908534\n",
      "0.48624358459908534\n"
     ]
    },
    {
     "name": "stderr",
     "output_type": "stream",
     "text": [
      "/var/folders/ht/jxpc68cx6flfn8khw5l066lm0000gn/T/ipykernel_4553/2013832766.py:4: DeprecationWarning: scipy.sum is deprecated and will be removed in SciPy 2.0.0, use numpy.sum instead\n",
      "  print(1 - ((sp.sum(resid**2) / (N - s - 1)) / (sp.sum((y - mu)**2) / (N - 1))))\n"
     ]
    }
   ],
   "source": [
    "N = len(beer.beer)\n",
    "s = 1\n",
    "\n",
    "print(1 - ((sp.sum(resid**2) / (N - s - 1)) / (sp.sum((y - mu)**2) / (N - 1))))\n",
    "print(lm_model.rsquared_adj)"
   ],
   "metadata": {
    "collapsed": false
   }
  },
  {
   "cell_type": "code",
   "execution_count": 50,
   "outputs": [
    {
     "name": "stderr",
     "output_type": "stream",
     "text": [
      "/Users/k-kakimoto/dev/ml_samples/.venv/lib/python3.8/site-packages/seaborn/distributions.py:2619: FutureWarning: `distplot` is a deprecated function and will be removed in a future version. Please adapt your code to use either `displot` (a figure-level function with similar flexibility) or `histplot` (an axes-level function for histograms).\n",
      "  warnings.warn(msg, FutureWarning)\n"
     ]
    },
    {
     "data": {
      "text/plain": "<AxesSubplot:ylabel='Density'>"
     },
     "execution_count": 50,
     "metadata": {},
     "output_type": "execute_result"
    },
    {
     "data": {
      "text/plain": "<Figure size 432x288 with 1 Axes>",
      "image/png": "[encoded data removed]"
     },
     "metadata": {
      "needs_background": "light"
     },
     "output_type": "display_data"
    }
   ],
   "source": [
    "# 残差の図示\n",
    "sns.distplot(resid, color='black')"
   ],
   "metadata": {
    "collapsed": false
   }
  },
  {
   "cell_type": "code",
   "execution_count": 51,
   "outputs": [
    {
     "name": "stderr",
     "output_type": "stream",
     "text": [
      "/Users/k-kakimoto/dev/ml_samples/.venv/lib/python3.8/site-packages/seaborn/_decorators.py:36: FutureWarning: Pass the following variables as keyword args: x, y. From version 0.12, the only valid positional argument will be `data`, and passing other arguments without an explicit keyword will result in an error or misinterpretation.\n",
      "  warnings.warn(\n"
     ]
    },
    {
     "data": {
      "text/plain": "<seaborn.axisgrid.JointGrid at 0x17e3c56a0>"
     },
     "execution_count": 51,
     "metadata": {},
     "output_type": "execute_result"
    },
    {
     "data": {
      "text/plain": "<Figure size 432x432 with 3 Axes>",
      "image/png": "[encoded data removed]"
     },
     "metadata": {
      "needs_background": "light"
     },
     "output_type": "display_data"
    }
   ],
   "source": [
    "sns.jointplot(\n",
    "    lm_model.fittedvalues,\n",
    "    resid,\n",
    "    joint_kws={'color': 'black'},\n",
    "    marginal_kws={'color': 'black'},\n",
    ")"
   ],
   "metadata": {
    "collapsed": false
   }
  },
  {
   "cell_type": "markdown",
   "source": [
    "## Q-Qプロット\n",
    "\n",
    "- 理論上の分位点と実際のデータの分位点を散布図としてプロットしたグラフを**Q-Qプロット**と呼ぶ\n",
    "- 理論上の分位点と実際のデータの分位点を求め、両者を比較することで残差が正規分布に近いかを視覚的に判断できる\n",
    "\n"
   ],
   "metadata": {
    "collapsed": false
   }
  },
  {
   "cell_type": "code",
   "execution_count": 52,
   "outputs": [
    {
     "data": {
      "text/plain": "<Figure size 432x288 with 1 Axes>",
      "image/png": "[encoded data removed]"
     },
     "metadata": {
      "needs_background": "light"
     },
     "output_type": "display_data"
    }
   ],
   "source": [
    "fig = sm.qqplot(resid, line='s')"
   ],
   "metadata": {
    "collapsed": false
   }
  },
  {
   "cell_type": "code",
   "execution_count": 53,
   "outputs": [
    {
     "data": {
      "text/plain": "3    -17.200217\n21   -14.501481\n12    -9.710106\n4     -9.703971\n10    -7.664418\ndtype: float64"
     },
     "execution_count": 53,
     "metadata": {},
     "output_type": "execute_result"
    }
   ],
   "source": [
    "resid_sort = resid.sort_values()\n",
    "resid_sort.head()"
   ],
   "metadata": {
    "collapsed": false
   }
  },
  {
   "cell_type": "code",
   "execution_count": 54,
   "outputs": [
    {
     "data": {
      "text/plain": "array([0.032, 0.065, 0.097, 0.129, 0.161, 0.194, 0.226, 0.258, 0.29 ,\n       0.323, 0.355, 0.387, 0.419, 0.452, 0.484, 0.516, 0.548, 0.581,\n       0.613, 0.645, 0.677, 0.71 , 0.742, 0.774, 0.806, 0.839, 0.871,\n       0.903, 0.935, 0.968])"
     },
     "execution_count": 54,
     "metadata": {},
     "output_type": "execute_result"
    }
   ],
   "source": [
    "# 累積確率\n",
    "nobs = len(resid_sort)\n",
    "cdf = np.arange(1, nobs + 1) / (nobs + 1)\n",
    "cdf"
   ],
   "metadata": {
    "collapsed": false
   }
  },
  {
   "cell_type": "code",
   "execution_count": 55,
   "outputs": [
    {
     "data": {
      "text/plain": "array([-1.849, -1.518, -1.3  , -1.131, -0.989, -0.865, -0.753, -0.649,\n       -0.552, -0.46 , -0.372, -0.287, -0.204, -0.122, -0.04 ,  0.04 ,\n        0.122,  0.204,  0.287,  0.372,  0.46 ,  0.552,  0.649,  0.753,\n        0.865,  0.989,  1.131,  1.3  ,  1.518,  1.849])"
     },
     "execution_count": 55,
     "metadata": {},
     "output_type": "execute_result"
    }
   ],
   "source": [
    "# 正規分布の%点\n",
    "ppf = stats.norm.ppf(cdf)\n",
    "ppf"
   ],
   "metadata": {
    "collapsed": false
   }
  },
  {
   "cell_type": "markdown",
   "source": [
    "## 残差のチェック\n",
    "\n",
    "### 歪度\n",
    "\n",
    "- ヒストグラムの左右非対称さの方向とその程度を測る指標\n",
    "- 歪度が0よりも大きければ右の裾が長くなる(正規分布は左右対称であるため、この値が0となる)\n",
    "\n",
    "$$ Skew = \\text{E}(\\frac{(x-\\mu)^3}{\\sigma^3}) $$\n",
    "\n",
    "### 尖度\n",
    "\n",
    "- ヒストグラムの中身の周囲部分の尖度を測る指標\n",
    "- 値が大きいほど尖っていることを示す(正規分布の尖度は3となる)\n",
    "\n",
    "$$ Kurtosis = \\text{E}(\\frac{(x-\\mu)^4}{\\sigma^4}) $$\n",
    "\n",
    "### Durbin-Watson\n",
    "\n",
    "- Durbin-Watsonの値は、残差の自己相関を測る指標である\n",
    "- 残差に自己送還があると、係数のt検定の結果などが信用できなくなる\n",
    "  - そのため、自己相関があるかどうかを確認する必要がある\n",
    "\n",
    "\n"
   ],
   "metadata": {
    "collapsed": false
   }
  },
  {
   "cell_type": "code",
   "execution_count": null,
   "outputs": [],
   "source": [],
   "metadata": {
    "collapsed": false
   }
  }
 ],
 "metadata": {
  "kernelspec": {
   "display_name": "Python 3",
   "language": "python",
   "name": "python3"
  },
  "language_info": {
   "codemirror_mode": {
    "name": "ipython",
    "version": 2
   },
   "file_extension": ".py",
   "mimetype": "text/x-python",
   "name": "python",
   "nbconvert_exporter": "python",
   "pygments_lexer": "ipython2",
   "version": "2.7.6"
  }
 },
 "nbformat": 4,
 "nbformat_minor": 0
}
