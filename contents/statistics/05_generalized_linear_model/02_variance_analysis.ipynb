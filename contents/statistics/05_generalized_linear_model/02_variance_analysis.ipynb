{
 "cells": [
  {
   "cell_type": "code",
   "execution_count": 1,
   "metadata": {
    "collapsed": true
   },
   "outputs": [],
   "source": [
    "import numpy as np\n",
    "import matplotlib.pyplot as plt\n",
    "import pandas as pd\n",
    "import seaborn as sns\n",
    "import scipy.stats as stats\n",
    "# 統計モデルを推定するライブラリ\n",
    "import statsmodels.api as sm\n",
    "import statsmodels.formula.api as smf\n",
    "\n",
    "%precision 3\n",
    "%matplotlib inline\n",
    "import warnings\n",
    "warnings.filterwarnings('ignore')\n"
   ]
  },
  {
   "cell_type": "markdown",
   "source": [
    "# 分散分析\n",
    "\n",
    "平均値の差を検定する方法"
   ],
   "metadata": {
    "collapsed": false
   }
  },
  {
   "cell_type": "markdown",
   "source": [
    "## 分散分析が必要になるタイミング\n",
    "\n",
    "- 3つ以上の水準間の平均値に差があるかを検定したい場合\n",
    "  - t検定をしたときは、「薬を飲む前と飲んだ後」といった2つの水準間における平均値の差を検定することになる\n",
    "  - 今回扱う問題は、「晴れor曇りor雨と天気が変わることにより売上が変化するといえるか」といった3つ以上の水準間の平均値の差を検定することになる\n",
    "\n",
    "分散分析は、母集団が正規分布に従うデータに対して適用可能\n"
   ],
   "metadata": {
    "collapsed": false
   }
  },
  {
   "cell_type": "markdown",
   "source": [
    "## 検定の多重性\n",
    "\n",
    "検定を繰り返すことによって有意な結果が得られやすくなる問題を **検定の多重性** と呼ぶ\n",
    "\n",
    "- 有意水準を`0.05`と定めて検定を行ったとすると、第一種の過誤を犯す確率は5%\n",
    "    - 例\n",
    "        - 検定を2回続けて行うとし、各々の検定における有意水準は`0.05`とする\n",
    "        - この時「少なくともどちらか片方の検定に置いて帰無仮説を棄却できれば対立仮説を採用する」というルールで検定を行うと、第一種の過誤を犯す確率は`1 - (0.95 * 0.95) = 0.0975`(=10%)となる\n",
    "\n",
    "つまり、検定を繰り返すことにより、帰無仮説が棄却されやすくなり、第一種の過誤を犯す確率が増える\n",
    "\n",
    "一方、分散分析だと、晴れ/曇り/雨などといった個別のカテゴリを見るのではなく「天気によってビールの売上が異なるかどうか」を一度の検定を判断することができるようになる"
   ],
   "metadata": {
    "collapsed": false
   }
  },
  {
   "cell_type": "markdown",
   "source": [
    "## 分散分析の直感的な考え方: F比\n",
    "\n",
    "分散分析の帰無仮説と対立仮説は以下の通り\n",
    "\n",
    "- 帰無仮説: 水準間で平均値に差はない\n",
    "- 対立仮説: 水準間で平均値に差がある\n",
    "\n",
    "$$ F比 = \\frac{効果の分散の大きさ}{誤差の分散の大きさ} $$\n",
    "\n",
    "- 分散分析では、データの変動を誤差と効果に分離し、F比を計算する\n",
    "    - F比が大きいほど、誤差の大きさに比べて効果の影響が大きいということになる\n",
    "    - 母集団分布が等分散正規分布である場合、F比は自由度を持つF分布に従う\n",
    "        - 例えば、自由度が`n-1`のF分布に従うとき、`F(n-1, n-1)`と表記する\n",
    "        - p値を計算し、p値が有意水準より小さい場合は帰無仮説を棄却する(t検定と同じ)\n",
    "\n",
    "Note: 分散分析は、Analysis Of Varianceの略称でANOVAと呼ぶ\n"
   ],
   "metadata": {
    "collapsed": false
   }
  },
  {
   "cell_type": "markdown",
   "source": [
    "## 分散分析の直感的な考え方: 誤差と効果の分離\n",
    "\n",
    "- 分散分析では、データの変動を誤差と効果に分離する\n",
    "    - 誤差: どの水準に属しているかに関係なく、データの変動に影響を与える要因\n",
    "    - 効果: どの水準に属しているかによってデータの変動に影響を与える要因\n",
    "\n",
    "\n",
    "郡間変動: バイオリン同士の距離、つまり効果の大きさのことを郡間変動\n",
    "郡内変動: 各々のバイオリンの幅、つまり誤差の大きさのことを郡内変動\n"
   ],
   "metadata": {
    "collapsed": false
   }
  },
  {
   "cell_type": "code",
   "execution_count": 18,
   "outputs": [
    {
     "name": "stdout",
     "output_type": "stream",
     "text": [
      "  weather  beer\n",
      "0  cloudy     6\n",
      "1  cloudy     8\n",
      "2   rainy     2\n",
      "3   rainy     4\n",
      "4   sunny    10\n",
      "5   sunny    12\n"
     ]
    }
   ],
   "source": [
    "# sample data\n",
    "weather = ['cloudy', 'cloudy', 'rainy', 'rainy', 'sunny', 'sunny']\n",
    "beer = [6,8,2,4,10,12]\n",
    "weather_beer = pd.DataFrame({'weather': weather, 'beer': beer})\n",
    "\n",
    "print(weather_beer)"
   ],
   "metadata": {
    "collapsed": false
   }
  },
  {
   "cell_type": "code",
   "execution_count": 19,
   "outputs": [
    {
     "data": {
      "text/plain": "<AxesSubplot:xlabel='weather', ylabel='beer'>"
     },
     "execution_count": 19,
     "metadata": {},
     "output_type": "execute_result"
    },
    {
     "data": {
      "text/plain": "<Figure size 432x288 with 1 Axes>",
      "image/png": "[encoded data removed]"
     },
     "metadata": {
      "needs_background": "light"
     },
     "output_type": "display_data"
    }
   ],
   "source": [
    "sns.boxplot(x='weather', y='beer', data=weather_beer, color='gray')"
   ],
   "metadata": {
    "collapsed": false
   }
  },
  {
   "cell_type": "code",
   "execution_count": 20,
   "outputs": [
    {
     "data": {
      "text/plain": "         beer\nweather      \ncloudy    7.0\nrainy     3.0\nsunny    11.0",
      "text/html": "<div>\n<style scoped>\n    .dataframe tbody tr th:only-of-type {\n        vertical-align: middle;\n    }\n\n    .dataframe tbody tr th {\n        vertical-align: top;\n    }\n\n    .dataframe thead th {\n        text-align: right;\n    }\n</style>\n<table border=\"1\" class=\"dataframe\">\n  <thead>\n    <tr style=\"text-align: right;\">\n      <th></th>\n      <th>beer</th>\n    </tr>\n    <tr>\n      <th>weather</th>\n      <th></th>\n    </tr>\n  </thead>\n  <tbody>\n    <tr>\n      <th>cloudy</th>\n      <td>7.0</td>\n    </tr>\n    <tr>\n      <th>rainy</th>\n      <td>3.0</td>\n    </tr>\n    <tr>\n      <th>sunny</th>\n      <td>11.0</td>\n    </tr>\n  </tbody>\n</table>\n</div>"
     },
     "execution_count": 20,
     "metadata": {},
     "output_type": "execute_result"
    }
   ],
   "source": [
    "weather_beer.groupby(\"weather\").mean()"
   ],
   "metadata": {
    "collapsed": false
   }
  },
  {
   "cell_type": "markdown",
   "source": [
    "## 分散分析1 郡間・郡内平方話の計算\n",
    "\n"
   ],
   "metadata": {
    "collapsed": false
   }
  },
  {
   "cell_type": "code",
   "execution_count": 22,
   "outputs": [
    {
     "name": "stdout",
     "output_type": "stream",
     "text": [
      "群間の平方和: 64.0\n",
      "郡内の平方和: 6\n"
     ]
    }
   ],
   "source": [
    "# 天気の持つ影響\n",
    "effect = [7, 7, 3, 3, 11, 11]\n",
    "\n",
    "# 群間の平方和\n",
    "mu_effect = np.mean(effect)\n",
    "squares_model = np.sum((effect - mu_effect) ** 2)\n",
    "print('群間の平方和:', squares_model)\n",
    "\n",
    "# 郡内の平方和:\n",
    "resid = weather_beer.beer - effect\n",
    "squares_resid = np.sum(resid ** 2)\n",
    "print('郡内の平方和:', squares_resid)"
   ],
   "metadata": {
    "collapsed": false
   }
  },
  {
   "cell_type": "markdown",
   "source": [
    "## 分散分析2 郡間・郡内分散の計算"
   ],
   "metadata": {
    "collapsed": false
   }
  },
  {
   "cell_type": "code",
   "execution_count": 23,
   "outputs": [
    {
     "name": "stdout",
     "output_type": "stream",
     "text": [
      "郡間の平均平方: 32.0\n",
      "郡内の平均平方: 2.0\n"
     ]
    }
   ],
   "source": [
    "df_model = 2 # 郡間変動の自由度 水準の種類(晴れ, 雨, 曇り) -1\n",
    "df_resid = 3 # 郡内変動の自由度 サンプルサイズ(6) - 水準の種類(3)=3\n",
    "\n",
    "# 郡間の平均平方(=分散)\n",
    "variance_model = squares_model / df_model\n",
    "print('郡間の平均平方:', variance_model)\n",
    "\n",
    "# 郡内の平方平均(=分散)\n",
    "variance_resid = squares_resid / df_resid\n",
    "print('郡内の平均平方:', variance_resid)"
   ],
   "metadata": {
    "collapsed": false
   }
  },
  {
   "cell_type": "markdown",
   "source": [
    "## 分散分析3: p値の計算"
   ],
   "metadata": {
    "collapsed": false
   }
  },
  {
   "cell_type": "code",
   "execution_count": 24,
   "outputs": [
    {
     "data": {
      "text/plain": "16.000"
     },
     "execution_count": 24,
     "metadata": {},
     "output_type": "execute_result"
    }
   ],
   "source": [
    "f_ratio = variance_model / variance_resid\n",
    "f_ratio"
   ],
   "metadata": {
    "collapsed": false
   }
  },
  {
   "cell_type": "code",
   "execution_count": 25,
   "outputs": [
    {
     "data": {
      "text/plain": "0.025"
     },
     "execution_count": 25,
     "metadata": {},
     "output_type": "execute_result"
    }
   ],
   "source": [
    "# p値の計算: F分布の累積分布関数から計算可能\n",
    "1 - stats.f.cdf(f_ratio, df_model, df_resid)"
   ],
   "metadata": {
    "collapsed": false
   }
  },
  {
   "cell_type": "markdown",
   "source": [
    "p値が0.05以下となったので、天気によって売上は有意に変化すると判断できる\n",
    "\n",
    "- 一元配置分散分析の計算について\n",
    "    - データを「効果の大きさ」と「誤差の大きさ」に分離する\n",
    "    - 各々の大きさを分散として定量化する(前者を郡間変動、後者を郡内変動)\n",
    "    - 郡間の分散と郡内の分散の比(F比)を統計量として用いる\n",
    "    - F分布の累積分布関数からp値を計算し、そのp値が0.05以下か否かを判定"
   ],
   "metadata": {
    "collapsed": false
   }
  },
  {
   "cell_type": "markdown",
   "source": [
    "## 説明変数がカテゴリ形である正規線形モデル\n",
    "\n",
    "$$\n",
    "\\mathrm{ビールの売上~N(\\beta_0 + \\beta_1 (雨) + \\beta_2(晴), \\sigma^2)}\n",
    "$$\n",
    "\n",
    "- ここで「雨」は、天気が雨だった時に1を、それ以外の日には0をとる変数とする\n",
    "- \\beta_1, \\beta_2は天気が雨/晴れの場合の影響を示すパラメタ\n",
    "- 曇りのケースでは、雨でもなく晴れでもない場合は、\\beta_0が残るので、これが曇りの係数と解釈される\n",
    "\n"
   ],
   "metadata": {
    "collapsed": false
   }
  },
  {
   "cell_type": "markdown",
   "source": [
    "### ダミー変数\n",
    "\n",
    "- カテゴリ型の変数をモデルに組み込む際に用いられるのがダミー変数\n",
    "- 雨: 0, 晴: 1, 曇: 2というように、カテゴリを数値に変換する\n",
    "- カテゴリ型の変数をそのままモデルに組み込むことは難しいためダミー変数を利用する\n"
   ],
   "metadata": {
    "collapsed": false
   }
  },
  {
   "cell_type": "code",
   "execution_count": 26,
   "outputs": [
    {
     "name": "stdout",
     "output_type": "stream",
     "text": [
      "          sum_sq   df     F    PR(>F)\n",
      "weather     64.0  2.0  16.0  0.025095\n",
      "Residual     6.0  3.0   NaN       NaN\n"
     ]
    }
   ],
   "source": [
    "# statsmodelsによる分散分析\n",
    "anova_model = smf.ols('beer ~ weather', data=weather_beer).fit()\n",
    "print(sm.stats.anova_lm(anova_model, typ=2))"
   ],
   "metadata": {
    "collapsed": false
   }
  },
  {
   "cell_type": "code",
   "execution_count": 27,
   "outputs": [
    {
     "data": {
      "text/plain": "Intercept           7.0\nweather[T.rainy]   -4.0\nweather[T.sunny]    4.0\ndtype: float64"
     },
     "execution_count": 27,
     "metadata": {},
     "output_type": "execute_result"
    }
   ],
   "source": [
    "anova_model.params\n",
    "# intercept=\\beta_0 つまり、曇りの日の売上の平均は、7になる"
   ],
   "metadata": {
    "collapsed": false
   }
  },
  {
   "cell_type": "markdown",
   "source": [
    "## モデルを用いて、誤差と効果を分離"
   ],
   "metadata": {
    "collapsed": false
   }
  },
  {
   "cell_type": "code",
   "execution_count": 28,
   "outputs": [
    {
     "data": {
      "text/plain": "0     7.0\n1     7.0\n2     3.0\n3     3.0\n4    11.0\n5    11.0\ndtype: float64"
     },
     "execution_count": 28,
     "metadata": {},
     "output_type": "execute_result"
    }
   ],
   "source": [
    "fitted = anova_model.fittedvalues\n",
    "# 効果\n",
    "fitted"
   ],
   "metadata": {
    "collapsed": false
   }
  },
  {
   "cell_type": "code",
   "execution_count": 29,
   "outputs": [
    {
     "data": {
      "text/plain": "0   -1.0\n1    1.0\n2   -1.0\n3    1.0\n4   -1.0\n5    1.0\ndtype: float64"
     },
     "execution_count": 29,
     "metadata": {},
     "output_type": "execute_result"
    }
   ],
   "source": [
    "# 残差\n",
    "anova_model.resid"
   ],
   "metadata": {
    "collapsed": false
   }
  },
  {
   "cell_type": "code",
   "execution_count": 32,
   "outputs": [
    {
     "data": {
      "text/plain": "                  sum_sq    df          F    PR(>F)\ntemperature  1651.532489   1.0  28.446984  0.000011\nResidual     1625.582178  28.0        NaN       NaN",
      "text/html": "<div>\n<style scoped>\n    .dataframe tbody tr th:only-of-type {\n        vertical-align: middle;\n    }\n\n    .dataframe tbody tr th {\n        vertical-align: top;\n    }\n\n    .dataframe thead th {\n        text-align: right;\n    }\n</style>\n<table border=\"1\" class=\"dataframe\">\n  <thead>\n    <tr style=\"text-align: right;\">\n      <th></th>\n      <th>sum_sq</th>\n      <th>df</th>\n      <th>F</th>\n      <th>PR(&gt;F)</th>\n    </tr>\n  </thead>\n  <tbody>\n    <tr>\n      <th>temperature</th>\n      <td>1651.532489</td>\n      <td>1.0</td>\n      <td>28.446984</td>\n      <td>0.000011</td>\n    </tr>\n    <tr>\n      <th>Residual</th>\n      <td>1625.582178</td>\n      <td>28.0</td>\n      <td>NaN</td>\n      <td>NaN</td>\n    </tr>\n  </tbody>\n</table>\n</div>"
     },
     "execution_count": 32,
     "metadata": {},
     "output_type": "execute_result"
    }
   ],
   "source": [
    "beer = pd.read_csv('../data/5-1-1-beer.csv')\n",
    "\n",
    "lm_model = smf.ols(formula='beer ~ temperature',\n",
    "                   data = beer).fit()\n",
    "sm.stats.anova_lm(lm_model, typ=2)"
   ],
   "metadata": {
    "collapsed": false
   }
  },
  {
   "cell_type": "code",
   "execution_count": 33,
   "outputs": [
    {
     "data": {
      "text/plain": "28.447"
     },
     "execution_count": 33,
     "metadata": {},
     "output_type": "execute_result"
    }
   ],
   "source": [
    "df_lm_model = 1\n",
    "df_lm_reside = 28\n",
    "\n",
    "# 当てはめ値\n",
    "lm_effect = lm_model.fittedvalues\n",
    "# 残差\n",
    "lm_resid = lm_model.resid\n",
    "\n",
    "mu = np.mean(lm_effect)\n",
    "# 気温における効果の分散の大きさ\n",
    "squares_lm_model = np.sum((lm_effect - mu) ** 2)\n",
    "variance_lm_model = squares_lm_model / df_lm_model\n",
    "# 残差の分散の大きさ\n",
    "squares_lm_resid = np.sum(lm_resid ** 2)\n",
    "variance_lm_resid = squares_lm_resid / df_lm_reside\n",
    "\n",
    "# F比\n",
    "f_value_lm = variance_lm_model / variance_lm_resid\n",
    "f_value_lm"
   ],
   "metadata": {
    "collapsed": false
   }
  },
  {
   "cell_type": "markdown",
   "source": [
    "説明変数が1つだけの場合、係数のt検定の結果と分散分析の結果は一致する"
   ],
   "metadata": {
    "collapsed": false
   }
  },
  {
   "cell_type": "code",
   "execution_count": 34,
   "outputs": [
    {
     "data": {
      "text/plain": "<class 'statsmodels.iolib.summary.Summary'>\n\"\"\"\n                            OLS Regression Results                            \n==============================================================================\nDep. Variable:                   beer   R-squared:                       0.504\nModel:                            OLS   Adj. R-squared:                  0.486\nMethod:                 Least Squares   F-statistic:                     28.45\nDate:                Sat, 11 Feb 2023   Prob (F-statistic):           1.11e-05\nTime:                        18:39:12   Log-Likelihood:                -102.45\nNo. Observations:                  30   AIC:                             208.9\nDf Residuals:                      28   BIC:                             211.7\nDf Model:                           1                                         \nCovariance Type:            nonrobust                                         \n===============================================================================\n                  coef    std err          t      P>|t|      [0.025      0.975]\n-------------------------------------------------------------------------------\nIntercept      34.6102      3.235     10.699      0.000      27.984      41.237\ntemperature     0.7654      0.144      5.334      0.000       0.471       1.059\n==============================================================================\nOmnibus:                        0.587   Durbin-Watson:                   1.960\nProb(Omnibus):                  0.746   Jarque-Bera (JB):                0.290\nSkew:                          -0.240   Prob(JB):                        0.865\nKurtosis:                       2.951   Cond. No.                         52.5\n==============================================================================\n\nNotes:\n[1] Standard Errors assume that the covariance matrix of the errors is correctly specified.\n\"\"\"",
      "text/html": "<table class=\"simpletable\">\n<caption>OLS Regression Results</caption>\n<tr>\n  <th>Dep. Variable:</th>          <td>beer</td>       <th>  R-squared:         </th> <td>   0.504</td>\n</tr>\n<tr>\n  <th>Model:</th>                   <td>OLS</td>       <th>  Adj. R-squared:    </th> <td>   0.486</td>\n</tr>\n<tr>\n  <th>Method:</th>             <td>Least Squares</td>  <th>  F-statistic:       </th> <td>   28.45</td>\n</tr>\n<tr>\n  <th>Date:</th>             <td>Sat, 11 Feb 2023</td> <th>  Prob (F-statistic):</th> <td>1.11e-05</td>\n</tr>\n<tr>\n  <th>Time:</th>                 <td>18:39:12</td>     <th>  Log-Likelihood:    </th> <td> -102.45</td>\n</tr>\n<tr>\n  <th>No. Observations:</th>      <td>    30</td>      <th>  AIC:               </th> <td>   208.9</td>\n</tr>\n<tr>\n  <th>Df Residuals:</th>          <td>    28</td>      <th>  BIC:               </th> <td>   211.7</td>\n</tr>\n<tr>\n  <th>Df Model:</th>              <td>     1</td>      <th>                     </th>     <td> </td>   \n</tr>\n<tr>\n  <th>Covariance Type:</th>      <td>nonrobust</td>    <th>                     </th>     <td> </td>   \n</tr>\n</table>\n<table class=\"simpletable\">\n<tr>\n       <td></td>          <th>coef</th>     <th>std err</th>      <th>t</th>      <th>P>|t|</th>  <th>[0.025</th>    <th>0.975]</th>  \n</tr>\n<tr>\n  <th>Intercept</th>   <td>   34.6102</td> <td>    3.235</td> <td>   10.699</td> <td> 0.000</td> <td>   27.984</td> <td>   41.237</td>\n</tr>\n<tr>\n  <th>temperature</th> <td>    0.7654</td> <td>    0.144</td> <td>    5.334</td> <td> 0.000</td> <td>    0.471</td> <td>    1.059</td>\n</tr>\n</table>\n<table class=\"simpletable\">\n<tr>\n  <th>Omnibus:</th>       <td> 0.587</td> <th>  Durbin-Watson:     </th> <td>   1.960</td>\n</tr>\n<tr>\n  <th>Prob(Omnibus):</th> <td> 0.746</td> <th>  Jarque-Bera (JB):  </th> <td>   0.290</td>\n</tr>\n<tr>\n  <th>Skew:</th>          <td>-0.240</td> <th>  Prob(JB):          </th> <td>   0.865</td>\n</tr>\n<tr>\n  <th>Kurtosis:</th>      <td> 2.951</td> <th>  Cond. No.          </th> <td>    52.5</td>\n</tr>\n</table><br/><br/>Notes:<br/>[1] Standard Errors assume that the covariance matrix of the errors is correctly specified."
     },
     "execution_count": 34,
     "metadata": {},
     "output_type": "execute_result"
    }
   ],
   "source": [
    "lm_model.summary()"
   ],
   "metadata": {
    "collapsed": false
   }
  },
  {
   "cell_type": "code",
   "execution_count": null,
   "outputs": [],
   "source": [],
   "metadata": {
    "collapsed": false
   }
  }
 ],
 "metadata": {
  "kernelspec": {
   "display_name": "Python 3",
   "language": "python",
   "name": "python3"
  },
  "language_info": {
   "codemirror_mode": {
    "name": "ipython",
    "version": 2
   },
   "file_extension": ".py",
   "mimetype": "text/x-python",
   "name": "python",
   "nbconvert_exporter": "python",
   "pygments_lexer": "ipython2",
   "version": "2.7.6"
  }
 },
 "nbformat": 4,
 "nbformat_minor": 0
}
