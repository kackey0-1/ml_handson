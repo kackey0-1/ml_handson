{
 "cells": [
  {
   "cell_type": "markdown",
   "source": [
    "# 正規線形モデル\n",
    "\n",
    "分散分析と回帰分析を一つのモデルにまとめたものを正規線形モデルという\n",
    "\n",
    "正規線形モデルを利用することで、より多くの説明変数を扱うことが可能になる\n",
    "\n",
    "- 例:\n",
    "    - カテゴリ変数: 薬の有無\n",
    "    - 連続変数: 魚の体長"
   ],
   "metadata": {
    "collapsed": false
   }
  },
  {
   "cell_type": "code",
   "execution_count": 2,
   "outputs": [],
   "source": [
    "import pandas as pd"
   ],
   "metadata": {
    "collapsed": false
   }
  },
  {
   "cell_type": "code",
   "execution_count": 3,
   "outputs": [
    {
     "data": {
      "text/plain": "        length       food medicine\n0   119.587138  68.307992       no\n1   118.175455  43.632211       no\n2   153.706848  69.961318       no\n3    93.276648  40.645598       no\n4   118.138821  64.085344       no\n..         ...        ...      ...\n95  202.944625  76.921236      yes\n96  204.773146  72.302228      yes\n97  179.129146  73.796986      yes\n98  143.433330  53.544876      yes\n99  170.585756  52.218906      yes\n\n[100 rows x 3 columns]",
      "text/html": "<div>\n<style scoped>\n    .dataframe tbody tr th:only-of-type {\n        vertical-align: middle;\n    }\n\n    .dataframe tbody tr th {\n        vertical-align: top;\n    }\n\n    .dataframe thead th {\n        text-align: right;\n    }\n</style>\n<table border=\"1\" class=\"dataframe\">\n  <thead>\n    <tr style=\"text-align: right;\">\n      <th></th>\n      <th>length</th>\n      <th>food</th>\n      <th>medicine</th>\n    </tr>\n  </thead>\n  <tbody>\n    <tr>\n      <th>0</th>\n      <td>119.587138</td>\n      <td>68.307992</td>\n      <td>no</td>\n    </tr>\n    <tr>\n      <th>1</th>\n      <td>118.175455</td>\n      <td>43.632211</td>\n      <td>no</td>\n    </tr>\n    <tr>\n      <th>2</th>\n      <td>153.706848</td>\n      <td>69.961318</td>\n      <td>no</td>\n    </tr>\n    <tr>\n      <th>3</th>\n      <td>93.276648</td>\n      <td>40.645598</td>\n      <td>no</td>\n    </tr>\n    <tr>\n      <th>4</th>\n      <td>118.138821</td>\n      <td>64.085344</td>\n      <td>no</td>\n    </tr>\n    <tr>\n      <th>...</th>\n      <td>...</td>\n      <td>...</td>\n      <td>...</td>\n    </tr>\n    <tr>\n      <th>95</th>\n      <td>202.944625</td>\n      <td>76.921236</td>\n      <td>yes</td>\n    </tr>\n    <tr>\n      <th>96</th>\n      <td>204.773146</td>\n      <td>72.302228</td>\n      <td>yes</td>\n    </tr>\n    <tr>\n      <th>97</th>\n      <td>179.129146</td>\n      <td>73.796986</td>\n      <td>yes</td>\n    </tr>\n    <tr>\n      <th>98</th>\n      <td>143.433330</td>\n      <td>53.544876</td>\n      <td>yes</td>\n    </tr>\n    <tr>\n      <th>99</th>\n      <td>170.585756</td>\n      <td>52.218906</td>\n      <td>yes</td>\n    </tr>\n  </tbody>\n</table>\n<p>100 rows × 3 columns</p>\n</div>"
     },
     "execution_count": 3,
     "metadata": {},
     "output_type": "execute_result"
    }
   ],
   "source": [
    "df = pd.read_csv('./data/data0_linearModel.csv')\n",
    "df"
   ],
   "metadata": {
    "collapsed": false
   }
  },
  {
   "cell_type": "code",
   "execution_count": null,
   "outputs": [],
   "source": [],
   "metadata": {
    "collapsed": false
   }
  },
  {
   "cell_type": "code",
   "execution_count": null,
   "outputs": [],
   "source": [],
   "metadata": {
    "collapsed": false
   }
  }
 ],
 "metadata": {
  "kernelspec": {
   "display_name": "Python 3",
   "language": "python",
   "name": "python3"
  },
  "language_info": {
   "codemirror_mode": {
    "name": "ipython",
    "version": 2
   },
   "file_extension": ".py",
   "mimetype": "text/x-python",
   "name": "python",
   "nbconvert_exporter": "python",
   "pygments_lexer": "ipython2",
   "version": "2.7.6"
  }
 },
 "nbformat": 4,
 "nbformat_minor": 0
}
