{
 "cells": [
  {
   "cell_type": "markdown",
   "source": [
    "# 統計モデル\n",
    "\n",
    "現実世界の理解や予測に活用する"
   ],
   "metadata": {
    "collapsed": false
   }
  },
  {
   "cell_type": "markdown",
   "source": [
    "## モデルを活用して単純化する\n",
    "\n",
    "* 複雑な世界を特定の観点に落とし込む作業がモデリングという\n",
    "* 分析の目的に合わせて、作成するモデル、注目する観点を変えることができる\n",
    "  * モデルは、実現象を「ある側面から見た結果」だとみなすこともある\n",
    "    * 気温とビールの売上の関係という「その日の気温という観点」から見たモデル\n",
    "    * ビールを愛飲する人口の量とビールの売上という「長期的な消費者数の推移という観点」からみたモデル\n",
    "\n",
    "**分析の目的に合わせて、作成するモデル、注目する観点を変える**ことが可能になる"
   ],
   "metadata": {
    "collapsed": false
   }
  },
  {
   "cell_type": "markdown",
   "source": [
    "## 数理モデル\n",
    "\n",
    "* 現象を数式で表現したモデルのことを指す\n",
    "\n",
    "例: 「ビールの売上は気温によって変わる」というモデルを想定してみる\n",
    "\n",
    "$$\n",
    "ビールの売上(万円) = 20 + (4 * 気温)\n",
    "$$\n",
    "\n",
    "- 気温が1度上がると、ビールの売上は4万円増える\n",
    "- 気温が0度の時、ビールの売上は20万円\n",
    "- 気温が20度の時、ビールの売上は20+80=100となる\n",
    "\n",
    "このように数式で表現することで、ビールと気温の関係が明確になる\n"
   ],
   "metadata": {
    "collapsed": false
   }
  },
  {
   "cell_type": "markdown",
   "source": [
    "## 確率モデル\n",
    "\n",
    "* 数理モデルの中でも、確率的な表現を伴うモデル\n",
    "* 上記のようなビールの売上についても、たくさん売れる日もあれば、あまり売れない日もあり、その平均をとる。このように考えるためには、確率モデルを使う\n",
    "* 確率分布としては、正規分布などが使われる(一般化線形モデルでは、ポアソン分布や二項分布なども利用する)\n",
    "\n",
    "上記の例のビールの売上と気温のモデルを、正規分布を仮定した場合、以下のような数式に表すことができる\n",
    "\n",
    "$$\n",
    "\\mathcal{ビールの売上 〜 N(20+4*気温, \\sigma^2)]\n",
    "$$\n"
   ],
   "metadata": {
    "collapsed": false
   }
  },
  {
   "cell_type": "markdown",
   "source": [
    "## 統計モデル\n",
    "\n",
    "* データに適合するように構築された確率モデル\n",
    "*"
   ],
   "metadata": {
    "collapsed": false
   }
  },
  {
   "cell_type": "markdown",
   "source": [],
   "metadata": {
    "collapsed": false
   }
  },
  {
   "cell_type": "markdown",
   "source": [],
   "metadata": {
    "collapsed": false
   }
  },
  {
   "cell_type": "markdown",
   "source": [],
   "metadata": {
    "collapsed": false
   }
  },
  {
   "cell_type": "markdown",
   "source": [],
   "metadata": {
    "collapsed": false
   }
  },
  {
   "cell_type": "markdown",
   "source": [],
   "metadata": {
    "collapsed": false
   }
  }
 ],
 "metadata": {
  "kernelspec": {
   "display_name": "Python 3",
   "language": "python",
   "name": "python3"
  },
  "language_info": {
   "codemirror_mode": {
    "name": "ipython",
    "version": 2
   },
   "file_extension": ".py",
   "mimetype": "text/x-python",
   "name": "python",
   "nbconvert_exporter": "python",
   "pygments_lexer": "ipython2",
   "version": "2.7.6"
  }
 },
 "nbformat": 4,
 "nbformat_minor": 0
}
