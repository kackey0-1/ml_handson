{
 "cells": [
  {
   "cell_type": "markdown",
   "source": [
    "# 統計モデルの作り方\n",
    "\n",
    "統計モデルを構築流れを理解していく"
   ],
   "metadata": {
    "collapsed": false
   }
  },
  {
   "cell_type": "markdown",
   "source": [
    "* ビールの売上予測モデルを構築する\n",
    "  * ビールの売上に影響があるのではないかと思われる要素\n",
    "    * 気温\n",
    "    * 天気\n",
    "    * ビールの価格\n"
   ],
   "metadata": {
    "collapsed": false
   }
  },
  {
   "cell_type": "markdown",
   "source": [
    "## 応答変数・説明変数\n",
    "\n",
    "* **応答変数**: 何らかの要因によって変化する(応答する)変数のことを指す(ビールの売上予測モデルにおけるビールの売上)\n",
    "* **説明変数**: 興味のある対象の変化を説明する変数のこと(気温・天気・ビールの価格の3つが説明変数)\n",
    "\n",
    "確率モデルでは、「応答変数 ~ 説明変数」といった書き方がされる必要がある\n",
    "応答変数が~を挟んで左側、説明変数が右側"
   ],
   "metadata": {
    "collapsed": false
   }
  },
  {
   "cell_type": "markdown",
   "source": [],
   "metadata": {
    "collapsed": false
   }
  },
  {
   "cell_type": "markdown",
   "source": [],
   "metadata": {
    "collapsed": false
   }
  },
  {
   "cell_type": "markdown",
   "source": [],
   "metadata": {
    "collapsed": false
   }
  },
  {
   "cell_type": "markdown",
   "source": [],
   "metadata": {
    "collapsed": false
   }
  },
  {
   "cell_type": "markdown",
   "source": [],
   "metadata": {
    "collapsed": false
   }
  },
  {
   "cell_type": "markdown",
   "source": [],
   "metadata": {
    "collapsed": false
   }
  },
  {
   "cell_type": "markdown",
   "source": [],
   "metadata": {
    "collapsed": false
   }
  },
  {
   "cell_type": "markdown",
   "source": [],
   "metadata": {
    "collapsed": false
   }
  }
 ],
 "metadata": {
  "kernelspec": {
   "display_name": "Python 3",
   "language": "python",
   "name": "python3"
  },
  "language_info": {
   "codemirror_mode": {
    "name": "ipython",
    "version": 2
   },
   "file_extension": ".py",
   "mimetype": "text/x-python",
   "name": "python",
   "nbconvert_exporter": "python",
   "pygments_lexer": "ipython2",
   "version": "2.7.6"
  }
 },
 "nbformat": 4,
 "nbformat_minor": 0
}
