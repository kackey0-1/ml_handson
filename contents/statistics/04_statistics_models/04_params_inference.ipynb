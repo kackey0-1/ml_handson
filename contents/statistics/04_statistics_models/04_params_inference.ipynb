{
 "cells": [
  {
   "cell_type": "markdown",
   "source": [
    "# パラメタ推定"
   ],
   "metadata": {
    "collapsed": false
   }
  },
  {
   "cell_type": "markdown",
   "source": [
    "## パラメタ推定の方法を学ぶ意義\n",
    "\n",
    "* 計算の実行時にerrorやwarningが出た際、原因の当たりをつけることができるのは、パラメタ推定の原理を知っておく必要がある\n",
    "* 新しい技術が生まれた際に、それをいち早く活用する能力があるのは、もともとある技術の原理を知っているものだけ\n"
   ],
   "metadata": {
    "collapsed": false
   }
  },
  {
   "cell_type": "markdown",
   "source": [
    "## パラメタ推定: 尤度の最大化"
   ],
   "metadata": {
    "collapsed": false
   }
  },
  {
   "cell_type": "markdown",
   "source": [
    "### 尤度\n",
    "\n",
    "*  **尤度**: パラメタが決まった時における、標本が得られる確率(密度)\n",
    "  * 尤=尤もらしい(もっともらしい)という意味\n",
    "  * 尤もらしさの度合い\n",
    "\n",
    "例:\n",
    " 表が出る確率が1/2であるコインがあったとする.この1/2がパラメタ\n",
    " このコインを2回投げて、1回目が表、2回目が裏だったする(=標本)\n",
    "\n",
    "標本が得られる確率は、1/2 * 1/2 = 1/4\n",
    "表が出る確率が1/3のコインだった場合は、尤度は 1/3 * 2/3 = 2/9"
   ],
   "metadata": {
    "collapsed": false
   }
  },
  {
   "cell_type": "markdown",
   "source": [
    "### 尤度関数\n",
    "\n",
    "* **尤度関数**: パラメタを指定すると尤度が計算される関数\n",
    "* 上記のコイン投げの例を使うと、コインを投げて表が出る確率をパラメタを`\\theta`とおく。`\\theta`を指定すると尤度が計算される尤度関数を`L(\\theta)`と書くこととする。この時の尤度関数は以下のようになる\n",
    "\n",
    "$$ \\mathcal{L}(\\theta) = \\theta(1-\\theta) $$\n",
    "\n",
    "また、尤度の対数をとったものを**対数尤度**と呼ぶ(後々の計算を楽にするために利用されることが多い)"
   ],
   "metadata": {
    "collapsed": false
   }
  },
  {
   "cell_type": "markdown",
   "source": [
    "### 対数の性質"
   ],
   "metadata": {
    "collapsed": false
   }
  },
  {
   "cell_type": "markdown",
   "source": [
    "#### 性質1: 単調増加する\n",
    "\n",
    "f(x)=logxという関数があったとして、中身のxを変化させたとする。この時、xが大きくなるとlogxの値も必ず大きくなる\n",
    "この性質があるため、尤度を最大にするパラメタを探した結果は対数尤度を最大にするパラメタを探した結果と一致する\n"
   ],
   "metadata": {
    "collapsed": false
   }
  },
  {
   "cell_type": "markdown",
   "source": [
    "#### 性質2: 掛け算が足し算に変わる\n",
    "\n",
    "$$\n",
    "2 \\times 4 = 8\n",
    "$$\n",
    "上記の式の左辺と右辺の対数をとっても、上記式の等号は成り立つ\n",
    "$$\n",
    "\\log_{2}(2 * 4) = \\log_{2}2 + \\log_{2}4\n",
    " & = & \\log_{2}8 =3\n",
    "$$\n",
    "よって、一般に以下の関係が成り立つ\n",
    "\n",
    "$$\n",
    "\\log{xy}= \\log{x} + \\log{y}\n",
    "$$\n",
    "\n",
    "`\\prod` -> `\\sum`記号の対数変換にも利用可能\n",
    "$$\n",
    "\\sum^{5}_{i=1}i=1+2+3+4+5\n",
    "$$\n",
    "に対して、`\\prod`は掛け合わせるという意味\n",
    "$$\n",
    "\\prod^{5}_{i=1}i=1\\times2\\times3\\times 4\\times5\n",
    "$$\n",
    "\n",
    "よって、`\\prod`演算において大数をとると`\\sum`に変わる\n",
    "\n",
    "\\begin{eqnarray}\n",
    "\\log{\\prod^{5}_{i=1}i} \\\\\n",
    " & = & \\log(\\times2\\times3\\times 4\\times5) \\\\\n",
    " & = & \\log(1)+\\log(2)+\\log(3)+\\log(4)+\\log(5) \\\\\n",
    " & = & \\sum^{5}_{i=1}\\log{i}\n",
    "\\end{eqnarray}\n"
   ],
   "metadata": {
    "collapsed": false
   }
  },
  {
   "cell_type": "markdown",
   "source": [
    "#### 性質3: 絶対値が極端に小さな値になりにくい\n",
    "\n",
    "* 対数をとると、絶対値が極端に小さくなりにくいというメリットがある\n",
    "* Programによる計算をするときに非常に重要になる。0.00000000000000000000001のような数値はプログラムでは処理できず0として見なされる場合がある\n",
    "\n",
    "尤度は確率をどんどん掛け算するため、0に近い値になることがしばしばある。大数をとることでプログラムが計算しやすい値に変換することができる\n"
   ],
   "metadata": {
    "collapsed": false
   }
  },
  {
   "cell_type": "markdown",
   "source": [
    "### 最尤法\n",
    "\n",
    "**最尤法**: 尤度や対数尤度を最大にするパラメタを、パラメタの推定値として採用する方法\n",
    "\n",
    "例: 先のコイン投げの例を用いると\n",
    "\n",
    "- パラメタ`\\theta`が1/2の時の尤度は1/4\n",
    "- パラメタ`\\theta`が1/3の時の尤度は2/9\n",
    "\n",
    "1/4と2/9では、1/4の方が大きいため、`\\theta`としては1/2が好ましいといえる。様々なパラメタを試すと`\\theta=1/2`の時、尤度は最大となる\n",
    "\n",
    "**最尤推定量**: 最尤法によって推定されたパラメタ\n",
    "**最大化対数尤度**: 最尤推定量を採用した時の対数`\\log{L(\\hat{\\theta})}`\n"
   ],
   "metadata": {
    "collapsed": false
   }
  },
  {
   "cell_type": "markdown",
   "source": [
    "### 正規分布に従うデータの尤度\n",
    "\n",
    "ビールの売上を変数yと表記し、yは平均`\\mu`、分散`\\sigma^2`の正規分布に従っていると仮定\n",
    "\n",
    "$$ \\mathcal{y \\sim N(\\beta_0 + \\beta_1 \\times 気温, \\sigma^2)} $$\n",
    "\n",
    "* y_1が得られた時の確率密度は、N(y_1 | `\\mu`, `\\sigma^2`)と計算される\n",
    "* y_2が得られた時の確率密度は、N(y_2 | `\\mu`, `\\sigma^2`)と計算される\n",
    "\n",
    "この時の尤度は以下のように計算することが可能になる.これを最大にするパラメタ`\\mu`,`\\sigma^2`を計算すればよい\n",
    "\n",
    "$$\n",
    "\\mathcal{L = N(y_1 | \\mu, \\sigma^2) \\times N(y_2 | \\mu, \\sigma^2)}\n",
    "$$\n",
    "\n",
    "**局外パラメタ**: 直線の関心がないパラメタ指す。正規分布における`\\sigma^2`は平均値さえ推定できれば、分散も求めることができる。そのため、正規分布を仮定した時の最尤法では、分散は局外パラメタとして扱う\n"
   ],
   "metadata": {
    "collapsed": false
   }
  },
  {
   "cell_type": "markdown",
   "source": [
    "### 正規線形モデルの尤度\n",
    "\n",
    "以下のビールの売上モデルは、応答変数は正規分布に従うことを仮定しているため、正規線形モデルとみなすことができる\n",
    "\n",
    "$$\n",
    "ビールの売上 \\sim N(\\beta_0+\\beta_1 \\times 気温, \\sigma^2)\n",
    "$$\n",
    "\n",
    "係数を決めうちで指定した場合の尤度は、以下のように計算することができる(ビールの売上をyと表記、その日の気温をxと表記)\n",
    "※サンプル数は2として記載\n",
    "\n",
    "$$\n",
    "L = N(y_1 | \\beta_0+\\beta_1x_1, \\sigma^2) \\times N(y_2 | \\beta_0+\\beta_1x_2, \\sigma^2)\n",
    "$$\n",
    "\n",
    "上記を一般化して、サンプルサイズをNとすると、\n",
    "\n",
    "$$\n",
    "\\mathcal{L = \\prod^{N}_{i=1}N(y_i | \\beta_0+\\beta_1x_i, \\sigma^2)}\n",
    "$$\n",
    "\n",
    "対数をとると、\n",
    "\n",
    "$$\n",
    "\\mathcal{\\log{L} = \\sum^{N}_{i=1}\\log{[N(y_i | \\beta_0+\\beta_1x_i, \\sigma^2)]}}\n",
    "$$\n"
   ],
   "metadata": {
    "collapsed": false
   }
  },
  {
   "cell_type": "markdown",
   "source": [
    "対数尤度を最大にするパラメタ`\\beta_0, \\beta_1`を推定値として採用するのが**最尤法**\n",
    "\n",
    "ある関数の値を最大にするパラメタを求めることを `arg max`と書くため、以下のようにまとめることができる\n",
    "\n",
    "$$\n",
    "\\mathcal{\\underset{\\beta_0,\\beta_1}{\\operatorname{argmax}} log{L}}\n",
    "= \\underset{\\beta_0,\\beta_1}{\\operatorname{argmax}} \\sum^{N}_{i=1}\\log{[N(y_i | \\beta_0+\\beta_1x_i, \\sigma^2)]}\n",
    "$$\n",
    "\n",
    "N()の代わりに正規分布の確率密度関数を入れることで対数尤度の計算が可能になる\n",
    "\n",
    "$$\n",
    "\\begin{eqnarray}\n",
    "\\mathcal{\\underset{\\beta_0,\\beta_1}{\\operatorname{argmax}} log{L}} \\\\\n",
    " & = & \\underset{\\beta_0,\\beta_1}{\\operatorname{argmax}} \\sum^{N}_{i=1}\\log{[\\frac{1}{\\sqrt{2\\pi\\sigma^2}}\\exp^{-\\frac{(y_i-(\\beta_0+\\beta_1x_i))^2}{2\\sigma^2}}]} \\\\\n",
    " & = & \\underset{\\beta_0,\\beta_1}{\\operatorname{argmax}} \\sum^{N}_{i=1}[\\log{(\\frac{1}{\\sqrt{2\\pi\\sigma^2}})} + \\log{[\\exp^{-\\frac{(y_i-(\\beta_0+\\beta_1x_i))^2}{2\\sigma^2}}]}] \\\\\n",
    "& = & \\underset{\\beta_0,\\beta_1}{\\operatorname{argmax}} \\sum^{N}_{i=1}[\\log{(\\frac{1}{\\sqrt{2\\pi\\sigma^2}})} -\\frac{(y_i-(\\beta_0+\\beta_1x_i))^2}{2\\sigma^2}]\n",
    "\\end{eqnarray}\n",
    "$$"
   ],
   "metadata": {
    "collapsed": false
   }
  },
  {
   "cell_type": "markdown",
   "source": [
    "### 最尤法の計算例\n",
    "\n",
    "ビール売上のNULLモデルを対象としてみる\n",
    "\n",
    "$$\n",
    "\\mathcal{ビールの売上 \\sim N(\\mu, \\sigma^2)}\n",
    "$$\n",
    "\n",
    "\\begin{eqnarray}\n",
    "\\underset{\\mu}{\\operatorname{argmax}} log{L} \\\\\n",
    " & = & \\underset{\\mu}{\\operatorname{argmax}} \\sum^{N}_{i=1}\\log{[N(y_i|\\mu,\\sigma^2)]} \\\\\n",
    " & = & \\underset{\\mu}{\\operatorname{argmax}} \\sum^{N}_{i=1}[\\log{(\\frac{1}{\\sqrt{2\\pi\\sigma^2}})} -\\frac{(y_i-\\mu)^2}{2\\sigma^2}]\n",
    "\n",
    "\\end{eqnarray}\n",
    "\n",
    "最大を求めるときは、微分した値が0となる点を探すのが定石\n",
    "今回は`\\mu`を変化させることで対数尤度関数が最大になる点を探すため、`\\mu`で対数尤度関数を微分した時に、これが0となる`\\mu`を探す\n",
    "\n",
    "微分すると邪魔な項が消える\n",
    "\n",
    "$$\n",
    "\\sum^{N}_{i=1}[\\frac{2(y_i-\\mu)}{2\\sigma^2}] = 0\n",
    "$$\n",
    "\n",
    "`\\sigma^2`は局外パラメタなので、定数と同様に消すことが可能\n",
    "\n",
    "$$\n",
    "\\sum^{N}_{i=1}[y_i-\\mu}] = 0\n",
    "$$\n",
    "\n",
    "シグマ記号を外すと\n",
    "\n",
    "$$\n",
    "\\sum^{N}_{i=1}[y_i] - N\\mu = 0\n",
    "$$\n",
    "よって\n",
    "$$\n",
    "\\mu = \\frac{1}{N}\\sum^N_{i=1}y_i\n",
    "$$\n",
    "\n",
    "つまり、Nullモデルの対数尤度を最大にするパラメタ`\\mu`は、応答変数の平均値と等しいということ\n"
   ],
   "metadata": {
    "collapsed": false
   }
  },
  {
   "cell_type": "markdown",
   "source": [
    "### 最終推定量の持つ性質\n",
    "\n",
    "* サンプルサイズが限りなく大きい時、推定量の標本分布が漸近的に正規分布に従う(=漸近正規性)\n",
    "* 漸近正規性を持つ推定量のうち、その漸近分散が最小となる推定量\n",
    "  * 最尤推定量は漸近有効推定量=標本分布の分散が小さいということは、推定量のばらつきが小さいことを意味する"
   ],
   "metadata": {
    "collapsed": false
   }
  },
  {
   "cell_type": "markdown",
   "source": [
    "## パラメタ推定: 損失の最小化\n",
    "\n",
    "* モデルの当てはまりをよくするパラメタを採用する手法\n",
    "  * 機械学習でよく利用される\n",
    "* 最尤法では、**モデルの当てはまりの良さ**を尤度で数値化して、それを最大にするように推定していた"
   ],
   "metadata": {
    "collapsed": false
   }
  },
  {
   "cell_type": "markdown",
   "source": [
    "### 損失関数\n",
    "\n",
    "* パラメタを推定する際に、これを最小化するという目的で使われる\n",
    "* 残差(= residuals)\n",
    "  * 実際の応答変数の値とモデルによる応答変数の推定値との差をとったものを指す\n",
    "  * 残差の合計をそのまま損失の指標に使えない\n",
    "    * 理由: 残差は、マイナスの値をとる場合もあるためマイナスの値の影響を見積もれなくなってしまうため\n",
    "\n",
    "y: 応答変数の値、`\\hat{y}`: モデルによる推定値\n",
    "\n",
    "$$\n",
    "residuals = y - \\hat{y}\n",
    "$$"
   ],
   "metadata": {
    "collapsed": false
   }
  },
  {
   "cell_type": "markdown",
   "source": [
    "#### 最小二乗法(OLS=Ordinary Least Squared)\n",
    "\n",
    "* **残差平方和**を最小とするパラメタを採用する手法\n",
    "* つまり、損失関数として、残差平方和を用いて、損失を最小とするパラメタを推定値とする手法\n",
    "\n",
    "$$\n",
    "残差平方和 = \\sum^{N}_{i=1}[(y_i-\\hat{y}_i)^2]\n",
    "$$\n"
   ],
   "metadata": {
    "collapsed": false
   }
  },
  {
   "cell_type": "markdown",
   "source": [
    "#### 最小二乗法と最尤法の関係\n",
    "\n",
    "* 最小二乗法によるパラメタの推定値は、母集団分布に正規分布を仮定した時の最尤法の結果と一致する\n",
    "\n",
    "最尤法は以下の対数尤度を最大にする\n",
    "\n",
    "$$\n",
    "\\begin{eqnarray}\n",
    "\\mathcal{\\underset{\\beta_0,\\beta_1}{\\operatorname{argmax}} log{L}} \\\\\n",
    "& = & \\underset{\\beta_0,\\beta_1}{\\operatorname{argmax}} \\sum^{N}_{i=1}[\\log{(\\frac{1}{\\sqrt{2\\pi\\sigma^2}})} -\\frac{(y_i-(\\beta_0+\\beta_1x_i))^2}{2\\sigma^2}]\n",
    "\\end{eqnarray}\n",
    "$$\n"
   ],
   "metadata": {
    "collapsed": false
   }
  },
  {
   "cell_type": "markdown",
   "source": [
    "ここで`\\sigma^2`は局外パラメタなので、直接推定しないため、以下のような結果になることがわかる\n",
    "$$\n",
    "\\begin{eqnarray}\n",
    "\\mathcal{\\underset{\\beta_0,\\beta_1}{\\operatorname{argmax}} log{L}} \\\\\n",
    "& = & \\underset{\\beta_0,\\beta_1}{\\operatorname{argmax}} \\sum^{N}_{i=1}[-(y_i-\\hat{y}_i)^2]\n",
    "\\end{eqnarray}\n",
    "$$\n",
    "\n",
    "マイナスを取れば、残差平方和を最小にしているのと同じになる\n",
    "\n",
    "\n",
    "**誤差関数**: 機械学習の分野において、対数尤度の符号を与えたもの\n",
    "対数尤度のプラスマイナスを変えたもので、これを最小にすることは尤度を最大にすることと同義"
   ],
   "metadata": {
    "collapsed": false
   }
  },
  {
   "cell_type": "markdown",
   "source": [
    "### 損失関数について\n",
    "\n",
    "母集団分布に正規分布以外の分布を仮定すると、最尤法の推定量と最小二乗法は一致しなくなる\n",
    "そのため、データに合わせて損失関数を変えないといけないことに注意する必要がある"
   ],
   "metadata": {
    "collapsed": false
   }
  },
  {
   "cell_type": "markdown",
   "source": [],
   "metadata": {
    "collapsed": false
   }
  }
 ],
 "metadata": {
  "kernelspec": {
   "display_name": "Python 3",
   "language": "python",
   "name": "python3"
  },
  "language_info": {
   "codemirror_mode": {
    "name": "ipython",
    "version": 2
   },
   "file_extension": ".py",
   "mimetype": "text/x-python",
   "name": "python",
   "nbconvert_exporter": "python",
   "pygments_lexer": "ipython2",
   "version": "2.7.6"
  }
 },
 "nbformat": 4,
 "nbformat_minor": 0
}
