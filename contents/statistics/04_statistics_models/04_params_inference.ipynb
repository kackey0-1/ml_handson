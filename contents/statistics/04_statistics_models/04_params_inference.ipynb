{
 "cells": [
  {
   "cell_type": "markdown",
   "source": [
    "# パラメタ推定"
   ],
   "metadata": {
    "collapsed": false
   }
  },
  {
   "cell_type": "markdown",
   "source": [
    "## パラメタ推定の方法を学ぶ意義\n",
    "\n",
    "* 計算の実行時にerrorやwarningが出た際、原因の当たりをつけることができるのは、パラメタ推定の原理を知っておく必要がある\n",
    "* 新しい技術が生まれた際に、それをいち早く活用する能力があるのは、もともとある技術の原理を知っているものだけ\n"
   ],
   "metadata": {
    "collapsed": false
   }
  },
  {
   "cell_type": "markdown",
   "source": [
    "## パラメタ推定: 尤度の最大化"
   ],
   "metadata": {
    "collapsed": false
   }
  },
  {
   "cell_type": "markdown",
   "source": [
    "### 尤度\n",
    "\n",
    "*  **尤度**: パラメタが決まった時における、標本が得られる確率(密度)\n",
    "  * 尤=尤もらしい(もっともらしい)という意味\n",
    "  * 尤もらしさの度合い\n",
    "\n",
    "例:\n",
    " 表が出る確率が1/2であるコインがあったとする.この1/2がパラメタ\n",
    " このコインを2回投げて、1回目が表、2回目が裏だったする(=標本)\n",
    "\n",
    "標本が得られる確率は、1/2*1/2 = 1/4\n",
    "表が出る確率が1/3のコインだった場合は、尤度は 1/3*2/3 = 2/9"
   ],
   "metadata": {
    "collapsed": false
   }
  },
  {
   "cell_type": "markdown",
   "source": [
    "### 尤度関数\n",
    "\n",
    "* **尤度関数**: パラメタを指定すると尤度が計算される関数\n",
    "* 上記のコイン投げの例を使うと、コインを投げて表が出る確率をパラメタを`\\theta`とおく。`\\theta`を指定すると尤度が計算される尤度関数を`L(\\theta)`と書くこととする。この時の尤度関数は以下のようになる\n",
    "\n",
    "$$ \\mathcal{L}(\\theta) = \\theta(1-\\theta) $$\n",
    "\n",
    "また、尤度の対数をとったものを**対数尤度**と呼ぶ(後々の計算を楽にするために利用されることが多い)"
   ],
   "metadata": {
    "collapsed": false
   }
  },
  {
   "cell_type": "markdown",
   "source": [
    "### 対数の性質"
   ],
   "metadata": {
    "collapsed": false
   }
  },
  {
   "cell_type": "markdown",
   "source": [
    "#### 性質1: 単調増加する\n",
    "\n",
    "f(x)=logxという関数があったとして、中身のxを変化させたとする。この時、xが大きくなるとlogxの値も必ず大きくなる\n",
    "この性質があるため、尤度を最大にするパラメタを探した結果は対数尤度を最大にするパラメタを探した結果と一致する\n"
   ],
   "metadata": {
    "collapsed": false
   }
  },
  {
   "cell_type": "markdown",
   "source": [
    "#### 性質2: 掛け算が足し算に変わる\n",
    "\n",
    "$$\n",
    "2 \\times 4 = 8\n",
    "$$\n",
    "上記の式の左辺と右辺の対数をとっても、上記式の等号は成り立つ\n",
    "$$\n",
    "\\log_{2}(2 * 4) = \\log_{2}2 + \\log_{2}4\n",
    " & = & \\log_{2}8 =3\n",
    "$$\n",
    "よって、一般に以下の関係が成り立つ\n",
    "\n",
    "$$\n",
    "\\log{xy}= \\log{x} + \\log{y}\n",
    "$$\n",
    "\n",
    "`\\prod` -> `\\sum`記号の対数変換にも利用可能\n",
    "$$\n",
    "\\sum^{5}_{i=1}i=1+2+3+4+5\n",
    "$$\n",
    "に対して、`\\prod`は掛け合わせるという意味\n",
    "$$\n",
    "\\prod^{5}_{i=1}i=1\\times2\\times3\\times 4\\times5\n",
    "$$\n",
    "\n",
    "よって、`\\prod`演算において大数をとると`\\sum`に変わる\n",
    "\n",
    "\\begin{eqnarray}\n",
    "\\log{\\prod^{5}_{i=1}i} \\\\\n",
    " & = & \\log(\\times2\\times3\\times 4\\times5) \\\\\n",
    " & = & \\log(1)+\\log(2)+\\log(3)+\\log(4)+\\log(5) \\\\\n",
    " & = & \\sum^{5}_{i=1}\\log{i}\n",
    "\\end{eqnarray}\n"
   ],
   "metadata": {
    "collapsed": false
   }
  },
  {
   "cell_type": "markdown",
   "source": [
    "#### 性質3: 絶対値が極端に小さな値になりにくい\n",
    "\n",
    "* 対数をとると、絶対値が極端に小さくなりにくいというメリットがある\n",
    "* Programによる計算をするときに非常に重要になる。0.00000000000000000000001のような数値はプログラムでは処理できず0として見なされる場合がある\n",
    "\n",
    "尤度は確率をどんどん掛け算するため、0に近い値になることがしばしばある。大数をとることでプログラムが計算しやすい値に変換することができる\n"
   ],
   "metadata": {
    "collapsed": false
   }
  },
  {
   "cell_type": "markdown",
   "source": [
    "### 最尤法\n",
    "\n",
    "**最尤法**: 尤度や対数尤度を最大にするパラメタを、パラメタの推定値として採用する方法\n",
    "\n",
    "例: 先のコイン投げの例を用いると\n",
    "\n",
    "- パラメタ`\\theta`が1/2の時の尤度は1/4\n",
    "- パラメタ`\\theta`が1/3の時の尤度は2/9\n",
    "\n",
    "1/4と2/9では、1/4の方が大きいため、`\\theta`としては1/2が好ましいといえる。様々なパラメタを試すと`\\theta=1/2`の時、尤度は最大となる\n",
    "\n",
    "**最尤推定量**: 最尤法によって推定されたパラメタ\n",
    "**最大化対数尤度**: 最尤推定量を採用した時の対数`\\log{L(\\hat{\\theta})}`\n"
   ],
   "metadata": {
    "collapsed": false
   }
  },
  {
   "cell_type": "markdown",
   "source": [
    "### 正規分布に従うデータの尤度\n",
    "\n",
    "ビールの売上を変数yと表記し、yは平均`\\mu`、分散`\\sigma^2`の正規分布に従っていると仮定\n",
    "\n",
    "$$ \\mathcal{y \\sim N(\\beta_0 + \\beta_1 \\times 気温, \\sigma^2)} $$\n"
   ],
   "metadata": {
    "collapsed": false
   }
  },
  {
   "cell_type": "markdown",
   "source": [],
   "metadata": {
    "collapsed": false
   }
  },
  {
   "cell_type": "markdown",
   "source": [],
   "metadata": {
    "collapsed": false
   }
  },
  {
   "cell_type": "markdown",
   "source": [],
   "metadata": {
    "collapsed": false
   }
  },
  {
   "cell_type": "markdown",
   "source": [],
   "metadata": {
    "collapsed": false
   }
  },
  {
   "cell_type": "markdown",
   "source": [],
   "metadata": {
    "collapsed": false
   }
  }
 ],
 "metadata": {
  "kernelspec": {
   "display_name": "Python 3",
   "language": "python",
   "name": "python3"
  },
  "language_info": {
   "codemirror_mode": {
    "name": "ipython",
    "version": 2
   },
   "file_extension": ".py",
   "mimetype": "text/x-python",
   "name": "python",
   "nbconvert_exporter": "python",
   "pygments_lexer": "ipython2",
   "version": "2.7.6"
  }
 },
 "nbformat": 4,
 "nbformat_minor": 0
}
