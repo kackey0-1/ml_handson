{
 "cells": [
  {
   "cell_type": "markdown",
   "metadata": {
    "collapsed": true,
    "pycharm": {
     "name": "#%%\n"
    }
   },
   "source": [
    "# MathJax  メモ"
   ]
  },
  {
   "cell_type": "markdown",
   "metadata": {},
   "source": [
    "## 基本数学記号\n",
    "\n",
    "|記号|Mathjax|\n",
    "|---|---|\n",
    "|fraction|`$$ \\frac{1}{2} $$`|\n",
    "|root|`$$ 3\\sqrt{2} $$`|\n",
    "|Permutation|`$$ {}_n \\mathrm{ C }_k $$`|\n",
    "|Combination|`$$ {}_n \\mathrm{ P }_k $$`|\n",
    "|sum|`$$ \\sum_{i=0}^n x_i $$`|\n"
   ]
  },
  {
   "cell_type": "markdown",
   "metadata": {},
   "source": [
    "$$ \\frac{1}{2} $$\n",
    "\n",
    "$$ 3\\sqrt{2} $$\n",
    "\n",
    "$$ {}_n \\mathrm{ C }_k $$\n",
    "\n",
    "$$ {}_n \\mathrm{ P }_k $$\n",
    "\n",
    "$$ \\sum_{i=0}^n x_i$$"
   ]
  },
  {
   "cell_type": "markdown",
   "metadata": {},
   "source": [
    "## 統計で利用する基本記号\n",
    "\n",
    "|記号|Mathjax|\n",
    "|---|---|\n",
    "|µ|`$$ \\mu $$`|\n",
    "|𝜎|`$$ \\sigma $$`|\n",
    "|π|`$$ \\pi $$`|\n"
   ]
  },
  {
   "cell_type": "markdown",
   "metadata": {},
   "source": [
    "$$ \\mu $$\n",
    "$$ \\sigma $$\n",
    "$$ \\pi $$"
   ]
  },
  {
   "cell_type": "markdown",
   "metadata": {},
   "source": [
    "## 各種分布表記\n",
    "\n",
    "|分布|Mathjax|\n",
    "|---|---|\n",
    "|二項分布|`$$ \\binom{n}{p} $$`|\n",
    "|正規分布|`$$ \\mathcal{N}(\\mu,\\,\\sigma^{2}) $$`|\n",
    "\n"
   ]
  },
  {
   "cell_type": "markdown",
   "metadata": {},
   "source": [
    "$$ \\binom{n}{p} $$\n",
    "\n",
    "$$  \\mathcal{N}(\\mu,\\,\\sigma^{2})$$"
   ]
  },
  {
   "cell_type": "markdown",
   "metadata": {},
   "source": [
    "## 各種分布公式"
   ]
  },
  {
   "cell_type": "markdown",
   "metadata": {},
   "source": []
  },
  {
   "cell_type": "markdown",
   "metadata": {},
   "source": [
    "\n",
    "$$ \n",
    "    \\mathcal{N}(\\mu,\\,\\sigma^{2}) = \\frac{1}{\\sqrt{2\\pi\\sigma^2}}\\exp^\\frac{(x-\\mu)^2}{2\\sigma^2}\n",
    "$$"
   ]
  },
  {
   "cell_type": "code",
   "execution_count": null,
   "metadata": {},
   "outputs": [],
   "source": []
  }
 ],
 "metadata": {
  "kernelspec": {
   "display_name": "Python 3 (ipykernel)",
   "language": "python",
   "name": "python3"
  },
  "language_info": {
   "codemirror_mode": {
    "name": "ipython",
    "version": 3
   },
   "file_extension": ".py",
   "mimetype": "text/x-python",
   "name": "python",
   "nbconvert_exporter": "python",
   "pygments_lexer": "ipython3",
   "version": "3.8.9"
  }
 },
 "nbformat": 4,
 "nbformat_minor": 1
}
