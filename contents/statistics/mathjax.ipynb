{
 "cells": [
  {
   "cell_type": "markdown",
   "source": [
    "# MathJax  メモ\n",
    "\n",
    "[LaTeX/LaTeXによる文書整形の応用/数式を記述](https://cns-guide.sfc.keio.ac.jp/2001/11/4/1.html)\n"
   ],
   "metadata": {
    "collapsed": false
   }
  },
  {
   "cell_type": "markdown",
   "metadata": {},
   "source": [
    "## 基本数学記号\n",
    "\n",
    "| Mark     | Mathjax             | Display           |\n",
    "|----------|---------------------|-------------------|\n",
    "| fraction | `$$ \\frac{1}{2} $$` | $$ \\frac{1}{2} $$ |\n",
    "| root     | ``$$ 3\\sqrt{2} $$`` | $$ 3\\sqrt{2} $$   |\n",
    "| function | ``$$  f(x_{i}) $$`` | $$  f(x_{i}) $$   |\n",
    "| exp      | ``$$\\exp$$``        | $$\\exp$$          |\n"
   ]
  },
  {
   "cell_type": "markdown",
   "metadata": {},
   "source": [
    "| 記号          | Mathjax                      | Display                    |\n",
    "|-------------|------------------------------|----------------------------|\n",
    "| Permutation | `$$ {}_n \\mathrm{ C }_k $$`  | $$ {}_n \\mathrm{ C }_k $$  |\n",
    "| Combination | `$$ {}_n \\mathrm{ P }_k $$`  | $$ {}_n \\mathrm{ P }_k $$  |\n",
    "| sum         | `$$ \\sum_{i=0}^n x_i $$`     | $$ \\sum_{i=0}^n x_i $$     |\n",
    "| limit       | `$$ \\lim_{n \\to \\infty}  $$` | $$ \\lim_{n \\to \\infty}  $$ |\n",
    "| delta       | `$$ \\Delta x $$`             | $$ \\Delta x $$             |\n",
    "| integral    | `$$ \\int^{b}_{a} $$`         | $$ \\int^{b}_{a} $$         |"
   ]
  },
  {
   "cell_type": "markdown",
   "metadata": {},
   "source": [
    "## 統計で利用する基本記号\n",
    "\n",
    "| Mark | Mathjax        | Display      |\n",
    "|------|----------------|--------------|\n",
    "| µ    | `$$ \\mu $$`    | $$ \\mu $$    |\n",
    "| 𝜎   | `$$ \\sigma $$` | $$ \\sigma $$ |\n",
    "| π    | `$$ \\pi $$`    | $$ \\pi $$    |\n"
   ]
  },
  {
   "cell_type": "markdown",
   "metadata": {},
   "source": [
    "## 各種分布表記\n",
    "\n",
    "| Distribution | Mathjax                               | Display                             |\n",
    "|--------------|---------------------------------------|-------------------------------------|\n",
    "| 二項分布         | `$$ \\binom{n}{p} $$`                  | $$ \\binom{n}{p} $$                  |\n",
    "| 正規分布         | `$$ \\mathcal{N}(\\mu,\\,\\sigma^{2}) $$` | $$ \\mathcal{N}(\\mu,\\,\\sigma^{2}) $$ |"
   ]
  },
  {
   "cell_type": "markdown",
   "metadata": {},
   "source": [
    "## 各種分布公式"
   ]
  },
  {
   "cell_type": "markdown",
   "metadata": {},
   "source": [
    "| 分布   | Mathjax                                                                                                  | Display                                                                                                |\n",
    "|------|----------------------------------------------------------------------------------------------------------|--------------------------------------------------------------------------------------------------------|\n",
    "| 二項分布 | `$$ P(x) = \\binom{n}{k}p^k(1-p)^{n-k}  $$`                                                               | $$ P(x) = \\binom{n}{k}p^k(1-p)^{n-k}  $$                                                               |\n",
    "| 正規分布 | `$$ \\mathcal{N}(\\mu,\\,\\sigma^{2}) = \\frac{1}{\\sqrt{2\\pi\\sigma^2}}\\exp^{-\\frac{(x-\\mu)^2}{2\\sigma^2}} $$` | $$ \\mathcal{N}(\\mu,\\,\\sigma^{2}) = \\frac{1}{\\sqrt{2\\pi\\sigma^2}}\\exp^{-\\frac{(x-\\mu)^2}{2\\sigma^2}} $$ |"
   ]
  },
  {
   "cell_type": "code",
   "execution_count": null,
   "outputs": [],
   "source": [],
   "metadata": {
    "collapsed": false
   }
  }
 ],
 "metadata": {
  "kernelspec": {
   "display_name": "Python 3 (ipykernel)",
   "language": "python",
   "name": "python3"
  },
  "language_info": {
   "codemirror_mode": {
    "name": "ipython",
    "version": 3
   },
   "file_extension": ".py",
   "mimetype": "text/x-python",
   "name": "python",
   "nbconvert_exporter": "python",
   "pygments_lexer": "ipython3",
   "version": "3.8.9"
  }
 },
 "nbformat": 4,
 "nbformat_minor": 1
}
