{
 "cells": [
  {
   "cell_type": "code",
   "execution_count": 2,
   "outputs": [],
   "source": [
    "import numpy as np\n",
    "import pandas as pd\n",
    "import scipy as sp\n",
    "from scipy import stats\n",
    "import matplotlib.pyplot as plt\n",
    "import seaborn as sns\n",
    "\n",
    "sns.set()\n",
    "%precision 3\n",
    "%matplotlib inline"
   ],
   "metadata": {
    "collapsed": false
   }
  },
  {
   "cell_type": "markdown",
   "source": [
    "# 検定結果の解釈"
   ],
   "metadata": {
    "collapsed": false
   }
  },
  {
   "cell_type": "markdown",
   "source": [
    "## p値が0.05以下だった場合\n",
    "\n",
    "p値が0.05以下だった場合、帰無仮説を棄却することができる。\n",
    "例えば、「お菓子の平均重量は50gと有意に異なっていた」と記載すべき\n",
    "\n",
    "〇〇とXXと有意に異なっていた\n"
   ],
   "metadata": {
    "collapsed": false
   }
  },
  {
   "cell_type": "markdown",
   "source": [
    "## p値が0.05よりも大きかった場合\n",
    "\n",
    "p値が0.05よりも大きかった場合、帰無仮説を棄却することはできない。例えば、「お菓子の平均重量は50gと有意に異なっていたとは言えない」と記載すべき\n",
    "\n",
    "〇〇とXXと有意に異なっているとは言えない\n"
   ],
   "metadata": {
    "collapsed": false
   }
  },
  {
   "cell_type": "markdown",
   "source": [
    "## 仮設検定における誤謬\n",
    "\n",
    "1. p値が小さい方が、有意差が大きいといえる\n",
    "2. p値が0.05より大きいため有意差がないといえる\n",
    "3. 1-p値は対立仮説が正しい確率である\n"
   ],
   "metadata": {
    "collapsed": false
   }
  },
  {
   "cell_type": "markdown",
   "source": [
    "### p値が小さくても、有意差が大きとは限らない\n",
    "\n",
    "$$\n",
    "t = \\frac{標本平均-比較対象値}{標準偏差/サンプルサイズ} = \\frac{標本平均-比較対象値}{標準誤差}\n",
    "$$\n",
    "\n",
    "- 分子の部分のみを見ると、「標本平均-比較対象値」が大きければ差がお大きいと見做せる\n",
    "- しかし、t値はデータのばらつきやサンプルサイズに影響をうけ、有意差があるかはそれらを包括的にまとめ、確率の表現に直したものがp値になる\n",
    "  - p値が0.00001という小さい値だっとしても、サンプルサイズが大きかった可能性がある\n",
    "  - もしくは、データのばらつきが小さかった可能性もある\n",
    "- なので、p値のみを参照して、実験結果を解釈することは危険\n",
    "  - 元のデータの平均値を確認した理、箱髭図やバイオリンプロットを活用したり、と言った方法で勘違いを減らすことが可能になる"
   ],
   "metadata": {
    "collapsed": false
   }
  },
  {
   "cell_type": "markdown",
   "source": [
    "### p値が0.05より大きくても有意差がないとは言えない\n",
    "\n",
    "帰無仮説が誤っている確率は、p値という指標で確認できるが、「帰無仮説が間違っている確率」はp値という指標で確認することはできない"
   ],
   "metadata": {
    "collapsed": false
   }
  },
  {
   "cell_type": "markdown",
   "source": [
    "## 第一種の過誤・第二種の過誤\n",
    "\n",
    "- **第一種の過誤**: 帰無仮説が正しいのに、誤って帰無仮説を棄却してしまうこと\n",
    "- **第二種の過誤**: 帰無仮説が間違っているのに、誤って帰無仮説を採択してしまうこと"
   ],
   "metadata": {
    "collapsed": false
   }
  },
  {
   "cell_type": "markdown",
   "source": [
    "## 検定の非対称性\n",
    "\n",
    "**検定の非対称性**: **第一種の過誤**については、その確率をコントロールしているにも関わらず、第二種の過誤についてはコントロールできていないことが原因で発生する\n",
    "\n",
    "**第二種の過誤が起こる確率(=帰無仮説が間違っているのに、誤って帰無仮説を採択してしまう確率)は、統計的仮設検定ではコントロールしていない**"
   ],
   "metadata": {
    "collapsed": false
   }
  },
  {
   "cell_type": "markdown",
   "source": [
    "## 有意水準は、検定をする前に決めておくこと\n",
    "\n",
    "一般的な有意水準: 5% ,2.5%, 1% あたりが一般的\n",
    "\n",
    "有意水準は、分野によって変わるため、既存の研究を参考にすると良い"
   ],
   "metadata": {
    "collapsed": false
   }
  },
  {
   "cell_type": "markdown",
   "source": [
    "## 統計的仮設検定は必要か\n",
    "\n",
    "* 統計的仮設検定なしで分析を進めることは困難であり、非効率\n",
    "* データ分析という業務において、統計的仮設検定を理解していない状況は、大きな問題がある(会話が通じないというレベル)"
   ],
   "metadata": {
    "collapsed": false
   }
  },
  {
   "cell_type": "markdown",
   "source": [
    "## 仮説は正しいか\n",
    "\n",
    "* t検定では、母集団分布として正規分布を仮定している\n",
    "  * しかし、この仮定が満たされていなければ、正しくp値を計算することはできない\n",
    "  * シミュレーションを用いてt分布を導出したが、「仮説が間違っている」とは「シミュレーションのやり方が間違っている」ということと同義\n",
    "* データ分析は定型作業だと思われがちだが、実際は異なり、「標本が持つ、仮定とのずれ」をいかに減らすかを常に考える必要がある"
   ],
   "metadata": {
    "collapsed": false
   }
  },
  {
   "cell_type": "code",
   "execution_count": null,
   "outputs": [],
   "source": [],
   "metadata": {
    "collapsed": false
   }
  }
 ],
 "metadata": {
  "kernelspec": {
   "display_name": "Python 3",
   "language": "python",
   "name": "python3"
  },
  "language_info": {
   "codemirror_mode": {
    "name": "ipython",
    "version": 2
   },
   "file_extension": ".py",
   "mimetype": "text/x-python",
   "name": "python",
   "nbconvert_exporter": "python",
   "pygments_lexer": "ipython2",
   "version": "2.7.6"
  }
 },
 "nbformat": 4,
 "nbformat_minor": 0
}
