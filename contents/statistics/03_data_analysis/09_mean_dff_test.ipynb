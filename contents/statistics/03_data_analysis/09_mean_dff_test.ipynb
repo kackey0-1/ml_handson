{
 "cells": [
  {
   "cell_type": "markdown",
   "source": [
    "# 平均値の差の検定"
   ],
   "metadata": {
    "collapsed": false
   }
  },
  {
   "cell_type": "code",
   "execution_count": 1,
   "outputs": [],
   "source": [
    "import numpy as np\n",
    "import pandas as pd\n",
    "import scipy as sp\n",
    "from scipy import stats\n",
    "import matplotlib.pyplot as plt\n",
    "import seaborn as sns\n",
    "import warnings\n",
    "\n",
    "sns.set()\n",
    "%precision 3\n",
    "%matplotlib inline\n",
    "warnings.filterwarnings('ignore')"
   ],
   "metadata": {
    "collapsed": false
   }
  },
  {
   "cell_type": "markdown",
   "source": [
    "## 2変量データに対するt検定\n",
    "\n",
    "* 2つの変数の間で、平均値に差があるかどうかを判断する\n",
    "* 例: 薬を飲む前と飲んだ後で、体温に差が出るかどうかを調べる場合など、「同じ対象を異なった条件で2回測定して、その違いを見る」といった場合に対応のあるt検定を用いる\n",
    "  * 飲む前と飲んだ後の差分の平均値が0と異なれば、「薬を飲む前と飲んだ後で体温が異なる」ということを主張することができる(有意水準=5%とする)\n"
   ],
   "metadata": {
    "collapsed": false
   }
  },
  {
   "cell_type": "code",
   "execution_count": 2,
   "outputs": [
    {
     "data": {
      "text/plain": "  person medicine  body_temperature\n0      A   before              36.2\n1      B   before              36.2\n2      C   before              35.3\n3      D   before              36.1\n4      E   before              36.1\n5      A    after              36.8\n6      B    after              36.1\n7      C    after              36.8\n8      D    after              37.1\n9      E    after              36.9",
      "text/html": "<div>\n<style scoped>\n    .dataframe tbody tr th:only-of-type {\n        vertical-align: middle;\n    }\n\n    .dataframe tbody tr th {\n        vertical-align: top;\n    }\n\n    .dataframe thead th {\n        text-align: right;\n    }\n</style>\n<table border=\"1\" class=\"dataframe\">\n  <thead>\n    <tr style=\"text-align: right;\">\n      <th></th>\n      <th>person</th>\n      <th>medicine</th>\n      <th>body_temperature</th>\n    </tr>\n  </thead>\n  <tbody>\n    <tr>\n      <th>0</th>\n      <td>A</td>\n      <td>before</td>\n      <td>36.2</td>\n    </tr>\n    <tr>\n      <th>1</th>\n      <td>B</td>\n      <td>before</td>\n      <td>36.2</td>\n    </tr>\n    <tr>\n      <th>2</th>\n      <td>C</td>\n      <td>before</td>\n      <td>35.3</td>\n    </tr>\n    <tr>\n      <th>3</th>\n      <td>D</td>\n      <td>before</td>\n      <td>36.1</td>\n    </tr>\n    <tr>\n      <th>4</th>\n      <td>E</td>\n      <td>before</td>\n      <td>36.1</td>\n    </tr>\n    <tr>\n      <th>5</th>\n      <td>A</td>\n      <td>after</td>\n      <td>36.8</td>\n    </tr>\n    <tr>\n      <th>6</th>\n      <td>B</td>\n      <td>after</td>\n      <td>36.1</td>\n    </tr>\n    <tr>\n      <th>7</th>\n      <td>C</td>\n      <td>after</td>\n      <td>36.8</td>\n    </tr>\n    <tr>\n      <th>8</th>\n      <td>D</td>\n      <td>after</td>\n      <td>37.1</td>\n    </tr>\n    <tr>\n      <th>9</th>\n      <td>E</td>\n      <td>after</td>\n      <td>36.9</td>\n    </tr>\n  </tbody>\n</table>\n</div>"
     },
     "execution_count": 2,
     "metadata": {},
     "output_type": "execute_result"
    }
   ],
   "source": [
    "paired_test_data = pd.read_csv('../data/3-9-1-paired-t-test.csv')\n",
    "paired_test_data"
   ],
   "metadata": {
    "collapsed": false
   }
  },
  {
   "cell_type": "markdown",
   "source": [
    "## 対応のあるt検定\n",
    "\n",
    "薬を飲む前と飲んだ後における、体温の差を計算"
   ],
   "metadata": {
    "collapsed": false
   }
  },
  {
   "cell_type": "code",
   "execution_count": 11,
   "outputs": [
    {
     "name": "stdout",
     "output_type": "stream",
     "text": [
      "[ 0.6 -0.1  1.5  1.   0.8]\n",
      "Ttest_1sampResult(statistic=2.901693483620596, pvalue=0.044043109730074276)\n",
      "Ttest_relResult(statistic=2.901693483620596, pvalue=0.044043109730074276)\n"
     ]
    }
   ],
   "source": [
    "# 薬を飲む前と飲んだ後の標本平均\n",
    "before = paired_test_data.query('medicine == \"before\"')['body_temperature']\n",
    "after = paired_test_data.query('medicine == \"after\"')['body_temperature']\n",
    "\n",
    "before = np.array(before)\n",
    "after = np.array(after)\n",
    "\n",
    "diff = after - before\n",
    "print(diff)\n",
    "# t検定 比較対象値=0(差が0であるかを検証するため)\n",
    "# 有意水準: 5%= pvalue<=0.05\n",
    "print(stats.ttest_1samp(diff, 0))\n",
    "print(stats.ttest_rel(after, before))\n",
    "# よって、pvalue<0.05であるため、「薬を飲む前と後の体温は異なる」と主張可能になる"
   ],
   "metadata": {
    "collapsed": false
   }
  },
  {
   "cell_type": "markdown",
   "source": [
    "## 対応の無いt検定\n",
    "\n",
    "- 対応の無いt検定は「平均値の差」に注目する\n",
    "- 対応のあるt検定では「データの差」をとってから1群のt検定を実施した点と異なる\n",
    "\n",
    "$$\n",
    "t値 = \\frac{標本平均-比較対象}{標本偏差/\\sqrt{サンプルサイズ}} = \\frac{標本平均-比較対象}{標準誤差}\n",
    "$$\n",
    "\n",
    "変数xとyの平均値の差を検定するとする。変数xは「大きい針で釣った魚の体長」で変数yは「小さい針で釣った魚の体長」とする。対応の無いt検定のt値は以下のような数式になる\n",
    "\n",
    "$$ t = \\frac{\\hat{\\mu}_x-\\hat{\\mu}_y}{\\sqrt{\\hat{\\sigma^2}_x/m+\\hat{\\sigma^2}_y/m}} $$\n",
    "\n",
    "* `\\hat{\\mu}_x`はxの標本平均で、`\\hat{\\mu}_y`はyの標本平均\n",
    "* mはxのサンプルサイズで、nはyのサンプルサイズ\n",
    "* `\\hat{\\sigma^2}_x`はxの不偏分散で、`\\hat{\\sigma^2}_y`はyの不偏分散\n",
    "\n",
    "基本的には、1群のt検定におけるt値と同様だが、2つの変数で分散が異なっていることを仮定した上で計算をしている。また、2群の場合は、t分布の自由度が複雑になる。`Welch`近似法と呼ばれる方法を使ってp値を計算することになる。"
   ],
   "metadata": {
    "collapsed": false
   }
  },
  {
   "cell_type": "code",
   "execution_count": 13,
   "outputs": [
    {
     "name": "stdout",
     "output_type": "stream",
     "text": [
      "t_value: -3.1557282344421034\n",
      "Ttest_indResult(statistic=3.1557282344421034, pvalue=0.013484775682079892)\n"
     ]
    }
   ],
   "source": [
    "mean_bef = sp.mean(before)\n",
    "mean_aft = sp.mean(after)\n",
    "\n",
    "sigma_bef = sp.var(before, ddof=1)\n",
    "sigma_aft = sp.var(after, ddof=1)\n",
    "\n",
    "m = len(before)\n",
    "n = len(after)\n",
    "# t値\n",
    "t_value = (mean_bef-mean_aft) / sp.sqrt((sigma_bef/m + sigma_aft/n))\n",
    "print(f't_value: {t_value}')\n",
    "# equal_var=False は分散が異なることを仮定したt検定(=Welch)\n",
    "print(stats.ttest_ind(after, before, equal_var=False))"
   ],
   "metadata": {
    "collapsed": false
   }
  },
  {
   "cell_type": "markdown",
   "source": [
    "p値が「対応のあるt検定」の結果と異なっている。\n",
    "同じデータに対して同じ目的の検定を行っても、検定手法が変わるとp値も変わる\n",
    "\n",
    "- 古い統計入門書では、「データの等分散性を検定した後、分散が異なることを仮定したt検定か、分散が等しいことを仮定したt検定を使いわkる」と書かれていた\n",
    "- しかし、当分参加どうか調べるまでもなく、常に分散が異なることを仮定したt検定を使っても問題はない。つまり、常にWelchの検定を使って良い"
   ],
   "metadata": {
    "collapsed": false
   }
  },
  {
   "cell_type": "markdown",
   "source": [
    "## pハッキング\n",
    "\n",
    "- 平均値の差の検定という、1つの目的のためにも、複数の検定手法がある\n",
    "  - Welch\n",
    "  - マンホイットニーのU検定\n",
    "- 悠一成の出やすさは各々の検定手法により異なる\n",
    "- 対応のあるt検定と対応の無いt検定では、p値は異なる\n",
    "  - 有意差が得られるまで、何度も何度も検定の手法を切り替えていく人がいる\n",
    "  - しかし、そのようにして有意差が得られたとして、何の意味があるか。\n",
    "  - 有意差とは、サンプルサイズやデータのばらつきなど特徴を包括的にまとめて意味があるかを判断する考え方である\n",
    "\n",
    "p値という数値にこだわって「自分の欲しい結果を得るための分析」にしてしまうことは最も避けないといけない\n",
    "*分析者は、他の対象にはどうであれ、少なくとも1つ、データにだけは誠実でいなければならない*\n",
    "\n"
   ],
   "metadata": {
    "collapsed": false
   }
  },
  {
   "cell_type": "code",
   "execution_count": null,
   "outputs": [],
   "source": [],
   "metadata": {
    "collapsed": false
   }
  }
 ],
 "metadata": {
  "kernelspec": {
   "display_name": "Python 3",
   "language": "python",
   "name": "python3"
  },
  "language_info": {
   "codemirror_mode": {
    "name": "ipython",
    "version": 2
   },
   "file_extension": ".py",
   "mimetype": "text/x-python",
   "name": "python",
   "nbconvert_exporter": "python",
   "pygments_lexer": "ipython2",
   "version": "2.7.6"
  }
 },
 "nbformat": 4,
 "nbformat_minor": 0
}
