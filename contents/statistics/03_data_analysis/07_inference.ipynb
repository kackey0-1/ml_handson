{
 "cells": [
  {
   "cell_type": "markdown",
   "source": [
    "# 推定"
   ],
   "metadata": {
    "collapsed": false
   }
  },
  {
   "cell_type": "code",
   "execution_count": 16,
   "outputs": [],
   "source": [
    "import numpy as np\n",
    "import pandas as pd\n",
    "import scipy as sp\n",
    "from scipy import stats\n",
    "import matplotlib.pyplot as plt\n",
    "import seaborn as sns\n",
    "\n",
    "sns.set()\n",
    "%precision 3\n",
    "%matplotlib inline\n",
    "\n",
    "import warnings\n",
    "warnings.filterwarnings('ignore')"
   ],
   "metadata": {
    "collapsed": false
   }
  },
  {
   "cell_type": "markdown",
   "source": [
    "## 点推定\n",
    "\n",
    "- 母数をある1つの値として指定する推定方法\n",
    "- 母数を推定する場合、標本平均を推定量として使う\n"
   ],
   "metadata": {
    "collapsed": false
   }
  },
  {
   "cell_type": "code",
   "execution_count": 17,
   "outputs": [
    {
     "name": "stdout",
     "output_type": "stream",
     "text": [
      "標本平均: 4.187039324504523, 不偏分散: 0.6803017080832623\n"
     ]
    }
   ],
   "source": [
    "fish = pd.read_csv('../data/3-7-1-fish_length.csv')['length']\n",
    "# 母平均の点推定値としては、標本平均を利用\n",
    "mu = sp.mean(fish)\n",
    "# 母分散の点推定値としては、不偏分散を利用\n",
    "sigma_2 = sp.var(fish, ddof=1)\n",
    "print(f'標本平均: {mu}, 不偏分散: {sigma_2}')"
   ],
   "metadata": {
    "collapsed": false
   }
  },
  {
   "cell_type": "markdown",
   "source": [
    "## 区間推定\n",
    "\n",
    "* 推定値に幅を持たせた推定方法のことを指す\n",
    "* 幅を持たせることで、推定誤差を加味することが可能になる\n",
    "  * サンプルサイズが大きくなることで、区間推定の幅は小さくなる(=大数の法則)\n",
    "* 信頼係数: 区間推定の幅における信頼度合いを、確率で表現したもの\n",
    "* 信頼区間: ある信頼係数を満たす区間\n",
    "* 信頼限界: 信頼区間の下限値・上限値のこと\n",
    "\n",
    "$$ t = \\frac{\\hat{\\mu}-\\mu}{\\hat{\\sigma}/\\sqrt{N}}\n",
    " = \\frac{標本平均-母平均}{標準誤差} $$\n",
    "\n",
    "信頼区間を95%とするなら、t分布における2.5%点と97.5%点を計算することで求めることができる。\n",
    "t分布に従う変数が、2.5%点と97.5%点の区間に入る確率が95%ということになる\n"
   ],
   "metadata": {
    "collapsed": false
   }
  },
  {
   "cell_type": "code",
   "execution_count": 18,
   "outputs": [
    {
     "name": "stdout",
     "output_type": "stream",
     "text": [
      "3.597010056835825 4.777068592173222\n"
     ]
    },
    {
     "data": {
      "text/plain": "(3.597, 4.777)"
     },
     "execution_count": 18,
     "metadata": {},
     "output_type": "execute_result"
    }
   ],
   "source": [
    "df = len(fish) -1\n",
    "sigma = sp.std(fish, ddof=1)\n",
    "se = sigma / sp.sqrt(len(fish))\n",
    "\n",
    "t_975 = stats.t.ppf(q=0.975, df=df)\n",
    "t_025 = stats.t.ppf(q=0.025, df=df)\n",
    "upper = -(t_025 * se) + mu\n",
    "lower = -(t_975 * se) + mu\n",
    "print(lower, upper)\n",
    "interval = stats.t.interval(\n",
    "    alpha=0.95, df=df, loc=mu, scale=se\n",
    ")\n",
    "interval\n",
    "# 3.597 ~ 4.777 が95%信頼区間"
   ],
   "metadata": {
    "collapsed": false
   }
  },
  {
   "cell_type": "markdown",
   "source": [
    "## 信頼区間の幅を決める要素\n",
    "\n",
    "- 信頼区間の幅が広い(=分散が大きい)というのは、「真の母平均がどこに位置しているのかわからない」ということを指す\n",
    "- サンプルサイズが大きくなることで、標本平均を信頼できるようになるため、信頼区間は狭くなる"
   ],
   "metadata": {
    "collapsed": false
   }
  },
  {
   "cell_type": "code",
   "execution_count": 21,
   "outputs": [
    {
     "name": "stdout",
     "output_type": "stream",
     "text": [
      "(-1.7132533521824609, 10.087332001191507)\n",
      "(4.0233803082774395, 4.350698340731607)\n"
     ]
    }
   ],
   "source": [
    "se2 = (sigma*10)/sp.sqrt(len(fish))\n",
    "print(stats.t.interval(\n",
    "    alpha=0.95, df=df, loc=mu, scale=se2\n",
    "))\n",
    "\n",
    "df2 = (len(fish)*10)-1\n",
    "se3 = sigma/sp.sqrt(len(fish)*10)\n",
    "print(stats.t.interval(\n",
    "    alpha=0.95, df=df2, loc=mu, scale=se3\n",
    "))"
   ],
   "metadata": {
    "collapsed": false
   }
  },
  {
   "cell_type": "markdown",
   "source": [
    "## 区間推定の結果解釈\n",
    "\n",
    "1. 真の母集団分布から標本を抽出する\n",
    "2. 今回と同じやり方で95%信頼区間を計算\n",
    "3. この試行を繰り返す\n",
    "4. 全ての試行のうち、真の母数が信頼区間に含まれている割合が95%になる\n"
   ],
   "metadata": {
    "collapsed": false
   }
  },
  {
   "cell_type": "code",
   "execution_count": 35,
   "outputs": [
    {
     "data": {
      "text/plain": "0.948"
     },
     "execution_count": 35,
     "metadata": {},
     "output_type": "execute_result"
    }
   ],
   "source": [
    "N = 20000\n",
    "be_included_array = np.zeros(N, dtype='bool')\n",
    "# 95%信頼区間を求める試行を 20000 回繰り返す\n",
    "np.random.seed(1)\n",
    "norm_dist = stats.norm(loc=4, scale=0.8)\n",
    "for i in range(0, N):\n",
    "    sample = norm_dist.rvs(size=10)\n",
    "    df = len(sample) -1\n",
    "    mu = sp.mean(sample)\n",
    "    std = sp.std(sample, ddof=1)\n",
    "    se = std / sp.sqrt(len(sample))\n",
    "    interval = stats.t.interval(0.95, df=df, loc=mu, scale=se)\n",
    "    if interval[0] <= 4 <= interval[1]:\n",
    "        be_included_array[i] = True\n",
    "\n",
    "sum(be_included_array) / len(be_included_array)"
   ],
   "metadata": {
    "collapsed": false
   }
  },
  {
   "cell_type": "code",
   "execution_count": null,
   "outputs": [],
   "source": [],
   "metadata": {
    "collapsed": false
   }
  }
 ],
 "metadata": {
  "kernelspec": {
   "display_name": "Python 3",
   "language": "python",
   "name": "python3"
  },
  "language_info": {
   "codemirror_mode": {
    "name": "ipython",
    "version": 2
   },
   "file_extension": ".py",
   "mimetype": "text/x-python",
   "name": "python",
   "nbconvert_exporter": "python",
   "pygments_lexer": "ipython2",
   "version": "2.7.6"
  }
 },
 "nbformat": 4,
 "nbformat_minor": 0
}
