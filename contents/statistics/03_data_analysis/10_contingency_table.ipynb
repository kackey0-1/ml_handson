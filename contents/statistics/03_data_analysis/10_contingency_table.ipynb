{
 "cells": [
  {
   "cell_type": "code",
   "execution_count": 1,
   "outputs": [],
   "source": [
    "import numpy as np\n",
    "import pandas as pd\n",
    "import scipy as sp\n",
    "from scipy import stats\n",
    "import matplotlib.pyplot as plt\n",
    "import seaborn as sns\n",
    "\n",
    "sns.set()\n",
    "%precision 3\n",
    "%matplotlib inline"
   ],
   "metadata": {
    "collapsed": false
   }
  },
  {
   "cell_type": "markdown",
   "source": [
    "# 分割表検定(x^2検定(カイ二乗検定))\n",
    "\n",
    "分割表(クロス集計表)に対する独立性の検定"
   ],
   "metadata": {
    "collapsed": false
   }
  },
  {
   "cell_type": "markdown",
   "source": [
    "## クロス集計表\n",
    "\n",
    "- 観測データを観測度数と呼ぶ\n",
    "- 色によって押されやすさがまったく変わらないことを仮定した結果(=*期待度数*)はどのようになるかをみた上で分析する\n",
    "- 以下は、青いボタンと赤いボタンにおけるクリック率を表している\n",
    "\n",
    "|     | 押した | 押さない | 合計  | クリック率 |\n",
    "|-----|-----|------|-----|-------|\n",
    "| 青   | 25  | 225  | 250 | 10%   |\n",
    "| 赤   | 5   | 45   | 50  | 10%   |\n",
    "| 合計  | 30  | 270  | 300 | 10%   |\n",
    "\n",
    "\n",
    "上記からは、赤いボタンの方がクリック率が高いように見えるが、これが「意味のある」違いだと言えるかを、統計的仮設検定を用いて判断していく(カイ二乗検定を行うためには、期待度数が5以上である必要がある)"
   ],
   "metadata": {
    "collapsed": false
   }
  },
  {
   "cell_type": "markdown",
   "source": [
    "## 期待度数との差を求める\n",
    "\n",
    "$$\n",
    "\\mathcal{X^2} = \\sum_{i=1}^2\\sum_{j=1}^2 x_i \\frac{(O_{ij}-E_{ij})^2}{E_{ij}}\n",
    "$$\n",
    "\n",
    "今回のデータのような2行2列の分割表におけるx^2統計量の標本分布は自由度1のx^2分布に漸近的に従うことが証明されている"
   ],
   "metadata": {
    "collapsed": false
   }
  },
  {
   "cell_type": "code",
   "execution_count": 2,
   "outputs": [
    {
     "data": {
      "text/plain": "0.010"
     },
     "execution_count": 2,
     "metadata": {},
     "output_type": "execute_result"
    }
   ],
   "source": [
    "1 - sp.stats.chi2.cdf(x=6.6666666667, df=1)"
   ],
   "metadata": {
    "collapsed": false
   }
  },
  {
   "cell_type": "code",
   "execution_count": 7,
   "outputs": [
    {
     "data": {
      "text/plain": "  color  click  freq\n0  blue  click    20\n1  blue    not   230\n2   red  click    10\n3   red    not    40",
      "text/html": "<div>\n<style scoped>\n    .dataframe tbody tr th:only-of-type {\n        vertical-align: middle;\n    }\n\n    .dataframe tbody tr th {\n        vertical-align: top;\n    }\n\n    .dataframe thead th {\n        text-align: right;\n    }\n</style>\n<table border=\"1\" class=\"dataframe\">\n  <thead>\n    <tr style=\"text-align: right;\">\n      <th></th>\n      <th>color</th>\n      <th>click</th>\n      <th>freq</th>\n    </tr>\n  </thead>\n  <tbody>\n    <tr>\n      <th>0</th>\n      <td>blue</td>\n      <td>click</td>\n      <td>20</td>\n    </tr>\n    <tr>\n      <th>1</th>\n      <td>blue</td>\n      <td>not</td>\n      <td>230</td>\n    </tr>\n    <tr>\n      <th>2</th>\n      <td>red</td>\n      <td>click</td>\n      <td>10</td>\n    </tr>\n    <tr>\n      <th>3</th>\n      <td>red</td>\n      <td>not</td>\n      <td>40</td>\n    </tr>\n  </tbody>\n</table>\n</div>"
     },
     "execution_count": 7,
     "metadata": {},
     "output_type": "execute_result"
    }
   ],
   "source": [
    "click_data = pd.read_csv('../data/3-10-1-click_data.csv')\n",
    "click_data"
   ],
   "metadata": {
    "collapsed": false
   }
  },
  {
   "cell_type": "code",
   "execution_count": 8,
   "outputs": [
    {
     "data": {
      "text/plain": "click  click  not\ncolor            \nblue      20  230\nred       10   40",
      "text/html": "<div>\n<style scoped>\n    .dataframe tbody tr th:only-of-type {\n        vertical-align: middle;\n    }\n\n    .dataframe tbody tr th {\n        vertical-align: top;\n    }\n\n    .dataframe thead th {\n        text-align: right;\n    }\n</style>\n<table border=\"1\" class=\"dataframe\">\n  <thead>\n    <tr style=\"text-align: right;\">\n      <th>click</th>\n      <th>click</th>\n      <th>not</th>\n    </tr>\n    <tr>\n      <th>color</th>\n      <th></th>\n      <th></th>\n    </tr>\n  </thead>\n  <tbody>\n    <tr>\n      <th>blue</th>\n      <td>20</td>\n      <td>230</td>\n    </tr>\n    <tr>\n      <th>red</th>\n      <td>10</td>\n      <td>40</td>\n    </tr>\n  </tbody>\n</table>\n</div>"
     },
     "execution_count": 8,
     "metadata": {},
     "output_type": "execute_result"
    }
   ],
   "source": [
    "cross = pd.pivot_table(\n",
    "    data=click_data,\n",
    "    values='freq',\n",
    "    aggfunc='sum',\n",
    "    index='color',\n",
    "    columns='click',\n",
    ")\n",
    "cross"
   ],
   "metadata": {
    "collapsed": false
   }
  },
  {
   "cell_type": "code",
   "execution_count": 9,
   "outputs": [
    {
     "data": {
      "text/plain": "(6.667,\n 0.010,\n 1,\n array([[ 25., 225.],\n        [  5.,  45.]]))"
     },
     "execution_count": 9,
     "metadata": {},
     "output_type": "execute_result"
    }
   ],
   "source": [
    "stats.chi2_contingency(cross, correction=False)\n",
    "# [0] : x^2統計量\n",
    "# [1] : p_value\n",
    "# [2] : 期待度数"
   ],
   "metadata": {
    "collapsed": false
   }
  },
  {
   "cell_type": "code",
   "execution_count": null,
   "outputs": [],
   "source": [],
   "metadata": {
    "collapsed": false
   }
  }
 ],
 "metadata": {
  "kernelspec": {
   "display_name": "Python 3",
   "language": "python",
   "name": "python3"
  },
  "language_info": {
   "codemirror_mode": {
    "name": "ipython",
    "version": 2
   },
   "file_extension": ".py",
   "mimetype": "text/x-python",
   "name": "python",
   "nbconvert_exporter": "python",
   "pygments_lexer": "ipython2",
   "version": "2.7.6"
  }
 },
 "nbformat": 4,
 "nbformat_minor": 0
}
