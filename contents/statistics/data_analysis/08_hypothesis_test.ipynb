{
 "cells": [
  {
   "cell_type": "markdown",
   "source": [
    "# 統計的仮設検定"
   ],
   "metadata": {
    "collapsed": false
   }
  },
  {
   "cell_type": "markdown",
   "source": [
    "## 1変量データの t検定\n",
    "\n",
    "* 対象: 平均値\n",
    "* 判定すること: 平均値がある値と異なると言えるか\n",
    "\n",
    "$$\n",
    "t値 = \\frac{標本平均-比較対象値}{標準偏差/\\sqrt{サンプルサイズ\n",
    "}} = \\frac{標本平均-比較対象値}{\\sqrt{標準誤差}}\n",
    "$$\n",
    "\n"
   ],
   "metadata": {
    "collapsed": false
   }
  },
  {
   "cell_type": "code",
   "execution_count": 9,
   "outputs": [],
   "source": [
    "import numpy as np\n",
    "import pandas as pd\n",
    "import scipy as sp\n",
    "from scipy import stats\n",
    "import matplotlib.pyplot as plt\n",
    "import seaborn as sns\n",
    "\n",
    "sns.set()\n",
    "%precision 3\n",
    "%matplotlib inline\n",
    "\n",
    "import warnings\n",
    "warnings.filterwarnings('ignore')"
   ],
   "metadata": {
    "collapsed": false
   }
  },
  {
   "cell_type": "markdown",
   "source": [
    "## 統計的仮設検定\n",
    "\n",
    "* 帰無仮説: 棄却される対象となる最初の仮定\n",
    "* 対立仮説: 帰無仮説に対立する仮説\n",
    "\n",
    "例\n",
    "- 帰無仮説: スナック菓子の平均重量は50gである\n",
    "- 対立仮説: スナック菓子の平均重量は50gと異なる\n",
    "\n",
    "p値: 標本と帰無仮説との矛盾の目安となる指標(p値は確率として表現)\n",
    "\n",
    "* 片側検定: 「スナック菓子の平均重量は50gより小さい」と言ったことを調べる検定方法(大きいということは想定しない」\n",
    "* 両側検定: 「スナック菓子の平均重量は50gと異なる」ということを調べる検定手法"
   ],
   "metadata": {
    "collapsed": false
   }
  },
  {
   "cell_type": "markdown",
   "source": [
    "以下のデータを対象に、1標本のt検定を実行\n",
    "\n",
    "* 帰無仮説: スナック菓子の平均重量は50gである\n",
    "* 対立仮説: スナック菓子の平均重量は50gと異なる\n",
    "* 有意水準: 5% (= p値=0.05を下回れば、帰無仮説は棄却され、スナック菓子の重量は有意に50gと異なると主張できる)"
   ],
   "metadata": {
    "collapsed": false
   }
  },
  {
   "cell_type": "code",
   "execution_count": 17,
   "outputs": [
    {
     "name": "stdout",
     "output_type": "stream",
     "text": [
      "t_value = 2.7503396831713434\n",
      "p_value = 0.012725590012524046\n"
     ]
    }
   ],
   "source": [
    "\n",
    "junk_food = pd.read_csv('../data/3-8-1-junk-food-weight.csv')['weight']\n",
    "\n",
    "mu = sp.mean(junk_food)\n",
    "df = len(junk_food) -1\n",
    "sigma = sp.std(junk_food, ddof=1)\n",
    "se = sigma/sp.sqrt(len(junk_food))\n",
    "# t_value\n",
    "t_value = (mu - 50) / se\n",
    "print(f't_value = {t_value}')\n",
    "# p_value = (1 - alpha) * 2 両側検定ver\n",
    "alpha = stats.t.cdf(t_value, df=df)\n",
    "print(f'p_value = {(1 - alpha) * 2}')\n"
   ],
   "metadata": {
    "collapsed": false
   }
  },
  {
   "cell_type": "code",
   "execution_count": 18,
   "outputs": [
    {
     "data": {
      "text/plain": "Ttest_1sampResult(statistic=2.750339683171343, pvalue=0.012725590012524182)"
     },
     "execution_count": 18,
     "metadata": {},
     "output_type": "execute_result"
    }
   ],
   "source": [
    "# 1標本のt検定を行うための関数\n",
    "# statistic: t_value, pvalue= p_value\n",
    "stats.ttest_1samp(junk_food, 50)"
   ],
   "metadata": {
    "collapsed": false
   }
  },
  {
   "cell_type": "markdown",
   "source": [
    "## p値のシミュレーション\n",
    "\n",
    "* p値は「帰無仮説が正しいと仮定して、何度も標本抽出~t値計算を繰り返した時、t_標本と同じかそれより大きなt値が得られる割合」を意味している\n",
    "* この割合が小さいということは、t_標本を超えることが滅多にないということ\n",
    "* t_標本が十分に大きいと考えられ、有意差が得られるということ\n",
    "\n"
   ],
   "metadata": {
    "collapsed": false
   }
  },
  {
   "cell_type": "code",
   "execution_count": 21,
   "outputs": [
    {
     "data": {
      "text/plain": "0.013"
     },
     "execution_count": 21,
     "metadata": {},
     "output_type": "execute_result"
    }
   ],
   "source": [
    "size = len(junk_food)\n",
    "sigma = sp.std(junk_food, ddof=1)\n",
    "N = 50000\n",
    "t_value_array = np.zeros(N)\n",
    "np.random.seed(1)\n",
    "norm_dist = stats.norm(loc=50, scale=sigma)\n",
    "\n",
    "for i in range(0, N):\n",
    "    sample = norm_dist.rvs(size=size)\n",
    "    sample_mean = sp.mean(sample)\n",
    "    sample_std = sp.std(sample, ddof=1)\n",
    "    sample_se = sample_std / sp.sqrt(size)\n",
    "    t_value_array[i] = (sample_mean -50) / sample_se\n",
    "\n",
    "# 50000個のt値のうち、t_標本を上回った割合\n",
    "# 理論上、Ttest_1sampResult(statistic=2.750339683171343, pvalue=0.012725590012524182)に近似\n",
    "(sum(t_value_array > t_value) / N) *2"
   ],
   "metadata": {
    "collapsed": false
   }
  },
  {
   "cell_type": "code",
   "execution_count": 22,
   "outputs": [
    {
     "data": {
      "text/plain": "count    20.000000\nmean     55.384966\nstd       8.756119\nmin      41.681692\n25%      50.049822\n50%      53.172125\n75%      59.910525\nmax      74.446169\nName: weight, dtype: float64"
     },
     "execution_count": 22,
     "metadata": {},
     "output_type": "execute_result"
    }
   ],
   "source": [
    "junk_food.describe()"
   ],
   "metadata": {
    "collapsed": false
   }
  },
  {
   "cell_type": "code",
   "execution_count": null,
   "outputs": [],
   "source": [],
   "metadata": {
    "collapsed": false
   }
  }
 ],
 "metadata": {
  "kernelspec": {
   "display_name": "Python 3",
   "language": "python",
   "name": "python3"
  },
  "language_info": {
   "codemirror_mode": {
    "name": "ipython",
    "version": 2
   },
   "file_extension": ".py",
   "mimetype": "text/x-python",
   "name": "python",
   "nbconvert_exporter": "python",
   "pygments_lexer": "ipython2",
   "version": "2.7.6"
  }
 },
 "nbformat": 4,
 "nbformat_minor": 0
}
