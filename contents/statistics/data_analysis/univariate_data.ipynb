{
 "cells": [
  {
   "cell_type": "markdown",
   "source": [
    "\n"
   ],
   "metadata": {
    "collapsed": false
   }
  },
  {
   "cell_type": "markdown",
   "source": [
    "# 1変量データ"
   ],
   "metadata": {
    "collapsed": false
   }
  },
  {
   "cell_type": "code",
   "execution_count": 14,
   "outputs": [
    {
     "data": {
      "text/plain": "'%.3f'"
     },
     "execution_count": 14,
     "metadata": {},
     "output_type": "execute_result"
    }
   ],
   "source": [
    "import numpy as np\n",
    "import scipy as sp\n",
    "%precision 3"
   ],
   "metadata": {
    "collapsed": false
   }
  },
  {
   "cell_type": "code",
   "execution_count": 15,
   "outputs": [
    {
     "data": {
      "text/plain": "array([2, 3, 3, 4, 4, 4, 4, 5, 5, 6])"
     },
     "execution_count": 15,
     "metadata": {},
     "output_type": "execute_result"
    }
   ],
   "source": [
    "fish_data = np.array([2,3,3,4,4,4,4,5,5,6])\n",
    "fish_data"
   ],
   "metadata": {
    "collapsed": false
   }
  },
  {
   "cell_type": "code",
   "execution_count": 16,
   "outputs": [
    {
     "name": "stdout",
     "output_type": "stream",
     "text": [
      "sum 40\n",
      "len 10\n"
     ]
    }
   ],
   "source": [
    "# sp.sum(fish_data)\n",
    "# scipy.sum is already deprecated\n",
    "print('sum', fish_data.sum())\n",
    "print('len', len(fish_data))\n"
   ],
   "metadata": {
    "collapsed": false
   }
  },
  {
   "cell_type": "markdown",
   "source": [
    "## 期待値\n",
    "\n",
    "$$\n",
    "  \\mu = \\frac{1}{N} \\sum_{i=1}^N x_i\n",
    "$$"
   ],
   "metadata": {
    "collapsed": false
   }
  },
  {
   "cell_type": "code",
   "execution_count": 12,
   "outputs": [
    {
     "data": {
      "text/plain": "4.000"
     },
     "execution_count": 12,
     "metadata": {},
     "output_type": "execute_result"
    }
   ],
   "source": [
    "\n",
    "N = len(fish_data)\n",
    "sum_value = fish_data.sum() # sp.sum(fish_data)\n",
    "mu = sum_value / N\n",
    "mu"
   ],
   "metadata": {
    "collapsed": false
   }
  },
  {
   "cell_type": "markdown",
   "source": [
    "## 標本分散\n",
    "\n",
    "$$\n",
    "  \\sigma^2 = \\frac{1}{N} \\sum_{i=1}^N (x_i - \\mu)^2\n",
    "$$"
   ],
   "metadata": {
    "collapsed": false
   }
  },
  {
   "cell_type": "code",
   "execution_count": 1,
   "outputs": [
    {
     "ename": "FileNotFoundError",
     "evalue": "[Errno 2] No such file or directory: 'atsumaru_top_page.html'",
     "output_type": "error",
     "traceback": [
      "\u001B[0;31m---------------------------------------------------------------------------\u001B[0m",
      "\u001B[0;31mFileNotFoundError\u001B[0m                         Traceback (most recent call last)",
      "Input \u001B[0;32mIn [1]\u001B[0m, in \u001B[0;36m<cell line: 6>\u001B[0;34m()\u001B[0m\n\u001B[1;32m      3\u001B[0m \u001B[38;5;28;01mimport\u001B[39;00m \u001B[38;5;21;01mpandas\u001B[39;00m \u001B[38;5;28;01mas\u001B[39;00m \u001B[38;5;21;01mpd\u001B[39;00m\n\u001B[1;32m      4\u001B[0m \u001B[38;5;28;01mimport\u001B[39;00m \u001B[38;5;21;01mrequests\u001B[39;00m\n\u001B[0;32m----> 6\u001B[0m \u001B[38;5;28;01mwith\u001B[39;00m \u001B[38;5;28;43mopen\u001B[39;49m\u001B[43m(\u001B[49m\u001B[38;5;124;43m\"\u001B[39;49m\u001B[38;5;124;43matsumaru_top_page.html\u001B[39;49m\u001B[38;5;124;43m\"\u001B[39;49m\u001B[43m,\u001B[49m\u001B[38;5;124;43m\"\u001B[39;49m\u001B[38;5;124;43mr\u001B[39;49m\u001B[38;5;124;43m\"\u001B[39;49m\u001B[43m,\u001B[49m\u001B[43mencoding\u001B[49m\u001B[38;5;241;43m=\u001B[39;49m\u001B[38;5;124;43m'\u001B[39;49m\u001B[38;5;124;43mUTF-8\u001B[39;49m\u001B[38;5;124;43m'\u001B[39;49m\u001B[43m)\u001B[49m \u001B[38;5;28;01mas\u001B[39;00m f:\n\u001B[1;32m      7\u001B[0m     html \u001B[38;5;241m=\u001B[39m f\u001B[38;5;241m.\u001B[39mread()\n\u001B[1;32m      9\u001B[0m soup \u001B[38;5;241m=\u001B[39m BeautifulSoup(html,\u001B[38;5;124m\"\u001B[39m\u001B[38;5;124mlxml\u001B[39m\u001B[38;5;124m\"\u001B[39m)\n",
      "\u001B[0;31mFileNotFoundError\u001B[0m: [Errno 2] No such file or directory: 'atsumaru_top_page.html'"
     ]
    }
   ],
   "source": [
    "from requests import HTTPError\n",
    "from bs4 import BeautifulSoup\n",
    "from time import sleep,time\n",
    "import pandas as pd\n",
    "import requests\n",
    "\n",
    "with open(\"atsumaru_top_page.html\",\"r\",encoding='UTF-8') as f:\n",
    "    html = f.read()\n",
    "\n",
    "soup = BeautifulSoup(html,\"lxml\")\n",
    "base_url = \"https://atsumaru.jp\"\n",
    "a_tags = soup.select(\"h2.bl_card2_ttl > span > a\")\n",
    "print(len(a_tags))\n",
    "d_list = []\n",
    "for i,a_tag in enumerate(a_tags):\n",
    "    detail_url = base_url + a_tag.get(\"href\")\n",
    "    try:\n",
    "        r = requests.get(detail_url)\n",
    "        r.raise_for_status()\n",
    "    except HTTPError as e:\n",
    "        pass\n",
    "        r = requests.get(detail_url)\n",
    "        r.raise_for_status()\n",
    "        detail_soup = BeautifulSoup(r.content,\"lxml\")\n",
    "        company_name = detail_soup.select_one(\"h2.bl_card2_ttl > span\").text\n",
    "        address = detail_soup.select_one(\"td:-soup-contains('地図はこちら') > p\").text\n",
    "        phone = detail_soup.select_one(\"div.telNo>p>strong>a\").text\n",
    "        person_in_charge = detail_soup.select_one(\"div.telNo>p:nth-of-type(2)\").text\n",
    "        d_list.append({\"Company_Name\":company_name,\"Address\":address,\"Phone\": phone,\"担当者\":person_in_charge})\n",
    "        print(\"=\"*30,i,\"=\"*30)\n",
    "        print(d_list[-1])\n"
   ],
   "metadata": {
    "collapsed": false
   }
  },
  {
   "cell_type": "code",
   "execution_count": 7,
   "outputs": [],
   "source": [],
   "metadata": {
    "collapsed": false
   }
  },
  {
   "cell_type": "code",
   "execution_count": 7,
   "outputs": [],
   "source": [],
   "metadata": {
    "collapsed": false
   }
  },
  {
   "cell_type": "code",
   "execution_count": 7,
   "outputs": [],
   "source": [],
   "metadata": {
    "collapsed": false
   }
  },
  {
   "cell_type": "code",
   "execution_count": null,
   "outputs": [],
   "source": [],
   "metadata": {
    "collapsed": false,
    "pycharm": {
     "is_executing": true
    }
   }
  },
  {
   "cell_type": "code",
   "execution_count": null,
   "outputs": [],
   "source": [],
   "metadata": {
    "collapsed": false,
    "pycharm": {
     "is_executing": true
    }
   }
  },
  {
   "cell_type": "code",
   "execution_count": null,
   "outputs": [],
   "source": [],
   "metadata": {
    "collapsed": false,
    "pycharm": {
     "is_executing": true
    }
   }
  },
  {
   "cell_type": "code",
   "execution_count": 7,
   "outputs": [],
   "source": [],
   "metadata": {
    "collapsed": false
   }
  }
 ],
 "metadata": {
  "kernelspec": {
   "display_name": "Python 3",
   "language": "python",
   "name": "python3"
  },
  "language_info": {
   "codemirror_mode": {
    "name": "ipython",
    "version": 2
   },
   "file_extension": ".py",
   "mimetype": "text/x-python",
   "name": "python",
   "nbconvert_exporter": "python",
   "pygments_lexer": "ipython2",
   "version": "2.7.6"
  }
 },
 "nbformat": 4,
 "nbformat_minor": 0
}
