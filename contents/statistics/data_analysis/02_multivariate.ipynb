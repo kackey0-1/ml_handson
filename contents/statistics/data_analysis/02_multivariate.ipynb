{
 "cells": [
  {
   "cell_type": "markdown",
   "source": [
    "# 多変量データ\n"
   ],
   "metadata": {
    "collapsed": false
   }
  },
  {
   "cell_type": "code",
   "execution_count": 44,
   "outputs": [],
   "source": [
    "import scipy as sp\n",
    "import pandas as pd\n",
    "# 表示桁数\n",
    "%precision 3\n",
    "import warnings\n",
    "warnings.filterwarnings('ignore')\n"
   ],
   "metadata": {
    "collapsed": false
   }
  },
  {
   "cell_type": "code",
   "execution_count": 45,
   "metadata": {
    "collapsed": true
   },
   "outputs": [
    {
     "data": {
      "text/plain": "  species  length\n0       A       2\n1       A       3\n2       A       4\n3       B       6\n4       B       8\n5       B      10",
      "text/html": "<div>\n<style scoped>\n    .dataframe tbody tr th:only-of-type {\n        vertical-align: middle;\n    }\n\n    .dataframe tbody tr th {\n        vertical-align: top;\n    }\n\n    .dataframe thead th {\n        text-align: right;\n    }\n</style>\n<table border=\"1\" class=\"dataframe\">\n  <thead>\n    <tr style=\"text-align: right;\">\n      <th></th>\n      <th>species</th>\n      <th>length</th>\n    </tr>\n  </thead>\n  <tbody>\n    <tr>\n      <th>0</th>\n      <td>A</td>\n      <td>2</td>\n    </tr>\n    <tr>\n      <th>1</th>\n      <td>A</td>\n      <td>3</td>\n    </tr>\n    <tr>\n      <th>2</th>\n      <td>A</td>\n      <td>4</td>\n    </tr>\n    <tr>\n      <th>3</th>\n      <td>B</td>\n      <td>6</td>\n    </tr>\n    <tr>\n      <th>4</th>\n      <td>B</td>\n      <td>8</td>\n    </tr>\n    <tr>\n      <th>5</th>\n      <td>B</td>\n      <td>10</td>\n    </tr>\n  </tbody>\n</table>\n</div>"
     },
     "execution_count": 45,
     "metadata": {},
     "output_type": "execute_result"
    }
   ],
   "source": [
    "fish_data = pd.read_csv('../data/3-2-1-fish_multi.csv')\n",
    "fish_data"
   ]
  },
  {
   "cell_type": "code",
   "execution_count": 46,
   "outputs": [
    {
     "name": "stdout",
     "output_type": "stream",
     "text": [
      "## mean ##\n",
      "         length\n",
      "species        \n",
      "A           3.0\n",
      "B           8.0\n",
      "## max ##\n",
      "         length\n",
      "species        \n",
      "A             4\n",
      "B            10\n"
     ]
    }
   ],
   "source": [
    "group = fish_data.groupby('species')\n",
    "print(\"## mean ##\")\n",
    "print(group.mean())\n",
    "print(\"## max ##\")\n",
    "print(group.max())"
   ],
   "metadata": {
    "collapsed": false
   }
  },
  {
   "cell_type": "code",
   "execution_count": 47,
   "outputs": [
    {
     "data": {
      "text/plain": "        length                                    \n         count mean  std  min  25%  50%  75%   max\nspecies                                           \nA          3.0  3.0  1.0  2.0  2.5  3.0  3.5   4.0\nB          3.0  8.0  2.0  6.0  7.0  8.0  9.0  10.0",
      "text/html": "<div>\n<style scoped>\n    .dataframe tbody tr th:only-of-type {\n        vertical-align: middle;\n    }\n\n    .dataframe tbody tr th {\n        vertical-align: top;\n    }\n\n    .dataframe thead tr th {\n        text-align: left;\n    }\n\n    .dataframe thead tr:last-of-type th {\n        text-align: right;\n    }\n</style>\n<table border=\"1\" class=\"dataframe\">\n  <thead>\n    <tr>\n      <th></th>\n      <th colspan=\"8\" halign=\"left\">length</th>\n    </tr>\n    <tr>\n      <th></th>\n      <th>count</th>\n      <th>mean</th>\n      <th>std</th>\n      <th>min</th>\n      <th>25%</th>\n      <th>50%</th>\n      <th>75%</th>\n      <th>max</th>\n    </tr>\n    <tr>\n      <th>species</th>\n      <th></th>\n      <th></th>\n      <th></th>\n      <th></th>\n      <th></th>\n      <th></th>\n      <th></th>\n      <th></th>\n    </tr>\n  </thead>\n  <tbody>\n    <tr>\n      <th>A</th>\n      <td>3.0</td>\n      <td>3.0</td>\n      <td>1.0</td>\n      <td>2.0</td>\n      <td>2.5</td>\n      <td>3.0</td>\n      <td>3.5</td>\n      <td>4.0</td>\n    </tr>\n    <tr>\n      <th>B</th>\n      <td>3.0</td>\n      <td>8.0</td>\n      <td>2.0</td>\n      <td>6.0</td>\n      <td>7.0</td>\n      <td>8.0</td>\n      <td>9.0</td>\n      <td>10.0</td>\n    </tr>\n  </tbody>\n</table>\n</div>"
     },
     "execution_count": 47,
     "metadata": {},
     "output_type": "execute_result"
    }
   ],
   "source": [
    "group.describe()"
   ],
   "metadata": {
    "collapsed": false
   }
  },
  {
   "cell_type": "code",
   "execution_count": 48,
   "outputs": [
    {
     "data": {
      "text/plain": "   store color  sales\n0  tokyo  blue     10\n1  tokyo   red     15\n2  osaka  blue     13\n3  osaka   red      9",
      "text/html": "<div>\n<style scoped>\n    .dataframe tbody tr th:only-of-type {\n        vertical-align: middle;\n    }\n\n    .dataframe tbody tr th {\n        vertical-align: top;\n    }\n\n    .dataframe thead th {\n        text-align: right;\n    }\n</style>\n<table border=\"1\" class=\"dataframe\">\n  <thead>\n    <tr style=\"text-align: right;\">\n      <th></th>\n      <th>store</th>\n      <th>color</th>\n      <th>sales</th>\n    </tr>\n  </thead>\n  <tbody>\n    <tr>\n      <th>0</th>\n      <td>tokyo</td>\n      <td>blue</td>\n      <td>10</td>\n    </tr>\n    <tr>\n      <th>1</th>\n      <td>tokyo</td>\n      <td>red</td>\n      <td>15</td>\n    </tr>\n    <tr>\n      <th>2</th>\n      <td>osaka</td>\n      <td>blue</td>\n      <td>13</td>\n    </tr>\n    <tr>\n      <th>3</th>\n      <td>osaka</td>\n      <td>red</td>\n      <td>9</td>\n    </tr>\n  </tbody>\n</table>\n</div>"
     },
     "execution_count": 48,
     "metadata": {},
     "output_type": "execute_result"
    }
   ],
   "source": [
    "shoes = pd.read_csv('../data/3-2-2-shoes.csv')\n",
    "shoes"
   ],
   "metadata": {
    "collapsed": false
   }
  },
  {
   "cell_type": "code",
   "execution_count": 49,
   "outputs": [
    {
     "data": {
      "text/plain": "color  blue  red\nstore           \nosaka    13    9\ntokyo    10   15",
      "text/html": "<div>\n<style scoped>\n    .dataframe tbody tr th:only-of-type {\n        vertical-align: middle;\n    }\n\n    .dataframe tbody tr th {\n        vertical-align: top;\n    }\n\n    .dataframe thead th {\n        text-align: right;\n    }\n</style>\n<table border=\"1\" class=\"dataframe\">\n  <thead>\n    <tr style=\"text-align: right;\">\n      <th>color</th>\n      <th>blue</th>\n      <th>red</th>\n    </tr>\n    <tr>\n      <th>store</th>\n      <th></th>\n      <th></th>\n    </tr>\n  </thead>\n  <tbody>\n    <tr>\n      <th>osaka</th>\n      <td>13</td>\n      <td>9</td>\n    </tr>\n    <tr>\n      <th>tokyo</th>\n      <td>10</td>\n      <td>15</td>\n    </tr>\n  </tbody>\n</table>\n</div>"
     },
     "execution_count": 49,
     "metadata": {},
     "output_type": "execute_result"
    }
   ],
   "source": [
    "cross = pd.pivot_table(\n",
    "    data=shoes,\n",
    "    values='sales',\n",
    "    aggfunc='sum',\n",
    "    index='store',\n",
    "    columns='color'\n",
    ")\n",
    "cross"
   ],
   "metadata": {
    "collapsed": false
   }
  },
  {
   "cell_type": "markdown",
   "source": [
    "## 共分散\n",
    "\n",
    "- 共分散の特徴\n",
    "    - 共分散が0: 相関関係がない\n",
    "    - 共分散が大きい: 正の相関\n",
    "    - 共分散が小さい: 負の相関\n",
    "\n",
    "$$\n",
    "  \\mathcal{Cov}(x, y) = \\frac{1}{N} \\sum_{i=1}^N (x_i - \\mu_x)(y_i - \\mu_y)\n",
    "$$\n"
   ],
   "metadata": {
    "collapsed": false
   }
  },
  {
   "cell_type": "code",
   "execution_count": 50,
   "outputs": [
    {
     "name": "stdout",
     "output_type": "stream",
     "text": [
      "      x   y\n",
      "0  18.5  34\n",
      "1  18.7  39\n",
      "2  19.1  41\n",
      "3  19.7  38\n",
      "4  21.5  45\n",
      "5  21.7  41\n",
      "6  21.8  52\n",
      "7  22.0  44\n",
      "8  23.4  44\n",
      "9  23.8  49\n",
      "covariance(N) 6.9060000000000015\n",
      "covariance(N-1) 7.673333333333336\n"
     ]
    }
   ],
   "source": [
    "cov_data = pd.read_csv('../data/3-2-3-cov.csv')\n",
    "print(cov_data)\n",
    "N = len(cov_data)\n",
    "x = cov_data['x']\n",
    "y = cov_data['y']\n",
    "mu_x = x.mean()\n",
    "mu_y = y.mean()\n",
    "cov = sum((x - mu_x)*(y - mu_y))/N\n",
    "print(f'covariance(N) {cov}')\n",
    "cov = sum((x - mu_x)*(y - mu_y))/(N-1)\n",
    "print(f'covariance(N-1) {cov}')"
   ],
   "metadata": {
    "collapsed": false
   }
  },
  {
   "cell_type": "code",
   "execution_count": 51,
   "outputs": [
    {
     "name": "stdout",
     "output_type": "stream",
     "text": [
      "######### N ##########\n",
      "[[ 3.282  6.906]\n",
      " [ 6.906 25.21 ]]\n",
      "######## N -1 ########\n",
      "[[ 3.646  7.673]\n",
      " [ 7.673 28.011]]\n"
     ]
    }
   ],
   "source": [
    "# 分散共分散行列\n",
    "print(\"######### N ##########\")\n",
    "print(sp.cov(x, y, ddof=0))\n",
    "print('######## N -1 ########')\n",
    "print(sp.cov(x, y, ddof=1))\n"
   ],
   "metadata": {
    "collapsed": false
   }
  },
  {
   "cell_type": "markdown",
   "source": [
    "## ピアソンの積率相関係数 (相関係数)\n",
    "\n",
    "共分散を、最大値=1、最小値=-1に標準化したもの\n",
    "\n",
    "$$\n",
    "p_{xy} =  \\frac{\\mathcal{Cov}(x, y)}{\\sqrt{\\sigma_x^2\\sigma_y^2}}\n",
    "$$\n",
    "\n",
    "\n",
    "- Min-Max normalization: 最小値0～最大値1にスケーリングする\n",
    "- Z-score normalization: 平均0、分散1にスケーリングする\n",
    "  - 標準化（Standardization）とも呼ばれる\n"
   ],
   "metadata": {
    "collapsed": false
   }
  },
  {
   "cell_type": "code",
   "execution_count": 52,
   "outputs": [
    {
     "name": "stdout",
     "output_type": "stream",
     "text": [
      "0.7592719041137088\n",
      "[[1.    0.759]\n",
      " [0.759 1.   ]]\n"
     ]
    }
   ],
   "source": [
    "# variance\n",
    "sigma_2_x = sp.var(x, ddof=1)\n",
    "sigma_2_y = sp.var(y, ddof=1)\n",
    "# coefficient\n",
    "coefficient = cov/sp.sqrt(sigma_2_x * sigma_2_y)\n",
    "print(coefficient)\n",
    "print(sp.corrcoef(x, y))"
   ],
   "metadata": {
    "collapsed": false
   }
  },
  {
   "cell_type": "code",
   "execution_count": null,
   "outputs": [],
   "source": [],
   "metadata": {
    "collapsed": false
   }
  }
 ],
 "metadata": {
  "kernelspec": {
   "display_name": "Python 3",
   "language": "python",
   "name": "python3"
  },
  "language_info": {
   "codemirror_mode": {
    "name": "ipython",
    "version": 2
   },
   "file_extension": ".py",
   "mimetype": "text/x-python",
   "name": "python",
   "nbconvert_exporter": "python",
   "pygments_lexer": "ipython2",
   "version": "2.7.6"
  }
 },
 "nbformat": 4,
 "nbformat_minor": 0
}
