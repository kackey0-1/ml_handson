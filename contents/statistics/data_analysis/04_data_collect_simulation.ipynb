{
 "cells": [
  {
   "cell_type": "code",
   "execution_count": 27,
   "metadata": {
    "collapsed": true
   },
   "outputs": [],
   "source": [
    "import numpy as np\n",
    "import pandas as pd\n",
    "import scipy as sp\n",
    "from scipy import stats\n",
    "import matplotlib.pyplot as plt\n",
    "import seaborn as sns\n",
    "\n",
    "sns.set()\n",
    "\n",
    "%precision 3\n",
    "%matplotlib inline\n",
    "\n",
    "import warnings\n",
    "warnings.filterwarnings('ignore')"
   ]
  },
  {
   "cell_type": "markdown",
   "source": [
    "# 母集団から標本抽出するシミュレーション"
   ],
   "metadata": {
    "collapsed": false
   }
  },
  {
   "cell_type": "code",
   "execution_count": 28,
   "outputs": [
    {
     "data": {
      "text/plain": "array([6, 2, 3])"
     },
     "execution_count": 28,
     "metadata": {},
     "output_type": "execute_result"
    }
   ],
   "source": [
    "# randomに3件抽出\n",
    "\n",
    "fish_5 = np.array([2,3,4,5,6])\n",
    "np.random.choice(fish_5, size=3, replace=False)"
   ],
   "metadata": {
    "collapsed": false
   }
  },
  {
   "cell_type": "markdown",
   "source": [
    "- 復元抽出 : 抽出した標本を再度母集団に戻してから抽出するサンプリング\n",
    "- 非復元抽出 : 抽出した標本は戻さない"
   ],
   "metadata": {
    "collapsed": false
   }
  },
  {
   "cell_type": "code",
   "execution_count": 29,
   "outputs": [
    {
     "data": {
      "text/plain": "              length\ncount  100000.000000\nmean        4.000000\nstd         0.800004\nmin         0.528488\n25%         3.460429\n50%         4.000599\n75%         4.536513\nmax         7.335865",
      "text/html": "<div>\n<style scoped>\n    .dataframe tbody tr th:only-of-type {\n        vertical-align: middle;\n    }\n\n    .dataframe tbody tr th {\n        vertical-align: top;\n    }\n\n    .dataframe thead th {\n        text-align: right;\n    }\n</style>\n<table border=\"1\" class=\"dataframe\">\n  <thead>\n    <tr style=\"text-align: right;\">\n      <th></th>\n      <th>length</th>\n    </tr>\n  </thead>\n  <tbody>\n    <tr>\n      <th>count</th>\n      <td>100000.000000</td>\n    </tr>\n    <tr>\n      <th>mean</th>\n      <td>4.000000</td>\n    </tr>\n    <tr>\n      <th>std</th>\n      <td>0.800004</td>\n    </tr>\n    <tr>\n      <th>min</th>\n      <td>0.528488</td>\n    </tr>\n    <tr>\n      <th>25%</th>\n      <td>3.460429</td>\n    </tr>\n    <tr>\n      <th>50%</th>\n      <td>4.000599</td>\n    </tr>\n    <tr>\n      <th>75%</th>\n      <td>4.536513</td>\n    </tr>\n    <tr>\n      <th>max</th>\n      <td>7.335865</td>\n    </tr>\n  </tbody>\n</table>\n</div>"
     },
     "execution_count": 29,
     "metadata": {},
     "output_type": "execute_result"
    }
   ],
   "source": [
    "fish_100000 = pd.read_csv('../data/3-4-1-fish_length_100000.csv')\n",
    "fish_100000.describe()"
   ],
   "metadata": {
    "collapsed": false
   }
  },
  {
   "cell_type": "code",
   "execution_count": 30,
   "outputs": [
    {
     "data": {
      "text/plain": "array([3.892, 3.86 , 3.95 , 4.869, 4.151, 4.57 , 4.695, 5.125, 2.608,\n       5.344])"
     },
     "execution_count": 30,
     "metadata": {},
     "output_type": "execute_result"
    }
   ],
   "source": [
    "sampling_result = np.random.choice(fish_100000['length'], size=10, replace=False)\n",
    "sampling_result"
   ],
   "metadata": {
    "collapsed": false
   }
  },
  {
   "cell_type": "markdown",
   "source": [
    "## 母集団分布"
   ],
   "metadata": {
    "collapsed": false
   }
  },
  {
   "cell_type": "code",
   "execution_count": 40,
   "outputs": [
    {
     "name": "stdout",
     "output_type": "stream",
     "text": [
      "4.000000000000001\n",
      "0.8000040000300002\n",
      "0.6400064000640006\n"
     ]
    }
   ],
   "source": [
    "np_fish_100000 = fish_100000['length']\n",
    "print(sp.mean(np_fish_100000))\n",
    "print(sp.std(np_fish_100000, ddof=1))\n",
    "print(sp.var(np_fish_100000, ddof=1))"
   ],
   "metadata": {
    "collapsed": false
   }
  },
  {
   "cell_type": "code",
   "execution_count": 41,
   "outputs": [
    {
     "data": {
      "text/plain": "<AxesSubplot:ylabel='Count'>"
     },
     "execution_count": 41,
     "metadata": {},
     "output_type": "execute_result"
    },
    {
     "data": {
      "text/plain": "<Figure size 432x288 with 1 Axes>",
      "image/png": "[encoded data removed]"
     },
     "metadata": {
      "needs_background": "light"
     },
     "output_type": "display_data"
    }
   ],
   "source": [
    "sns.histplot(\n",
    "    fish_100000,\n",
    "    kde=True,\n",
    ")"
   ],
   "metadata": {
    "collapsed": false
   }
  },
  {
   "cell_type": "markdown",
   "source": [
    "## 母集団分布と正規分布の確率密度関数比較\n",
    "\n"
   ],
   "metadata": {
    "collapsed": false
   }
  },
  {
   "cell_type": "code",
   "execution_count": null,
   "outputs": [],
   "source": [],
   "metadata": {
    "collapsed": false
   }
  },
  {
   "cell_type": "code",
   "execution_count": null,
   "outputs": [],
   "source": [],
   "metadata": {
    "collapsed": false
   }
  },
  {
   "cell_type": "code",
   "execution_count": null,
   "outputs": [],
   "source": [],
   "metadata": {
    "collapsed": false
   }
  },
  {
   "cell_type": "code",
   "execution_count": null,
   "outputs": [],
   "source": [],
   "metadata": {
    "collapsed": false
   }
  }
 ],
 "metadata": {
  "kernelspec": {
   "display_name": "Python 3",
   "language": "python",
   "name": "python3"
  },
  "language_info": {
   "codemirror_mode": {
    "name": "ipython",
    "version": 2
   },
   "file_extension": ".py",
   "mimetype": "text/x-python",
   "name": "python",
   "nbconvert_exporter": "python",
   "pygments_lexer": "ipython2",
   "version": "2.7.6"
  }
 },
 "nbformat": 4,
 "nbformat_minor": 0
}
