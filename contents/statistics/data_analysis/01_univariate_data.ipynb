{
 "cells": [
  {
   "cell_type": "markdown",
   "source": [
    "\n"
   ],
   "metadata": {
    "collapsed": false
   }
  },
  {
   "cell_type": "markdown",
   "source": [
    "# 1変量データ"
   ],
   "metadata": {
    "collapsed": false
   }
  },
  {
   "cell_type": "code",
   "execution_count": 1,
   "outputs": [
    {
     "data": {
      "text/plain": "'%.3f'"
     },
     "execution_count": 1,
     "metadata": {},
     "output_type": "execute_result"
    }
   ],
   "source": [
    "import numpy as np\n",
    "import scipy as sp\n",
    "%precision 3"
   ],
   "metadata": {
    "collapsed": false
   }
  },
  {
   "cell_type": "code",
   "execution_count": 2,
   "outputs": [
    {
     "data": {
      "text/plain": "array([2, 3, 3, 4, 4, 4, 4, 5, 5, 6])"
     },
     "execution_count": 2,
     "metadata": {},
     "output_type": "execute_result"
    }
   ],
   "source": [
    "fish_data = np.array([2,3,3,4,4,4,4,5,5,6])\n",
    "fish_data"
   ],
   "metadata": {
    "collapsed": false
   }
  },
  {
   "cell_type": "code",
   "execution_count": 3,
   "outputs": [
    {
     "name": "stdout",
     "output_type": "stream",
     "text": [
      "sum 40\n",
      "len 10\n"
     ]
    }
   ],
   "source": [
    "# sp.sum(fish_data)\n",
    "# scipy.sum is already deprecated\n",
    "print('sum', fish_data.sum())\n",
    "print('len', len(fish_data))\n"
   ],
   "metadata": {
    "collapsed": false
   }
  },
  {
   "cell_type": "markdown",
   "source": [
    "## 期待値\n",
    "\n",
    "$$\n",
    "  \\mu = \\frac{1}{N} \\sum_{i=1}^N x_i\n",
    "$$"
   ],
   "metadata": {
    "collapsed": false
   }
  },
  {
   "cell_type": "code",
   "execution_count": 7,
   "outputs": [
    {
     "data": {
      "text/plain": "4.000"
     },
     "execution_count": 7,
     "metadata": {},
     "output_type": "execute_result"
    }
   ],
   "source": [
    "N = len(fish_data)\n",
    "sum_value = fish_data.sum() # sp.sum(fish_data)\n",
    "mu = sum_value / N\n",
    "mu"
   ],
   "metadata": {
    "collapsed": false
   }
  },
  {
   "cell_type": "markdown",
   "source": [
    "## 標本分散\n",
    "\n",
    "データが平均値からどれほど離れているか\n",
    "\n",
    "$$\n",
    "  \\sigma^2 = \\frac{1}{N} \\sum_{i=1}^N (x_i - \\mu)^2\n",
    "$$"
   ],
   "metadata": {
    "collapsed": false
   }
  },
  {
   "cell_type": "code",
   "execution_count": 18,
   "outputs": [
    {
     "data": {
      "text/plain": "1.200"
     },
     "execution_count": 18,
     "metadata": {},
     "output_type": "execute_result"
    }
   ],
   "source": [
    "sigma_2_sample = ((fish_data - mu) ** 2).sum() / N\n",
    "sigma_2_sample"
   ],
   "metadata": {
    "collapsed": false
   }
  },
  {
   "cell_type": "markdown",
   "source": [
    "## 不偏分散\n",
    "\n",
    "- 標本分散は、標本平均を使って分散を計算した値\n",
    "- 標本分散は、分散を過小に見積もってしまうバイアスが存在している\n",
    "\n",
    "上記のバイアスをなくしたものが不偏分散\n",
    "\n",
    "$$\n",
    "  \\sigma^2 = \\frac{1}{N-1} \\sum_{i=1}^N (x_i - \\mu)^2\n",
    "$$"
   ],
   "metadata": {
    "collapsed": false
   }
  },
  {
   "cell_type": "code",
   "execution_count": 20,
   "outputs": [
    {
     "data": {
      "text/plain": "1.333"
     },
     "execution_count": 20,
     "metadata": {},
     "output_type": "execute_result"
    }
   ],
   "source": [
    "sigma_2 = ((fish_data - mu) ** 2).sum() / (N -1)\n",
    "sigma_2"
   ],
   "metadata": {
    "collapsed": false
   }
  },
  {
   "cell_type": "markdown",
   "source": [
    "## 標準偏差\n",
    "\n",
    "$$\n",
    "  \\sigma = \\sqrt{\\sigma^2} = \\sqrt{\\frac{1}{N-1} \\sum_{i=1}^N (x_i - \\mu)^2}\n",
    "$$\n"
   ],
   "metadata": {
    "collapsed": false
   }
  },
  {
   "cell_type": "code",
   "execution_count": 26,
   "outputs": [
    {
     "name": "stderr",
     "output_type": "stream",
     "text": [
      "/var/folders/ht/jxpc68cx6flfn8khw5l066lm0000gn/T/ipykernel_35788/2819162993.py:1: DeprecationWarning: scipy.sqrt is deprecated and will be removed in SciPy 2.0.0, use numpy.lib.scimath.sqrt instead\n",
      "  sigma = sp.sqrt(((fish_data - mu) ** 2).sum() / (N -1))\n"
     ]
    },
    {
     "data": {
      "text/plain": "1.155"
     },
     "execution_count": 26,
     "metadata": {},
     "output_type": "execute_result"
    }
   ],
   "source": [
    "sigma = sp.sqrt(((fish_data - mu) ** 2).sum() / (N -1))\n",
    "sigma"
   ],
   "metadata": {
    "collapsed": false
   }
  },
  {
   "cell_type": "markdown",
   "source": [
    "## 標準化\n",
    "\n",
    "- データの平均を`0`に、標準偏差を`1`に変換する処理のことをいう\n",
    "- なぜ必要か？\n",
    "  - 平均値が大きな変数や小さな変数が入り混じっている場合、特徴を掴みにくいため標準化してからデータを比較するため"
   ],
   "metadata": {
    "collapsed": false
   }
  },
  {
   "cell_type": "code",
   "execution_count": 43,
   "outputs": [
    {
     "name": "stdout",
     "output_type": "stream",
     "text": [
      "[-2.0, -1.0, -1.0, 0.0, 0.0, 0.0, 0.0, 1.0, 1.0, 2.0]\n",
      "0.0\n",
      "1.0\n",
      "[-1.732 -0.866 -0.866  0.     0.     0.     0.     0.866  0.866  1.732]\n"
     ]
    },
    {
     "name": "stderr",
     "output_type": "stream",
     "text": [
      "/var/folders/ht/jxpc68cx6flfn8khw5l066lm0000gn/T/ipykernel_35788/2796292279.py:5: DeprecationWarning: scipy.std is deprecated and will be removed in SciPy 2.0.0, use numpy.std instead\n",
      "  print(sp.std(fish_data / sigma, ddof=1))\n"
     ]
    }
   ],
   "source": [
    "print((fish_data - mu).tolist())\n",
    "# fish_data - mu の平均は0になる\n",
    "print((fish_data - mu).mean())\n",
    "# 標準偏差を1にするにはデータを一律に標準偏差で割れば良い\n",
    "print(sp.std(fish_data / sigma, ddof=1))\n",
    "standard = (fish_data - mu) / sigma\n",
    "print(standard)\n",
    "# print(standard.mean())\n",
    "# print(sp.std(standard, ddof=1))"
   ],
   "metadata": {
    "collapsed": false
   }
  },
  {
   "cell_type": "code",
   "execution_count": 7,
   "outputs": [],
   "source": [],
   "metadata": {
    "collapsed": false
   }
  }
 ],
 "metadata": {
  "kernelspec": {
   "display_name": "Python 3",
   "language": "python",
   "name": "python3"
  },
  "language_info": {
   "codemirror_mode": {
    "name": "ipython",
    "version": 2
   },
   "file_extension": ".py",
   "mimetype": "text/x-python",
   "name": "python",
   "nbconvert_exporter": "python",
   "pygments_lexer": "ipython2",
   "version": "2.7.6"
  }
 },
 "nbformat": 4,
 "nbformat_minor": 0
}
