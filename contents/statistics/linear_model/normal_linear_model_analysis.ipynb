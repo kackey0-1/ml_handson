{
 "cells": [
  {
   "cell_type": "markdown",
   "source": [
    "# 正規線形モデルによるデータ解析\n",
    "\n",
    "Type2 ANOVAと呼ばれる検定の仕組みを説明\n"
   ],
   "metadata": {
    "collapsed": false
   }
  },
  {
   "cell_type": "code",
   "execution_count": 3,
   "outputs": [],
   "source": [
    "import pandas as pd\n",
    "import statsmodels.api as sm\n",
    "from statsmodels.formula.api import ols"
   ],
   "metadata": {
    "collapsed": false
   }
  },
  {
   "cell_type": "markdown",
   "source": [
    "## モデル選択と「フツーの」分散分析(=Type1 ANOVA)の違い"
   ],
   "metadata": {
    "collapsed": false
   }
  },
  {
   "cell_type": "code",
   "execution_count": 40,
   "outputs": [
    {
     "name": "stdout",
     "output_type": "stream",
     "text": [
      "##### フツーの分散分析 #####\n",
      "            df        sum_sq       mean_sq           F        PR(>F)\n",
      "food       1.0  91095.718662  91095.718662  813.637142  5.774972e-49\n",
      "medicine   1.0  64103.316067  64103.316067  572.549837  1.772710e-42\n",
      "Residual  97.0  10860.227805    111.961111         NaN           NaN\n"
     ]
    }
   ],
   "source": [
    "df = pd.read_csv('./data/data0_linearModel.csv')\n",
    "df['medicine'] = df.medicine.map(dict(yes=1, no=0))\n",
    "model_a = ols('length ~ food + medicine', data=df).fit()\n",
    "model_m = ols('length ~ medicine', data=df).fit()\n",
    "model_f = ols('length ~ food', data=df).fit()\n",
    "print('##### フツーの分散分析 #####')\n",
    "print(sm.stats.anova_lm(model_a, typ=1))"
   ],
   "metadata": {
    "collapsed": false
   }
  },
  {
   "cell_type": "code",
   "execution_count": 41,
   "outputs": [
    {
     "name": "stdout",
     "output_type": "stream",
     "text": [
      "length ~ medicine\n",
      "length ~ food + medicine\n",
      "   df_resid            ssr  df_diff        ss_diff          F        Pr(>F)\n",
      "0      98.0  117921.859389      0.0            NaN        NaN           NaN\n",
      "1      97.0   10860.227805      1.0  107061.631585  956.23945  4.941231e-52\n",
      "length ~ food\n",
      "length ~ food + medicine\n",
      "   df_resid           ssr  df_diff       ss_diff           F        Pr(>F)\n",
      "0      98.0  74963.543872      0.0           NaN         NaN           NaN\n",
      "1      97.0  10860.227805      1.0  64103.316067  572.549837  1.772710e-42\n"
     ]
    }
   ],
   "source": [
    "# モデル選択\n",
    "## 薬の有無が体長にもたらす影響検定\n",
    "print('length ~ medicine')\n",
    "print('length ~ food + medicine')\n",
    "print(sm.stats.anova_lm(model_m, model_a, typ=1))\n",
    "## 餌の量が体長にもたらす影響検定\n",
    "print('length ~ food')\n",
    "print('length ~ food + medicine')\n",
    "print(sm.stats.anova_lm(model_f, model_a, typ=1))"
   ],
   "metadata": {
    "collapsed": false
   }
  },
  {
   "cell_type": "markdown",
   "source": [
    "- 最後に入れた説明変数(medicine)の検定結果は、モデル選択でも「フツーの」分散分析(=Type1 ANOVA)でも変わらない\n",
    "- 最初に入れた説明変数(food)の検定結果は、モデル選択と「フツーの」分散分析(=Type1 ANOVA)で変化する(説明変数が3つい上ある場合、途中に入れた説明変数も同様になる)"
   ],
   "metadata": {
    "collapsed": false
   }
  },
  {
   "cell_type": "markdown",
   "source": [
    "## Type1 ANOVAについて\n",
    "\n",
    "説明変数を入れていないmodelとfood説明変数のmodelを比較することで餌の影響を検定すると、「フツーの」分散分析と結果が一致する.\n",
    "\n",
    "しかし、ここでは薬の有無という説明変数が入っていないため、薬の影響を完全に無視してしまっている\n",
    "\n",
    "- Summary\n",
    "    - 餌の量による影響の大きさは model1とmodel2を比較することにより計算される\n",
    "        - ここでは、薬の有無は無視して餌の量を評価している\n",
    "    - 説明変数が3つい上ある場合も同様に説明変数を入れた順番によって影響の大小が変わる\n",
    "\n",
    "$$ model1: 魚の体長 = 切片 + 誤差1 $$\n",
    "$$ model2: 魚の体長 = 餌の効果 + 切片 + 誤差2 $$\n",
    "$$ model3: 魚の体長 = 餌の効果 + 薬の有無 + 切片 + 誤差3 $$\n",
    "\n",
    "よって、説明変数が多いmodelに対して、type1 ANOVAを利用することは望ましくない"
   ],
   "metadata": {
    "collapsed": false
   }
  },
  {
   "cell_type": "code",
   "execution_count": 43,
   "outputs": [
    {
     "name": "stdout",
     "output_type": "stream",
     "text": [
      "   df_resid            ssr  df_diff       ss_diff           F        Pr(>F)\n",
      "0      99.0  166059.262534      0.0           NaN         NaN           NaN\n",
      "1      98.0   74963.543872      1.0  91095.718662  119.089626  1.278970e-18\n"
     ]
    }
   ],
   "source": [
    "# 説明変数を入れていないmodelとfood説明変数のmodelを比較することで餌の影響を検定\n",
    "model_null = ols('length ~ 1', data=df).fit()\n",
    "print(sm.stats.anova_lm(model_null, model_f, typ=1))"
   ],
   "metadata": {
    "collapsed": false
   }
  },
  {
   "cell_type": "markdown",
   "source": [
    "## Type2 ANOVAについて\n",
    "\n",
    "Type2 ANOVAは、各説明変数の影響をその他の説明変数の影響を取り除いて計測するために、\n",
    "\n",
    "$$ model1: 応答変数 = 説明A + 説明B + 説明C + 切片 + 誤差1 $$\n",
    "$$ model2: 応答変数 =        説明B + 説明C + 切片 + 誤差2 $$\n",
    "$$ model3: 応答変数 = 説明A        + 説明C + 切片 + 誤差3 $$\n",
    "$$ model4: 応答変数 = 説明A + 説明B        + 切片 + 誤差4 $$\n",
    "\n",
    "全て、model1とそれ以外のモデルにおいて誤差の大きさを比較することによって検定を行う"
   ],
   "metadata": {
    "collapsed": false
   }
  },
  {
   "cell_type": "code",
   "execution_count": 50,
   "outputs": [
    {
     "data": {
      "text/plain": "                 sum_sq    df           F        PR(>F)\nfood      107061.631585   1.0  956.239450  4.941231e-52\nmedicine   64103.316067   1.0  572.549837  1.772710e-42\nResidual   10860.227805  97.0         NaN           NaN",
      "text/html": "<div>\n<style scoped>\n    .dataframe tbody tr th:only-of-type {\n        vertical-align: middle;\n    }\n\n    .dataframe tbody tr th {\n        vertical-align: top;\n    }\n\n    .dataframe thead th {\n        text-align: right;\n    }\n</style>\n<table border=\"1\" class=\"dataframe\">\n  <thead>\n    <tr style=\"text-align: right;\">\n      <th></th>\n      <th>sum_sq</th>\n      <th>df</th>\n      <th>F</th>\n      <th>PR(&gt;F)</th>\n    </tr>\n  </thead>\n  <tbody>\n    <tr>\n      <th>food</th>\n      <td>107061.631585</td>\n      <td>1.0</td>\n      <td>956.239450</td>\n      <td>4.941231e-52</td>\n    </tr>\n    <tr>\n      <th>medicine</th>\n      <td>64103.316067</td>\n      <td>1.0</td>\n      <td>572.549837</td>\n      <td>1.772710e-42</td>\n    </tr>\n    <tr>\n      <th>Residual</th>\n      <td>10860.227805</td>\n      <td>97.0</td>\n      <td>NaN</td>\n      <td>NaN</td>\n    </tr>\n  </tbody>\n</table>\n</div>"
     },
     "execution_count": 50,
     "metadata": {},
     "output_type": "execute_result"
    }
   ],
   "source": [
    "sm.stats.anova_lm(model_a, typ=2)"
   ],
   "metadata": {
    "collapsed": false
   }
  },
  {
   "cell_type": "code",
   "execution_count": 31,
   "outputs": [],
   "source": [],
   "metadata": {
    "collapsed": false
   }
  }
 ],
 "metadata": {
  "kernelspec": {
   "display_name": "Python 3",
   "language": "python",
   "name": "python3"
  },
  "language_info": {
   "codemirror_mode": {
    "name": "ipython",
    "version": 2
   },
   "file_extension": ".py",
   "mimetype": "text/x-python",
   "name": "python",
   "nbconvert_exporter": "python",
   "pygments_lexer": "ipython2",
   "version": "2.7.6"
  }
 },
 "nbformat": 4,
 "nbformat_minor": 0
}
