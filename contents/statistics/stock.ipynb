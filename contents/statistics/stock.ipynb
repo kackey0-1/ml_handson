{
 "cells": [
  {
   "cell_type": "code",
   "execution_count": 18,
   "outputs": [],
   "source": [
    "import numpy as np\n",
    "import pandas as pd\n",
    "import matplotlib.pyplot as plt"
   ],
   "metadata": {
    "collapsed": false
   }
  },
  {
   "cell_type": "code",
   "execution_count": 2,
   "outputs": [],
   "source": [
    "class Account:\n",
    "    def __init__(\n",
    "            self,\n",
    "            base,\n",
    "            interest_rate,\n",
    "            monthly_amount=0,\n",
    "            profit=0,\n",
    "    ):\n",
    "        self.index = 0\n",
    "        self.base = base\n",
    "        self.current = base\n",
    "        self.interest_rate = interest_rate\n",
    "        self.monthly_amount = monthly_amount\n",
    "        self.profit = profit\n",
    "        self.history = pd.DataFrame(\n",
    "            columns=['year', 'month', 'current', 'base', 'profit'],\n",
    "        )\n",
    "\n",
    "    def calc_yearly(self, year, month):\n",
    "        self.profit += (self.current * (1 + (self.interest_rate)) - self.current)\n",
    "        self.current = self.base + self.profit\n",
    "        self.base = self.base + self.monthly_amount\n",
    "        self.history = pd.concat(\n",
    "            [self.history,\n",
    "             pd.DataFrame({\n",
    "                 'year': year,\n",
    "                 'month': 0,\n",
    "                 'current': self.current,\n",
    "                 'base': self.base,\n",
    "                 'profit': self.profit,\n",
    "             })],\n",
    "            ignore_index=True,\n",
    "        )\n",
    "\n",
    "    def calc_monthly(self, year, month):\n",
    "        self.profit += (self.current * self.interest_rate / 12)\n",
    "        self.current = self.base + self.profit\n",
    "        self.base = self.base + self.monthly_amount\n",
    "        temp = pd.DataFrame({\n",
    "            'year': year,\n",
    "            'month': month,\n",
    "            'current': self.current,\n",
    "            'base': self.base,\n",
    "            'profit': self.profit,\n",
    "        }, index=[self.index])\n",
    "        self.history = pd.concat([self.history, temp])\n",
    "        self.index += 1"
   ],
   "metadata": {
    "collapsed": false
   }
  },
  {
   "cell_type": "code",
   "execution_count": 3,
   "metadata": {
    "collapsed": true
   },
   "outputs": [
    {
     "data": {
      "text/plain": "    year month         current     base         profit\n0      1    12  1004166.666667  1000000    4166.666667\n1      1    12  1008350.694444  1000000    8350.694444\n2      1    12  1012552.155671  1000000   12552.155671\n3      1    12  1016771.122987  1000000   16771.122987\n4      1    12  1021007.669332  1000000   21007.669332\n..   ...   ...             ...      ...            ...\n115   10    12  1619842.912978  1000000  619842.912978\n116   10    12  1626592.258449  1000000  626592.258449\n117   10    12  1633369.726192  1000000  633369.726192\n118   10    12  1640175.433385  1000000  640175.433385\n119   10    12   1647009.49769  1000000   647009.49769\n\n[120 rows x 5 columns]",
      "text/html": "<div>\n<style scoped>\n    .dataframe tbody tr th:only-of-type {\n        vertical-align: middle;\n    }\n\n    .dataframe tbody tr th {\n        vertical-align: top;\n    }\n\n    .dataframe thead th {\n        text-align: right;\n    }\n</style>\n<table border=\"1\" class=\"dataframe\">\n  <thead>\n    <tr style=\"text-align: right;\">\n      <th></th>\n      <th>year</th>\n      <th>month</th>\n      <th>current</th>\n      <th>base</th>\n      <th>profit</th>\n    </tr>\n  </thead>\n  <tbody>\n    <tr>\n      <th>0</th>\n      <td>1</td>\n      <td>12</td>\n      <td>1004166.666667</td>\n      <td>1000000</td>\n      <td>4166.666667</td>\n    </tr>\n    <tr>\n      <th>1</th>\n      <td>1</td>\n      <td>12</td>\n      <td>1008350.694444</td>\n      <td>1000000</td>\n      <td>8350.694444</td>\n    </tr>\n    <tr>\n      <th>2</th>\n      <td>1</td>\n      <td>12</td>\n      <td>1012552.155671</td>\n      <td>1000000</td>\n      <td>12552.155671</td>\n    </tr>\n    <tr>\n      <th>3</th>\n      <td>1</td>\n      <td>12</td>\n      <td>1016771.122987</td>\n      <td>1000000</td>\n      <td>16771.122987</td>\n    </tr>\n    <tr>\n      <th>4</th>\n      <td>1</td>\n      <td>12</td>\n      <td>1021007.669332</td>\n      <td>1000000</td>\n      <td>21007.669332</td>\n    </tr>\n    <tr>\n      <th>...</th>\n      <td>...</td>\n      <td>...</td>\n      <td>...</td>\n      <td>...</td>\n      <td>...</td>\n    </tr>\n    <tr>\n      <th>115</th>\n      <td>10</td>\n      <td>12</td>\n      <td>1619842.912978</td>\n      <td>1000000</td>\n      <td>619842.912978</td>\n    </tr>\n    <tr>\n      <th>116</th>\n      <td>10</td>\n      <td>12</td>\n      <td>1626592.258449</td>\n      <td>1000000</td>\n      <td>626592.258449</td>\n    </tr>\n    <tr>\n      <th>117</th>\n      <td>10</td>\n      <td>12</td>\n      <td>1633369.726192</td>\n      <td>1000000</td>\n      <td>633369.726192</td>\n    </tr>\n    <tr>\n      <th>118</th>\n      <td>10</td>\n      <td>12</td>\n      <td>1640175.433385</td>\n      <td>1000000</td>\n      <td>640175.433385</td>\n    </tr>\n    <tr>\n      <th>119</th>\n      <td>10</td>\n      <td>12</td>\n      <td>1647009.49769</td>\n      <td>1000000</td>\n      <td>647009.49769</td>\n    </tr>\n  </tbody>\n</table>\n<p>120 rows × 5 columns</p>\n</div>"
     },
     "execution_count": 3,
     "metadata": {},
     "output_type": "execute_result"
    }
   ],
   "source": [
    "account = Account(\n",
    "    base=1_000_000,\n",
    "    interest_rate=0.05,\n",
    "    # monthly_amount=1_000_000,\n",
    ")\n",
    "N=10\n",
    "for y in range(1, N + 1):\n",
    "    for m in range(1, 13):\n",
    "        account.calc_monthly(y, 12)\n",
    "\n",
    "account.history[account.history['month'] == 12]"
   ]
  },
  {
   "cell_type": "code",
   "execution_count": 31,
   "outputs": [
    {
     "data": {
      "text/plain": "<Figure size 432x288 with 1 Axes>",
      "image/png": "[encoded data removed]"
     },
     "metadata": {
      "needs_background": "light"
     },
     "output_type": "display_data"
    }
   ],
   "source": [
    "percentages = np.array([0.1, 0.2, 0.3, 0.4, 0.5, 0.6, 0.7, 0.8, 0.9])\n",
    "no_cost = 0\n",
    "cost = 100\n",
    "profit = 2300\n",
    "loss = -2500\n",
    "expected = np.zeros(len(percentages))\n",
    "for index, percentage in enumerate(percentages):\n",
    "    expected[index] = (\n",
    "      (loss - cost) * (1 - percentage) +\n",
    "      (profit - cost) * (percentage)\n",
    "    ) / 2\n",
    "\n",
    "plt.plot(percentages, expected, marker='o')\n",
    "for i, value in enumerate(expected):\n",
    "    plt.text(percentages[i], expected[i], value)\n"
   ],
   "metadata": {
    "collapsed": false
   }
  },
  {
   "cell_type": "code",
   "execution_count": 50,
   "outputs": [],
   "source": [],
   "metadata": {
    "collapsed": false
   }
  }
 ],
 "metadata": {
  "kernelspec": {
   "display_name": "Python 3",
   "language": "python",
   "name": "python3"
  },
  "language_info": {
   "codemirror_mode": {
    "name": "ipython",
    "version": 2
   },
   "file_extension": ".py",
   "mimetype": "text/x-python",
   "name": "python",
   "nbconvert_exporter": "python",
   "pygments_lexer": "ipython2",
   "version": "2.7.6"
  }
 },
 "nbformat": 4,
 "nbformat_minor": 0
}
