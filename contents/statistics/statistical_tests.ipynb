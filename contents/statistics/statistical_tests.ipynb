{
 "cells": [
  {
   "cell_type": "markdown",
   "source": [
    "# T検定\n",
    "\n",
    "$$ t　= \\frac{\\bar{x}-\\mu}{\\frac{u}{\\sqrt{n}}} $$\n",
    "\n",
    "- \\bar{x}: 標本平均\n",
    "- \\mu: 母平均\n",
    "- u**2: 不偏分散\n",
    "- n: サンプル数\n"
   ],
   "metadata": {
    "collapsed": false,
    "pycharm": {
     "name": "#%% md\n"
    }
   }
  },
  {
   "cell_type": "code",
   "execution_count": 39,
   "metadata": {
    "pycharm": {
     "name": "#%%\n"
    }
   },
   "outputs": [
    {
     "name": "stdout",
     "output_type": "stream",
     "text": [
      "E(x) = 2.7\n",
      "E(x) = 2.7\n",
      "V(x) = 3.3015148038438356\n",
      "標準誤差: 1.0440306508910548\n",
      "t_value = 2.5861309700971096\n"
     ]
    },
    {
     "data": {
      "text/plain": "Ttest_1sampResult(statistic=2.5861309700971096, pvalue=0.02939946072683463)"
     },
     "execution_count": 39,
     "metadata": {},
     "output_type": "execute_result"
    }
   ],
   "source": [
    "import numpy as np\n",
    "import scipy.stats as st\n",
    "\n",
    "data = np.array([-1, -1, 0, 0, 1, 3, 5, 6, 7, 7])\n",
    "kitaichi = sum(data)/len(data)\n",
    "print(f'E(x) = {kitaichi}')\n",
    "\n",
    "print(f'E(x) = {np.mean(data)}')\n",
    "\n",
    "hyojunGosa = np.sqrt(np.var(data, ddof=1) / len(data))\n",
    "print(f'V(x) = {np.sqrt(np.var(data, ddof=1))}')\n",
    "print(f'標準誤差: {hyojunGosa}')\n",
    "\n",
    "t_value = (kitaichi - 0) / hyojunGosa\n",
    "print(f't_value = {t_value}')\n",
    "\n",
    "# t_検定\n",
    "# t_value => statistic=2.5861309700971096\n",
    "# p_value => pvalue=0.02939946072683463\n",
    "st.ttest_1samp(data, popmean=0)"
   ]
  },
  {
   "cell_type": "markdown",
   "source": [
    "# ANOVA (Analysis Of Variance)\n",
    "\n",
    "分散分析は、「選択肢を変えることによって、平均値(期待値)が変化するか」を検定したい時に利用する。\n"
   ],
   "metadata": {
    "collapsed": false,
    "pycharm": {
     "name": "#%% md\n"
    }
   }
  },
  {
   "cell_type": "code",
   "execution_count": null,
   "outputs": [],
   "source": [],
   "metadata": {
    "collapsed": false,
    "pycharm": {
     "name": "#%%\n"
    }
   }
  },
  {
   "cell_type": "code",
   "execution_count": null,
   "outputs": [],
   "source": [],
   "metadata": {
    "collapsed": false,
    "pycharm": {
     "name": "#%%\n"
    }
   }
  },
  {
   "cell_type": "code",
   "execution_count": null,
   "outputs": [],
   "source": [],
   "metadata": {
    "collapsed": false,
    "pycharm": {
     "name": "#%%\n"
    }
   }
  }
 ],
 "metadata": {
  "kernelspec": {
   "display_name": "Python 3 (ipykernel)",
   "language": "python",
   "name": "python3"
  },
  "language_info": {
   "codemirror_mode": {
    "name": "ipython",
    "version": 3
   },
   "file_extension": ".py",
   "mimetype": "text/x-python",
   "name": "python",
   "nbconvert_exporter": "python",
   "pygments_lexer": "ipython3",
   "version": "3.8.9"
  }
 },
 "nbformat": 4,
 "nbformat_minor": 1
}