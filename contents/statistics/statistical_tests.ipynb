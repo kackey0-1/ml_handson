{
 "cells": [
  {
   "cell_type": "code",
   "execution_count": 1,
   "outputs": [],
   "source": [
    "import pandas as pd\n",
    "import numpy as np\n",
    "from scipy import stats"
   ],
   "metadata": {
    "collapsed": false
   }
  },
  {
   "cell_type": "markdown",
   "source": [
    "# T検定\n",
    "\n",
    "$$ t　= \\frac{\\bar{x}-\\mu}{\\frac{u}{\\sqrt{n}}} $$\n",
    "\n",
    "- \\bar{x}: 標本平均\n",
    "- \\mu: 母平均\n",
    "- u**2: 不偏分散\n",
    "- n: サンプル数\n"
   ],
   "metadata": {
    "collapsed": false
   }
  },
  {
   "cell_type": "code",
   "execution_count": 2,
   "outputs": [
    {
     "name": "stdout",
     "output_type": "stream",
     "text": [
      "E(x) = 2.7\n",
      "E(x) = 2.7\n",
      "V(x) = 3.3015148038438356\n",
      "標準誤差: 1.0440306508910548\n",
      "t_value = 2.5861309700971096\n"
     ]
    },
    {
     "data": {
      "text/plain": "Ttest_1sampResult(statistic=2.5861309700971096, pvalue=0.02939946072683463)"
     },
     "execution_count": 2,
     "metadata": {},
     "output_type": "execute_result"
    }
   ],
   "source": [
    "data = np.array([-1, -1, 0, 0, 1, 3, 5, 6, 7, 7])\n",
    "kitaichi = sum(data)/len(data)\n",
    "print(f'E(x) = {kitaichi}')\n",
    "\n",
    "print(f'E(x) = {np.mean(data)}')\n",
    "\n",
    "hyojunGosa = np.sqrt(np.var(data, ddof=1) / len(data))\n",
    "print(f'V(x) = {np.sqrt(np.var(data, ddof=1))}')\n",
    "print(f'標準誤差: {hyojunGosa}')\n",
    "\n",
    "t_value = (kitaichi - 0) / hyojunGosa\n",
    "print(f't_value = {t_value}')\n",
    "\n",
    "# t_検定\n",
    "# t_value => statistic=2.5861309700971096\n",
    "# p_value => pvalue=0.02939946072683463\n",
    "stats.ttest_1samp(data, popmean=0)"
   ],
   "metadata": {
    "collapsed": false
   }
  },
  {
   "cell_type": "markdown",
   "source": [
    "# ANOVA (Analysis Of Variance)\n",
    "\n",
    "分散分析は、「選択肢を変えることによって、平均値(期待値)が変化するか」を検定したい時に利用する。\n",
    "\n",
    "$$ F比　= \\frac{効果の大きさ}{誤差の大きさ} = \\frac{効果の分散の大きさ}{誤差の分散の大きさ} $$\n",
    "\n",
    "例: F比を確認することにより、薬による影響が有意になるかを検証する\n",
    "\n",
    "- Sample Code\n",
    "https://www.reneshbedre.com/blog/anova.html\n"
   ],
   "metadata": {
    "collapsed": false
   }
  },
  {
   "cell_type": "code",
   "execution_count": 3,
   "outputs": [
    {
     "name": "stdout",
     "output_type": "stream",
     "text": [
      "#####################################\n",
      "mean: 7.0\n",
      "#####################################\n",
      "mean for each medicine\n",
      "          length\n",
      "medicine        \n",
      "A            3.0\n",
      "B           11.0\n",
      "C            7.0\n",
      "#####################################\n"
     ]
    }
   ],
   "source": [
    "data = {\n",
    "    'length': [2, 4, 10, 12, 6, 8],\n",
    "    'medicine': ['A', 'A', 'B', 'B', 'C', 'C']\n",
    "}\n",
    "medicine_df = pd.DataFrame(data=data)\n",
    "print('#####################################')\n",
    "print('mean: {}'.format(medicine_df['length'].mean()))\n",
    "print('#####################################')\n",
    "print('mean for each medicine')\n",
    "print(medicine_df.groupby('medicine').mean())\n",
    "print('#####################################')"
   ],
   "metadata": {
    "collapsed": false
   }
  },
  {
   "cell_type": "code",
   "execution_count": 4,
   "outputs": [
    {
     "name": "stdout",
     "output_type": "stream",
     "text": [
      "f-value: 16.0, p-value: 0.025094573304390855\n"
     ]
    }
   ],
   "source": [
    "import statsmodels.api as sm\n",
    "fvalue, pvalue = stats.f_oneway(\n",
    "    medicine_df[medicine_df['medicine'] == 'A']['length'],\n",
    "    medicine_df[medicine_df['medicine'] == 'B']['length'],\n",
    "    medicine_df[medicine_df['medicine'] == 'C']['length'],\n",
    ")\n",
    "print('f-value: {}, p-value: {}'.format(fvalue, pvalue))"
   ],
   "metadata": {
    "collapsed": false
   }
  },
  {
   "cell_type": "code",
   "execution_count": 80,
   "outputs": [
    {
     "data": {
      "text/plain": "           df  sum_sq  mean_sq     F    PR(>F)\nmedicine  2.0    64.0     32.0  16.0  0.025095\nResidual  3.0     6.0      2.0   NaN       NaN",
      "text/html": "<div>\n<style scoped>\n    .dataframe tbody tr th:only-of-type {\n        vertical-align: middle;\n    }\n\n    .dataframe tbody tr th {\n        vertical-align: top;\n    }\n\n    .dataframe thead th {\n        text-align: right;\n    }\n</style>\n<table border=\"1\" class=\"dataframe\">\n  <thead>\n    <tr style=\"text-align: right;\">\n      <th></th>\n      <th>df</th>\n      <th>sum_sq</th>\n      <th>mean_sq</th>\n      <th>F</th>\n      <th>PR(&gt;F)</th>\n    </tr>\n  </thead>\n  <tbody>\n    <tr>\n      <th>medicine</th>\n      <td>2.0</td>\n      <td>64.0</td>\n      <td>32.0</td>\n      <td>16.0</td>\n      <td>0.025095</td>\n    </tr>\n    <tr>\n      <th>Residual</th>\n      <td>3.0</td>\n      <td>6.0</td>\n      <td>2.0</td>\n      <td>NaN</td>\n      <td>NaN</td>\n    </tr>\n  </tbody>\n</table>\n</div>"
     },
     "execution_count": 80,
     "metadata": {},
     "output_type": "execute_result"
    }
   ],
   "source": [
    "from statsmodels.formula.api import ols\n",
    "\n",
    "model = ols('length ~ medicine', data=medicine_df).fit()\n",
    "# anova_table = sm.stats.anova_lm(model, typ=2)\n",
    "anova_table = sm.stats.anova_lm(model, typ=1)\n",
    "# sum sq: 偏差平方和\n",
    "# df: 自由度\n",
    "# F: f-value\n",
    "# PR(>F): p-value\n",
    "# Residual: 残差\n",
    "anova_table"
   ],
   "metadata": {
    "collapsed": false
   }
  },
  {
   "cell_type": "markdown",
   "source": [
    "# 分散分析とモデル選択\n",
    "\n",
    "上記のANOVA(=分散分析)では、以下のようなモデルを現した\n",
    "\n",
    "$$ この魚の体長 = 平均の魚の体長 + 薬による上方(下方)効果 + 効果 $$\n",
    "\n",
    "例えば、以下のようなモデルを比較して、どちらが良いモデルなのかを選択する作業\n",
    "- Model1: この魚の体長 = 平均の魚の体長 + 薬による上方(下方)効果 + 誤差(1)\n",
    "- Model2: この魚の体長 = 平均の魚の体長 + 誤差(2)  --- 薬の効果を誤差内に含むモデル\n",
    "\n",
    "左辺が等しいため: 薬による上方(下方)効果 = 誤差(2) - 誤差(1) が成り立つ\n",
    "\n",
    "よって、薬の効果は、\"薬の影響を無視したモデルの誤差 - 薬の影響を加味したモデルの誤差\" によって求めることが可能\n",
    "\n",
    "$$ model1: x_{ij} = \\beta_0 + \\beta_i + \\epsilon{ij} $$\n",
    "$$ model2: x_{ij} = \\beta_0 + \\epsilon{ij} $$\n",
    "\n",
    "```\n",
    "\\beta_0: 期待値\n",
    "\\beta_i: 薬iの効果\n",
    "\\epsilon_{ij} 薬iのj番目の誤差\n",
    "```\n"
   ],
   "metadata": {
    "collapsed": false
   }
  },
  {
   "cell_type": "code",
   "execution_count": 81,
   "outputs": [
    {
     "data": {
      "text/plain": "   df_resid   ssr  df_diff  ss_diff     F    Pr(>F)\n0       5.0  70.0      0.0      NaN   NaN       NaN\n1       3.0   6.0      2.0     64.0  16.0  0.025095",
      "text/html": "<div>\n<style scoped>\n    .dataframe tbody tr th:only-of-type {\n        vertical-align: middle;\n    }\n\n    .dataframe tbody tr th {\n        vertical-align: top;\n    }\n\n    .dataframe thead th {\n        text-align: right;\n    }\n</style>\n<table border=\"1\" class=\"dataframe\">\n  <thead>\n    <tr style=\"text-align: right;\">\n      <th></th>\n      <th>df_resid</th>\n      <th>ssr</th>\n      <th>df_diff</th>\n      <th>ss_diff</th>\n      <th>F</th>\n      <th>Pr(&gt;F)</th>\n    </tr>\n  </thead>\n  <tbody>\n    <tr>\n      <th>0</th>\n      <td>5.0</td>\n      <td>70.0</td>\n      <td>0.0</td>\n      <td>NaN</td>\n      <td>NaN</td>\n      <td>NaN</td>\n    </tr>\n    <tr>\n      <th>1</th>\n      <td>3.0</td>\n      <td>6.0</td>\n      <td>2.0</td>\n      <td>64.0</td>\n      <td>16.0</td>\n      <td>0.025095</td>\n    </tr>\n  </tbody>\n</table>\n</div>"
     },
     "execution_count": 81,
     "metadata": {},
     "output_type": "execute_result"
    }
   ],
   "source": [
    "model_1 = ols('length ~ medicine', data=medicine_df).fit()\n",
    "# 効果がない場合、1を入れておく\n",
    "model_2 = ols('length ~ 1', data=medicine_df).fit()\n",
    "# TODO: 以下の順番にmodelを入れないと正確にF-valueを出せない\n",
    "sm.stats.anova_lm(model_2, model_1, typ=1)\n",
    "# df_resid: 誤差の分散の自由度\n",
    "# ssr: 誤差の偏差平方和\n",
    "# ss_diff: 残差平方和の差"
   ],
   "metadata": {
    "collapsed": false
   }
  },
  {
   "cell_type": "markdown",
   "source": [
    "# 回帰分析\n",
    "\n",
    "\"ある値が変化することによって、興味の対象がどれだけ変化するか\"をモデル化する手法\n",
    "\n",
    "例: 最小二乗法が最も一般的だから、とりあえず最小二乗法を利用した回帰モデルを作成\n",
    "\n"
   ],
   "metadata": {
    "collapsed": false
   }
  },
  {
   "cell_type": "code",
   "execution_count": 58,
   "outputs": [
    {
     "name": "stdout",
     "output_type": "stream",
     "text": [
      "切片: 1.9999999999999991\n",
      "傾き: [1.]\n"
     ]
    },
    {
     "data": {
      "text/plain": "<Figure size 432x288 with 1 Axes>",
      "image/png": "[encoded data removed]"
     },
     "metadata": {
      "needs_background": "light"
     },
     "output_type": "display_data"
    }
   ],
   "source": [
    "from sklearn.linear_model import LinearRegression\n",
    "import matplotlib.pyplot as plt\n",
    "\n",
    "data = {\n",
    "    'beer': [4, 3, 5, 5, 8],\n",
    "    'temperature': [1, 2, 3, 4, 5]\n",
    "}\n",
    "\n",
    "beer_df = pd.DataFrame(data=data)\n",
    "X = beer_df['temperature'].values.reshape(-1, 1)\n",
    "y = beer_df['beer']\n",
    "model_a = LinearRegression().fit(X, y)\n",
    "print('切片:', model_a.intercept_)\n",
    "print('傾き:', model_a.coef_)\n",
    "predicted_a = model_a.predict(X)\n",
    "\n",
    "# model_b = ols('beer ~ C(temperature)', data=beer_df).fit()\n",
    "# predicted_b = model_b.predict(beer_df['temperature'])\n",
    "\n",
    "plt.scatter(X, y, c='red')\n",
    "# plt.ylabel(\"beer\")\n",
    "# plt.xlabel(\"temperature\")\n",
    "plt.plot(X, predicted_a, c='blue')\n",
    "# plt.plot(X, predicted_b, c='yellow')\n",
    "plt.show()"
   ],
   "metadata": {
    "collapsed": false
   }
  },
  {
   "cell_type": "markdown",
   "source": [
    "## 回帰分析の検定\n",
    "\n",
    "回帰分析の有意性を確認することで、たまたまでないことを保証するために検定する\n",
    "\n",
    "例: ビールの売り上げは気温の影響を受けていることがたまたまでないことを保証する\n",
    "\n",
    "- 手法\n",
    "    - データを変化と誤差にわける方法(= ANOVAで実施した手法)\n",
    "    - 気温が入っているモデル, 気温が入っていないモデルの残差を比較する(= モデル選択と同様の手法)\n",
    "\n",
    "$$ model_1: ビールの売上 = 気温の効果 + 切片 + 誤差(1) $$\n",
    "$$ model_1: ビールの売上 = 切片 + 誤差(2) $$\n",
    "\n",
    "今回のケースでは、f-value=0.07...となり棄却域に落ちないため、気温による影響を受けると結論できない"
   ],
   "metadata": {
    "collapsed": false
   }
  },
  {
   "cell_type": "code",
   "execution_count": 87,
   "outputs": [
    {
     "data": {
      "text/plain": "              df  sum_sq    mean_sq    F    PR(>F)\ntemperature  1.0    10.0  10.000000  7.5  0.071422\nResidual     3.0     4.0   1.333333  NaN       NaN",
      "text/html": "<div>\n<style scoped>\n    .dataframe tbody tr th:only-of-type {\n        vertical-align: middle;\n    }\n\n    .dataframe tbody tr th {\n        vertical-align: top;\n    }\n\n    .dataframe thead th {\n        text-align: right;\n    }\n</style>\n<table border=\"1\" class=\"dataframe\">\n  <thead>\n    <tr style=\"text-align: right;\">\n      <th></th>\n      <th>df</th>\n      <th>sum_sq</th>\n      <th>mean_sq</th>\n      <th>F</th>\n      <th>PR(&gt;F)</th>\n    </tr>\n  </thead>\n  <tbody>\n    <tr>\n      <th>temperature</th>\n      <td>1.0</td>\n      <td>10.0</td>\n      <td>10.000000</td>\n      <td>7.5</td>\n      <td>0.071422</td>\n    </tr>\n    <tr>\n      <th>Residual</th>\n      <td>3.0</td>\n      <td>4.0</td>\n      <td>1.333333</td>\n      <td>NaN</td>\n      <td>NaN</td>\n    </tr>\n  </tbody>\n</table>\n</div>"
     },
     "execution_count": 87,
     "metadata": {},
     "output_type": "execute_result"
    }
   ],
   "source": [
    "# ANOVA\n",
    "anova = ols('beer ~ temperature', data=beer_df).fit()\n",
    "sm.stats.anova_lm(anova, typ=1)"
   ],
   "metadata": {
    "collapsed": false
   }
  },
  {
   "cell_type": "code",
   "execution_count": 88,
   "outputs": [
    {
     "data": {
      "text/plain": "   df_resid   ssr  df_diff  ss_diff    F    Pr(>F)\n0       4.0  14.0      0.0      NaN  NaN       NaN\n1       3.0   4.0      1.0     10.0  7.5  0.071422",
      "text/html": "<div>\n<style scoped>\n    .dataframe tbody tr th:only-of-type {\n        vertical-align: middle;\n    }\n\n    .dataframe tbody tr th {\n        vertical-align: top;\n    }\n\n    .dataframe thead th {\n        text-align: right;\n    }\n</style>\n<table border=\"1\" class=\"dataframe\">\n  <thead>\n    <tr style=\"text-align: right;\">\n      <th></th>\n      <th>df_resid</th>\n      <th>ssr</th>\n      <th>df_diff</th>\n      <th>ss_diff</th>\n      <th>F</th>\n      <th>Pr(&gt;F)</th>\n    </tr>\n  </thead>\n  <tbody>\n    <tr>\n      <th>0</th>\n      <td>4.0</td>\n      <td>14.0</td>\n      <td>0.0</td>\n      <td>NaN</td>\n      <td>NaN</td>\n      <td>NaN</td>\n    </tr>\n    <tr>\n      <th>1</th>\n      <td>3.0</td>\n      <td>4.0</td>\n      <td>1.0</td>\n      <td>10.0</td>\n      <td>7.5</td>\n      <td>0.071422</td>\n    </tr>\n  </tbody>\n</table>\n</div>"
     },
     "execution_count": 88,
     "metadata": {},
     "output_type": "execute_result"
    }
   ],
   "source": [
    "# モデル選択\n",
    "model_1 = ols('beer ~ temperature', data=beer_df).fit()\n",
    "model_2 = ols('beer ~ 1', data=beer_df).fit()\n",
    "sm.stats.anova_lm(model_2, model_1, typ=1)"
   ],
   "metadata": {
    "collapsed": false
   }
  },
  {
   "cell_type": "markdown",
   "source": [
    "## 決定係数(R^2)について\n",
    "\n",
    "データ全体に占める効果の大きさを表すことが可能になる\n",
    "\n",
    "`R^2 = 1`のとき、すべてをモデルの中に入っている効果で表すことができる\n",
    "\n",
    "$$ R^2 = \\frac{効果の偏差平方和}{誤差の偏差平方和 + 効果の偏差平方和} $$"
   ],
   "metadata": {
    "collapsed": false
   }
  },
  {
   "cell_type": "code",
   "execution_count": 89,
   "outputs": [
    {
     "name": "stderr",
     "output_type": "stream",
     "text": [
      "/Users/k-kakimoto/dev/ml_samples/.venv/lib/python3.8/site-packages/statsmodels/stats/stattools.py:74: ValueWarning: omni_normtest is not valid with less than 8 observations; 5 samples were given.\n",
      "  warn(\"omni_normtest is not valid with less than 8 observations; %i \"\n"
     ]
    },
    {
     "data": {
      "text/plain": "<class 'statsmodels.iolib.summary.Summary'>\n\"\"\"\n                            OLS Regression Results                            \n==============================================================================\nDep. Variable:                   beer   R-squared:                       0.714\nModel:                            OLS   Adj. R-squared:                  0.619\nMethod:                 Least Squares   F-statistic:                     7.500\nDate:                Sun, 18 Sep 2022   Prob (F-statistic):             0.0714\nTime:                        12:09:28   Log-Likelihood:                -6.5368\nNo. Observations:                   5   AIC:                             17.07\nDf Residuals:                       3   BIC:                             16.29\nDf Model:                           1                                         \nCovariance Type:            nonrobust                                         \n===============================================================================\n                  coef    std err          t      P>|t|      [0.025      0.975]\n-------------------------------------------------------------------------------\nIntercept       2.0000      1.211      1.651      0.197      -1.854       5.854\ntemperature     1.0000      0.365      2.739      0.071      -0.162       2.162\n==============================================================================\nOmnibus:                          nan   Durbin-Watson:                   2.500\nProb(Omnibus):                    nan   Jarque-Bera (JB):                0.638\nSkew:                          -0.000   Prob(JB):                        0.727\nKurtosis:                       1.250   Cond. No.                         8.37\n==============================================================================\n\nNotes:\n[1] Standard Errors assume that the covariance matrix of the errors is correctly specified.\n\"\"\"",
      "text/html": "<table class=\"simpletable\">\n<caption>OLS Regression Results</caption>\n<tr>\n  <th>Dep. Variable:</th>          <td>beer</td>       <th>  R-squared:         </th> <td>   0.714</td>\n</tr>\n<tr>\n  <th>Model:</th>                   <td>OLS</td>       <th>  Adj. R-squared:    </th> <td>   0.619</td>\n</tr>\n<tr>\n  <th>Method:</th>             <td>Least Squares</td>  <th>  F-statistic:       </th> <td>   7.500</td>\n</tr>\n<tr>\n  <th>Date:</th>             <td>Sun, 18 Sep 2022</td> <th>  Prob (F-statistic):</th>  <td>0.0714</td> \n</tr>\n<tr>\n  <th>Time:</th>                 <td>12:09:28</td>     <th>  Log-Likelihood:    </th> <td> -6.5368</td>\n</tr>\n<tr>\n  <th>No. Observations:</th>      <td>     5</td>      <th>  AIC:               </th> <td>   17.07</td>\n</tr>\n<tr>\n  <th>Df Residuals:</th>          <td>     3</td>      <th>  BIC:               </th> <td>   16.29</td>\n</tr>\n<tr>\n  <th>Df Model:</th>              <td>     1</td>      <th>                     </th>     <td> </td>   \n</tr>\n<tr>\n  <th>Covariance Type:</th>      <td>nonrobust</td>    <th>                     </th>     <td> </td>   \n</tr>\n</table>\n<table class=\"simpletable\">\n<tr>\n       <td></td>          <th>coef</th>     <th>std err</th>      <th>t</th>      <th>P>|t|</th>  <th>[0.025</th>    <th>0.975]</th>  \n</tr>\n<tr>\n  <th>Intercept</th>   <td>    2.0000</td> <td>    1.211</td> <td>    1.651</td> <td> 0.197</td> <td>   -1.854</td> <td>    5.854</td>\n</tr>\n<tr>\n  <th>temperature</th> <td>    1.0000</td> <td>    0.365</td> <td>    2.739</td> <td> 0.071</td> <td>   -0.162</td> <td>    2.162</td>\n</tr>\n</table>\n<table class=\"simpletable\">\n<tr>\n  <th>Omnibus:</th>       <td>   nan</td> <th>  Durbin-Watson:     </th> <td>   2.500</td>\n</tr>\n<tr>\n  <th>Prob(Omnibus):</th> <td>   nan</td> <th>  Jarque-Bera (JB):  </th> <td>   0.638</td>\n</tr>\n<tr>\n  <th>Skew:</th>          <td>-0.000</td> <th>  Prob(JB):          </th> <td>   0.727</td>\n</tr>\n<tr>\n  <th>Kurtosis:</th>      <td> 1.250</td> <th>  Cond. No.          </th> <td>    8.37</td>\n</tr>\n</table><br/><br/>Notes:<br/>[1] Standard Errors assume that the covariance matrix of the errors is correctly specified."
     },
     "execution_count": 89,
     "metadata": {},
     "output_type": "execute_result"
    }
   ],
   "source": [
    "model_1.summary()"
   ],
   "metadata": {
    "collapsed": false
   }
  },
  {
   "cell_type": "code",
   "execution_count": 90,
   "outputs": [],
   "source": [],
   "metadata": {
    "collapsed": false
   }
  },
  {
   "cell_type": "code",
   "execution_count": null,
   "outputs": [],
   "source": [],
   "metadata": {
    "collapsed": false
   }
  }
 ],
 "metadata": {
  "kernelspec": {
   "display_name": "Python 3 (ipykernel)",
   "language": "python",
   "name": "python3"
  },
  "language_info": {
   "codemirror_mode": {
    "name": "ipython",
    "version": 3
   },
   "file_extension": ".py",
   "mimetype": "text/x-python",
   "name": "python",
   "nbconvert_exporter": "python",
   "pygments_lexer": "ipython3",
   "version": "3.8.9"
  }
 },
 "nbformat": 4,
 "nbformat_minor": 1
}
