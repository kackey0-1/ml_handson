{
 "cells": [
  {
   "cell_type": "markdown",
   "metadata": {
    "id": "C9wiQzjnvfER"
   },
   "source": [
    "# 発展会計"
   ]
  },
  {
   "cell_type": "markdown",
   "metadata": {
    "id": "NZB1AlNSvfET"
   },
   "source": [
    "<div name=\"html-admonition\" style=\"font-size: 0.8em\">\n",
    "<input type=\"button\" onclick=\"location.href='https://translate.google.com/translate?hl=&sl=ja&tl=en&u='+window.location;\" value=\"Google translation\" style=\"color:#ffffff;background-color:#008080; height:25px\" onmouseover=\"this.style.background='#99ccff'\" onmouseout=\"this.style.background='#008080'\"/> in English or the language of your choice.\n",
    "</div><br>"
   ]
  },
  {
   "cell_type": "code",
   "execution_count": 1,
   "metadata": {
    "colab": {
     "base_uri": "https://localhost:8080/",
     "height": 1000
    },
    "executionInfo": {
     "elapsed": 18079,
     "status": "ok",
     "timestamp": 1659700205919,
     "user": {
      "displayName": "Kentaro Kakimoto",
      "userId": "10433744363719433316"
     },
     "user_tz": -540
    },
    "id": "-htzEX2QwmIp",
    "outputId": "424f4dfc-3c4d-4b40-c907-a109d829d759"
   },
   "outputs": [
    {
     "name": "stdout",
     "output_type": "stream",
     "text": [
      "Requirement already satisfied: japanize_matplotlib in /Users/k-kakimoto/dev/ml_samples/.venv/lib/python3.8/site-packages (1.1.3)\n",
      "Requirement already satisfied: matplotlib in /Users/k-kakimoto/dev/ml_samples/.venv/lib/python3.8/site-packages (from japanize_matplotlib) (3.5.2)\n",
      "Requirement already satisfied: pyparsing>=2.2.1 in /Users/k-kakimoto/dev/ml_samples/.venv/lib/python3.8/site-packages (from matplotlib->japanize_matplotlib) (3.0.9)\n",
      "Requirement already satisfied: kiwisolver>=1.0.1 in /Users/k-kakimoto/dev/ml_samples/.venv/lib/python3.8/site-packages (from matplotlib->japanize_matplotlib) (1.4.3)\n",
      "Requirement already satisfied: python-dateutil>=2.7 in /Users/k-kakimoto/dev/ml_samples/.venv/lib/python3.8/site-packages (from matplotlib->japanize_matplotlib) (2.8.2)\n",
      "Requirement already satisfied: cycler>=0.10 in /Users/k-kakimoto/dev/ml_samples/.venv/lib/python3.8/site-packages (from matplotlib->japanize_matplotlib) (0.11.0)\n",
      "Requirement already satisfied: fonttools>=4.22.0 in /Users/k-kakimoto/dev/ml_samples/.venv/lib/python3.8/site-packages (from matplotlib->japanize_matplotlib) (4.33.3)\n",
      "Requirement already satisfied: pillow>=6.2.0 in /Users/k-kakimoto/dev/ml_samples/.venv/lib/python3.8/site-packages (from matplotlib->japanize_matplotlib) (9.1.1)\n",
      "Requirement already satisfied: packaging>=20.0 in /Users/k-kakimoto/dev/ml_samples/.venv/lib/python3.8/site-packages (from matplotlib->japanize_matplotlib) (21.3)\n",
      "Requirement already satisfied: numpy>=1.17 in /Users/k-kakimoto/dev/ml_samples/.venv/lib/python3.8/site-packages (from matplotlib->japanize_matplotlib) (1.22.4)\n",
      "Requirement already satisfied: six>=1.5 in /Users/k-kakimoto/dev/ml_samples/.venv/lib/python3.8/site-packages (from python-dateutil>=2.7->matplotlib->japanize_matplotlib) (1.16.0)\n",
      "\u001b[33mWARNING: You are using pip version 22.0.4; however, version 22.2.1 is available.\n",
      "You should consider upgrading via the '/Users/k-kakimoto/dev/ml_samples/.venv/bin/python -m pip install --upgrade pip' command.\u001b[0m\u001b[33m\n",
      "\u001b[0mNote: you may need to restart the kernel to use updated packages.\n",
      "Requirement already satisfied: py4macro in /Users/k-kakimoto/dev/ml_samples/.venv/lib/python3.8/site-packages (0.6.1)\n",
      "Requirement already satisfied: pandas in /Users/k-kakimoto/dev/ml_samples/.venv/lib/python3.8/site-packages (from py4macro) (1.4.2)\n",
      "Requirement already satisfied: python-dateutil>=2.8.1 in /Users/k-kakimoto/dev/ml_samples/.venv/lib/python3.8/site-packages (from pandas->py4macro) (2.8.2)\n",
      "Requirement already satisfied: numpy>=1.20.0 in /Users/k-kakimoto/dev/ml_samples/.venv/lib/python3.8/site-packages (from pandas->py4macro) (1.22.4)\n",
      "Requirement already satisfied: pytz>=2020.1 in /Users/k-kakimoto/dev/ml_samples/.venv/lib/python3.8/site-packages (from pandas->py4macro) (2022.1)\n",
      "Requirement already satisfied: six>=1.5 in /Users/k-kakimoto/dev/ml_samples/.venv/lib/python3.8/site-packages (from python-dateutil>=2.8.1->pandas->py4macro) (1.16.0)\n",
      "\u001b[33mWARNING: You are using pip version 22.0.4; however, version 22.2.1 is available.\n",
      "You should consider upgrading via the '/Users/k-kakimoto/dev/ml_samples/.venv/bin/python -m pip install --upgrade pip' command.\u001b[0m\u001b[33m\n",
      "\u001b[0mNote: you may need to restart the kernel to use updated packages.\n",
      "Requirement already satisfied: myst-nb in /Users/k-kakimoto/dev/ml_samples/.venv/lib/python3.8/site-packages (0.16.0)\n",
      "Requirement already satisfied: jupyter-cache~=0.5.0 in /Users/k-kakimoto/dev/ml_samples/.venv/lib/python3.8/site-packages (from myst-nb) (0.5.0)\n",
      "Requirement already satisfied: importlib_metadata in /Users/k-kakimoto/dev/ml_samples/.venv/lib/python3.8/site-packages (from myst-nb) (4.12.0)\n",
      "Requirement already satisfied: pyyaml in /Users/k-kakimoto/dev/ml_samples/.venv/lib/python3.8/site-packages (from myst-nb) (6.0)\n",
      "Requirement already satisfied: sphinx<6,>=4 in /Users/k-kakimoto/dev/ml_samples/.venv/lib/python3.8/site-packages (from myst-nb) (5.1.1)\n",
      "Requirement already satisfied: sphinx-togglebutton~=0.3.0 in /Users/k-kakimoto/dev/ml_samples/.venv/lib/python3.8/site-packages (from myst-nb) (0.3.2)\n",
      "Requirement already satisfied: nbformat~=5.0 in /Users/k-kakimoto/dev/ml_samples/.venv/lib/python3.8/site-packages (from myst-nb) (5.4.0)\n",
      "Requirement already satisfied: nbclient in /Users/k-kakimoto/dev/ml_samples/.venv/lib/python3.8/site-packages (from myst-nb) (0.5.13)\n",
      "Requirement already satisfied: typing-extensions in /Users/k-kakimoto/dev/ml_samples/.venv/lib/python3.8/site-packages (from myst-nb) (4.3.0)\n",
      "Requirement already satisfied: ipython in /Users/k-kakimoto/dev/ml_samples/.venv/lib/python3.8/site-packages (from myst-nb) (8.4.0)\n",
      "Requirement already satisfied: myst-parser~=0.18.0 in /Users/k-kakimoto/dev/ml_samples/.venv/lib/python3.8/site-packages (from myst-nb) (0.18.0)\n",
      "Requirement already satisfied: ipykernel in /Users/k-kakimoto/dev/ml_samples/.venv/lib/python3.8/site-packages (from myst-nb) (6.15.1)\n",
      "Requirement already satisfied: click in /Users/k-kakimoto/dev/ml_samples/.venv/lib/python3.8/site-packages (from jupyter-cache~=0.5.0->myst-nb) (8.1.3)\n",
      "Requirement already satisfied: tabulate in /Users/k-kakimoto/dev/ml_samples/.venv/lib/python3.8/site-packages (from jupyter-cache~=0.5.0->myst-nb) (0.8.10)\n",
      "Requirement already satisfied: sqlalchemy<1.5,>=1.3.12 in /Users/k-kakimoto/dev/ml_samples/.venv/lib/python3.8/site-packages (from jupyter-cache~=0.5.0->myst-nb) (1.4.39)\n",
      "Requirement already satisfied: attrs in /Users/k-kakimoto/dev/ml_samples/.venv/lib/python3.8/site-packages (from jupyter-cache~=0.5.0->myst-nb) (22.1.0)\n",
      "Requirement already satisfied: jinja2 in /Users/k-kakimoto/dev/ml_samples/.venv/lib/python3.8/site-packages (from myst-parser~=0.18.0->myst-nb) (3.1.2)\n",
      "Requirement already satisfied: markdown-it-py<3.0.0,>=1.0.0 in /Users/k-kakimoto/dev/ml_samples/.venv/lib/python3.8/site-packages (from myst-parser~=0.18.0->myst-nb) (2.1.0)\n",
      "Requirement already satisfied: docutils<0.19,>=0.15 in /Users/k-kakimoto/dev/ml_samples/.venv/lib/python3.8/site-packages (from myst-parser~=0.18.0->myst-nb) (0.18.1)\n",
      "Requirement already satisfied: mdit-py-plugins~=0.3.0 in /Users/k-kakimoto/dev/ml_samples/.venv/lib/python3.8/site-packages (from myst-parser~=0.18.0->myst-nb) (0.3.0)\n",
      "Requirement already satisfied: jupyter-client>=6.1.5 in /Users/k-kakimoto/dev/ml_samples/.venv/lib/python3.8/site-packages (from nbclient->myst-nb) (7.3.4)\n",
      "Requirement already satisfied: traitlets>=5.0.0 in /Users/k-kakimoto/dev/ml_samples/.venv/lib/python3.8/site-packages (from nbclient->myst-nb) (5.3.0)\n",
      "Requirement already satisfied: nest-asyncio in /Users/k-kakimoto/dev/ml_samples/.venv/lib/python3.8/site-packages (from nbclient->myst-nb) (1.5.5)\n",
      "Requirement already satisfied: jsonschema>=2.6 in /Users/k-kakimoto/dev/ml_samples/.venv/lib/python3.8/site-packages (from nbformat~=5.0->myst-nb) (4.9.0)\n",
      "Requirement already satisfied: jupyter-core in /Users/k-kakimoto/dev/ml_samples/.venv/lib/python3.8/site-packages (from nbformat~=5.0->myst-nb) (4.11.1)\n",
      "Requirement already satisfied: fastjsonschema in /Users/k-kakimoto/dev/ml_samples/.venv/lib/python3.8/site-packages (from nbformat~=5.0->myst-nb) (2.16.1)\n",
      "Requirement already satisfied: babel>=1.3 in /Users/k-kakimoto/dev/ml_samples/.venv/lib/python3.8/site-packages (from sphinx<6,>=4->myst-nb) (2.10.3)\n",
      "Requirement already satisfied: alabaster<0.8,>=0.7 in /Users/k-kakimoto/dev/ml_samples/.venv/lib/python3.8/site-packages (from sphinx<6,>=4->myst-nb) (0.7.12)\n",
      "Requirement already satisfied: sphinxcontrib-jsmath in /Users/k-kakimoto/dev/ml_samples/.venv/lib/python3.8/site-packages (from sphinx<6,>=4->myst-nb) (1.0.1)\n",
      "Requirement already satisfied: imagesize in /Users/k-kakimoto/dev/ml_samples/.venv/lib/python3.8/site-packages (from sphinx<6,>=4->myst-nb) (1.4.1)\n",
      "Requirement already satisfied: requests>=2.5.0 in /Users/k-kakimoto/dev/ml_samples/.venv/lib/python3.8/site-packages (from sphinx<6,>=4->myst-nb) (2.28.1)\n",
      "Requirement already satisfied: sphinxcontrib-applehelp in /Users/k-kakimoto/dev/ml_samples/.venv/lib/python3.8/site-packages (from sphinx<6,>=4->myst-nb) (1.0.2)\n",
      "Requirement already satisfied: sphinxcontrib-devhelp in /Users/k-kakimoto/dev/ml_samples/.venv/lib/python3.8/site-packages (from sphinx<6,>=4->myst-nb) (1.0.2)\n",
      "Requirement already satisfied: sphinxcontrib-qthelp in /Users/k-kakimoto/dev/ml_samples/.venv/lib/python3.8/site-packages (from sphinx<6,>=4->myst-nb) (1.0.3)\n",
      "Requirement already satisfied: snowballstemmer>=1.1 in /Users/k-kakimoto/dev/ml_samples/.venv/lib/python3.8/site-packages (from sphinx<6,>=4->myst-nb) (2.2.0)\n",
      "Requirement already satisfied: sphinxcontrib-serializinghtml>=1.1.5 in /Users/k-kakimoto/dev/ml_samples/.venv/lib/python3.8/site-packages (from sphinx<6,>=4->myst-nb) (1.1.5)\n",
      "Requirement already satisfied: Pygments>=2.0 in /Users/k-kakimoto/dev/ml_samples/.venv/lib/python3.8/site-packages (from sphinx<6,>=4->myst-nb) (2.12.0)\n",
      "Requirement already satisfied: sphinxcontrib-htmlhelp>=2.0.0 in /Users/k-kakimoto/dev/ml_samples/.venv/lib/python3.8/site-packages (from sphinx<6,>=4->myst-nb) (2.0.0)\n",
      "Requirement already satisfied: packaging in /Users/k-kakimoto/dev/ml_samples/.venv/lib/python3.8/site-packages (from sphinx<6,>=4->myst-nb) (21.3)\n",
      "Requirement already satisfied: zipp>=0.5 in /Users/k-kakimoto/dev/ml_samples/.venv/lib/python3.8/site-packages (from importlib_metadata->myst-nb) (3.8.1)\n",
      "Requirement already satisfied: wheel in /Users/k-kakimoto/dev/ml_samples/.venv/lib/python3.8/site-packages (from sphinx-togglebutton~=0.3.0->myst-nb) (0.37.1)\n",
      "Requirement already satisfied: setuptools in /Users/k-kakimoto/dev/ml_samples/.venv/lib/python3.8/site-packages (from sphinx-togglebutton~=0.3.0->myst-nb) (62.1.0)\n",
      "Requirement already satisfied: matplotlib-inline>=0.1 in /Users/k-kakimoto/dev/ml_samples/.venv/lib/python3.8/site-packages (from ipykernel->myst-nb) (0.1.3)\n",
      "Requirement already satisfied: psutil in /Users/k-kakimoto/dev/ml_samples/.venv/lib/python3.8/site-packages (from ipykernel->myst-nb) (5.9.1)\n",
      "Requirement already satisfied: appnope in /Users/k-kakimoto/dev/ml_samples/.venv/lib/python3.8/site-packages (from ipykernel->myst-nb) (0.1.3)\n",
      "Requirement already satisfied: tornado>=6.1 in /Users/k-kakimoto/dev/ml_samples/.venv/lib/python3.8/site-packages (from ipykernel->myst-nb) (6.2)\n",
      "Requirement already satisfied: debugpy>=1.0 in /Users/k-kakimoto/dev/ml_samples/.venv/lib/python3.8/site-packages (from ipykernel->myst-nb) (1.6.2)\n",
      "Requirement already satisfied: pyzmq>=17 in /Users/k-kakimoto/dev/ml_samples/.venv/lib/python3.8/site-packages (from ipykernel->myst-nb) (23.2.0)\n",
      "Requirement already satisfied: pexpect>4.3 in /Users/k-kakimoto/dev/ml_samples/.venv/lib/python3.8/site-packages (from ipython->myst-nb) (4.8.0)\n",
      "Requirement already satisfied: jedi>=0.16 in /Users/k-kakimoto/dev/ml_samples/.venv/lib/python3.8/site-packages (from ipython->myst-nb) (0.18.1)\n",
      "Requirement already satisfied: pickleshare in /Users/k-kakimoto/dev/ml_samples/.venv/lib/python3.8/site-packages (from ipython->myst-nb) (0.7.5)\n",
      "Requirement already satisfied: backcall in /Users/k-kakimoto/dev/ml_samples/.venv/lib/python3.8/site-packages (from ipython->myst-nb) (0.2.0)\n",
      "Requirement already satisfied: decorator in /Users/k-kakimoto/dev/ml_samples/.venv/lib/python3.8/site-packages (from ipython->myst-nb) (5.1.1)\n",
      "Requirement already satisfied: stack-data in /Users/k-kakimoto/dev/ml_samples/.venv/lib/python3.8/site-packages (from ipython->myst-nb) (0.3.0)\n",
      "Requirement already satisfied: prompt-toolkit!=3.0.0,!=3.0.1,<3.1.0,>=2.0.0 in /Users/k-kakimoto/dev/ml_samples/.venv/lib/python3.8/site-packages (from ipython->myst-nb) (3.0.30)\n",
      "Requirement already satisfied: pytz>=2015.7 in /Users/k-kakimoto/dev/ml_samples/.venv/lib/python3.8/site-packages (from babel>=1.3->sphinx<6,>=4->myst-nb) (2022.1)\n",
      "Requirement already satisfied: parso<0.9.0,>=0.8.0 in /Users/k-kakimoto/dev/ml_samples/.venv/lib/python3.8/site-packages (from jedi>=0.16->ipython->myst-nb) (0.8.3)\n",
      "Requirement already satisfied: MarkupSafe>=2.0 in /Users/k-kakimoto/dev/ml_samples/.venv/lib/python3.8/site-packages (from jinja2->myst-parser~=0.18.0->myst-nb) (2.1.1)\n",
      "Requirement already satisfied: pkgutil-resolve-name>=1.3.10 in /Users/k-kakimoto/dev/ml_samples/.venv/lib/python3.8/site-packages (from jsonschema>=2.6->nbformat~=5.0->myst-nb) (1.3.10)\n",
      "Requirement already satisfied: pyrsistent!=0.17.0,!=0.17.1,!=0.17.2,>=0.14.0 in /Users/k-kakimoto/dev/ml_samples/.venv/lib/python3.8/site-packages (from jsonschema>=2.6->nbformat~=5.0->myst-nb) (0.18.1)\n",
      "Requirement already satisfied: importlib-resources>=1.4.0 in /Users/k-kakimoto/dev/ml_samples/.venv/lib/python3.8/site-packages (from jsonschema>=2.6->nbformat~=5.0->myst-nb) (5.9.0)\n",
      "Requirement already satisfied: entrypoints in /Users/k-kakimoto/dev/ml_samples/.venv/lib/python3.8/site-packages (from jupyter-client>=6.1.5->nbclient->myst-nb) (0.4)\n",
      "Requirement already satisfied: python-dateutil>=2.8.2 in /Users/k-kakimoto/dev/ml_samples/.venv/lib/python3.8/site-packages (from jupyter-client>=6.1.5->nbclient->myst-nb) (2.8.2)\n",
      "Requirement already satisfied: mdurl~=0.1 in /Users/k-kakimoto/dev/ml_samples/.venv/lib/python3.8/site-packages (from markdown-it-py<3.0.0,>=1.0.0->myst-parser~=0.18.0->myst-nb) (0.1.1)\n",
      "Requirement already satisfied: ptyprocess>=0.5 in /Users/k-kakimoto/dev/ml_samples/.venv/lib/python3.8/site-packages (from pexpect>4.3->ipython->myst-nb) (0.7.0)\n",
      "Requirement already satisfied: wcwidth in /Users/k-kakimoto/dev/ml_samples/.venv/lib/python3.8/site-packages (from prompt-toolkit!=3.0.0,!=3.0.1,<3.1.0,>=2.0.0->ipython->myst-nb) (0.2.5)\n",
      "Requirement already satisfied: idna<4,>=2.5 in /Users/k-kakimoto/dev/ml_samples/.venv/lib/python3.8/site-packages (from requests>=2.5.0->sphinx<6,>=4->myst-nb) (3.3)\n",
      "Requirement already satisfied: certifi>=2017.4.17 in /Users/k-kakimoto/dev/ml_samples/.venv/lib/python3.8/site-packages (from requests>=2.5.0->sphinx<6,>=4->myst-nb) (2022.6.15)\n",
      "Requirement already satisfied: charset-normalizer<3,>=2 in /Users/k-kakimoto/dev/ml_samples/.venv/lib/python3.8/site-packages (from requests>=2.5.0->sphinx<6,>=4->myst-nb) (2.1.0)\n",
      "Requirement already satisfied: urllib3<1.27,>=1.21.1 in /Users/k-kakimoto/dev/ml_samples/.venv/lib/python3.8/site-packages (from requests>=2.5.0->sphinx<6,>=4->myst-nb) (1.26.11)\n",
      "Requirement already satisfied: pyparsing!=3.0.5,>=2.0.2 in /Users/k-kakimoto/dev/ml_samples/.venv/lib/python3.8/site-packages (from packaging->sphinx<6,>=4->myst-nb) (3.0.9)\n",
      "Requirement already satisfied: asttokens in /Users/k-kakimoto/dev/ml_samples/.venv/lib/python3.8/site-packages (from stack-data->ipython->myst-nb) (2.0.5)\n",
      "Requirement already satisfied: pure-eval in /Users/k-kakimoto/dev/ml_samples/.venv/lib/python3.8/site-packages (from stack-data->ipython->myst-nb) (0.2.2)\n",
      "Requirement already satisfied: executing in /Users/k-kakimoto/dev/ml_samples/.venv/lib/python3.8/site-packages (from stack-data->ipython->myst-nb) (0.9.1)\n",
      "Requirement already satisfied: six>=1.5 in /Users/k-kakimoto/dev/ml_samples/.venv/lib/python3.8/site-packages (from python-dateutil>=2.8.2->jupyter-client>=6.1.5->nbclient->myst-nb) (1.16.0)\n",
      "\u001b[33mWARNING: You are using pip version 22.0.4; however, version 22.2.1 is available.\n",
      "You should consider upgrading via the '/Users/k-kakimoto/dev/ml_samples/.venv/bin/python -m pip install --upgrade pip' command.\u001b[0m\u001b[33m\n",
      "\u001b[0mNote: you may need to restart the kernel to use updated packages.\n"
     ]
    }
   ],
   "source": [
    "%pip install japanize_matplotlib\n",
    "%pip install py4macro\n",
    "%pip install myst-nb"
   ]
  },
  {
   "cell_type": "code",
   "execution_count": 3,
   "metadata": {
    "executionInfo": {
     "elapsed": 375,
     "status": "ok",
     "timestamp": 1659700244358,
     "user": {
      "displayName": "Kentaro Kakimoto",
      "userId": "10433744363719433316"
     },
     "user_tz": -540
    },
    "id": "hD6WLM0SvfET"
   },
   "outputs": [],
   "source": [
    "import japanize_matplotlib\n",
    "import matplotlib.pyplot as plt\n",
    "import numpy as np\n",
    "import pandas as pd\n",
    "import py4macro"
   ]
  },
  {
   "cell_type": "markdown",
   "metadata": {
    "heading_collapsed": true,
    "id": "EmABtVAtvfEU"
   },
   "source": [
    "## はじめに"
   ]
  },
  {
   "cell_type": "markdown",
   "metadata": {
    "hidden": true,
    "id": "7G_LQLCDvfEU"
   },
   "source": [
    "一人当たりGDP（国内総生産）は経済の豊かさを示す一つの尺度として使われるが，下の左の図は2019年の世界経済での一人当たりGDPの分布を示している。日本と他の国・地域との比較を容易にするために、日本の一人当たりGDPを100として相対的な所得分布を表している。日本は38位で、１位であるルクセンブルグの一人当たりGDPは日本のそれより2倍強あり（米国は159.9で10位）、最下位のベネズエラは日本の一人当たりGDPの0.63％である。また、一人当たりGDPが日本の10％に満たない国・地域が107ある。こういった数字が示すように、世界の所得分布は大きな偏りがあり、非常に不平等である。\n",
    "\n",
    "## （問１）なぜある国は豊かで他の国は貧しいのだろうか？"
   ]
  },
  {
   "cell_type": "code",
   "execution_count": 4,
   "metadata": {
    "colab": {
     "base_uri": "https://localhost:8080/",
     "height": 505
    },
    "executionInfo": {
     "elapsed": 1275,
     "status": "ok",
     "timestamp": 1659700245950,
     "user": {
      "displayName": "Kentaro Kakimoto",
      "userId": "10433744363719433316"
     },
     "user_tz": -540
    },
    "hidden": true,
    "id": "YZS_P0DRvfEU",
    "outputId": "4ad723e7-ee70-45e8-9939-32440b0da642",
    "tags": [
     "hide-input"
    ]
   },
   "outputs": [
    {
     "data": {
      "text/plain": [
       "0        False\n",
       "1        False\n",
       "2        False\n",
       "3        False\n",
       "4        False\n",
       "         ...  \n",
       "12805    False\n",
       "12806    False\n",
       "12807    False\n",
       "12808    False\n",
       "12809     True\n",
       "Name: year, Length: 12810, dtype: bool"
      ]
     },
     "metadata": {},
     "output_type": "display_data"
    },
    {
     "data": {
      "image/png": "[encoded data removed]",
      "text/plain": [
       "<Figure size 432x288 with 1 Axes>"
      ]
     },
     "metadata": {
      "needs_background": "light"
     },
     "output_type": "display_data"
    }
   ],
   "source": [
    "# データ\n",
    "df = py4macro.data('pwt')\n",
    "\n",
    "# 一人当たりGDP\n",
    "df['GDPpc'] = df['rgdpe']/df['pop']\n",
    "\n",
    "# 2019だけを取り出す\n",
    "cond = (df['year'] == 2019)\n",
    "df2019 = df.loc[cond, ['country','year','GDPpc']]\n",
    "\n",
    "# 日本の値を抽出\n",
    "jp = df2019.query('country==\"Japan\"')['GDPpc'].to_numpy()\n",
    "\n",
    "# 日本を100として計算\n",
    "df2019['GDPpc_normalized'] = 100*df['GDPpc']/jp\n",
    "\n",
    "# プロット\n",
    "fig, ax = plt.subplots(figsize=(6,4), tight_layout=True)\n",
    "ax.hist(df2019['GDPpc_normalized'], bins=17, edgecolor='black', linewidth=1.2)\n",
    "ax.axvline(100, c='red')\n",
    "ax.set_ylabel('国の数', size=15)\n",
    "ax.set_title(f'日本を100として，2019年, {len(df2019)}の国・地域, PWT10.0', size=16)\n",
    "#fig.suptitle(f'１人当たり実質GDPの分布', size=22)\n",
    "display(cond)"
   ]
  },
  {
   "cell_type": "markdown",
   "metadata": {
    "hidden": true,
    "id": "ex5TkJ7uvfEV"
   },
   "source": [
    "この問いはマクロ経済学の根本的な問いである。この重要な問題を考える上で、経済成長率に関する考察を無視できない。経済成長率とは、一人当たりGDP等の変数がある一定期間（例えば、一年間）にどれだけ変化したかをパーセントで表している。「現在の所得水準は過去に達成した成長率に依存し、またこれからの成長率が将来の所得水準を決定する」という質的な結果は直感的に理解できる。では、成長率と所得水準にはどういった量的な関係があるのだろうか。これを理解するために、{numref}`tab-growth`を見てみよう。\n",
    "\n",
    "\n",
    "```{list-table} 現在の一人当たりGDPを100として\n",
    ":name: tab-growth\n",
    ":header-rows: 1\n",
    "\n",
    "* - 成長率\n",
    "  - 2.0%\n",
    "  - 2.5%\n",
    "  - 3.0%\n",
    "* - 1年後\n",
    "  - 102.0\n",
    "  - 102.5\n",
    "  - 103.0\n",
    "* - 10年後\n",
    "  - 121.9\n",
    "  - 128.0\n",
    "  - 134.4\n",
    "* - 50年後\n",
    "  - 269.2\n",
    "  - 343.7\n",
    "  - 438.4\n",
    "* - 100年後\n",
    "  - 724.5\n",
    "  - 1181.4\n",
    "  - 1921.9\n",
    "```\n",
    "\n",
    "現在の一人当たりGDPを100単位として，３つの異なる率で成長した場合、所得がどう変化するかを示している。2％と3％のケースを考えると、成長率が１％上昇するだけで、100年後の所得は約2.7倍に膨らんでいる。では、実際に各国の成長率はどれほど差があるのだろうか。それを示したのが次の図である。"
   ]
  },
  {
   "cell_type": "code",
   "execution_count": 5,
   "metadata": {
    "colab": {
     "base_uri": "https://localhost:8080/",
     "height": 314
    },
    "executionInfo": {
     "elapsed": 502,
     "status": "ok",
     "timestamp": 1659700246445,
     "user": {
      "displayName": "Kentaro Kakimoto",
      "userId": "10433744363719433316"
     },
     "user_tz": -540
    },
    "hidden": true,
    "id": "YjLLZ55rvfEW",
    "outputId": "c2df2cf2-df4a-4a41-c18e-7b9e1a3481ad",
    "tags": [
     "hide-input"
    ]
   },
   "outputs": [
    {
     "data": {
      "text/plain": [
       "Text(0.5, 1.0, '1960-2019年，111の国・地域, PWT10.0')"
      ]
     },
     "execution_count": 5,
     "metadata": {},
     "output_type": "execute_result"
    },
    {
     "data": {
      "image/png": "[encoded data removed]",
      "text/plain": [
       "<Figure size 432x288 with 1 Axes>"
      ]
     },
     "metadata": {
      "needs_background": "light"
     },
     "output_type": "display_data"
    }
   ],
   "source": [
    "# 一人当たりGDP\n",
    "df['naGDPpc'] = df['rgdpna']/df['pop']\n",
    "\n",
    "# 1960を閾値とする\n",
    "yr = 1960\n",
    "df_growth = df.query('year >= @yr').copy()\n",
    "\n",
    "# yr以降で全ての年でGDPのデータある国・地域を抽出\n",
    "notna_check = lambda x: x.notna().all()\n",
    "cond = df_growth[['country','year','naGDPpc']].groupby('country')['naGDPpc'].transform(notna_check)\n",
    "df_growth = df_growth.loc[cond,:]\n",
    "\n",
    "# 成長率の計算\n",
    "def fun(col):\n",
    "    return 100 * ( (col.iat[-1]/col.iat[0])**(1/len(col))-1 )\n",
    "growth = df_growth.groupby('country')[['naGDPpc']].agg(fun)\n",
    "# # 日本の平均成長率\n",
    "jp_growth = growth.loc['Japan',:][0]\n",
    "\n",
    "# # プロット\n",
    "fig, ax = plt.subplots(figsize=(6,4), tight_layout=True)\n",
    "ax.hist(growth['naGDPpc'], bins=25, edgecolor='black', linewidth=1.2)\n",
    "ax.axvline(jp_growth, c='red')\n",
    "ax.set_ylabel('国の数', size=15)\n",
    "ax.set_title(f'{yr}-2019年，{len(growth)}の国・地域, PWT10.0', size=16)\n",
    "# fig.suptitle(f'１人当たり実質GDPの平均成長率(％)の分布', size=20)\n",
    "# display(growth)\n",
    "# pass"
   ]
  },
  {
   "cell_type": "markdown",
   "metadata": {
    "hidden": true,
    "id": "uB0fOq7FvfEW"
   },
   "source": [
    "日本の平均成長率は3.1％であり、図では赤い直線で示している。最も高い成長率は台湾の5.61％であり，最も低い成長率はコンゴ民主共和国のマイナス1.62％である。実に、最高と最低成長率の差は7.23％ある。また、マイナスの成長率とは一人当たり所得の減少を意味するが、111の国・地域のうち8（約7.2％）が約60年の間平均して所得が縮小しているのである。\n",
    "\n",
    "## （問２）なぜ国々の経済成長率は大きく異なるのか？\n",
    "\n",
    "経済学者は、問１と２に対する完璧な答えを提示できておらず、今でも活発に研究がおこなわれている。この章ではまず問１についてデータと簡単な数式を使い議論する。特に，技術水準と蓄積生産要素（物的資本と人的資本）がどれだけ一人当たりGDPに貢献しているかを考え，その貢献度の違いを使い問１について考察する。"
   ]
  },
  {
   "cell_type": "markdown",
   "metadata": {
    "heading_collapsed": true,
    "id": "Wsfxyj-3vfEW"
   },
   "source": [
    "## データ"
   ]
  },
  {
   "cell_type": "markdown",
   "metadata": {
    "hidden": true,
    "id": "qXHet4H4vfEW"
   },
   "source": [
    "データは[Penn World Talbe 10.0](https://www.rug.nl/ggdc/productivity/pwt/?lang=en)を使うが，ここではデータをインポートするために`py4macro`モジュールを使う。このモジュールにはデータ・セットなどが含まれており，ここでは`data`関数を使ってデータをインポートする。使い方は次のコードで確認できる。"
   ]
  },
  {
   "cell_type": "code",
   "execution_count": 6,
   "metadata": {
    "colab": {
     "base_uri": "https://localhost:8080/"
    },
    "executionInfo": {
     "elapsed": 10,
     "status": "ok",
     "timestamp": 1659700246446,
     "user": {
      "displayName": "Kentaro Kakimoto",
      "userId": "10433744363719433316"
     },
     "user_tz": -540
    },
    "hidden": true,
    "id": "S8TS7F-bvfEX",
    "outputId": "8abf4ca3-33ca-4fd5-a3af-14213fdd00f7",
    "tags": [
     "output_scroll"
    ]
   },
   "outputs": [
    {
     "name": "stdout",
     "output_type": "stream",
     "text": [
      "Help on function data in module py4macro.py4macro:\n",
      "\n",
      "data(dataset=None, description=0)\n",
      "    |\n",
      "    | 引数：\n",
      "    |     dataset: (文字列)\n",
      "    |         'pwt':   Penn World Table 10.0\n",
      "    |         'weo':   IMF World Economic Outlook 2021\n",
      "    |         'mad':   country data of Maddison Project Database 2020\n",
      "    |         'mad-regions':   regional data of Maddison Project Database 2020\n",
      "    |         'jpn-q': 日本の四半期データ（GDPなど）\n",
      "    |         'jpn-money': 日本の四半期データ（マネーストックなど）\n",
      "    |         'world-money': 177ヵ国のマネーストックなど\n",
      "    |         'ex': 円/ドル為替レートなど\n",
      "    |\n",
      "    |     description (デフォルト：0, 整数型):\n",
      "    |         0: データのDataFrameを返す\n",
      "    |            * 全てのデータセット\n",
      "    |         1: 変数の定義を全て表示する\n",
      "    |            * 全てのデータセット\n",
      "    |         2: 変数の定義のDataFrameを返す\n",
      "    |            * `'pwt'`，`'weo'``'mad'`のみ\n",
      "    |        -1: 何年以降から予測値なのかを全て示す\n",
      "    |            * `'weo'`のみ\n",
      "    |        -2: 何年以降から予測値なのかを示すDataFrameを返す\n",
      "    |            * `'weo'`のみ\n",
      "    |\n",
      "    | 返り値：\n",
      "    |     DataFrame もしくは DataFrameの表示\n",
      "    |\n",
      "    | 例１：py4macro.data('weo')\n",
      "    |         -> IMF World Economic OutlookのDataFrameを返す。\n",
      "    |\n",
      "    | 例２：py4macro.data('weo', description=1)\n",
      "    |         -> IMF World Economic Outlookの変数定義の全てを表示する。\n",
      "    |\n",
      "    | 例３：py4macro.data('weo', description=2)\n",
      "    |         -> IMF World Economic Outlookの変数定義のDataFrameを返す。\n",
      "    |\n",
      "    | 例４：py4macro.data('weo', description=-1)\n",
      "    |         -> IMF World Economic Outlookの変数の推定値の開始年を全て表示する。\n",
      "    |\n",
      "    | 例５：py4macro.data('weo', description=-2)\n",
      "    |         -> IMF World Economic Outlookの変数の推定値の開始年のDataFrameを返す。\n",
      "    |\n",
      "    |\n",
      "    | ----- Penn World Tableについて ---------------------------------------------\n",
      "    |\n",
      "    | PWTには以下の列が追加されている。\n",
      "    |\n",
      "    | * oecd：1990年代に始まった中央ヨーロッパへの拡大前にOECDメンバー国であれば1，そうでなければ0\n",
      "    |\n",
      "    | * income_group：世界銀行が所得水準に従って分けた４つのグループ\n",
      "    |         High income\n",
      "    |         Upper middle income\n",
      "    |         Lower middle income\n",
      "    |         Low income\n",
      "    |\n",
      "    | * region：世界銀行が国・地域に従って分けた７つのグループ化\n",
      "    |         East Asia & Pacific\n",
      "    |         Europe & Central Asia\n",
      "    |         Latin America & Caribbean\n",
      "    |         Middle East & North Africa\n",
      "    |         North America\n",
      "    |         South Asia\n",
      "    |         Sub-Saharan Africa\n",
      "    |\n",
      "    | * continent：南極以外の6大陸\n",
      "    |         Africa\n",
      "    |         Asia\n",
      "    |         Australia\n",
      "    |         Europe\n",
      "    |         North America\n",
      "    |         South America\n",
      "\n"
     ]
    }
   ],
   "source": [
    "help(py4macro.data)"
   ]
  },
  {
   "cell_type": "markdown",
   "metadata": {
    "hidden": true,
    "id": "WN_4Xkn2vfEX"
   },
   "source": [
    "````{note}\n",
    "`py4macro`を事前にインストールする必要があるが，次のコマンドでインストールすることができる。\n",
    "```\n",
    "pip install py4macro\n",
    "```\n",
    "````\n",
    "\n",
    "まず含まれていいる変数の定義を表示してみよう。`data()`の引数に`'pwt'`（文字列）と`description=1`を指定する。"
   ]
  },
  {
   "cell_type": "code",
   "execution_count": 7,
   "metadata": {
    "colab": {
     "base_uri": "https://localhost:8080/",
     "height": 1000
    },
    "executionInfo": {
     "elapsed": 7,
     "status": "ok",
     "timestamp": 1659700246446,
     "user": {
      "displayName": "Kentaro Kakimoto",
      "userId": "10433744363719433316"
     },
     "user_tz": -540
    },
    "hidden": true,
    "id": "rVtHKrWrvfEX",
    "outputId": "d341b8ca-c6e0-4193-f114-be8c575b8ec6",
    "scrolled": true,
    "tags": [
     "output_scroll"
    ]
   },
   "outputs": [
    {
     "data": {
      "text/html": [
       "<div>\n",
       "<style scoped>\n",
       "    .dataframe tbody tr th:only-of-type {\n",
       "        vertical-align: middle;\n",
       "    }\n",
       "\n",
       "    .dataframe tbody tr th {\n",
       "        vertical-align: top;\n",
       "    }\n",
       "\n",
       "    .dataframe thead th {\n",
       "        text-align: right;\n",
       "    }\n",
       "</style>\n",
       "<table border=\"1\" class=\"dataframe\">\n",
       "  <thead>\n",
       "    <tr style=\"text-align: right;\">\n",
       "      <th></th>\n",
       "      <th>Variable definition</th>\n",
       "    </tr>\n",
       "    <tr>\n",
       "      <th></th>\n",
       "      <th></th>\n",
       "    </tr>\n",
       "  </thead>\n",
       "  <tbody>\n",
       "    <tr>\n",
       "      <th>Identifier variables</th>\n",
       "      <td>NaN</td>\n",
       "    </tr>\n",
       "    <tr>\n",
       "      <th>countrycode</th>\n",
       "      <td>3-letter ISO country code</td>\n",
       "    </tr>\n",
       "    <tr>\n",
       "      <th>country</th>\n",
       "      <td>Country name</td>\n",
       "    </tr>\n",
       "    <tr>\n",
       "      <th>currency_unit</th>\n",
       "      <td>Currency unit</td>\n",
       "    </tr>\n",
       "    <tr>\n",
       "      <th>year</th>\n",
       "      <td>Year</td>\n",
       "    </tr>\n",
       "    <tr>\n",
       "      <th>Real GDP, employment and population levels</th>\n",
       "      <td>NaN</td>\n",
       "    </tr>\n",
       "    <tr>\n",
       "      <th>rgdpe</th>\n",
       "      <td>Expenditure-side real GDP at chained PPPs (in mil. 2017US$)</td>\n",
       "    </tr>\n",
       "    <tr>\n",
       "      <th>rgdpo</th>\n",
       "      <td>Output-side real GDP at chained PPPs (in mil. 2017US$)</td>\n",
       "    </tr>\n",
       "    <tr>\n",
       "      <th>pop</th>\n",
       "      <td>Population (in millions)</td>\n",
       "    </tr>\n",
       "    <tr>\n",
       "      <th>emp</th>\n",
       "      <td>Number of persons engaged (in millions)</td>\n",
       "    </tr>\n",
       "    <tr>\n",
       "      <th>avh</th>\n",
       "      <td>Average annual hours worked by persons engaged</td>\n",
       "    </tr>\n",
       "    <tr>\n",
       "      <th>hc</th>\n",
       "      <td>Human capital index, based on years of schooling and returns to education; see Human capital in PWT9.</td>\n",
       "    </tr>\n",
       "    <tr>\n",
       "      <th>Current price GDP, capital and TFP</th>\n",
       "      <td>NaN</td>\n",
       "    </tr>\n",
       "    <tr>\n",
       "      <th>ccon</th>\n",
       "      <td>Real consumption of households and government, at current PPPs (in mil. 2017US$)</td>\n",
       "    </tr>\n",
       "    <tr>\n",
       "      <th>cda</th>\n",
       "      <td>Real domestic absorption, (real consumption plus investment), at current PPPs (in mil. 2017US$)</td>\n",
       "    </tr>\n",
       "    <tr>\n",
       "      <th>cgdpe</th>\n",
       "      <td>Expenditure-side real GDP at current PPPs (in mil. 2017US$)</td>\n",
       "    </tr>\n",
       "    <tr>\n",
       "      <th>cgdpo</th>\n",
       "      <td>Output-side real GDP at current PPPs (in mil. 2017US$)</td>\n",
       "    </tr>\n",
       "    <tr>\n",
       "      <th>cn</th>\n",
       "      <td>Capital stock at current PPPs (in mil. 2017US$)</td>\n",
       "    </tr>\n",
       "    <tr>\n",
       "      <th>ck</th>\n",
       "      <td>Capital services levels at current PPPs (USA=1)</td>\n",
       "    </tr>\n",
       "    <tr>\n",
       "      <th>ctfp</th>\n",
       "      <td>TFP level at current PPPs (USA=1)</td>\n",
       "    </tr>\n",
       "    <tr>\n",
       "      <th>cwtfp</th>\n",
       "      <td>Welfare-relevant TFP levels at current PPPs (USA=1)</td>\n",
       "    </tr>\n",
       "    <tr>\n",
       "      <th>National accounts-based variables</th>\n",
       "      <td>NaN</td>\n",
       "    </tr>\n",
       "    <tr>\n",
       "      <th>rgdpna</th>\n",
       "      <td>Real GDP at constant 2017 national prices (in mil. 2017US$)</td>\n",
       "    </tr>\n",
       "    <tr>\n",
       "      <th>rconna</th>\n",
       "      <td>Real consumption at constant 2017 national prices (in mil. 2017US$)</td>\n",
       "    </tr>\n",
       "    <tr>\n",
       "      <th>rdana</th>\n",
       "      <td>Real domestic absorption at constant 2017 national prices (in mil. 2017US$)</td>\n",
       "    </tr>\n",
       "    <tr>\n",
       "      <th>rnna</th>\n",
       "      <td>Capital stock at constant 2017 national prices (in mil. 2017US$)</td>\n",
       "    </tr>\n",
       "    <tr>\n",
       "      <th>rkna</th>\n",
       "      <td>Capital services at constant 2017 national prices (2017=1)</td>\n",
       "    </tr>\n",
       "    <tr>\n",
       "      <th>rtfpna</th>\n",
       "      <td>TFP at constant national prices (2017=1)</td>\n",
       "    </tr>\n",
       "    <tr>\n",
       "      <th>rwtfpna</th>\n",
       "      <td>Welfare-relevant TFP at constant national prices (2017=1)</td>\n",
       "    </tr>\n",
       "    <tr>\n",
       "      <th>labsh</th>\n",
       "      <td>Share of labour compensation in GDP at current national prices</td>\n",
       "    </tr>\n",
       "    <tr>\n",
       "      <th>irr</th>\n",
       "      <td>Real internal rate of return</td>\n",
       "    </tr>\n",
       "    <tr>\n",
       "      <th>delta</th>\n",
       "      <td>Average depreciation rate of the capital stock</td>\n",
       "    </tr>\n",
       "    <tr>\n",
       "      <th>Exchange rates and GDP price levels</th>\n",
       "      <td>NaN</td>\n",
       "    </tr>\n",
       "    <tr>\n",
       "      <th>xr</th>\n",
       "      <td>Exchange rate, national currency/USD (market+estimated)</td>\n",
       "    </tr>\n",
       "    <tr>\n",
       "      <th>pl_con</th>\n",
       "      <td>Price level of CCON (PPP/XR), price level of USA GDPo in 2017=1</td>\n",
       "    </tr>\n",
       "    <tr>\n",
       "      <th>pl_da</th>\n",
       "      <td>Price level of CDA (PPP/XR), price level of USA GDPo in 2017=1</td>\n",
       "    </tr>\n",
       "    <tr>\n",
       "      <th>pl_gdpo</th>\n",
       "      <td>Price level of CGDPo (PPP/XR), price level of USA GDPo in 2017=1</td>\n",
       "    </tr>\n",
       "    <tr>\n",
       "      <th>Data information variables</th>\n",
       "      <td>NaN</td>\n",
       "    </tr>\n",
       "    <tr>\n",
       "      <th>i_cig</th>\n",
       "      <td>0/1/2/3/4: relative price data for consumption, investment and government is extrapolated (0), benchmark (1), interpolated (2), ICP PPP timeseries: benchmark or interpolated (3) or  ICP PPP timeseries: extrapolated (4)</td>\n",
       "    </tr>\n",
       "    <tr>\n",
       "      <th>i_xm</th>\n",
       "      <td>0/1/2: relative price data for exports and imports is extrapolated (0), benchmark (1) or interpolated (2)</td>\n",
       "    </tr>\n",
       "    <tr>\n",
       "      <th>i_xr</th>\n",
       "      <td>0/1: the exchange rate is market-based (0) or estimated (1)</td>\n",
       "    </tr>\n",
       "    <tr>\n",
       "      <th>i_outlier</th>\n",
       "      <td>0/1: the observation on pl_gdpe or pl_gdpo is not an outlier (0) or an outlier (1)</td>\n",
       "    </tr>\n",
       "    <tr>\n",
       "      <th>i_irr</th>\n",
       "      <td>0/1/2/3: the observation for irr is not an outlier (0), may be biased due to a low capital share (1), hit the lower bound of 1 percent (2), or is an outlier (3)</td>\n",
       "    </tr>\n",
       "    <tr>\n",
       "      <th>cor_exp</th>\n",
       "      <td>Correlation between expenditure shares of the country and the US (benchmark observations only)</td>\n",
       "    </tr>\n",
       "    <tr>\n",
       "      <th>statcap</th>\n",
       "      <td>Statistical capacity indicator (source: World Bank, developing countries only)</td>\n",
       "    </tr>\n",
       "    <tr>\n",
       "      <th>Shares in CGDPo</th>\n",
       "      <td>NaN</td>\n",
       "    </tr>\n",
       "    <tr>\n",
       "      <th>csh_c</th>\n",
       "      <td>Share of household consumption at current PPPs</td>\n",
       "    </tr>\n",
       "    <tr>\n",
       "      <th>csh_i</th>\n",
       "      <td>Share of gross capital formation at current PPPs</td>\n",
       "    </tr>\n",
       "    <tr>\n",
       "      <th>csh_g</th>\n",
       "      <td>Share of government consumption at current PPPs</td>\n",
       "    </tr>\n",
       "    <tr>\n",
       "      <th>csh_x</th>\n",
       "      <td>Share of merchandise exports at current PPPs</td>\n",
       "    </tr>\n",
       "    <tr>\n",
       "      <th>csh_m</th>\n",
       "      <td>Share of merchandise imports at current PPPs</td>\n",
       "    </tr>\n",
       "    <tr>\n",
       "      <th>csh_r</th>\n",
       "      <td>Share of residual trade and GDP statistical discrepancy at current PPPs</td>\n",
       "    </tr>\n",
       "    <tr>\n",
       "      <th>Price levels, expenditure categories and capital</th>\n",
       "      <td>NaN</td>\n",
       "    </tr>\n",
       "    <tr>\n",
       "      <th>pl_c</th>\n",
       "      <td>Price level of household consumption,  price level of USA GDPo in 2017=1</td>\n",
       "    </tr>\n",
       "    <tr>\n",
       "      <th>pl_i</th>\n",
       "      <td>Price level of capital formation,  price level of USA GDPo in 2017=1</td>\n",
       "    </tr>\n",
       "    <tr>\n",
       "      <th>pl_g</th>\n",
       "      <td>Price level of government consumption,  price level of USA GDPo in 2017=1</td>\n",
       "    </tr>\n",
       "    <tr>\n",
       "      <th>pl_x</th>\n",
       "      <td>Price level of exports, price level of USA GDPo in 2017=1</td>\n",
       "    </tr>\n",
       "    <tr>\n",
       "      <th>pl_m</th>\n",
       "      <td>Price level of imports, price level of USA GDPo in 2017=1</td>\n",
       "    </tr>\n",
       "    <tr>\n",
       "      <th>pl_n</th>\n",
       "      <td>Price level of the capital stock, price level of USA in 2017=1</td>\n",
       "    </tr>\n",
       "    <tr>\n",
       "      <th>pl_k</th>\n",
       "      <td>Price level of the capital services, price level of USA=1</td>\n",
       "    </tr>\n",
       "  </tbody>\n",
       "</table>\n",
       "</div>"
      ],
      "text/plain": [
       "                                                                                                                                                                                                                                                         Variable definition\n",
       "                                                                                                                                                                                                                                                                            \n",
       "Identifier variables                                                                                                                                                                                                                                                     NaN\n",
       "countrycode                                                                                                                                                                                                                                        3-letter ISO country code\n",
       "country                                                                                                                                                                                                                                                         Country name\n",
       "currency_unit                                                                                                                                                                                                                                                  Currency unit\n",
       "year                                                                                                                                                                                                                                                                    Year\n",
       "Real GDP, employment and population levels                                                                                                                                                                                                                               NaN\n",
       "rgdpe                                                                                                                                                                                                            Expenditure-side real GDP at chained PPPs (in mil. 2017US$)\n",
       "rgdpo                                                                                                                                                                                                                 Output-side real GDP at chained PPPs (in mil. 2017US$)\n",
       "pop                                                                                                                                                                                                                                                 Population (in millions)\n",
       "emp                                                                                                                                                                                                                                  Number of persons engaged (in millions)\n",
       "avh                                                                                                                                                                                                                           Average annual hours worked by persons engaged\n",
       "hc                                                                                                                                                                     Human capital index, based on years of schooling and returns to education; see Human capital in PWT9.\n",
       "Current price GDP, capital and TFP                                                                                                                                                                                                                                       NaN\n",
       "ccon                                                                                                                                                                                        Real consumption of households and government, at current PPPs (in mil. 2017US$)\n",
       "cda                                                                                                                                                                          Real domestic absorption, (real consumption plus investment), at current PPPs (in mil. 2017US$)\n",
       "cgdpe                                                                                                                                                                                                            Expenditure-side real GDP at current PPPs (in mil. 2017US$)\n",
       "cgdpo                                                                                                                                                                                                                 Output-side real GDP at current PPPs (in mil. 2017US$)\n",
       "cn                                                                                                                                                                                                                           Capital stock at current PPPs (in mil. 2017US$)\n",
       "ck                                                                                                                                                                                                                           Capital services levels at current PPPs (USA=1)\n",
       "ctfp                                                                                                                                                                                                                                       TFP level at current PPPs (USA=1)\n",
       "cwtfp                                                                                                                                                                                                                    Welfare-relevant TFP levels at current PPPs (USA=1)\n",
       "National accounts-based variables                                                                                                                                                                                                                                        NaN\n",
       "rgdpna                                                                                                                                                                                                           Real GDP at constant 2017 national prices (in mil. 2017US$)\n",
       "rconna                                                                                                                                                                                                   Real consumption at constant 2017 national prices (in mil. 2017US$)\n",
       "rdana                                                                                                                                                                                            Real domestic absorption at constant 2017 national prices (in mil. 2017US$)\n",
       "rnna                                                                                                                                                                                                        Capital stock at constant 2017 national prices (in mil. 2017US$)\n",
       "rkna                                                                                                                                                                                                              Capital services at constant 2017 national prices (2017=1)\n",
       "rtfpna                                                                                                                                                                                                                              TFP at constant national prices (2017=1)\n",
       "rwtfpna                                                                                                                                                                                                            Welfare-relevant TFP at constant national prices (2017=1)\n",
       "labsh                                                                                                                                                                                                         Share of labour compensation in GDP at current national prices\n",
       "irr                                                                                                                                                                                                                                             Real internal rate of return\n",
       "delta                                                                                                                                                                                                                         Average depreciation rate of the capital stock\n",
       "Exchange rates and GDP price levels                                                                                                                                                                                                                                      NaN\n",
       "xr                                                                                                                                                                                                                   Exchange rate, national currency/USD (market+estimated)\n",
       "pl_con                                                                                                                                                                                                       Price level of CCON (PPP/XR), price level of USA GDPo in 2017=1\n",
       "pl_da                                                                                                                                                                                                         Price level of CDA (PPP/XR), price level of USA GDPo in 2017=1\n",
       "pl_gdpo                                                                                                                                                                                                     Price level of CGDPo (PPP/XR), price level of USA GDPo in 2017=1\n",
       "Data information variables                                                                                                                                                                                                                                               NaN\n",
       "i_cig                                             0/1/2/3/4: relative price data for consumption, investment and government is extrapolated (0), benchmark (1), interpolated (2), ICP PPP timeseries: benchmark or interpolated (3) or  ICP PPP timeseries: extrapolated (4)\n",
       "i_xm                                                                                                                                                               0/1/2: relative price data for exports and imports is extrapolated (0), benchmark (1) or interpolated (2)\n",
       "i_xr                                                                                                                                                                                                             0/1: the exchange rate is market-based (0) or estimated (1)\n",
       "i_outlier                                                                                                                                                                                 0/1: the observation on pl_gdpe or pl_gdpo is not an outlier (0) or an outlier (1)\n",
       "i_irr                                                                                                       0/1/2/3: the observation for irr is not an outlier (0), may be biased due to a low capital share (1), hit the lower bound of 1 percent (2), or is an outlier (3)\n",
       "cor_exp                                                                                                                                                                       Correlation between expenditure shares of the country and the US (benchmark observations only)\n",
       "statcap                                                                                                                                                                                       Statistical capacity indicator (source: World Bank, developing countries only)\n",
       "Shares in CGDPo                                                                                                                                                                                                                                                          NaN\n",
       "csh_c                                                                                                                                                                                                                         Share of household consumption at current PPPs\n",
       "csh_i                                                                                                                                                                                                                       Share of gross capital formation at current PPPs\n",
       "csh_g                                                                                                                                                                                                                        Share of government consumption at current PPPs\n",
       "csh_x                                                                                                                                                                                                                           Share of merchandise exports at current PPPs\n",
       "csh_m                                                                                                                                                                                                                           Share of merchandise imports at current PPPs\n",
       "csh_r                                                                                                                                                                                                Share of residual trade and GDP statistical discrepancy at current PPPs\n",
       "Price levels, expenditure categories and capital                                                                                                                                                                                                                         NaN\n",
       "pl_c                                                                                                                                                                                                Price level of household consumption,  price level of USA GDPo in 2017=1\n",
       "pl_i                                                                                                                                                                                                    Price level of capital formation,  price level of USA GDPo in 2017=1\n",
       "pl_g                                                                                                                                                                                               Price level of government consumption,  price level of USA GDPo in 2017=1\n",
       "pl_x                                                                                                                                                                                                               Price level of exports, price level of USA GDPo in 2017=1\n",
       "pl_m                                                                                                                                                                                                               Price level of imports, price level of USA GDPo in 2017=1\n",
       "pl_n                                                                                                                                                                                                          Price level of the capital stock, price level of USA in 2017=1\n",
       "pl_k                                                                                                                                                                                                               Price level of the capital services, price level of USA=1"
      ]
     },
     "metadata": {},
     "output_type": "display_data"
    }
   ],
   "source": [
    "py4macro.data('pwt',description=1)"
   ]
  },
  {
   "cell_type": "markdown",
   "metadata": {
    "hidden": true,
    "id": "BL0BcZUavfEX"
   },
   "source": [
    "`countrycode`は3つのアルファベットで表した標準的な国名コードであり，日本は`JPN`となる。よく使われるので，[このサイト](https://ja.wikipedia.org/wiki/ISO_3166-1)を参考に主な国の表記を覚えておくと良いだろう。"
   ]
  },
  {
   "cell_type": "markdown",
   "metadata": {
    "hidden": true,
    "id": "Q9-nlUgyvfEX"
   },
   "source": [
    "```{tip}\n",
    "`description=1`は表示するだけなので，`DataFrame`として扱いたい場合は`description=2`とする。\n",
    "```\n",
    "\n",
    "`'pwt'`だけを引数に使うとデータ自体を読み込むことになる。"
   ]
  },
  {
   "cell_type": "code",
   "execution_count": 8,
   "metadata": {
    "executionInfo": {
     "elapsed": 270,
     "status": "ok",
     "timestamp": 1659700246710,
     "user": {
      "displayName": "Kentaro Kakimoto",
      "userId": "10433744363719433316"
     },
     "user_tz": -540
    },
    "hidden": true,
    "id": "qiJTJBXVvfEX"
   },
   "outputs": [],
   "source": [
    "df = py4macro.data('pwt')"
   ]
  },
  {
   "cell_type": "markdown",
   "metadata": {
    "hidden": true,
    "id": "5YEl1MumvfEX"
   },
   "source": [
    "次に`.head()`を使って最初の5行を表示してみよう。"
   ]
  },
  {
   "cell_type": "code",
   "execution_count": 9,
   "metadata": {
    "colab": {
     "base_uri": "https://localhost:8080/",
     "height": 473
    },
    "executionInfo": {
     "elapsed": 272,
     "status": "ok",
     "timestamp": 1659700246980,
     "user": {
      "displayName": "Kentaro Kakimoto",
      "userId": "10433744363719433316"
     },
     "user_tz": -540
    },
    "hidden": true,
    "id": "CWxiZdMJvfEX",
    "outputId": "9c68bea4-bc2d-41d2-de10-5fb013bad280",
    "tags": [
     "output_scroll"
    ]
   },
   "outputs": [
    {
     "data": {
      "text/html": [
       "<div>\n",
       "<style scoped>\n",
       "    .dataframe tbody tr th:only-of-type {\n",
       "        vertical-align: middle;\n",
       "    }\n",
       "\n",
       "    .dataframe tbody tr th {\n",
       "        vertical-align: top;\n",
       "    }\n",
       "\n",
       "    .dataframe thead th {\n",
       "        text-align: right;\n",
       "    }\n",
       "</style>\n",
       "<table border=\"1\" class=\"dataframe\">\n",
       "  <thead>\n",
       "    <tr style=\"text-align: right;\">\n",
       "      <th></th>\n",
       "      <th>countrycode</th>\n",
       "      <th>country</th>\n",
       "      <th>oecd</th>\n",
       "      <th>income_group</th>\n",
       "      <th>region</th>\n",
       "      <th>continent</th>\n",
       "      <th>year</th>\n",
       "      <th>rgdpe</th>\n",
       "      <th>rgdpo</th>\n",
       "      <th>pop</th>\n",
       "      <th>...</th>\n",
       "      <th>csh_x</th>\n",
       "      <th>csh_m</th>\n",
       "      <th>csh_r</th>\n",
       "      <th>pl_c</th>\n",
       "      <th>pl_i</th>\n",
       "      <th>pl_g</th>\n",
       "      <th>pl_x</th>\n",
       "      <th>pl_m</th>\n",
       "      <th>pl_n</th>\n",
       "      <th>pl_k</th>\n",
       "    </tr>\n",
       "  </thead>\n",
       "  <tbody>\n",
       "    <tr>\n",
       "      <th>0</th>\n",
       "      <td>ABW</td>\n",
       "      <td>Aruba</td>\n",
       "      <td>0</td>\n",
       "      <td>High income</td>\n",
       "      <td>Latin America &amp; Caribbean</td>\n",
       "      <td>North America</td>\n",
       "      <td>1950</td>\n",
       "      <td>NaN</td>\n",
       "      <td>NaN</td>\n",
       "      <td>NaN</td>\n",
       "      <td>...</td>\n",
       "      <td>NaN</td>\n",
       "      <td>NaN</td>\n",
       "      <td>NaN</td>\n",
       "      <td>NaN</td>\n",
       "      <td>NaN</td>\n",
       "      <td>NaN</td>\n",
       "      <td>NaN</td>\n",
       "      <td>NaN</td>\n",
       "      <td>NaN</td>\n",
       "      <td>NaN</td>\n",
       "    </tr>\n",
       "    <tr>\n",
       "      <th>1</th>\n",
       "      <td>ABW</td>\n",
       "      <td>Aruba</td>\n",
       "      <td>0</td>\n",
       "      <td>High income</td>\n",
       "      <td>Latin America &amp; Caribbean</td>\n",
       "      <td>North America</td>\n",
       "      <td>1951</td>\n",
       "      <td>NaN</td>\n",
       "      <td>NaN</td>\n",
       "      <td>NaN</td>\n",
       "      <td>...</td>\n",
       "      <td>NaN</td>\n",
       "      <td>NaN</td>\n",
       "      <td>NaN</td>\n",
       "      <td>NaN</td>\n",
       "      <td>NaN</td>\n",
       "      <td>NaN</td>\n",
       "      <td>NaN</td>\n",
       "      <td>NaN</td>\n",
       "      <td>NaN</td>\n",
       "      <td>NaN</td>\n",
       "    </tr>\n",
       "    <tr>\n",
       "      <th>2</th>\n",
       "      <td>ABW</td>\n",
       "      <td>Aruba</td>\n",
       "      <td>0</td>\n",
       "      <td>High income</td>\n",
       "      <td>Latin America &amp; Caribbean</td>\n",
       "      <td>North America</td>\n",
       "      <td>1952</td>\n",
       "      <td>NaN</td>\n",
       "      <td>NaN</td>\n",
       "      <td>NaN</td>\n",
       "      <td>...</td>\n",
       "      <td>NaN</td>\n",
       "      <td>NaN</td>\n",
       "      <td>NaN</td>\n",
       "      <td>NaN</td>\n",
       "      <td>NaN</td>\n",
       "      <td>NaN</td>\n",
       "      <td>NaN</td>\n",
       "      <td>NaN</td>\n",
       "      <td>NaN</td>\n",
       "      <td>NaN</td>\n",
       "    </tr>\n",
       "    <tr>\n",
       "      <th>3</th>\n",
       "      <td>ABW</td>\n",
       "      <td>Aruba</td>\n",
       "      <td>0</td>\n",
       "      <td>High income</td>\n",
       "      <td>Latin America &amp; Caribbean</td>\n",
       "      <td>North America</td>\n",
       "      <td>1953</td>\n",
       "      <td>NaN</td>\n",
       "      <td>NaN</td>\n",
       "      <td>NaN</td>\n",
       "      <td>...</td>\n",
       "      <td>NaN</td>\n",
       "      <td>NaN</td>\n",
       "      <td>NaN</td>\n",
       "      <td>NaN</td>\n",
       "      <td>NaN</td>\n",
       "      <td>NaN</td>\n",
       "      <td>NaN</td>\n",
       "      <td>NaN</td>\n",
       "      <td>NaN</td>\n",
       "      <td>NaN</td>\n",
       "    </tr>\n",
       "    <tr>\n",
       "      <th>4</th>\n",
       "      <td>ABW</td>\n",
       "      <td>Aruba</td>\n",
       "      <td>0</td>\n",
       "      <td>High income</td>\n",
       "      <td>Latin America &amp; Caribbean</td>\n",
       "      <td>North America</td>\n",
       "      <td>1954</td>\n",
       "      <td>NaN</td>\n",
       "      <td>NaN</td>\n",
       "      <td>NaN</td>\n",
       "      <td>...</td>\n",
       "      <td>NaN</td>\n",
       "      <td>NaN</td>\n",
       "      <td>NaN</td>\n",
       "      <td>NaN</td>\n",
       "      <td>NaN</td>\n",
       "      <td>NaN</td>\n",
       "      <td>NaN</td>\n",
       "      <td>NaN</td>\n",
       "      <td>NaN</td>\n",
       "      <td>NaN</td>\n",
       "    </tr>\n",
       "  </tbody>\n",
       "</table>\n",
       "<p>5 rows × 55 columns</p>\n",
       "</div>"
      ],
      "text/plain": [
       "  countrycode country  oecd income_group                     region  \\\n",
       "0         ABW   Aruba     0  High income  Latin America & Caribbean   \n",
       "1         ABW   Aruba     0  High income  Latin America & Caribbean   \n",
       "2         ABW   Aruba     0  High income  Latin America & Caribbean   \n",
       "3         ABW   Aruba     0  High income  Latin America & Caribbean   \n",
       "4         ABW   Aruba     0  High income  Latin America & Caribbean   \n",
       "\n",
       "       continent  year  rgdpe  rgdpo  pop  ...  csh_x  csh_m  csh_r  pl_c  \\\n",
       "0  North America  1950    NaN    NaN  NaN  ...    NaN    NaN    NaN   NaN   \n",
       "1  North America  1951    NaN    NaN  NaN  ...    NaN    NaN    NaN   NaN   \n",
       "2  North America  1952    NaN    NaN  NaN  ...    NaN    NaN    NaN   NaN   \n",
       "3  North America  1953    NaN    NaN  NaN  ...    NaN    NaN    NaN   NaN   \n",
       "4  North America  1954    NaN    NaN  NaN  ...    NaN    NaN    NaN   NaN   \n",
       "\n",
       "   pl_i  pl_g  pl_x  pl_m  pl_n  pl_k  \n",
       "0   NaN   NaN   NaN   NaN   NaN   NaN  \n",
       "1   NaN   NaN   NaN   NaN   NaN   NaN  \n",
       "2   NaN   NaN   NaN   NaN   NaN   NaN  \n",
       "3   NaN   NaN   NaN   NaN   NaN   NaN  \n",
       "4   NaN   NaN   NaN   NaN   NaN   NaN  \n",
       "\n",
       "[5 rows x 55 columns]"
      ]
     },
     "execution_count": 9,
     "metadata": {},
     "output_type": "execute_result"
    }
   ],
   "source": [
    "df.head()"
   ]
  },
  {
   "cell_type": "markdown",
   "metadata": {
    "hidden": true,
    "id": "8RkA_HlYvfEY"
   },
   "source": [
    "次の変数は上の定義のリストには含まれていないので，ここで簡単に紹介する。\n",
    "* `oecd`：1990年代に始まった中央ヨーロッパへの拡大前にOECDメンバー国であれば`1`，そうでなければ`0`\n",
    "* `income_group`：世界銀行は所得水準に従って国を次の４つに分けている。\n",
    "    * High income\n",
    "    * Upper middle income\n",
    "    * Lower middle income\n",
    "    * Low income\n",
    "* `region`：世界銀行が国・地域に従って分けた７つのグループ化\n",
    "    * East Asia & Pacific\n",
    "    * Europe & Central Asia\n",
    "    * Latin America & Caribbean\n",
    "    * Middle East & North Africa\n",
    "    * North America\n",
    "    * South Asia\n",
    "    * Sub-Saharan Africa\n",
    "* `continent`：南極以外の6大陸\n",
    "    * Africa\n",
    "    * Asia\n",
    "    * Australia\n",
    "    * Europe   \n",
    "    * North America\n",
    "    * South America"
   ]
  },
  {
   "cell_type": "markdown",
   "metadata": {
    "hidden": true,
    "id": "lgeR5IkWvfEY"
   },
   "source": [
    "`2019`年のデータを使い内訳を確認してみよう。その際に便利なのが`DataFrame`と`Series`のメソッド`.value_counts()`である。これを使うと簡単に要素の個数や頻度を表示できる。\n",
    "\n",
    "まず`oecd`を考えるが，条件に従って行を抽出しその数を数えてみる。"
   ]
  },
  {
   "cell_type": "code",
   "execution_count": 10,
   "metadata": {
    "colab": {
     "base_uri": "https://localhost:8080/"
    },
    "executionInfo": {
     "elapsed": 6,
     "status": "ok",
     "timestamp": 1659700246981,
     "user": {
      "displayName": "Kentaro Kakimoto",
      "userId": "10433744363719433316"
     },
     "user_tz": -540
    },
    "hidden": true,
    "id": "p7fWw-cCvfEY",
    "outputId": "8ad73e66-573d-4685-c2a1-6c0cdc113649"
   },
   "outputs": [
    {
     "data": {
      "text/plain": [
       "0    159\n",
       "1     24\n",
       "Name: oecd, dtype: int64"
      ]
     },
     "execution_count": 10,
     "metadata": {},
     "output_type": "execute_result"
    }
   ],
   "source": [
    "cond2019 = ( df['year']==2019 )\n",
    "df.loc[cond2019,'oecd'].value_counts()\n",
    "# display(df)"
   ]
  },
  {
   "cell_type": "markdown",
   "metadata": {
    "hidden": true,
    "id": "RsECjJGpvfEY"
   },
   "source": [
    "`oecd`には24カ国あることがわかる。\n",
    "\n",
    "同様に`income_group`，`region`，`continent`の内訳を確認してみよう。"
   ]
  },
  {
   "cell_type": "code",
   "execution_count": 11,
   "metadata": {
    "colab": {
     "base_uri": "https://localhost:8080/",
     "height": 34
    },
    "executionInfo": {
     "elapsed": 747,
     "status": "ok",
     "timestamp": 1659700247724,
     "user": {
      "displayName": "Kentaro Kakimoto",
      "userId": "10433744363719433316"
     },
     "user_tz": -540
    },
    "id": "VYk5c6ns8J-_",
    "outputId": "65d8e304-5d62-47f4-d237-00aa140d63f4"
   },
   "outputs": [
    {
     "data": {
      "text/plain": [
       "<pandas.core.indexing._LocIndexer at 0x103a5cb30>"
      ]
     },
     "metadata": {},
     "output_type": "display_data"
    }
   ],
   "source": [
    "display(py4macro.data('weo').loc)"
   ]
  },
  {
   "cell_type": "code",
   "execution_count": 12,
   "metadata": {
    "colab": {
     "base_uri": "https://localhost:8080/"
    },
    "executionInfo": {
     "elapsed": 20,
     "status": "ok",
     "timestamp": 1659700247724,
     "user": {
      "displayName": "Kentaro Kakimoto",
      "userId": "10433744363719433316"
     },
     "user_tz": -540
    },
    "hidden": true,
    "id": "g4WR5MGvvfEY",
    "outputId": "6d4afed6-626f-4f50-a2db-138bc5120355"
   },
   "outputs": [
    {
     "data": {
      "text/plain": [
       "High income            65\n",
       "Upper middle income    48\n",
       "Lower middle income    44\n",
       "Low income             24\n",
       "Name: income_group, dtype: int64"
      ]
     },
     "execution_count": 12,
     "metadata": {},
     "output_type": "execute_result"
    }
   ],
   "source": [
    "df.loc[cond2019,'income_group'].value_counts()"
   ]
  },
  {
   "cell_type": "code",
   "execution_count": 13,
   "metadata": {
    "colab": {
     "base_uri": "https://localhost:8080/"
    },
    "executionInfo": {
     "elapsed": 17,
     "status": "ok",
     "timestamp": 1659700247725,
     "user": {
      "displayName": "Kentaro Kakimoto",
      "userId": "10433744363719433316"
     },
     "user_tz": -540
    },
    "hidden": true,
    "id": "WWm8a_qIvfEY",
    "outputId": "eb04c00a-594c-47fa-a20e-348bb3bcb82e"
   },
   "outputs": [
    {
     "data": {
      "text/plain": [
       "Europe & Central Asia         48\n",
       "Sub-Saharan Africa            45\n",
       "Latin America & Caribbean     40\n",
       "Middle East & North Africa    20\n",
       "East Asia & Pacific           20\n",
       "South Asia                     7\n",
       "North America                  3\n",
       "Name: region, dtype: int64"
      ]
     },
     "execution_count": 13,
     "metadata": {},
     "output_type": "execute_result"
    }
   ],
   "source": [
    "df.loc[cond2019,'region'].value_counts()"
   ]
  },
  {
   "cell_type": "code",
   "execution_count": 14,
   "metadata": {
    "colab": {
     "base_uri": "https://localhost:8080/"
    },
    "executionInfo": {
     "elapsed": 15,
     "status": "ok",
     "timestamp": 1659700247725,
     "user": {
      "displayName": "Kentaro Kakimoto",
      "userId": "10433744363719433316"
     },
     "user_tz": -540
    },
    "hidden": true,
    "id": "kX_yzroPvfEY",
    "outputId": "11e7a0c9-2582-4c25-9fd0-94941246832a"
   },
   "outputs": [
    {
     "data": {
      "text/plain": [
       "Africa           50\n",
       "Asia             48\n",
       "Europe           39\n",
       "North America    31\n",
       "South America    12\n",
       "Australia         3\n",
       "Name: continent, dtype: int64"
      ]
     },
     "execution_count": 14,
     "metadata": {},
     "output_type": "execute_result"
    }
   ],
   "source": [
    "df.loc[cond2019,'continent'].value_counts()"
   ]
  },
  {
   "cell_type": "markdown",
   "metadata": {
    "hidden": true,
    "id": "qrJ--pWWvfEY"
   },
   "source": [
    "`.value_counts()`に引数`normalize=True`を追加すると，頻度（パーセント）として表示できる。\n",
    "\n",
    "属性`.columns`を使い全ての列名を表示してみよう。"
   ]
  },
  {
   "cell_type": "code",
   "execution_count": 15,
   "metadata": {
    "colab": {
     "base_uri": "https://localhost:8080/"
    },
    "executionInfo": {
     "elapsed": 13,
     "status": "ok",
     "timestamp": 1659700247725,
     "user": {
      "displayName": "Kentaro Kakimoto",
      "userId": "10433744363719433316"
     },
     "user_tz": -540
    },
    "hidden": true,
    "id": "J1UBOmmevfEY",
    "outputId": "a139f688-7fb7-455e-b9ed-d33141bf2752",
    "tags": [
     "output_scroll"
    ]
   },
   "outputs": [
    {
     "data": {
      "text/plain": [
       "Index(['countrycode', 'country', 'oecd', 'income_group', 'region', 'continent',\n",
       "       'year', 'rgdpe', 'rgdpo', 'pop', 'emp', 'avh', 'hc', 'ccon', 'cda',\n",
       "       'cgdpe', 'cgdpo', 'cn', 'ck', 'ctfp', 'cwtfp', 'rgdpna', 'rconna',\n",
       "       'rdana', 'rnna', 'rkna', 'rtfpna', 'rwtfpna', 'labsh', 'irr', 'delta',\n",
       "       'xr', 'pl_con', 'pl_da', 'pl_gdpo', 'i_cig', 'i_xm', 'i_xr',\n",
       "       'i_outlier', 'i_irr', 'cor_exp', 'statcap', 'csh_c', 'csh_i', 'csh_g',\n",
       "       'csh_x', 'csh_m', 'csh_r', 'pl_c', 'pl_i', 'pl_g', 'pl_x', 'pl_m',\n",
       "       'pl_n', 'pl_k'],\n",
       "      dtype='object')"
      ]
     },
     "execution_count": 15,
     "metadata": {},
     "output_type": "execute_result"
    }
   ],
   "source": [
    "df.columns"
   ]
  },
  {
   "cell_type": "markdown",
   "metadata": {
    "hidden": true,
    "id": "kRAgwMCDvfEZ"
   },
   "source": [
    "また任意の列を選択するとメソッド`.unique()`が使えるようになる。これを使うことにより，選択した列に重複したデータがある場合，ユニークなものだけを抽出できる。このメソッドを使ってデータ・セットに含まれる国・地域名を確認してみよう。"
   ]
  },
  {
   "cell_type": "code",
   "execution_count": 16,
   "metadata": {
    "colab": {
     "base_uri": "https://localhost:8080/"
    },
    "executionInfo": {
     "elapsed": 11,
     "status": "ok",
     "timestamp": 1659700247725,
     "user": {
      "displayName": "Kentaro Kakimoto",
      "userId": "10433744363719433316"
     },
     "user_tz": -540
    },
    "hidden": true,
    "id": "dUD6bh0VvfEZ",
    "outputId": "6bc71f2f-074e-4920-9bc7-fb2cc6e67a59",
    "tags": [
     "output_scroll"
    ]
   },
   "outputs": [
    {
     "data": {
      "text/plain": [
       "array(['Aruba', 'Angola', 'Anguilla', 'Albania', 'United Arab Emirates',\n",
       "       'Argentina', 'Armenia', 'Antigua and Barbuda', 'Australia',\n",
       "       'Austria', 'Azerbaijan', 'Burundi', 'Belgium', 'Benin',\n",
       "       'Burkina Faso', 'Bangladesh', 'Bulgaria', 'Bahrain', 'Bahamas',\n",
       "       'Bosnia and Herzegovina', 'Belarus', 'Belize', 'Bermuda',\n",
       "       'Bolivia (Plurinational State of)', 'Brazil', 'Barbados',\n",
       "       'Brunei Darussalam', 'Bhutan', 'Botswana',\n",
       "       'Central African Republic', 'Canada', 'Switzerland', 'Chile',\n",
       "       'China', \"Côte d'Ivoire\", 'Cameroon', 'D.R. of the Congo', 'Congo',\n",
       "       'Colombia', 'Comoros', 'Cabo Verde', 'Costa Rica', 'Curaçao',\n",
       "       'Cayman Islands', 'Cyprus', 'Czech Republic', 'Germany',\n",
       "       'Djibouti', 'Dominica', 'Denmark', 'Dominican Republic', 'Algeria',\n",
       "       'Ecuador', 'Egypt', 'Spain', 'Estonia', 'Ethiopia', 'Finland',\n",
       "       'Fiji', 'France', 'Gabon', 'United Kingdom', 'Georgia', 'Ghana',\n",
       "       'Guinea', 'Gambia', 'Guinea-Bissau', 'Equatorial Guinea', 'Greece',\n",
       "       'Grenada', 'Guatemala', 'Guyana', 'China, Hong Kong SAR',\n",
       "       'Honduras', 'Croatia', 'Haiti', 'Hungary', 'Indonesia', 'India',\n",
       "       'Ireland', 'Iran (Islamic Republic of)', 'Iraq', 'Iceland',\n",
       "       'Israel', 'Italy', 'Jamaica', 'Jordan', 'Japan', 'Kazakhstan',\n",
       "       'Kenya', 'Kyrgyzstan', 'Cambodia', 'Saint Kitts and Nevis',\n",
       "       'Republic of Korea', 'Kuwait', \"Lao People's DR\", 'Lebanon',\n",
       "       'Liberia', 'Saint Lucia', 'Sri Lanka', 'Lesotho', 'Lithuania',\n",
       "       'Luxembourg', 'Latvia', 'China, Macao SAR', 'Morocco',\n",
       "       'Republic of Moldova', 'Madagascar', 'Maldives', 'Mexico',\n",
       "       'North Macedonia', 'Mali', 'Malta', 'Myanmar', 'Montenegro',\n",
       "       'Mongolia', 'Mozambique', 'Mauritania', 'Montserrat', 'Mauritius',\n",
       "       'Malawi', 'Malaysia', 'Namibia', 'Niger', 'Nigeria', 'Nicaragua',\n",
       "       'Netherlands', 'Norway', 'Nepal', 'New Zealand', 'Oman',\n",
       "       'Pakistan', 'Panama', 'Peru', 'Philippines', 'Poland', 'Portugal',\n",
       "       'Paraguay', 'State of Palestine', 'Qatar', 'Romania',\n",
       "       'Russian Federation', 'Rwanda', 'Saudi Arabia', 'Sudan', 'Senegal',\n",
       "       'Singapore', 'Sierra Leone', 'El Salvador', 'Serbia',\n",
       "       'Sao Tome and Principe', 'Suriname', 'Slovakia', 'Slovenia',\n",
       "       'Sweden', 'Eswatini', 'Sint Maarten (Dutch part)', 'Seychelles',\n",
       "       'Syrian Arab Republic', 'Turks and Caicos Islands', 'Chad', 'Togo',\n",
       "       'Thailand', 'Tajikistan', 'Turkmenistan', 'Trinidad and Tobago',\n",
       "       'Tunisia', 'Turkey', 'Taiwan', 'U.R. of Tanzania: Mainland',\n",
       "       'Uganda', 'Ukraine', 'Uruguay', 'United States', 'Uzbekistan',\n",
       "       'St. Vincent and the Grenadines',\n",
       "       'Venezuela (Bolivarian Republic of)', 'British Virgin Islands',\n",
       "       'Viet Nam', 'Yemen', 'South Africa', 'Zambia', 'Zimbabwe'],\n",
       "      dtype=object)"
      ]
     },
     "execution_count": 16,
     "metadata": {},
     "output_type": "execute_result"
    }
   ],
   "source": [
    "country_list = df.loc[:,'country'].unique()\n",
    "country_list"
   ]
  },
  {
   "cell_type": "markdown",
   "metadata": {
    "hidden": true,
    "id": "JNUsJXwmvfEZ"
   },
   "source": [
    "類似するメソッドに`.nunique()`がある。これを使うと，ユニークなデータの数を確認できる。"
   ]
  },
  {
   "cell_type": "code",
   "execution_count": 17,
   "metadata": {
    "colab": {
     "base_uri": "https://localhost:8080/"
    },
    "executionInfo": {
     "elapsed": 9,
     "status": "ok",
     "timestamp": 1659700247725,
     "user": {
      "displayName": "Kentaro Kakimoto",
      "userId": "10433744363719433316"
     },
     "user_tz": -540
    },
    "hidden": true,
    "id": "z0s92GR2vfEZ",
    "outputId": "72b775f7-7474-4c4e-cc63-88423dccbdff"
   },
   "outputs": [
    {
     "data": {
      "text/plain": [
       "183"
      ]
     },
     "execution_count": 17,
     "metadata": {},
     "output_type": "execute_result"
    }
   ],
   "source": [
    "df.loc[:,'country'].nunique()"
   ]
  },
  {
   "cell_type": "markdown",
   "metadata": {
    "hidden": true,
    "id": "oa0gXKZovfEZ"
   },
   "source": [
    "183の国・地域が含まれるということである。`unique()`でデータの年を確認することもできる。"
   ]
  },
  {
   "cell_type": "code",
   "execution_count": 18,
   "metadata": {
    "colab": {
     "base_uri": "https://localhost:8080/"
    },
    "executionInfo": {
     "elapsed": 8,
     "status": "ok",
     "timestamp": 1659700247726,
     "user": {
      "displayName": "Kentaro Kakimoto",
      "userId": "10433744363719433316"
     },
     "user_tz": -540
    },
    "hidden": true,
    "id": "T_j24rEhvfEZ",
    "outputId": "4a9bc6d1-44e0-450b-8e8d-4358ccd71983",
    "scrolled": true,
    "tags": [
     "output_scroll"
    ]
   },
   "outputs": [
    {
     "data": {
      "text/plain": [
       "array([1950, 1951, 1952, 1953, 1954, 1955, 1956, 1957, 1958, 1959, 1960,\n",
       "       1961, 1962, 1963, 1964, 1965, 1966, 1967, 1968, 1969, 1970, 1971,\n",
       "       1972, 1973, 1974, 1975, 1976, 1977, 1978, 1979, 1980, 1981, 1982,\n",
       "       1983, 1984, 1985, 1986, 1987, 1988, 1989, 1990, 1991, 1992, 1993,\n",
       "       1994, 1995, 1996, 1997, 1998, 1999, 2000, 2001, 2002, 2003, 2004,\n",
       "       2005, 2006, 2007, 2008, 2009, 2010, 2011, 2012, 2013, 2014, 2015,\n",
       "       2016, 2017, 2018, 2019])"
      ]
     },
     "execution_count": 18,
     "metadata": {},
     "output_type": "execute_result"
    }
   ],
   "source": [
    "year_list = df.loc[:,'year'].unique()\n",
    "year_list"
   ]
  },
  {
   "cell_type": "markdown",
   "metadata": {
    "hidden": true,
    "id": "_3NR_7SjvfEZ"
   },
   "source": [
    "データを扱う際，必ずしもデータ・セットは完璧な形で提供されているわけではないことを念頭に置く必要がある。`df`の場合，必ずしも全ての国で全ての年のデータが揃っているわけではない。それを確認する必要があるが，役に立つのが`df`のメソッド`info()`である。"
   ]
  },
  {
   "cell_type": "code",
   "execution_count": 19,
   "metadata": {
    "colab": {
     "base_uri": "https://localhost:8080/"
    },
    "executionInfo": {
     "elapsed": 2,
     "status": "ok",
     "timestamp": 1659700249989,
     "user": {
      "displayName": "Kentaro Kakimoto",
      "userId": "10433744363719433316"
     },
     "user_tz": -540
    },
    "hidden": true,
    "id": "dHNskogvvfEZ",
    "outputId": "a298aad9-ae71-4d00-8c1a-5c4cd1ca5817",
    "scrolled": true,
    "tags": [
     "output_scroll"
    ]
   },
   "outputs": [
    {
     "name": "stdout",
     "output_type": "stream",
     "text": [
      "<class 'pandas.core.frame.DataFrame'>\n",
      "RangeIndex: 12810 entries, 0 to 12809\n",
      "Data columns (total 55 columns):\n",
      " #   Column        Non-Null Count  Dtype  \n",
      "---  ------        --------------  -----  \n",
      " 0   countrycode   12810 non-null  object \n",
      " 1   country       12810 non-null  object \n",
      " 2   oecd          12810 non-null  int64  \n",
      " 3   income_group  12670 non-null  object \n",
      " 4   region        12810 non-null  object \n",
      " 5   continent     12810 non-null  object \n",
      " 6   year          12810 non-null  int64  \n",
      " 7   rgdpe         10399 non-null  float64\n",
      " 8   rgdpo         10399 non-null  float64\n",
      " 9   pop           10399 non-null  float64\n",
      " 10  emp           9529 non-null   float64\n",
      " 11  avh           3492 non-null   float64\n",
      " 12  hc            8637 non-null   float64\n",
      " 13  ccon          10399 non-null  float64\n",
      " 14  cda           10399 non-null  float64\n",
      " 15  cgdpe         10399 non-null  float64\n",
      " 16  cgdpo         10395 non-null  float64\n",
      " 17  cn            10314 non-null  float64\n",
      " 18  ck            7095 non-null   float64\n",
      " 19  ctfp          6412 non-null   float64\n",
      " 20  cwtfp         6412 non-null   float64\n",
      " 21  rgdpna        10399 non-null  float64\n",
      " 22  rconna        10399 non-null  float64\n",
      " 23  rdana         10399 non-null  float64\n",
      " 24  rnna          10314 non-null  float64\n",
      " 25  rkna          7095 non-null   float64\n",
      " 26  rtfpna        6412 non-null   float64\n",
      " 27  rwtfpna       6412 non-null   float64\n",
      " 28  labsh         7970 non-null   float64\n",
      " 29  irr           7540 non-null   float64\n",
      " 30  delta         10314 non-null  float64\n",
      " 31  xr            10399 non-null  float64\n",
      " 32  pl_con        10399 non-null  float64\n",
      " 33  pl_da         10399 non-null  float64\n",
      " 34  pl_gdpo       10399 non-null  float64\n",
      " 35  i_cig         10399 non-null  object \n",
      " 36  i_xm          10399 non-null  object \n",
      " 37  i_xr          10399 non-null  object \n",
      " 38  i_outlier     10399 non-null  object \n",
      " 39  i_irr         7540 non-null   object \n",
      " 40  cor_exp       1653 non-null   float64\n",
      " 41  statcap       2117 non-null   float64\n",
      " 42  csh_c         10399 non-null  float64\n",
      " 43  csh_i         10399 non-null  float64\n",
      " 44  csh_g         10399 non-null  float64\n",
      " 45  csh_x         10399 non-null  float64\n",
      " 46  csh_m         10399 non-null  float64\n",
      " 47  csh_r         10399 non-null  float64\n",
      " 48  pl_c          10399 non-null  float64\n",
      " 49  pl_i          10399 non-null  float64\n",
      " 50  pl_g          10399 non-null  float64\n",
      " 51  pl_x          10399 non-null  float64\n",
      " 52  pl_m          10399 non-null  float64\n",
      " 53  pl_n          10314 non-null  float64\n",
      " 54  pl_k          7095 non-null   float64\n",
      "dtypes: float64(43), int64(2), object(10)\n",
      "memory usage: 5.4+ MB\n"
     ]
    }
   ],
   "source": [
    "df.info()"
   ]
  },
  {
   "cell_type": "markdown",
   "metadata": {
    "hidden": true,
    "id": "nGah9i4FvfEZ"
   },
   "source": [
    "この出力の読み方については[Pandasの章](https://py4basics.github.io/3_Pandas.html#id2)で解説したので，ここでリピートする必要はないと思うが，次の点が重要となる。\n",
    "* 行のインデックスは`0`から`12809`まであり，合計`12810`行ある。`countrycode`をみると`12810 non-null`となっており，`non-null`は「非欠損値（欠損値ではない）」なので，その列には欠損値がないということを意味する。一方，`hc`は`8637 non-null`となっており，`12810-8637=4173`の欠損値が存在する。\n",
    "* `float64`は浮動小数点型データであり，`object`は文字列のデータと考えて良いだろう。"
   ]
  },
  {
   "cell_type": "markdown",
   "metadata": {
    "hidden": true,
    "id": "X1XnFkZWvfEZ"
   },
   "source": [
    "しかし`object`に関しては少し注意が必要となる。列に文字列が１つ混じっていて，他は`float`であっても`object`となるので注意が必要である。次の例がそれを示している。"
   ]
  },
  {
   "cell_type": "code",
   "execution_count": 20,
   "metadata": {
    "colab": {
     "base_uri": "https://localhost:8080/"
    },
    "executionInfo": {
     "elapsed": 4,
     "status": "ok",
     "timestamp": 1659700250533,
     "user": {
      "displayName": "Kentaro Kakimoto",
      "userId": "10433744363719433316"
     },
     "user_tz": -540
    },
    "hidden": true,
    "id": "M2I9g7zYvfEZ",
    "outputId": "48e3b61c-123f-4516-8502-2c2ab52e09a2"
   },
   "outputs": [
    {
     "name": "stdout",
     "output_type": "stream",
     "text": [
      "<class 'pandas.core.frame.DataFrame'>\n",
      "RangeIndex: 6 entries, 0 to 5\n",
      "Data columns (total 1 columns):\n",
      " #   Column  Non-Null Count  Dtype \n",
      "---  ------  --------------  ----- \n",
      " 0   a       6 non-null      object\n",
      "dtypes: object(1)\n",
      "memory usage: 176.0+ bytes\n"
     ]
    }
   ],
   "source": [
    "pd.DataFrame({'a':[1,2,3,4,5,'1']}).info()"
   ]
  },
  {
   "cell_type": "markdown",
   "metadata": {
    "hidden": true,
    "id": "e5Yebs9bvfEZ"
   },
   "source": [
    "そしてもう一つ。`hc`には欠損値があると分かったが，その定義を個別で確認したい場合，`py4macro`の引数`description=2`を使うと`DataFrame`が返されるので，それを使うと良いだろう。"
   ]
  },
  {
   "cell_type": "code",
   "execution_count": 21,
   "metadata": {
    "colab": {
     "base_uri": "https://localhost:8080/",
     "height": 95
    },
    "executionInfo": {
     "elapsed": 4,
     "status": "ok",
     "timestamp": 1659700250534,
     "user": {
      "displayName": "Kentaro Kakimoto",
      "userId": "10433744363719433316"
     },
     "user_tz": -540
    },
    "hidden": true,
    "id": "rVrMFXrUvfEa",
    "outputId": "bcf08379-85a5-4768-92ae-83f646b959e1"
   },
   "outputs": [
    {
     "data": {
      "text/html": [
       "<div>\n",
       "<style scoped>\n",
       "    .dataframe tbody tr th:only-of-type {\n",
       "        vertical-align: middle;\n",
       "    }\n",
       "\n",
       "    .dataframe tbody tr th {\n",
       "        vertical-align: top;\n",
       "    }\n",
       "\n",
       "    .dataframe thead th {\n",
       "        text-align: right;\n",
       "    }\n",
       "</style>\n",
       "<table border=\"1\" class=\"dataframe\">\n",
       "  <thead>\n",
       "    <tr style=\"text-align: right;\">\n",
       "      <th></th>\n",
       "      <th>Variable definition</th>\n",
       "    </tr>\n",
       "    <tr>\n",
       "      <th></th>\n",
       "      <th></th>\n",
       "    </tr>\n",
       "  </thead>\n",
       "  <tbody>\n",
       "    <tr>\n",
       "      <th>hc</th>\n",
       "      <td>Human capital index, based on years of schooli...</td>\n",
       "    </tr>\n",
       "  </tbody>\n",
       "</table>\n",
       "</div>"
      ],
      "text/plain": [
       "                                  Variable definition\n",
       "                                                     \n",
       "hc  Human capital index, based on years of schooli..."
      ]
     },
     "execution_count": 21,
     "metadata": {},
     "output_type": "execute_result"
    }
   ],
   "source": [
    "teigi = py4macro.data('pwt', description=2)\n",
    "teigi.loc[['hc'],:]"
   ]
  },
  {
   "cell_type": "markdown",
   "metadata": {
    "hidden": true,
    "id": "oN88OmtAvfEa"
   },
   "source": [
    "ただ，これだと定義の説明が全て表示できない。その場合は`py4macro.show()`関数を使うとフルに表示できる。"
   ]
  },
  {
   "cell_type": "code",
   "execution_count": 22,
   "metadata": {
    "colab": {
     "base_uri": "https://localhost:8080/",
     "height": 95
    },
    "executionInfo": {
     "elapsed": 3,
     "status": "ok",
     "timestamp": 1659700250534,
     "user": {
      "displayName": "Kentaro Kakimoto",
      "userId": "10433744363719433316"
     },
     "user_tz": -540
    },
    "hidden": true,
    "id": "JXgk-X3hvfEa",
    "outputId": "68efc227-cb3f-4b16-d1fd-2ad4281460df"
   },
   "outputs": [
    {
     "data": {
      "text/html": [
       "<div>\n",
       "<style scoped>\n",
       "    .dataframe tbody tr th:only-of-type {\n",
       "        vertical-align: middle;\n",
       "    }\n",
       "\n",
       "    .dataframe tbody tr th {\n",
       "        vertical-align: top;\n",
       "    }\n",
       "\n",
       "    .dataframe thead th {\n",
       "        text-align: right;\n",
       "    }\n",
       "</style>\n",
       "<table border=\"1\" class=\"dataframe\">\n",
       "  <thead>\n",
       "    <tr style=\"text-align: right;\">\n",
       "      <th></th>\n",
       "      <th>Variable definition</th>\n",
       "    </tr>\n",
       "    <tr>\n",
       "      <th></th>\n",
       "      <th></th>\n",
       "    </tr>\n",
       "  </thead>\n",
       "  <tbody>\n",
       "    <tr>\n",
       "      <th>hc</th>\n",
       "      <td>Human capital index, based on years of schooling and returns to education; see Human capital in PWT9.</td>\n",
       "    </tr>\n",
       "  </tbody>\n",
       "</table>\n",
       "</div>"
      ],
      "text/plain": [
       "                                                                                      Variable definition\n",
       "                                                                                                         \n",
       "hc  Human capital index, based on years of schooling and returns to education; see Human capital in PWT9."
      ]
     },
     "metadata": {},
     "output_type": "display_data"
    }
   ],
   "source": [
    "py4macro.show(teigi.loc[['hc'],:])"
   ]
  },
  {
   "cell_type": "markdown",
   "metadata": {
    "hidden": true,
    "id": "X4OEdnNkvfEa"
   },
   "source": [
    "```{note}\n",
    "上のコードで`.loc['hc',:]`とすると`Series`が返されるので，表示が少し異なることになる。\n",
    "```"
   ]
  },
  {
   "cell_type": "markdown",
   "metadata": {
    "hidden": true,
    "id": "Lhx14eGHvfEa"
   },
   "source": [
    "実際にデータを使う前に，含まれているGDPの変数について簡単に説明する。世界中の経済のGDPを比較可能な形でデータを作成するのは非常に難しい。経済によって消費・生産・輸出・輸入する財の種類・量も違えば，価格も違う。それに購買力平価（PPPs; Purchasing Power Parities; [PWTで使うPPPs](https://www.worldbank.org/en/programs/icp)）を使って経済間のGDPを実質化したとしても，時系列的に実質化するには更なる調整が必要となる。またそれぞれの政府データを使う事になるが，大きく数字が修正される場合もある。このような問題に対処するために，PWTには５つのGDPの変数が提供されている。\n",
    "* データにある年のPPPsに基づき経済間の価格の違いを考慮している。\n",
    "    * `cgdpo`：産出データに基づいており，時系列的には名目。ある年で経済間の生産能力（**水準**）の比較に適している。\n",
    "    * `cgdpe`：支出データに基づいており，時系列的には名目。ある年で経済間の生活**水準**の比較に適している。\n",
    "    * `rgdpo`：産出データに基づいており，時系列的には実質。ある期間で経済間の生産能力（**水準**）の比較に適している。\n",
    "    * `rgdpe`：支出データに基づいており，時系列的には実質。ある期間で経済間の生活**水準**の比較に適している。\n",
    "* ある基準年のPPPsだけに基づき経済間の価格の違いを考慮している。\n",
    "    * `rgdpna`：それぞれの経済の国民経済計算を使っており，時系列的には実質。GDPの**成長率**の比較に適している。"
   ]
  },
  {
   "cell_type": "markdown",
   "metadata": {
    "heading_collapsed": true,
    "id": "isRR0yPavfEa"
   },
   "source": [
    "## 発展会計の考え方"
   ]
  },
  {
   "cell_type": "markdown",
   "metadata": {
    "hidden": true,
    "id": "74mzamQPvfEa"
   },
   "source": [
    "経済間の所得格差の要因を探るために，次の生産関数を考えよう。\n",
    "\n",
    "$$\n",
    "Y_i=A_iK_i^\\alpha\\left(h_iH_iL_i\\right)^{1-\\alpha}\n",
    ",\\quad\n",
    "0<\\alpha<1\n",
    "$$ (eq:5-production)\n",
    "\n",
    "* $i$：経済`i`\n",
    "* $Y_i$：GDP\n",
    "* $K_i$：物的資本\n",
    "* $A_i$：全要素生産性（TFP）\n",
    "* $H_i$：労働者一人当たりの人的資本\n",
    "* $h_i$：労働者一人当たりの平均労働時間\n",
    "* $L_i$：労働者数\n",
    "\n",
    "GDPは労働，物的人的資本とTFPによって決定されると考える，ということである。このアプローチは「大雑把」な印象を否めないが，データを使う事により，重要な知見を得ることが可能となる。次に，生産関数を一人当たりに書き換えよう。\n",
    "\n",
    "$$\n",
    "\\frac{Y_i}{L_i}=A_i\n",
    "\\left(\n",
    "    \\frac{K_i}{L_i}\n",
    "\\right)^{\\alpha}\n",
    "\\left(\n",
    "h_iH_i\n",
    "\\right)^{1-\\alpha}\n",
    "\\quad\\Rightarrow\\quad\n",
    "y_i=A_ik_i^{\\alpha}\\left(h_iH_i\\right)^{1-\\alpha}\n",
    "$$ (eq:5-yi)\n",
    "\n",
    "この式を使い経済間の一人当たりGDPの違いを考察する事になる。即ち，$A_i$，$k_i$，$h_i$，$H_i$の違いを使って$y_i$の違いを説明しようという事である。以下では，$h_iH_i$と$k_i$，$h_i$，$H_i$を合わせた項を次のように呼ぶ事にする。\n",
    "\n",
    "$$\n",
    "\\begin{align*}\n",
    "&\\text{（労働者一人当たり）人的資本サービス： } h_iH_i\\\\\n",
    "&\\text{（労働者一人当たり）蓄積生産要素： } k_i^{\\alpha}\\left(h_iH_i\\right)^{1-\\alpha}\n",
    "\\end{align*}\n",
    "$$\n",
    "\n",
    "\n",
    "使うデータ・セットには，$y_i$，$k_i$，$h_i$に対応する変数があり，蓄積生産要素がどれだけ一人当たりGDPに寄与するかを数値で表すことができる。一方，全要素生産性は次の式で求めることができる。\n",
    "\n",
    "$$\n",
    "A_i=\\dfrac{y_i}{k_i^{\\alpha}\\left(h_iH_i\\right)^{1-\\alpha}}\n",
    "$$ (eq:5-Ai)\n",
    "\n",
    "これらの式とデータを使って，一人当たりGDPに対する蓄積生産要素と全要素生産性の寄与度を数量化する事になる。"
   ]
  },
  {
   "cell_type": "markdown",
   "metadata": {
    "hidden": true,
    "id": "eOZfeQKRvfEa"
   },
   "source": [
    "```{note}\n",
    "生産関数[](eq:5-production)の仮定のもとで$A_i$が上昇したとしよう。物的人的資本の限界生産性が上昇するため，$k_i$と$H_i$は増加することになる。即ち，$A_i$の上昇により一人当たりGDPは上昇するが，間接的に$k_i$と$H_i$も増加させ$y_i$が増加する。これにより本来$A_i$による効果が$k_i$と$H_i$の寄与度に算入されることになり，全要素生産性の寄与度の過小評価につながる可能性がある。この問題は練習問題で取り上げることにする。\n",
    "```"
   ]
  },
  {
   "cell_type": "markdown",
   "metadata": {
    "hidden": true,
    "id": "uMXmmp7YvfEa"
   },
   "source": [
    "データ・セットに含まれるどの変数を使うかという問題があるが，ここでは次のデータを使うことにする。\n",
    "* `rgdpo`：生産面から計算したGDP（current PPPs; in mil. 2011US\\$）\n",
    "    * 経済間では一定な価格を使い計算されているが、時系列的には「名目」\n",
    "    * ある年に経済間の比較をするのに適している\n",
    "* `emp`：雇用者数（in millions）\n",
    "* `avh`：年間平均労働時間\n",
    "* `ck`：資本サービス水準（current PPPs (USA=1)）\n",
    "    * 資本ストックを生産に使うことにより得るサービス    \n",
    "    * USA=1と基準化されているが，米国との比率を考えるため，基準化による問題はなくなる。\n",
    "    * データ・セットには次に２つが含まれている。\n",
    "        * `cn`：資本ストック（current PPPs, in mil. 2011US\\$，タクシーを例にすると車体の価額)。\n",
    "        * `ck`：資本サービス（current PPPs, USA=1，タクシーを例にするとそのサービス（走行距離など）)。\n",
    "* `hc`：一人当たり人的資本の指標\n",
    "    * 教育年数と教育の収益から計算されている"
   ]
  },
  {
   "cell_type": "markdown",
   "metadata": {
    "hidden": true,
    "id": "xbDZoo0jvfEa"
   },
   "source": [
    "式に当てはめると次のようになる。\n",
    "* 一人当たりGDP：$y_i\\equiv\\dfrac{Y_i}{L_i}=$ `cgdpo`/`emp`\n",
    "* 一人当たり資本：$k_i\\equiv\\dfrac{K_i}{L_i}=$ `ck`/`emp`\n",
    "* 労働者一人当たり人的資本サービス：$h_iH_i=$ `avh`x`hc`\n",
    "* 資本の所得シャア：$\\alpha=1/3$を仮定\n",
    "\n",
    "これに従ってコードを書いていこう。"
   ]
  },
  {
   "cell_type": "code",
   "execution_count": 23,
   "metadata": {
    "executionInfo": {
     "elapsed": 3,
     "status": "ok",
     "timestamp": 1659700250813,
     "user": {
      "displayName": "Kentaro Kakimoto",
      "userId": "10433744363719433316"
     },
     "user_tz": -540
    },
    "hidden": true,
    "id": "8pxTLPFKvfEa"
   },
   "outputs": [],
   "source": [
    "# 資本の所得シャア\n",
    "a=1/3.0\n",
    "\n",
    "# 労働者一人当たりGDP\n",
    "df['gdp_pc'] = df['cgdpo'] / df['emp']\n",
    "\n",
    "# 一人当たり資本\n",
    "df['k_pc'] = df['ck'] / df['emp']\n",
    "\n",
    "# 蓄積生産要素\n",
    "df['factors'] = df['k_pc']**a * ( df['hc']*df['avh'] )**(1-a)\n",
    "\n",
    "# 全要素生産性\n",
    "df['tfp'] = df['gdp_pc'] / df['factors']"
   ]
  },
  {
   "cell_type": "markdown",
   "metadata": {
    "heading_collapsed": true,
    "id": "eCnOwZeNvfEa"
   },
   "source": [
    "## 2019年"
   ]
  },
  {
   "cell_type": "markdown",
   "metadata": {
    "hidden": true,
    "id": "CfWYpEQVvfEa"
   },
   "source": [
    "2019年だけを抽出する。"
   ]
  },
  {
   "cell_type": "code",
   "execution_count": 24,
   "metadata": {
    "executionInfo": {
     "elapsed": 2,
     "status": "ok",
     "timestamp": 1659700250813,
     "user": {
      "displayName": "Kentaro Kakimoto",
      "userId": "10433744363719433316"
     },
     "user_tz": -540
    },
    "hidden": true,
    "id": "JrA9ajq0vfEa"
   },
   "outputs": [],
   "source": [
    "df2019 = df.query('year == 2019').copy()"
   ]
  },
  {
   "cell_type": "markdown",
   "metadata": {
    "hidden": true,
    "id": "4nqHD6j5vfEa"
   },
   "source": [
    "```{admonition} コードの説明\n",
    ":class: dropdown\n",
    "\n",
    "`df`から2019年だけ抽出後，`DataFrame`のメソッド`copy()`を使いそのコピーを作成し，それを左辺の`df2019`に割り当てている。ある警告が出ないようにするために`copy()`を使っている。さらに`Python`について学習した後に説明する事にする。\n",
    "```"
   ]
  },
  {
   "cell_type": "markdown",
   "metadata": {
    "hidden": true,
    "id": "Oxj-cFSzvfEa"
   },
   "source": [
    "わかりやすくするために，全ての国の一人当たりGDPを米国の一人当たりGDPで割り、米国を１（基準）として議論を進める事にする。先に，米国だけのデータを抽出する。"
   ]
  },
  {
   "cell_type": "code",
   "execution_count": 25,
   "metadata": {
    "executionInfo": {
     "elapsed": 2,
     "status": "ok",
     "timestamp": 1659700250813,
     "user": {
      "displayName": "Kentaro Kakimoto",
      "userId": "10433744363719433316"
     },
     "user_tz": -540
    },
    "hidden": true,
    "id": "5nzw7Tm2vfEa"
   },
   "outputs": [],
   "source": [
    "us2019 = df2019.query('country == \"United States\"')"
   ]
  },
  {
   "cell_type": "markdown",
   "metadata": {
    "hidden": true,
    "id": "FYT0jxcgvfEa"
   },
   "source": [
    "次に，米国を基準とした相対的な一人当たりGDP作成し，`df2019`に新たな列として代入によう。"
   ]
  },
  {
   "cell_type": "code",
   "execution_count": 26,
   "metadata": {
    "executionInfo": {
     "elapsed": 284,
     "status": "ok",
     "timestamp": 1659700254470,
     "user": {
      "displayName": "Kentaro Kakimoto",
      "userId": "10433744363719433316"
     },
     "user_tz": -540
    },
    "hidden": true,
    "id": "-aVJz46kvfEb"
   },
   "outputs": [],
   "source": [
    "df2019['gdp_pc_relative'] = df2019['gdp_pc'] / us2019['gdp_pc'].to_numpy()"
   ]
  },
  {
   "cell_type": "markdown",
   "metadata": {
    "hidden": true,
    "id": "3HxozSobvfEb"
   },
   "source": [
    "```{admonition} コードの説明\n",
    ":class: dropdown\n",
    "\n",
    "`.to_numpy()`は`NumPy`の`array`に変換するメソッドである。`.to_numpy()`を省くと`Series`を`Series`で割る事になりエラーとなる。\n",
    "```"
   ]
  },
  {
   "cell_type": "markdown",
   "metadata": {
    "heading_collapsed": true,
    "hidden": true,
    "id": "rE2CUahovfEb"
   },
   "source": [
    "### 物的資本"
   ]
  },
  {
   "cell_type": "markdown",
   "metadata": {
    "hidden": true,
    "id": "96J5ovgfvfEb"
   },
   "source": [
    "物的資本についても同様に，全ての国の`k_pc`を米国の`k_pc`で割り基準化する。"
   ]
  },
  {
   "cell_type": "code",
   "execution_count": 27,
   "metadata": {
    "executionInfo": {
     "elapsed": 1,
     "status": "ok",
     "timestamp": 1659700260782,
     "user": {
      "displayName": "Kentaro Kakimoto",
      "userId": "10433744363719433316"
     },
     "user_tz": -540
    },
    "hidden": true,
    "id": "g2FYbFO1vfEb"
   },
   "outputs": [],
   "source": [
    "df2019['k_pc_relative'] = df2019['k_pc'] / us2019['k_pc'].to_numpy()"
   ]
  },
  {
   "cell_type": "markdown",
   "metadata": {
    "hidden": true,
    "id": "Vwmf7d0PvfEb"
   },
   "source": [
    "データを散布図で確認しよう。"
   ]
  },
  {
   "cell_type": "code",
   "execution_count": 28,
   "metadata": {
    "colab": {
     "base_uri": "https://localhost:8080/",
     "height": 278
    },
    "executionInfo": {
     "elapsed": 581,
     "status": "ok",
     "timestamp": 1659700262383,
     "user": {
      "displayName": "Kentaro Kakimoto",
      "userId": "10433744363719433316"
     },
     "user_tz": -540
    },
    "hidden": true,
    "id": "-rcQlnPtvfEb",
    "outputId": "41975414-e2d3-46c5-83cd-f83153ba5101"
   },
   "outputs": [
    {
     "data": {
      "image/png": "[encoded data removed]",
      "text/plain": [
       "<Figure size 432x288 with 1 Axes>"
      ]
     },
     "metadata": {
      "needs_background": "light"
     },
     "output_type": "display_data"
    }
   ],
   "source": [
    "df2019.plot(x='k_pc_relative', y='gdp_pc_relative', kind='scatter')\n",
    "pass"
   ]
  },
  {
   "cell_type": "markdown",
   "metadata": {
    "hidden": true,
    "id": "a5ARyAtfvfEb"
   },
   "source": [
    "正の関係があることが確認できる。またデータの曲線トレンドは凹関数のようである。`gdp_pc_relative`に対する`k_pc_relative`増加の影響は，`k_pc_relative`が低いと大きく，`k_pc_relative`が高いと小さくなる。即ち，資本の限界生産性の逓減の反映と考えられる。ただ，この効果のみで上の図を解釈するには問題がある。\n",
    "\n",
    "1. 第一に，異なる経済のクロスセクション・データ（横断面データ）であるため，経済間の様々な異質性が反映されている。即ち，全ての観測値は同じ生産関数から生成されている訳ではない。\n",
    "2. 第二に，資本の限界生産性の逓減という概念は，労働や他の投入が一定のもとでの比較静学の結果である。しかし，他の投入は一定に固定されている訳ではない。これらを考慮しつつ図の解釈をするべきではあるが，データの裏には資本の限界生産性の逓減のメカニズムが働いていると考えるのは自然であろう。"
   ]
  },
  {
   "cell_type": "markdown",
   "metadata": {
    "heading_collapsed": true,
    "hidden": true,
    "id": "IBiif9lIvfEb"
   },
   "source": [
    "### 人的資本サービス"
   ]
  },
  {
   "cell_type": "markdown",
   "metadata": {
    "hidden": true,
    "id": "KwEd7cXovfEb"
   },
   "source": [
    "まず人的資本`hc`を考察する事にする。それにより労働時間`avh`の効果も理解できるだろう。\n",
    "全ての国の`hc`を米国の`hc`で割り，米国を`1`とする人的資本インデックスを作成する。"
   ]
  },
  {
   "cell_type": "code",
   "execution_count": 29,
   "metadata": {
    "executionInfo": {
     "elapsed": 279,
     "status": "ok",
     "timestamp": 1659706634298,
     "user": {
      "displayName": "Kentaro Kakimoto",
      "userId": "10433744363719433316"
     },
     "user_tz": -540
    },
    "hidden": true,
    "id": "KRedUmhivfEb"
   },
   "outputs": [],
   "source": [
    "df2019['hc_relative'] = df2019['hc'] / us2019['hc'].to_numpy()"
   ]
  },
  {
   "cell_type": "markdown",
   "metadata": {
    "hidden": true,
    "id": "U-kBWaZuvfEb"
   },
   "source": [
    "散布図で確認してみよう。"
   ]
  },
  {
   "cell_type": "code",
   "execution_count": 30,
   "metadata": {
    "colab": {
     "base_uri": "https://localhost:8080/",
     "height": 278
    },
    "executionInfo": {
     "elapsed": 331,
     "status": "ok",
     "timestamp": 1659706636623,
     "user": {
      "displayName": "Kentaro Kakimoto",
      "userId": "10433744363719433316"
     },
     "user_tz": -540
    },
    "hidden": true,
    "id": "3Z2UUxsNvfEb",
    "outputId": "80ac03af-3032-448c-e627-7d329d897e54"
   },
   "outputs": [
    {
     "data": {
      "image/png": "[encoded data removed]",
      "text/plain": [
       "<Figure size 432x288 with 1 Axes>"
      ]
     },
     "metadata": {
      "needs_background": "light"
     },
     "output_type": "display_data"
    }
   ],
   "source": [
    "df2019.plot(x='hc_relative', y='gdp_pc_relative', kind='scatter')\n",
    "pass"
   ]
  },
  {
   "cell_type": "markdown",
   "metadata": {
    "hidden": true,
    "id": "lnLouV3rvfEb"
   },
   "source": [
    "正の関係があることがわかる。即ち，人的資本ストックが高ければ，一人当たり所得も増えるという事であり，非常に直感的でもある。一方，物的資本と比べると，曲線トレンドは凸関数になっている。裏にあるメカニズムとして様々なことが想定できる。\n",
    "* 労働者のスキルが高いため，同じ時間でより多くの財を生産できる。\n",
    "* 学習能力が高いため，生産活動をとおして更にスキル向上，生産性向上につながる（学習効果）。\n",
    "* 人的資本には，人に教える能力も含まれる（例えば，教師）。それにより，さらなる人的資本ストックの増加につながる。\n",
    "* 人から学ぶ能力も高いため，技術・知識の伝播の速度を速め，経済全体の生産性を向上させる。\n",
    "* 新しい技術・知識の創出，即ち，イノベーションを起こす必要不可欠な要素である。\n",
    "* 海外からの技術移転にも貢献する。\n",
    "* リスクに対する理解が深まり，リスクは高いがより生産性が高い活動への投資につながる。\n",
    "* などなど\n",
    "\n",
    "ここで見えてくるのは人的資本の「外部性」の効果である。典型的な例が，学習効果である。人的資本が増えると，生産量が高くなり学習する機会が増え，更なる人的資本の増加につながる。それが更なる生産量の増加となり，相乗効果として凸関数トレンドとして現れていると解釈できる。また，能力が上がれば，それだけ新しい知識や技術をより簡単に吸収することが可能となるだろう。更には，周りに優れた人に囲まれて仕事や勉強をすれば，それに引っ張られて自分の能力も増してくる事になるのは多くの人が経験していることではないだろうか。労働者はこのような効果を意識して（例えば，他人への効果を考慮して）行動しているわけではない。即ち，外部性が一つの基本メカニズムとして働いているという解釈が成り立つ。\n",
    "\n",
    "一方で，違う見方を可能である。閾値効果である。図を見ると，`h_relative`が低いところから増加しても`gdp_pc_relative`は大きく増加しないが，0.7あたりから増加率が増している。0.7付近で接続される２つの直線からなる折れ線グラフのようなトレンドが想定できるのではないだろうか。変数`hc`は，教育年数が一つの決定要因となっており，`hc`が低い経済では初等教育はある程度整っているが，高等教育が十分ではないと考えられる。従って，初等教育よりも高等教育の方が生産により大きな効果をもたらすとも考えられる。"
   ]
  },
  {
   "cell_type": "markdown",
   "metadata": {
    "hidden": true,
    "id": "Zf1LcL9ovfEb"
   },
   "source": [
    "人的資本の効果がある程度わかったので，次に人的資本サービスについて考えよう。全ての国の`hav`x`hc`を米国の`hav`x`hc`で割り基準化する。"
   ]
  },
  {
   "cell_type": "code",
   "execution_count": 31,
   "metadata": {
    "executionInfo": {
     "elapsed": 286,
     "status": "ok",
     "timestamp": 1659706644276,
     "user": {
      "displayName": "Kentaro Kakimoto",
      "userId": "10433744363719433316"
     },
     "user_tz": -540
    },
    "hidden": true,
    "id": "ESW6KBq8vfEb"
   },
   "outputs": [],
   "source": [
    "df2019['human_relative'] = ( df2019['avh']*df2019['hc'] ) / \\\n",
    "                           ( us2019['avh']*us2019['hc'] ).to_numpy()"
   ]
  },
  {
   "cell_type": "markdown",
   "metadata": {
    "hidden": true,
    "id": "b5NDDx9cvfEb"
   },
   "source": [
    "散布図で確認してみよう。"
   ]
  },
  {
   "cell_type": "code",
   "execution_count": 32,
   "metadata": {
    "colab": {
     "base_uri": "https://localhost:8080/",
     "height": 277
    },
    "executionInfo": {
     "elapsed": 314,
     "status": "ok",
     "timestamp": 1659706646762,
     "user": {
      "displayName": "Kentaro Kakimoto",
      "userId": "10433744363719433316"
     },
     "user_tz": -540
    },
    "hidden": true,
    "id": "AGqP0fHBvfEb",
    "outputId": "6d221741-1453-405f-8a29-e5284d970502",
    "scrolled": true
   },
   "outputs": [
    {
     "data": {
      "image/png": "[encoded data removed]",
      "text/plain": [
       "<Figure size 432x288 with 1 Axes>"
      ]
     },
     "metadata": {
      "needs_background": "light"
     },
     "output_type": "display_data"
    }
   ],
   "source": [
    "df2019.plot(x='human_relative', y='gdp_pc_relative', kind='scatter')\n",
    "pass"
   ]
  },
  {
   "cell_type": "markdown",
   "metadata": {
    "hidden": true,
    "id": "R5goZ-okvfEb"
   },
   "source": [
    "正の関係であることは変わらないが，相関度は減少している。これは労働時間の影響であるり，一人当たりGDPとの散布図をプロットして確認してみよう。"
   ]
  },
  {
   "cell_type": "code",
   "execution_count": 33,
   "metadata": {
    "colab": {
     "base_uri": "https://localhost:8080/",
     "height": 277
    },
    "executionInfo": {
     "elapsed": 407,
     "status": "ok",
     "timestamp": 1659706661234,
     "user": {
      "displayName": "Kentaro Kakimoto",
      "userId": "10433744363719433316"
     },
     "user_tz": -540
    },
    "hidden": true,
    "id": "URenqJBbvfEc",
    "outputId": "eb279c74-5ba0-4dce-8c13-976203754fb6"
   },
   "outputs": [
    {
     "data": {
      "image/png": "[encoded data removed]",
      "text/plain": [
       "<Figure size 432x288 with 1 Axes>"
      ]
     },
     "metadata": {
      "needs_background": "light"
     },
     "output_type": "display_data"
    }
   ],
   "source": [
    "df2019['avh_relative'] = df2019['avh'] / us2019['avh'].to_numpy()\n",
    "\n",
    "df2019.plot(x='avh_relative', y='gdp_pc_relative', kind='scatter')\n",
    "pass"
   ]
  },
  {
   "cell_type": "markdown",
   "metadata": {
    "hidden": true,
    "id": "SA46CMAGvfEc"
   },
   "source": [
    "負の相関関係にあると言えるだろう。即ち，豊かな経済では労働時間が短くなる傾向にある。この傾向は，ミクロ経済学の授業で習った消費者の労働供給モデルを考えて解釈することができる。所得が上昇すると，所得効果により労働供給は減少するが，代替効果により労働時間は上昇する。上の図は，所得効果が代替効果を上回っている結果の反映と考えることが可能である。一方で，経済間では所得だけではなく他の要因も異なることも念頭においておこう。いずれにしろ，労働時間の負の関係により，人的資本サービスと一人当たりGDPの相関は弱くなっている。"
   ]
  },
  {
   "cell_type": "markdown",
   "metadata": {
    "heading_collapsed": true,
    "hidden": true,
    "id": "09oQPu6dvfEc",
    "tags": [
     "remove-cell"
    ]
   },
   "source": [
    "### 全要素生産性"
   ]
  },
  {
   "cell_type": "markdown",
   "metadata": {
    "hidden": true,
    "id": "RGsqCRi3vfEc"
   },
   "source": [
    "(sec:5a-tfp)=\n",
    "### 全要素生産性"
   ]
  },
  {
   "cell_type": "markdown",
   "metadata": {
    "hidden": true,
    "id": "EaHAjDXuvfEc"
   },
   "source": [
    "米国を`1`に基準化して一人当たりGDPと全要素生産性との関係を図示する。"
   ]
  },
  {
   "cell_type": "code",
   "execution_count": 34,
   "metadata": {
    "colab": {
     "base_uri": "https://localhost:8080/",
     "height": 277
    },
    "executionInfo": {
     "elapsed": 289,
     "status": "ok",
     "timestamp": 1659706672267,
     "user": {
      "displayName": "Kentaro Kakimoto",
      "userId": "10433744363719433316"
     },
     "user_tz": -540
    },
    "hidden": true,
    "id": "901eFtFPvfEc",
    "outputId": "af08ae29-ba48-478f-f674-ad1319f66aed"
   },
   "outputs": [
    {
     "data": {
      "image/png": "[encoded data removed]",
      "text/plain": [
       "<Figure size 432x288 with 1 Axes>"
      ]
     },
     "metadata": {
      "needs_background": "light"
     },
     "output_type": "display_data"
    }
   ],
   "source": [
    "df2019['tfp_relative'] = df2019['tfp'] / us2019['tfp'].to_numpy()\n",
    "\n",
    "df2019.plot(x='tfp_relative', y='gdp_pc_relative', kind='scatter')\n",
    "pass"
   ]
  },
  {
   "cell_type": "markdown",
   "metadata": {
    "hidden": true,
    "id": "B_NK83ZWvfEc"
   },
   "source": [
    "正の相関関係にあることは明らかであり，直線のトレンドであることがわかる。物的資本の場合は凹関数トレンドで，限界生産性の逓減の反映とも解釈できた。人的資本の場合は凸関数トレンドで，外部性の効果が示唆された。全要素生産性の直線トレンドの解釈はどうなるのだろう。まず，物的資本のように，限界生産性の逓減があれば凹型トレンドになるはずだが，それを抑えるメカニズムが働いていると考えられる。それが正の外部性の存在である。\n",
    "\n",
    "全要素生産性は，蓄積生産要素で説明できない一人当たりGDPとして定義されているが，広く使われる解釈が技術水準である。技術水準はイノベーションなどにより決定され，外部性の役割が大きいと理解されている。それを説明するために，アイザック・ニュートンが言ったとされる次の引用を考えてみよう。\n",
    "\n",
    "> If I have seen further, it is by standing on the shoulders of Giants.\n",
    "\n",
    "ここでのhave seen furtherとはニュートンの天才的な能力・発見を指し，the shoulders of Giantsは先人が築き上げた知識・知見を意味する。ここで重要な点は，ニュートンは殆ど無料（書籍代や読書の機会費用はあるだろうが）で当時までに蓄積された知識を使うことができたということである。また多くの「先人」はニュートンがアイデアを参考にするとは想定していない，もしくはアイデアを使う対価を受け取っていないと思われれ，まさしく正の外部性が存在している（研究開発には負の外部性もある）。このようなことは，今でも発生している。新薬や新しいくゲーム・ソフトを作る場合，まず市場にある財を参考にする。知的財産権で守られているためコピー商品は違法だが，特許で開示されている技術やデザインなどを参考に新たな財を作り出すことは日常茶飯事である。この考えを使って上のデータを解釈してみよう。全世界的に技術水準が低ければ，他から学ぶ土壌が乏しく，TFPの一人当たりGDPに対する影響は限定的になる。一方，経済間の技術水準に大きな差がある場合，遅れている経済は進んでいる経済から学ぶことができる。更には，技術水準が高い経済同士も異なる考え方などをお互いから多くを学ぶ環境が存在することになる。これにより，TFPの効果はより大きなものとなって現れていると考えられ，技術水準の限界生産性の逓減が中和されることにより直線トレンドとしてあらわれていると解釈できる。\n",
    "\n",
    "関連する問題として，生産関数の仮定と全要素生産性の関係について次の点を付け加えておく。TFPを計算する上でコブ・ダグラス生産関数を使ったが，規模に対して収穫一定を仮定している。もしこの仮定が間違っていて，規模に関して収穫逓増が正しい場合どのようなバイアスが発生するのだろうか。この点を明らかにするために，真の生産関数が次式で与えられるとしよう。\n",
    "\n",
    "$$\n",
    "Y_i=\\tilde{A}_i\\left(K_i^\\alpha H_i^{1-\\alpha}\\right)^\\mu,\n",
    "\\quad\\mu>1\n",
    "$$\n",
    "\n",
    "$\\mu=1$を仮定したわけだが，$\\mu>1$の場合は規模に関して収穫逓増となる。$\\tilde{A}_i$は真のTFPを指しており，$\\mu=1$と$\\mu>1$の場合のTFPの比率は次の式で表される。\n",
    "\n",
    "$$\n",
    "\\dfrac{A_i}{\\tilde{A}_i}\n",
    "=\\dfrac{\n",
    "        \\dfrac{Y_i}{K_i^\\alpha H_i^{1-\\alpha}}\n",
    "        }{\n",
    "        \\dfrac{Y_i}{\\left(K_i^\\alpha H_i^{1-\\alpha}\\right)^\\mu}\n",
    "        }\n",
    "=\\left(K_i^\\alpha H_i^{1-\\alpha}\\right)^{\\mu-1}\n",
    ">1\n",
    "$$\n",
    "\n",
    "$K_i^\\alpha H_i^{1-\\alpha}>1$と考えると，収穫一定のTFPは真のTFPを過大評価する事がわかる。何が起こっているのだろうか。$\\mu>1$の場合に収穫一定を仮定すると，\n",
    "\n",
    "$$\n",
    "K_i^\\alpha H_i^{1-\\alpha}\n",
    "<\n",
    "\\left(K_i^\\alpha H_i^{1-\\alpha}\\right)^\\mu\n",
    "$$\n",
    "\n",
    "となり，蓄積生産要素の効果が過小評価されることになる。これにより物的人的資本の効果の一部をTFPの貢献だと間違って判断しTFPの過大評価になっている。では，なぜ規模に関して収穫逓増になり得るのだろうか。それが技術水準や蓄積生産要素の外部性である。技術水準と人的資本の外部性について簡単に説明したが，物的資本ストックも外部性を発生させると考えられる。物的資本ストックが増えると一人当たりGDPを増加させる。それにより，人的資本の学習効果を強める事になる。また研究開発のヒントを与えるようなきっかけにもなるかもしれない。そのような相乗効果により規模に関して収穫逓増になる生産関数を想定することも可能である。しかし多くの研究では規模に関して収穫一定の下で議論が進められており，以下ではそれを踏襲して$\\mu=$とする。"
   ]
  },
  {
   "cell_type": "markdown",
   "metadata": {
    "heading_collapsed": true,
    "hidden": true,
    "id": "0mSal1USvfEc"
   },
   "source": [
    "### 相関係数"
   ]
  },
  {
   "cell_type": "markdown",
   "metadata": {
    "hidden": true,
    "id": "k_JqF4BlvfEc"
   },
   "source": [
    "一人当たりGDPと全要素生産性の散布図から，両変数の相関度は非常に高いと思われる。相関係数を計算してみよう。"
   ]
  },
  {
   "cell_type": "code",
   "execution_count": 35,
   "metadata": {
    "colab": {
     "base_uri": "https://localhost:8080/",
     "height": 112
    },
    "executionInfo": {
     "elapsed": 269,
     "status": "ok",
     "timestamp": 1659706677611,
     "user": {
      "displayName": "Kentaro Kakimoto",
      "userId": "10433744363719433316"
     },
     "user_tz": -540
    },
    "hidden": true,
    "id": "zBFDHri4vfEc",
    "outputId": "b280caa9-6b97-4a6a-ff91-a5e67aa8c8bc"
   },
   "outputs": [
    {
     "data": {
      "text/html": [
       "<div>\n",
       "<style scoped>\n",
       "    .dataframe tbody tr th:only-of-type {\n",
       "        vertical-align: middle;\n",
       "    }\n",
       "\n",
       "    .dataframe tbody tr th {\n",
       "        vertical-align: top;\n",
       "    }\n",
       "\n",
       "    .dataframe thead th {\n",
       "        text-align: right;\n",
       "    }\n",
       "</style>\n",
       "<table border=\"1\" class=\"dataframe\">\n",
       "  <thead>\n",
       "    <tr style=\"text-align: right;\">\n",
       "      <th></th>\n",
       "      <th>gdp_pc_relative</th>\n",
       "      <th>tfp_relative</th>\n",
       "    </tr>\n",
       "  </thead>\n",
       "  <tbody>\n",
       "    <tr>\n",
       "      <th>gdp_pc_relative</th>\n",
       "      <td>1.000000</td>\n",
       "      <td>0.921097</td>\n",
       "    </tr>\n",
       "    <tr>\n",
       "      <th>tfp_relative</th>\n",
       "      <td>0.921097</td>\n",
       "      <td>1.000000</td>\n",
       "    </tr>\n",
       "  </tbody>\n",
       "</table>\n",
       "</div>"
      ],
      "text/plain": [
       "                 gdp_pc_relative  tfp_relative\n",
       "gdp_pc_relative         1.000000      0.921097\n",
       "tfp_relative            0.921097      1.000000"
      ]
     },
     "execution_count": 35,
     "metadata": {},
     "output_type": "execute_result"
    }
   ],
   "source": [
    "df2019.loc[:,['gdp_pc_relative','tfp_relative']].dropna().corr()"
   ]
  },
  {
   "cell_type": "markdown",
   "metadata": {
    "hidden": true,
    "id": "hXOvTtpdvfEc"
   },
   "source": [
    "```{admonition} コードの説明\n",
    ":class: dropdown\n",
    "\n",
    "* `.dropna()`は`NaN`がある行を削除するメソッド\n",
    "\n",
    "*`.corr()`は相関係数を計算するメソッド\n",
    "```"
   ]
  },
  {
   "cell_type": "code",
   "execution_count": 36,
   "metadata": {
    "colab": {
     "base_uri": "https://localhost:8080/",
     "height": 17
    },
    "executionInfo": {
     "elapsed": 4,
     "status": "ok",
     "timestamp": 1659706678026,
     "user": {
      "displayName": "Kentaro Kakimoto",
      "userId": "10433744363719433316"
     },
     "user_tz": -540
    },
    "hidden": true,
    "id": "8yZv5vCGvfEc",
    "outputId": "6f0bdadf-34cc-4fd0-b1f4-6c5c1bff2ac6",
    "tags": [
     "remove-cell"
    ]
   },
   "outputs": [
    {
     "data": {
      "application/papermill.record/text/plain": "0.921"
     },
     "metadata": {
      "scrapbook": {
       "mime_prefix": "application/papermill.record/",
       "name": "corr_gdp_pc_relative_tfp_relative"
      }
     },
     "output_type": "display_data"
    }
   ],
   "source": [
    "from myst_nb import glue\n",
    "corr_gdp_pc_relative_tfp_relative = df2019.loc[:,['gdp_pc_relative','tfp_relative']].dropna().corr().loc['gdp_pc_relative','tfp_relative']\n",
    "glue(\"corr_gdp_pc_relative_tfp_relative\", round(corr_gdp_pc_relative_tfp_relative,3),display=False)"
   ]
  },
  {
   "cell_type": "markdown",
   "metadata": {
    "hidden": true,
    "id": "U6qmWtW6vfEc"
   },
   "source": [
    "`GDPpc_relative`と`tfp_relative`の相関係数は約{glue:}`corr_gdp_pc_relative_tfp_relative`であり、非常に高いことがわかる。\n",
    "\n",
    "次に，蓄積生産要素と一人当たりGDPの散布図を作成し，相関係数を計算してみよう図示する。"
   ]
  },
  {
   "cell_type": "code",
   "execution_count": 37,
   "metadata": {
    "colab": {
     "base_uri": "https://localhost:8080/",
     "height": 277
    },
    "executionInfo": {
     "elapsed": 405,
     "status": "ok",
     "timestamp": 1659706678429,
     "user": {
      "displayName": "Kentaro Kakimoto",
      "userId": "10433744363719433316"
     },
     "user_tz": -540
    },
    "hidden": true,
    "id": "_DfRwCFBvfEc",
    "outputId": "5822eb97-2429-4d0d-8d69-1ba60a280f59"
   },
   "outputs": [
    {
     "data": {
      "image/png": "[encoded data removed]",
      "text/plain": [
       "<Figure size 432x288 with 1 Axes>"
      ]
     },
     "metadata": {
      "needs_background": "light"
     },
     "output_type": "display_data"
    }
   ],
   "source": [
    "df2019['factors_relative'] = df2019['factors'] / us2019['factors'].to_numpy()\n",
    "\n",
    "df2019.plot(x='factors_relative', y='gdp_pc_relative', kind='scatter')\n",
    "pass"
   ]
  },
  {
   "cell_type": "markdown",
   "metadata": {
    "hidden": true,
    "id": "Jqg3bwLNvfEc"
   },
   "source": [
    "視覚的には，TFPと比べて相関度は低いようである。コードで確認しよう。"
   ]
  },
  {
   "cell_type": "code",
   "execution_count": 38,
   "metadata": {
    "colab": {
     "base_uri": "https://localhost:8080/",
     "height": 112
    },
    "executionInfo": {
     "elapsed": 3,
     "status": "ok",
     "timestamp": 1659706678429,
     "user": {
      "displayName": "Kentaro Kakimoto",
      "userId": "10433744363719433316"
     },
     "user_tz": -540
    },
    "hidden": true,
    "id": "U3XdYxDVvfEc",
    "outputId": "c4a4f3f5-6403-49fd-edd1-972db7ce1b87"
   },
   "outputs": [
    {
     "data": {
      "text/html": [
       "<div>\n",
       "<style scoped>\n",
       "    .dataframe tbody tr th:only-of-type {\n",
       "        vertical-align: middle;\n",
       "    }\n",
       "\n",
       "    .dataframe tbody tr th {\n",
       "        vertical-align: top;\n",
       "    }\n",
       "\n",
       "    .dataframe thead th {\n",
       "        text-align: right;\n",
       "    }\n",
       "</style>\n",
       "<table border=\"1\" class=\"dataframe\">\n",
       "  <thead>\n",
       "    <tr style=\"text-align: right;\">\n",
       "      <th></th>\n",
       "      <th>gdp_pc_relative</th>\n",
       "      <th>factors_relative</th>\n",
       "    </tr>\n",
       "  </thead>\n",
       "  <tbody>\n",
       "    <tr>\n",
       "      <th>gdp_pc_relative</th>\n",
       "      <td>1.000000</td>\n",
       "      <td>0.850706</td>\n",
       "    </tr>\n",
       "    <tr>\n",
       "      <th>factors_relative</th>\n",
       "      <td>0.850706</td>\n",
       "      <td>1.000000</td>\n",
       "    </tr>\n",
       "  </tbody>\n",
       "</table>\n",
       "</div>"
      ],
      "text/plain": [
       "                  gdp_pc_relative  factors_relative\n",
       "gdp_pc_relative          1.000000          0.850706\n",
       "factors_relative         0.850706          1.000000"
      ]
     },
     "execution_count": 38,
     "metadata": {},
     "output_type": "execute_result"
    }
   ],
   "source": [
    "df2019.loc[:,['gdp_pc_relative','factors_relative']].dropna().corr()"
   ]
  },
  {
   "cell_type": "markdown",
   "metadata": {
    "hidden": true,
    "id": "BhlxJ6k3vfEc"
   },
   "source": [
    "TFPより相関係数は低いことが確認できた。"
   ]
  },
  {
   "cell_type": "markdown",
   "metadata": {
    "heading_collapsed": true,
    "id": "mPmIn-H5vfEc",
    "tags": [
     "remove-cell"
    ]
   },
   "source": [
    "## 全要素生産性と蓄積生産要素の寄与度"
   ]
  },
  {
   "cell_type": "markdown",
   "metadata": {
    "hidden": true,
    "id": "q7w542Q8vfEc"
   },
   "source": [
    "(sec:5-tfp-factors)=\n",
    "## 全要素生産性と蓄積生産要素の寄与度"
   ]
  },
  {
   "cell_type": "markdown",
   "metadata": {
    "hidden": true,
    "id": "vJQbDy6SvfEc"
   },
   "source": [
    "全要素生産性と蓄積生産要素はそれぞれ一人当たりGDPにどれだけ寄与しているかを考えるために，次の方法を考える。まず生産関数を使い以下を定義する。\n",
    "\n",
    "$$\n",
    "R_i^y=R_i^{\\text{tfp}}R_i^{\\text{factors}}\n",
    "$$\n",
    "\n",
    "ここで\n",
    "\n",
    "$$\n",
    "R_i^y\\equiv\\dfrac{y_i}{y_{\\text{US}}},\\quad\n",
    "R_i^{\\text{tfp}}\\equiv\\dfrac{A_i}{A_{\\text{US}}},\\quad\n",
    "R_i^{\\text{factors}}\\equiv\n",
    "\\dfrac{k_i^a\\left(h_iH_i\\right)^{1-a}}{k_{\\text{US}}^a\\left(h_{\\text{US}}H_{\\text{US}}\\right)^{1-a}}\n",
    "$$\n",
    "\n",
    "1. $R_i^y$：米国を基準とした相対所得\n",
    "1. $R_i^{\\text{tfp}}$：米国を基準とした相対全要素生産性\n",
    "1. $R_i^{\\text{factors}}$：米国を基準とした相対蓄積生産要素"
   ]
  },
  {
   "cell_type": "markdown",
   "metadata": {
    "hidden": true,
    "id": "75SZOAp2vfEc"
   },
   "source": [
    "まず両辺に対数を取ると次式となる。\n",
    "\n",
    "$$\n",
    "r_i^y =\n",
    "r_i^{\\text{tfp}} +\n",
    "r_i^{\\text{factors}}\n",
    "$$ (eq:riy-decomposition)\n",
    "\n",
    "ここで，\n",
    "\n",
    "$$\n",
    "r_i^y\\equiv \\log\\left(R_i^y\\right),\\quad\n",
    "r_i^{\\text{tfp}}\\equiv\\log\\left(R_i^{\\text{tfp}}\\right),\\quad\n",
    "r_i^{\\text{factors}}\\equiv\\log\\left(R_i^{\\text{factors}}\\right)\n",
    "$$\n",
    "\n",
    "\n",
    "次に式[](eq:riy-decomposition)の両辺の分散を計算するが，次の関係が成立することを思い出そう。\n",
    "\n",
    "$$\n",
    "\\text{Var}(a+b)= \\text{Var}(a)+ \\text{Var}(b)+2\\text{Cov}(a,b)\n",
    "$$ (eq:var_a+b)\n",
    "\n",
    "式[](eq:var_a+b)を使うと[](eq:riy-decomposition)は次のように書き換えることができる。\n",
    "\n",
    "$$\n",
    "\\text{Var}\\left(r_i^y\\right) =\n",
    "\\text{Var}\\left(r_i^{\\text{tfp}}\\right) +\n",
    "\\text{Var}\\left(r_i^{\\text{factors}}\\right) +\n",
    "2\\text{Cov}\\left(r_i^{\\text{tfp}},r_i^{\\text{factors}}\\right)\n",
    "$$ (eq:VARriy-decomposition)\n",
    "\n",
    "\n",
    "式[](eq:VARriy-decomposition)は左辺の相対所得の変動は右辺の３つの項に分解することができることを示している。\n",
    "* $\\text{Var}\\left(r_i^{\\text{tfp}}\\right)$：全要素生産性（対数; 米国＝１）の変動\n",
    "* $\\text{Var}\\left(r_i^{\\text{factors}}\\right)$：蓄積生産要素（対数; 米国＝１）の変動\n",
    "* $\\text{Cov}\\left(r_i^{\\text{tfp}},r_i^{\\text{factors}}\\right)$：全要素生産性と相対蓄積生産要素の共分散（それぞれ対数; 米国＝１）"
   ]
  },
  {
   "cell_type": "markdown",
   "metadata": {
    "hidden": true,
    "id": "wLlSfAjNvfEd"
   },
   "source": [
    "更に，[](eq:VARriy-decomposition)の両辺を$\\text{Var}(r_i^y)$で割ると，次のように書くことができる。\n",
    "\n",
    "$$\n",
    "1= \\text{全要素生産性の寄与度}\n",
    "+\\text{蓄積生産要素の寄与度}\n",
    "$$\n",
    "\n",
    "ここで\n",
    "\n",
    "$$\n",
    "\\text{全要素生産性の寄与度}=\n",
    "\\dfrac{\n",
    "    \\text{Var}\\left(r_i^{\\text{tfp}}\\right)\n",
    "    +\\text{Cov}\\left(r_i^{\\text{tfp}},r_i^{\\text{factors}}\\right)\n",
    "    }{\n",
    "    \\text{Var}(r_i^y)\n",
    "    }\n",
    "$$ (eq:tfp-contribution)\n",
    "\n",
    "\n",
    "$$\n",
    "\\text{蓄積生産要素の寄与度}=\n",
    "\\dfrac{\n",
    "    \\text{Var}\\left(r_i^{\\text{factors}}\\right)\n",
    "    +\\text{Cov}\\left(r_i^{\\text{tfp}},r_i^{\\text{factors}}\\right)\n",
    "    }{\n",
    "    \\text{Var}(r_i^y)\n",
    "    }    \n",
    "$$ (eq:factor-contribution)\n",
    "\n",
    "と定義する。$2\\text{Cov}\\left(r_i^{\\text{tfp}},r_i^{\\text{factors}}\\right)$ は等分されている。\n",
    "\n",
    "（考え方）\n",
    "\n",
    "式[](eq:tfp-contribution)と[](eq:factor-contribution)の分母は$\\log(R_i^y)$の分散であり，それに対して分子はどれだけ変動しているかで寄与度を計算しようということである。分母に対して分子の変動が大きければ大きい程，説明力が高いと判断するわけである。極端な例として、全ての経済の全要素生産性が同じで蓄積生産要素だけが異なる場合を考えてみよう。即ち，\n",
    "\n",
    "$$\n",
    "\\text{Var}\\left(r_i^{\\text{tfp}}\\right)=0\\quad\\Rightarrow\\quad\n",
    "\\text{Cov}\\left(r_i^{\\text{tfp}},r_i^{\\text{factors}}\\right)\n",
    "=0\n",
    "$$\n",
    "\n",
    "この場合、蓄積生産要素だけで一人当たりGDPの違いを説明できることになるため、全要素生産性の寄与度は`0`であり蓄積生産要素は`1`である。即ち、全要素生産性は変化しないため一人当たりGDP（対数）の分散を説明できないが，一方，蓄積生産要素の変動のみで一人当たりGDPの変動を説明している事になる。"
   ]
  },
  {
   "cell_type": "code",
   "execution_count": 39,
   "metadata": {
    "executionInfo": {
     "elapsed": 272,
     "status": "ok",
     "timestamp": 1659706955924,
     "user": {
      "displayName": "Kentaro Kakimoto",
      "userId": "10433744363719433316"
     },
     "user_tz": -540
    },
    "hidden": true,
    "id": "5w142nD3vfEd"
   },
   "outputs": [],
   "source": [
    "# 欠損値であるNaNがある行を削除\n",
    "df2019_nonan = df2019.dropna(subset=['gdp_pc_relative','tfp_relative', 'factors_relative'])\n",
    "\n",
    "# それぞれの変数（対数）を設定\n",
    "tfp     = np.log(df2019_nonan['tfp_relative'])\n",
    "factors = np.log(df2019_nonan['factors_relative'])\n",
    "gdp_pc  = np.log(df2019_nonan['gdp_pc_relative'])\n",
    "\n",
    "# 分散・共分散の計算\n",
    "tfp_var         = tfp.var()\n",
    "factors_var     = factors.var()\n",
    "gdp_pc_var      = gdp_pc.var()\n",
    "tfp_factors_cov = np.cov(tfp.values,factors.values)[0,1]"
   ]
  },
  {
   "cell_type": "markdown",
   "metadata": {
    "hidden": true,
    "id": "MlfFQYeNvfEd"
   },
   "source": [
    "```{admonition} コードの説明\n",
    ":class: dropdown\n",
    "\n",
    "１行目で使った`.dropna()`は，引数なしでそのまま使うと１つでも`NaN`がある行は削除される。引数の`subset=[]`に列を指定すると，その列に`NaN`がある行だけが削除される。\n",
    "```"
   ]
  },
  {
   "cell_type": "markdown",
   "metadata": {
    "hidden": true,
    "id": "oVO4ntQSvfEd"
   },
   "source": [
    "**全要素生産性の寄与度**"
   ]
  },
  {
   "cell_type": "code",
   "execution_count": 40,
   "metadata": {
    "colab": {
     "base_uri": "https://localhost:8080/"
    },
    "executionInfo": {
     "elapsed": 319,
     "status": "ok",
     "timestamp": 1659706959497,
     "user": {
      "displayName": "Kentaro Kakimoto",
      "userId": "10433744363719433316"
     },
     "user_tz": -540
    },
    "hidden": true,
    "id": "aUgWa6p5vfEd",
    "outputId": "d91a2234-51ba-46b5-e55b-7fcbb2d085d4"
   },
   "outputs": [
    {
     "data": {
      "text/plain": [
       "0.5391873123319044"
      ]
     },
     "execution_count": 40,
     "metadata": {},
     "output_type": "execute_result"
    }
   ],
   "source": [
    "(tfp_var + tfp_factors_cov) / gdp_pc_var"
   ]
  },
  {
   "cell_type": "code",
   "execution_count": 41,
   "metadata": {
    "colab": {
     "base_uri": "https://localhost:8080/",
     "height": 17
    },
    "executionInfo": {
     "elapsed": 287,
     "status": "ok",
     "timestamp": 1659706961411,
     "user": {
      "displayName": "Kentaro Kakimoto",
      "userId": "10433744363719433316"
     },
     "user_tz": -540
    },
    "hidden": true,
    "id": "DTTkyVgTvfEd",
    "outputId": "9beb5798-f672-4a3b-fc67-7fb8610528ea",
    "tags": [
     "remove-cell"
    ]
   },
   "outputs": [
    {
     "data": {
      "application/papermill.record/text/plain": "54"
     },
     "metadata": {
      "scrapbook": {
       "mime_prefix": "application/papermill.record/",
       "name": "contribution_of_tfp"
      }
     },
     "output_type": "display_data"
    }
   ],
   "source": [
    "from myst_nb import glue\n",
    "contribution_of_tfp = (tfp_var + tfp_factors_cov) / gdp_pc_var\n",
    "glue(\"contribution_of_tfp\", int(100*round(contribution_of_tfp,2)),display=False)"
   ]
  },
  {
   "cell_type": "markdown",
   "metadata": {
    "hidden": true,
    "id": "01JhWnfivfEd"
   },
   "source": [
    "**蓄積生産要素の寄与度**"
   ]
  },
  {
   "cell_type": "code",
   "execution_count": 42,
   "metadata": {
    "colab": {
     "base_uri": "https://localhost:8080/"
    },
    "executionInfo": {
     "elapsed": 440,
     "status": "ok",
     "timestamp": 1659706964515,
     "user": {
      "displayName": "Kentaro Kakimoto",
      "userId": "10433744363719433316"
     },
     "user_tz": -540
    },
    "hidden": true,
    "id": "xQAOsR7lvfEd",
    "outputId": "389cbe79-5198-44f2-f7bc-499b2352f3df"
   },
   "outputs": [
    {
     "data": {
      "text/plain": [
       "0.46081268766809563"
      ]
     },
     "execution_count": 42,
     "metadata": {},
     "output_type": "execute_result"
    }
   ],
   "source": [
    "(factors_var + tfp_factors_cov) / gdp_pc_var"
   ]
  },
  {
   "cell_type": "code",
   "execution_count": 43,
   "metadata": {
    "colab": {
     "base_uri": "https://localhost:8080/",
     "height": 17
    },
    "executionInfo": {
     "elapsed": 262,
     "status": "ok",
     "timestamp": 1659706966523,
     "user": {
      "displayName": "Kentaro Kakimoto",
      "userId": "10433744363719433316"
     },
     "user_tz": -540
    },
    "hidden": true,
    "id": "sVDcdDuYvfEd",
    "outputId": "ef7b9f6f-05b5-4d05-bfd4-5f1ca6415fda",
    "tags": [
     "remove-cell"
    ]
   },
   "outputs": [
    {
     "data": {
      "application/papermill.record/text/plain": "46"
     },
     "metadata": {
      "scrapbook": {
       "mime_prefix": "application/papermill.record/",
       "name": "contribution_of_factors"
      }
     },
     "output_type": "display_data"
    }
   ],
   "source": [
    "from myst_nb import glue\n",
    "contribution_of_factors = (factors_var + tfp_factors_cov) / gdp_pc_var\n",
    "glue(\"contribution_of_factors\", int(100*round(contribution_of_factors,2)),display=False)"
   ]
  },
  {
   "cell_type": "markdown",
   "metadata": {
    "hidden": true,
    "id": "rm7d8NIWvfEd"
   },
   "source": [
    "**結果**\n",
    "\n",
    "2019年の一人当たりGDPの変動の約{glue:}`contribution_of_tfp`%は全要素生産性によって説明され，残りの{glue:}`contribution_of_factors`%は蓄積生産要素によって説明される。即ち，一人当たりGDPの決定要因としての全要素生産性は蓄積生産要素は重要性は同等もしくはそれ以上である。"
   ]
  },
  {
   "cell_type": "markdown",
   "metadata": {
    "heading_collapsed": true,
    "id": "blB7C2dYvfEd"
   },
   "source": [
    "## 表の作成"
   ]
  },
  {
   "cell_type": "markdown",
   "metadata": {
    "hidden": true,
    "id": "7SG05eSAvfEd"
   },
   "source": [
    "最後に、主要な国のデータを表にまとめてみる。"
   ]
  },
  {
   "cell_type": "code",
   "execution_count": 44,
   "metadata": {
    "colab": {
     "base_uri": "https://localhost:8080/",
     "height": 1000
    },
    "executionInfo": {
     "elapsed": 572,
     "status": "ok",
     "timestamp": 1659707264811,
     "user": {
      "displayName": "Kentaro Kakimoto",
      "userId": "10433744363719433316"
     },
     "user_tz": -540
    },
    "hidden": true,
    "id": "B7KArcNFvfEd",
    "outputId": "ac330d65-5f61-4311-ea0c-86d33ad3e79a"
   },
   "outputs": [
    {
     "name": "stdout",
     "output_type": "stream",
     "text": [
      "米国を１として\n"
     ]
    },
    {
     "data": {
      "text/html": [
       "<div>\n",
       "<style scoped>\n",
       "    .dataframe tbody tr th:only-of-type {\n",
       "        vertical-align: middle;\n",
       "    }\n",
       "\n",
       "    .dataframe tbody tr th {\n",
       "        vertical-align: top;\n",
       "    }\n",
       "\n",
       "    .dataframe thead th {\n",
       "        text-align: right;\n",
       "    }\n",
       "</style>\n",
       "<table border=\"1\" class=\"dataframe\">\n",
       "  <thead>\n",
       "    <tr style=\"text-align: right;\">\n",
       "      <th></th>\n",
       "      <th>一人当たりGDP</th>\n",
       "      <th>全要素生産性</th>\n",
       "      <th>蓄積生産要素</th>\n",
       "    </tr>\n",
       "    <tr>\n",
       "      <th>country</th>\n",
       "      <th></th>\n",
       "      <th></th>\n",
       "      <th></th>\n",
       "    </tr>\n",
       "  </thead>\n",
       "  <tbody>\n",
       "    <tr>\n",
       "      <th>Ireland</th>\n",
       "      <td>1.69</td>\n",
       "      <td>1.40</td>\n",
       "      <td>1.21</td>\n",
       "    </tr>\n",
       "    <tr>\n",
       "      <th>China, Macao SAR</th>\n",
       "      <td>1.19</td>\n",
       "      <td>NaN</td>\n",
       "      <td>NaN</td>\n",
       "    </tr>\n",
       "    <tr>\n",
       "      <th>Qatar</th>\n",
       "      <td>1.15</td>\n",
       "      <td>NaN</td>\n",
       "      <td>NaN</td>\n",
       "    </tr>\n",
       "    <tr>\n",
       "      <th>Brunei Darussalam</th>\n",
       "      <td>1.08</td>\n",
       "      <td>NaN</td>\n",
       "      <td>NaN</td>\n",
       "    </tr>\n",
       "    <tr>\n",
       "      <th>Norway</th>\n",
       "      <td>1.05</td>\n",
       "      <td>1.15</td>\n",
       "      <td>0.91</td>\n",
       "    </tr>\n",
       "    <tr>\n",
       "      <th>United States</th>\n",
       "      <td>1.00</td>\n",
       "      <td>1.00</td>\n",
       "      <td>1.00</td>\n",
       "    </tr>\n",
       "    <tr>\n",
       "      <th>Switzerland</th>\n",
       "      <td>0.99</td>\n",
       "      <td>0.93</td>\n",
       "      <td>1.07</td>\n",
       "    </tr>\n",
       "    <tr>\n",
       "      <th>Saudi Arabia</th>\n",
       "      <td>0.98</td>\n",
       "      <td>NaN</td>\n",
       "      <td>NaN</td>\n",
       "    </tr>\n",
       "    <tr>\n",
       "      <th>Singapore</th>\n",
       "      <td>0.98</td>\n",
       "      <td>0.70</td>\n",
       "      <td>1.39</td>\n",
       "    </tr>\n",
       "    <tr>\n",
       "      <th>Luxembourg</th>\n",
       "      <td>0.94</td>\n",
       "      <td>1.04</td>\n",
       "      <td>0.90</td>\n",
       "    </tr>\n",
       "    <tr>\n",
       "      <th>United Arab Emirates</th>\n",
       "      <td>0.84</td>\n",
       "      <td>NaN</td>\n",
       "      <td>NaN</td>\n",
       "    </tr>\n",
       "    <tr>\n",
       "      <th>Kuwait</th>\n",
       "      <td>0.82</td>\n",
       "      <td>NaN</td>\n",
       "      <td>NaN</td>\n",
       "    </tr>\n",
       "    <tr>\n",
       "      <th>Belgium</th>\n",
       "      <td>0.82</td>\n",
       "      <td>0.89</td>\n",
       "      <td>0.92</td>\n",
       "    </tr>\n",
       "    <tr>\n",
       "      <th>China, Hong Kong SAR</th>\n",
       "      <td>0.81</td>\n",
       "      <td>0.76</td>\n",
       "      <td>1.07</td>\n",
       "    </tr>\n",
       "    <tr>\n",
       "      <th>Sweden</th>\n",
       "      <td>0.81</td>\n",
       "      <td>0.87</td>\n",
       "      <td>0.94</td>\n",
       "    </tr>\n",
       "    <tr>\n",
       "      <th>Australia</th>\n",
       "      <td>0.81</td>\n",
       "      <td>0.86</td>\n",
       "      <td>0.95</td>\n",
       "    </tr>\n",
       "    <tr>\n",
       "      <th>Austria</th>\n",
       "      <td>0.81</td>\n",
       "      <td>0.85</td>\n",
       "      <td>0.95</td>\n",
       "    </tr>\n",
       "    <tr>\n",
       "      <th>Denmark</th>\n",
       "      <td>0.81</td>\n",
       "      <td>0.94</td>\n",
       "      <td>0.86</td>\n",
       "    </tr>\n",
       "    <tr>\n",
       "      <th>Bahrain</th>\n",
       "      <td>0.80</td>\n",
       "      <td>NaN</td>\n",
       "      <td>NaN</td>\n",
       "    </tr>\n",
       "    <tr>\n",
       "      <th>France</th>\n",
       "      <td>0.80</td>\n",
       "      <td>0.92</td>\n",
       "      <td>0.86</td>\n",
       "    </tr>\n",
       "    <tr>\n",
       "      <th>Netherlands</th>\n",
       "      <td>0.77</td>\n",
       "      <td>0.95</td>\n",
       "      <td>0.82</td>\n",
       "    </tr>\n",
       "    <tr>\n",
       "      <th>Canada</th>\n",
       "      <td>0.74</td>\n",
       "      <td>0.81</td>\n",
       "      <td>0.92</td>\n",
       "    </tr>\n",
       "    <tr>\n",
       "      <th>Italy</th>\n",
       "      <td>0.74</td>\n",
       "      <td>0.78</td>\n",
       "      <td>0.95</td>\n",
       "    </tr>\n",
       "    <tr>\n",
       "      <th>Taiwan</th>\n",
       "      <td>0.74</td>\n",
       "      <td>0.78</td>\n",
       "      <td>0.95</td>\n",
       "    </tr>\n",
       "    <tr>\n",
       "      <th>Germany</th>\n",
       "      <td>0.73</td>\n",
       "      <td>0.90</td>\n",
       "      <td>0.81</td>\n",
       "    </tr>\n",
       "    <tr>\n",
       "      <th>Spain</th>\n",
       "      <td>0.73</td>\n",
       "      <td>0.89</td>\n",
       "      <td>0.83</td>\n",
       "    </tr>\n",
       "    <tr>\n",
       "      <th>Iceland</th>\n",
       "      <td>0.73</td>\n",
       "      <td>0.94</td>\n",
       "      <td>0.77</td>\n",
       "    </tr>\n",
       "    <tr>\n",
       "      <th>Finland</th>\n",
       "      <td>0.72</td>\n",
       "      <td>0.83</td>\n",
       "      <td>0.87</td>\n",
       "    </tr>\n",
       "    <tr>\n",
       "      <th>Bermuda</th>\n",
       "      <td>0.72</td>\n",
       "      <td>NaN</td>\n",
       "      <td>NaN</td>\n",
       "    </tr>\n",
       "    <tr>\n",
       "      <th>United Kingdom</th>\n",
       "      <td>0.70</td>\n",
       "      <td>0.76</td>\n",
       "      <td>0.92</td>\n",
       "    </tr>\n",
       "    <tr>\n",
       "      <th>Cayman Islands</th>\n",
       "      <td>0.69</td>\n",
       "      <td>NaN</td>\n",
       "      <td>NaN</td>\n",
       "    </tr>\n",
       "    <tr>\n",
       "      <th>British Virgin Islands</th>\n",
       "      <td>0.62</td>\n",
       "      <td>NaN</td>\n",
       "      <td>NaN</td>\n",
       "    </tr>\n",
       "    <tr>\n",
       "      <th>Republic of Korea</th>\n",
       "      <td>0.62</td>\n",
       "      <td>0.60</td>\n",
       "      <td>1.03</td>\n",
       "    </tr>\n",
       "    <tr>\n",
       "      <th>Turkey</th>\n",
       "      <td>0.62</td>\n",
       "      <td>0.92</td>\n",
       "      <td>0.67</td>\n",
       "    </tr>\n",
       "    <tr>\n",
       "      <th>New Zealand</th>\n",
       "      <td>0.61</td>\n",
       "      <td>0.80</td>\n",
       "      <td>0.77</td>\n",
       "    </tr>\n",
       "    <tr>\n",
       "      <th>Malta</th>\n",
       "      <td>0.61</td>\n",
       "      <td>0.79</td>\n",
       "      <td>0.77</td>\n",
       "    </tr>\n",
       "    <tr>\n",
       "      <th>Israel</th>\n",
       "      <td>0.60</td>\n",
       "      <td>0.67</td>\n",
       "      <td>0.89</td>\n",
       "    </tr>\n",
       "    <tr>\n",
       "      <th>Cyprus</th>\n",
       "      <td>0.60</td>\n",
       "      <td>0.71</td>\n",
       "      <td>0.84</td>\n",
       "    </tr>\n",
       "    <tr>\n",
       "      <th>Poland</th>\n",
       "      <td>0.58</td>\n",
       "      <td>0.78</td>\n",
       "      <td>0.74</td>\n",
       "    </tr>\n",
       "    <tr>\n",
       "      <th>Czech Republic</th>\n",
       "      <td>0.56</td>\n",
       "      <td>0.60</td>\n",
       "      <td>0.94</td>\n",
       "    </tr>\n",
       "    <tr>\n",
       "      <th>Aruba</th>\n",
       "      <td>0.56</td>\n",
       "      <td>NaN</td>\n",
       "      <td>NaN</td>\n",
       "    </tr>\n",
       "    <tr>\n",
       "      <th>Japan</th>\n",
       "      <td>0.55</td>\n",
       "      <td>0.63</td>\n",
       "      <td>0.87</td>\n",
       "    </tr>\n",
       "    <tr>\n",
       "      <th>Slovenia</th>\n",
       "      <td>0.52</td>\n",
       "      <td>0.62</td>\n",
       "      <td>0.85</td>\n",
       "    </tr>\n",
       "    <tr>\n",
       "      <th>Greece</th>\n",
       "      <td>0.52</td>\n",
       "      <td>0.55</td>\n",
       "      <td>0.95</td>\n",
       "    </tr>\n",
       "    <tr>\n",
       "      <th>Estonia</th>\n",
       "      <td>0.52</td>\n",
       "      <td>0.61</td>\n",
       "      <td>0.85</td>\n",
       "    </tr>\n",
       "    <tr>\n",
       "      <th>Equatorial Guinea</th>\n",
       "      <td>0.51</td>\n",
       "      <td>NaN</td>\n",
       "      <td>NaN</td>\n",
       "    </tr>\n",
       "    <tr>\n",
       "      <th>Bosnia and Herzegovina</th>\n",
       "      <td>0.51</td>\n",
       "      <td>NaN</td>\n",
       "      <td>NaN</td>\n",
       "    </tr>\n",
       "    <tr>\n",
       "      <th>Panama</th>\n",
       "      <td>0.51</td>\n",
       "      <td>NaN</td>\n",
       "      <td>NaN</td>\n",
       "    </tr>\n",
       "    <tr>\n",
       "      <th>Portugal</th>\n",
       "      <td>0.51</td>\n",
       "      <td>0.67</td>\n",
       "      <td>0.76</td>\n",
       "    </tr>\n",
       "    <tr>\n",
       "      <th>Lithuania</th>\n",
       "      <td>0.50</td>\n",
       "      <td>0.67</td>\n",
       "      <td>0.75</td>\n",
       "    </tr>\n",
       "  </tbody>\n",
       "</table>\n",
       "</div>"
      ],
      "text/plain": [
       "                        一人当たりGDP  全要素生産性  蓄積生産要素\n",
       "country                                         \n",
       "Ireland                     1.69    1.40    1.21\n",
       "China, Macao SAR            1.19     NaN     NaN\n",
       "Qatar                       1.15     NaN     NaN\n",
       "Brunei Darussalam           1.08     NaN     NaN\n",
       "Norway                      1.05    1.15    0.91\n",
       "United States               1.00    1.00    1.00\n",
       "Switzerland                 0.99    0.93    1.07\n",
       "Saudi Arabia                0.98     NaN     NaN\n",
       "Singapore                   0.98    0.70    1.39\n",
       "Luxembourg                  0.94    1.04    0.90\n",
       "United Arab Emirates        0.84     NaN     NaN\n",
       "Kuwait                      0.82     NaN     NaN\n",
       "Belgium                     0.82    0.89    0.92\n",
       "China, Hong Kong SAR        0.81    0.76    1.07\n",
       "Sweden                      0.81    0.87    0.94\n",
       "Australia                   0.81    0.86    0.95\n",
       "Austria                     0.81    0.85    0.95\n",
       "Denmark                     0.81    0.94    0.86\n",
       "Bahrain                     0.80     NaN     NaN\n",
       "France                      0.80    0.92    0.86\n",
       "Netherlands                 0.77    0.95    0.82\n",
       "Canada                      0.74    0.81    0.92\n",
       "Italy                       0.74    0.78    0.95\n",
       "Taiwan                      0.74    0.78    0.95\n",
       "Germany                     0.73    0.90    0.81\n",
       "Spain                       0.73    0.89    0.83\n",
       "Iceland                     0.73    0.94    0.77\n",
       "Finland                     0.72    0.83    0.87\n",
       "Bermuda                     0.72     NaN     NaN\n",
       "United Kingdom              0.70    0.76    0.92\n",
       "Cayman Islands              0.69     NaN     NaN\n",
       "British Virgin Islands      0.62     NaN     NaN\n",
       "Republic of Korea           0.62    0.60    1.03\n",
       "Turkey                      0.62    0.92    0.67\n",
       "New Zealand                 0.61    0.80    0.77\n",
       "Malta                       0.61    0.79    0.77\n",
       "Israel                      0.60    0.67    0.89\n",
       "Cyprus                      0.60    0.71    0.84\n",
       "Poland                      0.58    0.78    0.74\n",
       "Czech Republic              0.56    0.60    0.94\n",
       "Aruba                       0.56     NaN     NaN\n",
       "Japan                       0.55    0.63    0.87\n",
       "Slovenia                    0.52    0.62    0.85\n",
       "Greece                      0.52    0.55    0.95\n",
       "Estonia                     0.52    0.61    0.85\n",
       "Equatorial Guinea           0.51     NaN     NaN\n",
       "Bosnia and Herzegovina      0.51     NaN     NaN\n",
       "Panama                      0.51     NaN     NaN\n",
       "Portugal                    0.51    0.67    0.76\n",
       "Lithuania                   0.50    0.67    0.75"
      ]
     },
     "execution_count": 44,
     "metadata": {},
     "output_type": "execute_result"
    }
   ],
   "source": [
    "# 1\n",
    "country_table = ['Japan', 'United Kingdom','United States', 'Norway',\n",
    "                'Mexico','Peru','India','China','Zimbabwe','Niger']\n",
    "\n",
    "# 2)\n",
    "# cond = df2019['country'].isin(country_table)\n",
    "cond = (df2019['country'] != \"\")\n",
    "\n",
    "# 3\n",
    "col = ['country','gdp_pc_relative','tfp_relative','factors_relative']\n",
    "\n",
    "# 4\n",
    "table2019 = df2019.loc[cond,col].set_index('country') \\\n",
    "                  .sort_values('gdp_pc_relative', ascending=False) \\\n",
    "                  .round(2) \\\n",
    "                  .rename(columns={'gdp_pc_relative':'一人当たりGDP',\n",
    "                                   'tfp_relative':'全要素生産性',\n",
    "                                  'factors_relative':'蓄積生産要素'})\n",
    "\n",
    "df2019['country']\n",
    "print('米国を１として')\n",
    "table2019.head(50)\n"
   ]
  },
  {
   "cell_type": "markdown",
   "metadata": {
    "hidden": true,
    "id": "nDZh9AtEvfEd"
   },
   "source": [
    "```{admonition} コードの説明\n",
    ":class: dropdown\n",
    "\n",
    "1. 表示する国のリスト\n",
    "2. 列`country`に`country_list`にある国名と同じであれば`True`、異なる場合は`False`を返す条件を作成している。\n",
    "    * `.isin()`はそのためのメソッド\n",
    "3. 表の列ラベルに使う変数リスト\n",
    "4. `DataFrame`を作成する。\n",
    "    * `.loc[cond,col]`を使い、`cond`の条件に合った行、そして`col`の列を抽出する。\n",
    "    * `.set_index('country')`は`country`の列を行ラベルに設定するメソッド。\n",
    "    * `.sort_values()`は`DataFrame`を列`gdp_pc_relative`に従って並び替えるメソッドであり、`ascending=False`は降順を指定している。\n",
    "    * `.round(2)`は表示する小数点を第二桁までで四捨五入することを指定するメソッド。\n",
    "    * `.rename()`は列ラベルを変更するメソッド。\n",
    "    \n",
    "＜コメント＞ `print()`関数を使うとテキストとして表示される。\n",
    "```"
   ]
  },
  {
   "cell_type": "code",
   "execution_count": 45,
   "metadata": {
    "colab": {
     "base_uri": "https://localhost:8080/",
     "height": 17
    },
    "executionInfo": {
     "elapsed": 268,
     "status": "ok",
     "timestamp": 1659707318086,
     "user": {
      "displayName": "Kentaro Kakimoto",
      "userId": "10433744363719433316"
     },
     "user_tz": -540
    },
    "hidden": true,
    "id": "wDr2hRwovfEd",
    "outputId": "f7f5908d-8b84-4bac-eb2e-f5124d6acc96",
    "tags": [
     "remove-cell"
    ]
   },
   "outputs": [
    {
     "data": {
      "application/papermill.record/text/plain": "63"
     },
     "metadata": {
      "scrapbook": {
       "mime_prefix": "application/papermill.record/",
       "name": "tfp_jp_relative_to_us"
      }
     },
     "output_type": "display_data"
    },
    {
     "data": {
      "application/papermill.record/text/plain": "87"
     },
     "metadata": {
      "scrapbook": {
       "mime_prefix": "application/papermill.record/",
       "name": "factors_jp_relative_to_us"
      }
     },
     "output_type": "display_data"
    }
   ],
   "source": [
    "from myst_nb import glue\n",
    "tfp_jp_relative_to_us = int(table2019.loc['Japan','全要素生産性']*100)\n",
    "glue(\"tfp_jp_relative_to_us\", tfp_jp_relative_to_us,display=False)\n",
    "factors_jp_relative_to_us = int(table2019.loc['Japan','蓄積生産要素']*100)\n",
    "glue(\"factors_jp_relative_to_us\", factors_jp_relative_to_us,display=False)"
   ]
  },
  {
   "cell_type": "markdown",
   "metadata": {
    "hidden": true,
    "id": "_nBlggvzvfEd"
   },
   "source": [
    "この表から日本の全要素生産性は米国の{glue:}`tfp_jp_relative_to_us`%であり，蓄積生産要素は米国の{glue:}`factors_jp_relative_to_us`%であることが分かる。"
   ]
  }
 ],
 "metadata": {
  "celltoolbar": "Tags",
  "colab": {
   "name": "5a_Development_Accounting.ipynb",
   "provenance": [],
   "toc_visible": true
  },
  "kernelspec": {
   "display_name": "Python 3 (ipykernel)",
   "language": "python",
   "name": "python3"
  },
  "language_info": {
   "codemirror_mode": {
    "name": "ipython",
    "version": 3
   },
   "file_extension": ".py",
   "mimetype": "text/x-python",
   "name": "python",
   "nbconvert_exporter": "python",
   "pygments_lexer": "ipython3",
   "version": "3.8.9"
  }
 },
 "nbformat": 4,
 "nbformat_minor": 4
}
