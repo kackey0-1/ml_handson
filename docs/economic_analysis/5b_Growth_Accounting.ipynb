{
 "cells": [
  {
   "cell_type": "markdown",
   "metadata": {
    "id": "kLPDjwBe7fa4"
   },
   "source": [
    "(chap:5b-accounting)=\n",
    "# 成長会計"
   ]
  },
  {
   "cell_type": "markdown",
   "metadata": {
    "id": "XWgexvAY7fa9"
   },
   "source": [
    "<div name=\"html-admonition\" style=\"font-size: 0.8em\">\n",
    "<input type=\"button\" onclick=\"location.href='https://translate.google.com/translate?hl=&sl=ja&tl=en&u='+window.location;\" value=\"Google translation\" style=\"color:#ffffff;background-color:#008080; height:25px\" onmouseover=\"this.style.background='#99ccff'\" onmouseout=\"this.style.background='#008080'\"/> in English or the language of your choice.\n",
    "</div><br>"
   ]
  },
  {
   "cell_type": "code",
   "execution_count": 8,
   "metadata": {
    "colab": {
     "base_uri": "https://localhost:8080/",
     "height": 1000
    },
    "executionInfo": {
     "elapsed": 33804,
     "status": "ok",
     "timestamp": 1659738700555,
     "user": {
      "displayName": "Kentaro Kakimoto",
      "userId": "10433744363719433316"
     },
     "user_tz": -540
    },
    "id": "YC13XXF1Ig-m",
    "outputId": "232af43a-26e8-4eb9-cb81-746ab16ee432"
   },
   "outputs": [
    {
     "name": "stdout",
     "output_type": "stream",
     "text": [
      "Requirement already satisfied: japanize_matplotlib in /Users/k-kakimoto/dev/ml_samples/.venv/lib/python3.8/site-packages (1.1.3)\n",
      "Requirement already satisfied: matplotlib in /Users/k-kakimoto/dev/ml_samples/.venv/lib/python3.8/site-packages (from japanize_matplotlib) (3.5.2)\n",
      "Requirement already satisfied: pyparsing>=2.2.1 in /Users/k-kakimoto/dev/ml_samples/.venv/lib/python3.8/site-packages (from matplotlib->japanize_matplotlib) (3.0.9)\n",
      "Requirement already satisfied: kiwisolver>=1.0.1 in /Users/k-kakimoto/dev/ml_samples/.venv/lib/python3.8/site-packages (from matplotlib->japanize_matplotlib) (1.4.3)\n",
      "Requirement already satisfied: python-dateutil>=2.7 in /Users/k-kakimoto/dev/ml_samples/.venv/lib/python3.8/site-packages (from matplotlib->japanize_matplotlib) (2.8.2)\n",
      "Requirement already satisfied: packaging>=20.0 in /Users/k-kakimoto/dev/ml_samples/.venv/lib/python3.8/site-packages (from matplotlib->japanize_matplotlib) (21.3)\n",
      "Requirement already satisfied: pillow>=6.2.0 in /Users/k-kakimoto/dev/ml_samples/.venv/lib/python3.8/site-packages (from matplotlib->japanize_matplotlib) (9.1.1)\n",
      "Requirement already satisfied: cycler>=0.10 in /Users/k-kakimoto/dev/ml_samples/.venv/lib/python3.8/site-packages (from matplotlib->japanize_matplotlib) (0.11.0)\n",
      "Requirement already satisfied: fonttools>=4.22.0 in /Users/k-kakimoto/dev/ml_samples/.venv/lib/python3.8/site-packages (from matplotlib->japanize_matplotlib) (4.33.3)\n",
      "Requirement already satisfied: numpy>=1.17 in /Users/k-kakimoto/dev/ml_samples/.venv/lib/python3.8/site-packages (from matplotlib->japanize_matplotlib) (1.22.4)\n",
      "Requirement already satisfied: six>=1.5 in /Users/k-kakimoto/dev/ml_samples/.venv/lib/python3.8/site-packages (from python-dateutil>=2.7->matplotlib->japanize_matplotlib) (1.16.0)\n",
      "\u001b[33mWARNING: You are using pip version 22.0.4; however, version 22.2.1 is available.\n",
      "You should consider upgrading via the '/Users/k-kakimoto/dev/ml_samples/.venv/bin/python -m pip install --upgrade pip' command.\u001b[0m\u001b[33m\n",
      "\u001b[0mNote: you may need to restart the kernel to use updated packages.\n",
      "Requirement already satisfied: py4macro in /Users/k-kakimoto/dev/ml_samples/.venv/lib/python3.8/site-packages (0.6.1)\n",
      "Requirement already satisfied: pandas in /Users/k-kakimoto/dev/ml_samples/.venv/lib/python3.8/site-packages (from py4macro) (1.4.2)\n",
      "Requirement already satisfied: pytz>=2020.1 in /Users/k-kakimoto/dev/ml_samples/.venv/lib/python3.8/site-packages (from pandas->py4macro) (2022.1)\n",
      "Requirement already satisfied: numpy>=1.20.0 in /Users/k-kakimoto/dev/ml_samples/.venv/lib/python3.8/site-packages (from pandas->py4macro) (1.22.4)\n",
      "Requirement already satisfied: python-dateutil>=2.8.1 in /Users/k-kakimoto/dev/ml_samples/.venv/lib/python3.8/site-packages (from pandas->py4macro) (2.8.2)\n",
      "Requirement already satisfied: six>=1.5 in /Users/k-kakimoto/dev/ml_samples/.venv/lib/python3.8/site-packages (from python-dateutil>=2.8.1->pandas->py4macro) (1.16.0)\n",
      "\u001b[33mWARNING: You are using pip version 22.0.4; however, version 22.2.1 is available.\n",
      "You should consider upgrading via the '/Users/k-kakimoto/dev/ml_samples/.venv/bin/python -m pip install --upgrade pip' command.\u001b[0m\u001b[33m\n",
      "\u001b[0mNote: you may need to restart the kernel to use updated packages.\n",
      "Requirement already satisfied: myst-nb in /Users/k-kakimoto/dev/ml_samples/.venv/lib/python3.8/site-packages (0.16.0)\n",
      "Requirement already satisfied: sphinx-togglebutton~=0.3.0 in /Users/k-kakimoto/dev/ml_samples/.venv/lib/python3.8/site-packages (from myst-nb) (0.3.2)\n",
      "Requirement already satisfied: nbformat~=5.0 in /Users/k-kakimoto/dev/ml_samples/.venv/lib/python3.8/site-packages (from myst-nb) (5.4.0)\n",
      "Requirement already satisfied: ipykernel in /Users/k-kakimoto/dev/ml_samples/.venv/lib/python3.8/site-packages (from myst-nb) (6.15.1)\n",
      "Requirement already satisfied: jupyter-cache~=0.5.0 in /Users/k-kakimoto/dev/ml_samples/.venv/lib/python3.8/site-packages (from myst-nb) (0.5.0)\n",
      "Requirement already satisfied: nbclient in /Users/k-kakimoto/dev/ml_samples/.venv/lib/python3.8/site-packages (from myst-nb) (0.5.13)\n",
      "Requirement already satisfied: importlib_metadata in /Users/k-kakimoto/dev/ml_samples/.venv/lib/python3.8/site-packages (from myst-nb) (4.12.0)\n",
      "Requirement already satisfied: pyyaml in /Users/k-kakimoto/dev/ml_samples/.venv/lib/python3.8/site-packages (from myst-nb) (6.0)\n",
      "Requirement already satisfied: sphinx<6,>=4 in /Users/k-kakimoto/dev/ml_samples/.venv/lib/python3.8/site-packages (from myst-nb) (5.1.1)\n",
      "Requirement already satisfied: typing-extensions in /Users/k-kakimoto/dev/ml_samples/.venv/lib/python3.8/site-packages (from myst-nb) (4.3.0)\n",
      "Requirement already satisfied: ipython in /Users/k-kakimoto/dev/ml_samples/.venv/lib/python3.8/site-packages (from myst-nb) (8.4.0)\n",
      "Requirement already satisfied: myst-parser~=0.18.0 in /Users/k-kakimoto/dev/ml_samples/.venv/lib/python3.8/site-packages (from myst-nb) (0.18.0)\n",
      "Requirement already satisfied: tabulate in /Users/k-kakimoto/dev/ml_samples/.venv/lib/python3.8/site-packages (from jupyter-cache~=0.5.0->myst-nb) (0.8.10)\n",
      "Requirement already satisfied: attrs in /Users/k-kakimoto/dev/ml_samples/.venv/lib/python3.8/site-packages (from jupyter-cache~=0.5.0->myst-nb) (22.1.0)\n",
      "Requirement already satisfied: click in /Users/k-kakimoto/dev/ml_samples/.venv/lib/python3.8/site-packages (from jupyter-cache~=0.5.0->myst-nb) (8.1.3)\n",
      "Requirement already satisfied: sqlalchemy<1.5,>=1.3.12 in /Users/k-kakimoto/dev/ml_samples/.venv/lib/python3.8/site-packages (from jupyter-cache~=0.5.0->myst-nb) (1.4.39)\n",
      "Requirement already satisfied: mdit-py-plugins~=0.3.0 in /Users/k-kakimoto/dev/ml_samples/.venv/lib/python3.8/site-packages (from myst-parser~=0.18.0->myst-nb) (0.3.0)\n",
      "Requirement already satisfied: markdown-it-py<3.0.0,>=1.0.0 in /Users/k-kakimoto/dev/ml_samples/.venv/lib/python3.8/site-packages (from myst-parser~=0.18.0->myst-nb) (2.1.0)\n",
      "Requirement already satisfied: docutils<0.19,>=0.15 in /Users/k-kakimoto/dev/ml_samples/.venv/lib/python3.8/site-packages (from myst-parser~=0.18.0->myst-nb) (0.18.1)\n",
      "Requirement already satisfied: jinja2 in /Users/k-kakimoto/dev/ml_samples/.venv/lib/python3.8/site-packages (from myst-parser~=0.18.0->myst-nb) (3.1.2)\n",
      "Requirement already satisfied: jupyter-client>=6.1.5 in /Users/k-kakimoto/dev/ml_samples/.venv/lib/python3.8/site-packages (from nbclient->myst-nb) (7.3.4)\n",
      "Requirement already satisfied: traitlets>=5.0.0 in /Users/k-kakimoto/dev/ml_samples/.venv/lib/python3.8/site-packages (from nbclient->myst-nb) (5.3.0)\n",
      "Requirement already satisfied: nest-asyncio in /Users/k-kakimoto/dev/ml_samples/.venv/lib/python3.8/site-packages (from nbclient->myst-nb) (1.5.5)\n",
      "Requirement already satisfied: jsonschema>=2.6 in /Users/k-kakimoto/dev/ml_samples/.venv/lib/python3.8/site-packages (from nbformat~=5.0->myst-nb) (4.9.0)\n",
      "Requirement already satisfied: fastjsonschema in /Users/k-kakimoto/dev/ml_samples/.venv/lib/python3.8/site-packages (from nbformat~=5.0->myst-nb) (2.16.1)\n",
      "Requirement already satisfied: jupyter-core in /Users/k-kakimoto/dev/ml_samples/.venv/lib/python3.8/site-packages (from nbformat~=5.0->myst-nb) (4.11.1)\n",
      "Requirement already satisfied: sphinxcontrib-devhelp in /Users/k-kakimoto/dev/ml_samples/.venv/lib/python3.8/site-packages (from sphinx<6,>=4->myst-nb) (1.0.2)\n",
      "Requirement already satisfied: sphinxcontrib-jsmath in /Users/k-kakimoto/dev/ml_samples/.venv/lib/python3.8/site-packages (from sphinx<6,>=4->myst-nb) (1.0.1)\n",
      "Requirement already satisfied: Pygments>=2.0 in /Users/k-kakimoto/dev/ml_samples/.venv/lib/python3.8/site-packages (from sphinx<6,>=4->myst-nb) (2.12.0)\n",
      "Requirement already satisfied: alabaster<0.8,>=0.7 in /Users/k-kakimoto/dev/ml_samples/.venv/lib/python3.8/site-packages (from sphinx<6,>=4->myst-nb) (0.7.12)\n",
      "Requirement already satisfied: imagesize in /Users/k-kakimoto/dev/ml_samples/.venv/lib/python3.8/site-packages (from sphinx<6,>=4->myst-nb) (1.4.1)\n",
      "Requirement already satisfied: requests>=2.5.0 in /Users/k-kakimoto/dev/ml_samples/.venv/lib/python3.8/site-packages (from sphinx<6,>=4->myst-nb) (2.28.1)\n",
      "Requirement already satisfied: snowballstemmer>=1.1 in /Users/k-kakimoto/dev/ml_samples/.venv/lib/python3.8/site-packages (from sphinx<6,>=4->myst-nb) (2.2.0)\n",
      "Requirement already satisfied: packaging in /Users/k-kakimoto/dev/ml_samples/.venv/lib/python3.8/site-packages (from sphinx<6,>=4->myst-nb) (21.3)\n",
      "Requirement already satisfied: babel>=1.3 in /Users/k-kakimoto/dev/ml_samples/.venv/lib/python3.8/site-packages (from sphinx<6,>=4->myst-nb) (2.10.3)\n",
      "Requirement already satisfied: sphinxcontrib-applehelp in /Users/k-kakimoto/dev/ml_samples/.venv/lib/python3.8/site-packages (from sphinx<6,>=4->myst-nb) (1.0.2)\n",
      "Requirement already satisfied: sphinxcontrib-qthelp in /Users/k-kakimoto/dev/ml_samples/.venv/lib/python3.8/site-packages (from sphinx<6,>=4->myst-nb) (1.0.3)\n",
      "Requirement already satisfied: sphinxcontrib-htmlhelp>=2.0.0 in /Users/k-kakimoto/dev/ml_samples/.venv/lib/python3.8/site-packages (from sphinx<6,>=4->myst-nb) (2.0.0)\n",
      "Requirement already satisfied: sphinxcontrib-serializinghtml>=1.1.5 in /Users/k-kakimoto/dev/ml_samples/.venv/lib/python3.8/site-packages (from sphinx<6,>=4->myst-nb) (1.1.5)\n",
      "Requirement already satisfied: zipp>=0.5 in /Users/k-kakimoto/dev/ml_samples/.venv/lib/python3.8/site-packages (from importlib_metadata->myst-nb) (3.8.1)\n",
      "Requirement already satisfied: setuptools in /Users/k-kakimoto/dev/ml_samples/.venv/lib/python3.8/site-packages (from sphinx-togglebutton~=0.3.0->myst-nb) (62.1.0)\n",
      "Requirement already satisfied: wheel in /Users/k-kakimoto/dev/ml_samples/.venv/lib/python3.8/site-packages (from sphinx-togglebutton~=0.3.0->myst-nb) (0.37.1)\n",
      "Requirement already satisfied: tornado>=6.1 in /Users/k-kakimoto/dev/ml_samples/.venv/lib/python3.8/site-packages (from ipykernel->myst-nb) (6.2)\n",
      "Requirement already satisfied: appnope in /Users/k-kakimoto/dev/ml_samples/.venv/lib/python3.8/site-packages (from ipykernel->myst-nb) (0.1.3)\n",
      "Requirement already satisfied: matplotlib-inline>=0.1 in /Users/k-kakimoto/dev/ml_samples/.venv/lib/python3.8/site-packages (from ipykernel->myst-nb) (0.1.3)\n",
      "Requirement already satisfied: pyzmq>=17 in /Users/k-kakimoto/dev/ml_samples/.venv/lib/python3.8/site-packages (from ipykernel->myst-nb) (23.2.0)\n",
      "Requirement already satisfied: debugpy>=1.0 in /Users/k-kakimoto/dev/ml_samples/.venv/lib/python3.8/site-packages (from ipykernel->myst-nb) (1.6.2)\n",
      "Requirement already satisfied: psutil in /Users/k-kakimoto/dev/ml_samples/.venv/lib/python3.8/site-packages (from ipykernel->myst-nb) (5.9.1)\n",
      "Requirement already satisfied: jedi>=0.16 in /Users/k-kakimoto/dev/ml_samples/.venv/lib/python3.8/site-packages (from ipython->myst-nb) (0.18.1)\n",
      "Requirement already satisfied: decorator in /Users/k-kakimoto/dev/ml_samples/.venv/lib/python3.8/site-packages (from ipython->myst-nb) (5.1.1)\n",
      "Requirement already satisfied: backcall in /Users/k-kakimoto/dev/ml_samples/.venv/lib/python3.8/site-packages (from ipython->myst-nb) (0.2.0)\n",
      "Requirement already satisfied: prompt-toolkit!=3.0.0,!=3.0.1,<3.1.0,>=2.0.0 in /Users/k-kakimoto/dev/ml_samples/.venv/lib/python3.8/site-packages (from ipython->myst-nb) (3.0.30)\n",
      "Requirement already satisfied: pickleshare in /Users/k-kakimoto/dev/ml_samples/.venv/lib/python3.8/site-packages (from ipython->myst-nb) (0.7.5)\n",
      "Requirement already satisfied: pexpect>4.3 in /Users/k-kakimoto/dev/ml_samples/.venv/lib/python3.8/site-packages (from ipython->myst-nb) (4.8.0)\n",
      "Requirement already satisfied: stack-data in /Users/k-kakimoto/dev/ml_samples/.venv/lib/python3.8/site-packages (from ipython->myst-nb) (0.3.0)\n",
      "Requirement already satisfied: pytz>=2015.7 in /Users/k-kakimoto/dev/ml_samples/.venv/lib/python3.8/site-packages (from babel>=1.3->sphinx<6,>=4->myst-nb) (2022.1)\n",
      "Requirement already satisfied: parso<0.9.0,>=0.8.0 in /Users/k-kakimoto/dev/ml_samples/.venv/lib/python3.8/site-packages (from jedi>=0.16->ipython->myst-nb) (0.8.3)\n",
      "Requirement already satisfied: MarkupSafe>=2.0 in /Users/k-kakimoto/dev/ml_samples/.venv/lib/python3.8/site-packages (from jinja2->myst-parser~=0.18.0->myst-nb) (2.1.1)\n",
      "Requirement already satisfied: pkgutil-resolve-name>=1.3.10 in /Users/k-kakimoto/dev/ml_samples/.venv/lib/python3.8/site-packages (from jsonschema>=2.6->nbformat~=5.0->myst-nb) (1.3.10)\n",
      "Requirement already satisfied: importlib-resources>=1.4.0 in /Users/k-kakimoto/dev/ml_samples/.venv/lib/python3.8/site-packages (from jsonschema>=2.6->nbformat~=5.0->myst-nb) (5.9.0)\n",
      "Requirement already satisfied: pyrsistent!=0.17.0,!=0.17.1,!=0.17.2,>=0.14.0 in /Users/k-kakimoto/dev/ml_samples/.venv/lib/python3.8/site-packages (from jsonschema>=2.6->nbformat~=5.0->myst-nb) (0.18.1)\n",
      "Requirement already satisfied: python-dateutil>=2.8.2 in /Users/k-kakimoto/dev/ml_samples/.venv/lib/python3.8/site-packages (from jupyter-client>=6.1.5->nbclient->myst-nb) (2.8.2)\n",
      "Requirement already satisfied: entrypoints in /Users/k-kakimoto/dev/ml_samples/.venv/lib/python3.8/site-packages (from jupyter-client>=6.1.5->nbclient->myst-nb) (0.4)\n",
      "Requirement already satisfied: mdurl~=0.1 in /Users/k-kakimoto/dev/ml_samples/.venv/lib/python3.8/site-packages (from markdown-it-py<3.0.0,>=1.0.0->myst-parser~=0.18.0->myst-nb) (0.1.1)\n",
      "Requirement already satisfied: ptyprocess>=0.5 in /Users/k-kakimoto/dev/ml_samples/.venv/lib/python3.8/site-packages (from pexpect>4.3->ipython->myst-nb) (0.7.0)\n",
      "Requirement already satisfied: wcwidth in /Users/k-kakimoto/dev/ml_samples/.venv/lib/python3.8/site-packages (from prompt-toolkit!=3.0.0,!=3.0.1,<3.1.0,>=2.0.0->ipython->myst-nb) (0.2.5)\n",
      "Requirement already satisfied: urllib3<1.27,>=1.21.1 in /Users/k-kakimoto/dev/ml_samples/.venv/lib/python3.8/site-packages (from requests>=2.5.0->sphinx<6,>=4->myst-nb) (1.26.11)\n",
      "Requirement already satisfied: idna<4,>=2.5 in /Users/k-kakimoto/dev/ml_samples/.venv/lib/python3.8/site-packages (from requests>=2.5.0->sphinx<6,>=4->myst-nb) (3.3)\n",
      "Requirement already satisfied: charset-normalizer<3,>=2 in /Users/k-kakimoto/dev/ml_samples/.venv/lib/python3.8/site-packages (from requests>=2.5.0->sphinx<6,>=4->myst-nb) (2.1.0)\n",
      "Requirement already satisfied: certifi>=2017.4.17 in /Users/k-kakimoto/dev/ml_samples/.venv/lib/python3.8/site-packages (from requests>=2.5.0->sphinx<6,>=4->myst-nb) (2022.6.15)\n",
      "Requirement already satisfied: pyparsing!=3.0.5,>=2.0.2 in /Users/k-kakimoto/dev/ml_samples/.venv/lib/python3.8/site-packages (from packaging->sphinx<6,>=4->myst-nb) (3.0.9)\n",
      "Requirement already satisfied: asttokens in /Users/k-kakimoto/dev/ml_samples/.venv/lib/python3.8/site-packages (from stack-data->ipython->myst-nb) (2.0.5)\n",
      "Requirement already satisfied: pure-eval in /Users/k-kakimoto/dev/ml_samples/.venv/lib/python3.8/site-packages (from stack-data->ipython->myst-nb) (0.2.2)\n",
      "Requirement already satisfied: executing in /Users/k-kakimoto/dev/ml_samples/.venv/lib/python3.8/site-packages (from stack-data->ipython->myst-nb) (0.9.1)\n",
      "Requirement already satisfied: six>=1.5 in /Users/k-kakimoto/dev/ml_samples/.venv/lib/python3.8/site-packages (from python-dateutil>=2.8.2->jupyter-client>=6.1.5->nbclient->myst-nb) (1.16.0)\n",
      "\u001b[33mWARNING: You are using pip version 22.0.4; however, version 22.2.1 is available.\n",
      "You should consider upgrading via the '/Users/k-kakimoto/dev/ml_samples/.venv/bin/python -m pip install --upgrade pip' command.\u001b[0m\u001b[33m\n",
      "\u001b[0mNote: you may need to restart the kernel to use updated packages.\n"
     ]
    }
   ],
   "source": [
    "%pip install japanize_matplotlib\n",
    "%pip install py4macro\n",
    "%pip install myst-nb"
   ]
  },
  {
   "cell_type": "code",
   "execution_count": 9,
   "metadata": {
    "id": "oMRFU_e77fa-"
   },
   "outputs": [],
   "source": [
    "import japanize_matplotlib\n",
    "import matplotlib.pyplot as plt\n",
    "import numpy as np\n",
    "import pandas as pd\n",
    "import py4macro"
   ]
  },
  {
   "cell_type": "markdown",
   "metadata": {
    "heading_collapsed": true,
    "id": "ttCh-TmV7fa_"
   },
   "source": [
    "## はじめに"
   ]
  },
  {
   "cell_type": "markdown",
   "metadata": {
    "hidden": true,
    "id": "y9kJQaZV7fbA"
   },
   "source": [
    "この章では次の問を考える。\n",
    "\n",
    "## （問２）なぜ国々の経済成長率は大きく異なるのか？\n",
    "\n",
    "この問を**成長会計**と呼ばれる手法を使って考察する。この手法も発展会計と同様に，一人当たりGDPの**変化率**（即ち、経済成長率）を全要素生産性と蓄積生産要素に分解し、それぞれの寄与度を考察することにより問２の「なぜ」を考える。"
   ]
  },
  {
   "cell_type": "markdown",
   "metadata": {
    "heading_collapsed": true,
    "id": "BB5Zdyhx7fbA"
   },
   "source": [
    "## 成長率について"
   ]
  },
  {
   "cell_type": "markdown",
   "metadata": {
    "hidden": true,
    "id": "yRmb8Xuv7fbA"
   },
   "source": [
    "$t$時点の生産関数を\n",
    "\n",
    "$$\n",
    "y_t=A_tk_t^a\\left(h_tH_t\\right)^{1-a}\n",
    "$$\n",
    "\n",
    "としよう。$t$時点と$t+1$時点の生産関数を使うと\n",
    "\n",
    "$$\n",
    "\\frac{y_{t+1}}{y_t}=\\frac{A_{t+1}}{A_t}\n",
    "\\left(\\frac{k_{t+1}}{k_t}\\right)^a\n",
    "\\left(\\frac{h_{t+1}H_{t+1}}{h_tH_t}\\right)^{1-a}\n",
    "$$\n",
    "\n",
    "となる。ここで\n",
    "\n",
    "$$\n",
    "1+g_x\\equiv\\frac{x_{t+1}}{x_t}\n",
    "$$\n",
    "\n",
    "とすると，$g_x$は$x$の成長率（例えば、0.02）である。これにより、\n",
    "\n",
    "$$\n",
    "    1+g_y=(1+g_A)(1+g_k)^a\\left[(1+g_h)(1+g_H)\\right]^{1-a}\n",
    "$$\n",
    "\n",
    "となり、対数化すると\n",
    "\n",
    "$$\n",
    "    \\log(1+g_y)=\\log(1+g_A)+a\\log(1+g_k)+(1-a)\\left[\\log(1+g_h)+\\log(1+g_H)\\right]\n",
    "$$\n",
    "\n",
    "となる。また成長率が十分に小さい場合（例えば、0.02）、次式で近似することが可能となる。\n",
    "\n",
    "$$\n",
    "\\log(1+g_x)\\approx g_x\n",
    "$$ (eq:gx_approx)"
   ]
  },
  {
   "cell_type": "code",
   "execution_count": 6,
   "metadata": {
    "hidden": true,
    "id": "j2LK6oM97fbC",
    "outputId": "7454a8ee-4a86-408f-90be-76fdbbc62f12"
   },
   "outputs": [
    {
     "data": {
      "text/plain": [
       "0.01980262729617973"
      ]
     },
     "execution_count": 6,
     "metadata": {},
     "output_type": "execute_result"
    }
   ],
   "source": [
    "np.log(1+0.02)"
   ]
  },
  {
   "cell_type": "markdown",
   "metadata": {
    "hidden": true,
    "id": "_Hg92g_Y7fbD"
   },
   "source": [
    "即ち、\n",
    "\n",
    "$$\n",
    "    g_y=g_A+ag_k+(1-a)(g_h+g_H)\n",
    "$$\n",
    "\n",
    "となる。"
   ]
  },
  {
   "cell_type": "markdown",
   "metadata": {
    "hidden": true,
    "id": "Pb0KsC1c7fbE"
   },
   "source": [
    "この式に基づき，成長会計，即ち，どの要素がどれだけ一人当たりGDPの成長率に貢献しているかを計算する訳だが，そのためには変数の平均成長率を計算する必要があるので，その計算方法について説明する。ある変数$x$が毎年$g_x$の率（例えば，`0.02`）で$n$年間成長したとしよう。初期の$x=x_0$に対する$n$年後の比率を考えると，次式が成立する。\n",
    "\n",
    "$$\n",
    "\\frac{x_{n}}{x_{0}}=\n",
    "\\frac{x_1}{x_{0}}\\cdot\n",
    "\\frac{x_2}{x_{1}}\\cdot\n",
    "\\frac{x_3}{x_{2}}\\cdot\n",
    "\\cdots\n",
    "\\frac{x_{n-2}}{x_{n-3}}\\cdot\n",
    "\\frac{x_{n-1}}{x_{n-2}}\\cdot\n",
    "\\frac{x_n}{x_{n-1}}\n",
    "=(1+g_x)^{n}\n",
    "$$ (eq:5-growth_average-expanded)\n",
    "\n",
    "$g_x$は一定なので$g_x$は年間平均成長率と等しい。このことを踏まえ[](eq:5-growth_average-expanded)の両辺を$1/n$乗すると次式となる。\n",
    "\n",
    "$$\n",
    "\\left(\\frac{x_n}{x_0}\\right)^{\\frac{1}{n}}=1+g_x\n",
    "$$\n",
    "\n",
    "即ち，$1+g_x$は$\\dfrac{x_n}{x_0}$の幾何平均であり，平均成長率$g_x$はこの式を使い計算できる。\n",
    "\n",
    "$$\n",
    "g_x=\n",
    "\\left(\n",
    "\\dfrac{x_{n}}{x_{0}}\n",
    "\\right)^{\\frac{1}{n}}-1\n",
    "$$ (eq:5-growth_average)\n",
    "\n",
    "この場合，算術平均ではなく**幾何平均**を使うことに注意しよう。また**毎期毎期の成長率が違っても同じ結果[](eq:5-growth_average)が成立する**ことも覚えておこう。\n",
    "\n",
    "年間平均成長率を計算する場合，[](eq:5-growth_average-expanded)の両辺を対数化し式[](eq:gx_approx)の近似を使う方法もある。\n",
    "\n",
    "$$\n",
    "\\begin{align*}\n",
    "\\ln\\left(\\frac{x_n}{x_0}\\right)\n",
    "&=\\ln\\left(1+g_x\\right)^n \\\\\n",
    "&\\Downarrow\n",
    "\\end{align*}\n",
    "$$\n",
    "\n",
    "$$\n",
    "g_x\\approx\\frac{1}{n}\\ln\\left(\\frac{x_n}{x_0}\\right)\n",
    "$$ (eq:5-growth_average-2)\n",
    "\n",
    "$g_x$が十分に小さい場合は，[](eq:5-growth_average)と[](eq:5-growth_average-2)のどちらを使っても大きな差は出ない。重要な点は，どちらかの一つの方法を計算の対象全てに一貫して使うことである。\n",
    "\n",
    "例：$x_0=10$，$x_n=30$，$n=50$"
   ]
  },
  {
   "cell_type": "code",
   "execution_count": 10,
   "metadata": {
    "hidden": true,
    "id": "S2Xd-G8T7fbE",
    "outputId": "773a8928-c020-4956-c613-81e38e24ad1d"
   },
   "outputs": [
    {
     "name": "stdout",
     "output_type": "stream",
     "text": [
      "方法１：0.022215413278477092\n",
      "方法２：0.02197224577336219\n"
     ]
    }
   ],
   "source": [
    "x0 = 10\n",
    "xn = 30\n",
    "n  = 50\n",
    "\n",
    "houhou1 = (xn/x0)**(1/n)-1\n",
    "houhou2 = ( np.log(xn)-np.log(x0) )/n\n",
    "\n",
    "print(f'方法１：{houhou1:}\\n方法２：{houhou2}')"
   ]
  },
  {
   "cell_type": "markdown",
   "metadata": {
    "hidden": true,
    "id": "TOqtHOu17fbF"
   },
   "source": [
    "```{admonition} コードの説明\n",
    ":class: dropdown\n",
    "\n",
    "* `f`は以前説明した`f-string`である。`houhou1`と`houhou2`にそれぞれの値を代入している。\n",
    "* `\\n`は改行を意味する。\n",
    "```"
   ]
  },
  {
   "cell_type": "markdown",
   "metadata": {
    "heading_collapsed": true,
    "id": "BRLE9tjA7fbF"
   },
   "source": [
    "## 平均成長率の計算"
   ]
  },
  {
   "cell_type": "markdown",
   "metadata": {
    "hidden": true,
    "id": "N-r0hxwq7fbF"
   },
   "source": [
    "まずPenn World Tableを読み込み，国リスを作成しよう"
   ]
  },
  {
   "cell_type": "code",
   "execution_count": 11,
   "metadata": {
    "hidden": true,
    "id": "qnXCAdnU7fbG"
   },
   "outputs": [],
   "source": [
    "df = py4macro.data('pwt')\n",
    "country_list = df.loc[:,'country'].unique()"
   ]
  },
  {
   "cell_type": "markdown",
   "metadata": {
    "hidden": true,
    "id": "yUbKAdKA7fbG"
   },
   "source": [
    "データに含まれる次の変数を使う。\n",
    "* `rgdpna`：実質GDP\n",
    "    * 経済成長を考える上で適している\n",
    "* `emp`：雇用者数\n",
    "* `rkna`：物的資本サービス\n",
    "* `hc`：人的資本の指標\n",
    "    * 教育年数と教育の収益から計算されている"
   ]
  },
  {
   "cell_type": "markdown",
   "metadata": {
    "hidden": true,
    "id": "URKXQGwY7fbG"
   },
   "source": [
    "以下で計算する変数とは次のように対応している。\n",
    "* 一人当たりGDP：$y_i\\equiv\\dfrac{Y_i}{L_i}=$ `rgdpna`/`emp`\n",
    "* 一人当たり資本：$k_i\\equiv\\dfrac{K_i}{L_i}=$ `rkna`/`emp`\n",
    "* 労働者一人当たり人的資本サービス：$h_iH_i=$ `avh`x`hc`\n",
    "* 資本の所得シャア：$\\alpha=1/3$（仮定）\n",
    "* 蓄積生産要素の寄与：$k_i^{\\alpha}\\left(h_iH_i\\right)^{1-\\alpha}$\n",
    "* 全要素生産性：$A_i=\\dfrac{y_i}{k_i^{\\alpha}\\left(h_iH_i\\right)^{1-\\alpha}}$\n",
    "\n",
    "それぞれの変数を計算しよう。"
   ]
  },
  {
   "cell_type": "code",
   "execution_count": 12,
   "metadata": {
    "hidden": true,
    "id": "aXoOQz9d7fbH"
   },
   "outputs": [],
   "source": [
    "# 資本の所得シャア\n",
    "a=1/3.0\n",
    "\n",
    "# 一人当たりGDP\n",
    "df['rgdp_pc'] = df['rgdpna'] / df['emp']\n",
    "\n",
    "# 資本割合\n",
    "\n",
    "df['k_pc'] = df['rkna'] / df['emp']\n",
    "\n",
    "# 蓄積生産要素\n",
    "df['factors'] = df['k_pc']**a * ( df['avh']*df['hc'] )**(1-a)\n",
    "\n",
    "# 全要素生産性\n",
    "df['tfp'] = df['rgdp_pc'] / df['factors']"
   ]
  },
  {
   "cell_type": "markdown",
   "metadata": {
    "hidden": true,
    "id": "BOxHOoGP7fbH"
   },
   "source": [
    "これらの変数を使い，1999年から2019年の20年間の`rgdp_pc`、`k_pc`、`avh`，`hc`の平均成長率を計算する。次のコードを使うが`for`ループが二重（入れ子）になっている。"
   ]
  },
  {
   "cell_type": "code",
   "execution_count": 13,
   "metadata": {
    "hidden": true,
    "id": "okpCOsPR7fbH"
   },
   "outputs": [],
   "source": [
    "var_list = ['rgdp_pc','k_pc','avh','hc']   # 1\n",
    "\n",
    "growth_dict = {}            # 2\n",
    "\n",
    "for v in var_list:          # 3\n",
    "    \n",
    "    growth_list = []        # 4\n",
    "    \n",
    "    for c in country_list:  # 5\n",
    "        start = 1999        # 6\n",
    "        end = 2019          # 7\n",
    "        t = end-start       # 8\n",
    "        \n",
    "        df_start = df.query('country == @c & year == @start')   # 9\n",
    "        df_end = df.query('country == @c & year == @end')       # 10\n",
    "\n",
    "\n",
    "        g = ( df_end[v].iloc[0] / df_start[v].iloc[0] )**(1/t)-1  # 11\n",
    "        growth_list.append(100*g)                               # 12\n",
    "            \n",
    "    growth_dict[v] = growth_list                                # 13\n",
    "\n",
    "\n",
    "df_growth = pd.DataFrame({'country':country_list,               # 14\n",
    "                          'rgdp_pc':growth_dict['rgdp_pc'],     # 15\n",
    "                          'k_pc':growth_dict['k_pc'],\n",
    "                          'avh':growth_dict['avh'],\n",
    "                          'hc':growth_dict['hc']})"
   ]
  },
  {
   "cell_type": "markdown",
   "metadata": {
    "hidden": true,
    "id": "gxJWRwN27fbH"
   },
   "source": [
    "```{admonition} コードの説明\n",
    ":class: dropdown\n",
    "\n",
    "1. 成長率を計算する対象となる変数リスト\n",
    "2. 空の辞書。次の形になるように(1)の平均成長率のリストを格納する。\n",
    "    * キー：変数名（`rgdp_pc`、`k_pc`、`hc`）\n",
    "    * 値：それぞれの国の成長率からなるリスト\n",
    "3. `var_list`に対しての`for`ループ。１回目のループでは`rdgp_pc`について計算する。\n",
    "4. 空リスト（役割は以下で説明）\n",
    "5. `country_list`に対しての`for`ループ。(3)の１回目の`for`ループで変数`rdgp_pc`に対して`country_list`にある国の成長率を下に続くコードを使って計算する。\n",
    "6. 最初の年を指定\n",
    "7. 最後の年を指定\n",
    "8. 何年間かを計算\n",
    "9. 最初の年の`DataFrame`を抽出\n",
    "10. 最後の年の`DataFrame`を抽出\n",
    "11. 平均成長率を計算する。\n",
    "    * `df_end[v]`と`df_start[v]`は列ラベル`v`の列を抽出しており、`Series`として返される。\n",
    "    * `.iat[0]`は`Series`の`0`番目の数値を取り出すメソッド\n",
    "12. 計算した成長率を(4)のリストに追加する。\n",
    "        * `100`をかけて％表示にする。\n",
    "13. ループが終わると、(4)のリストを(2)の辞書に追加する。\n",
    "    * 辞書に追加する際に変数名`v`を指定することにより、次のペアのデータが追加される\n",
    "        * キー：変数名（`rgdp_pc`、`k_pc`、`hc`）\n",
    "        * 値：それぞれの国の成長率のリスト\n",
    "    * 3.の`for`ループの次の変数に移り、3.以下で説明した作業が繰り返される。\n",
    "14. `country_list`を`DataFrame`の列に設定\n",
    "15. `rgdp_pc`の成長率を`DataFrame`の列に設定するが，その際，`growth_dict['キー']`で`growth_dic`の`キー`にあるリストを抽出している。\n",
    "    * 下の３行は`k_pc`，`avh`，`hc`に対して同じ作業を行なっている。\n",
    "```"
   ]
  },
  {
   "cell_type": "code",
   "execution_count": null,
   "metadata": {
    "hidden": true,
    "id": "3KxiJZSx7fbI",
    "outputId": "d549eb7f-cd97-48fb-cf6b-d22377619276"
   },
   "outputs": [
    {
     "data": {
      "text/html": [
       "<div>\n",
       "<style scoped>\n",
       "    .dataframe tbody tr th:only-of-type {\n",
       "        vertical-align: middle;\n",
       "    }\n",
       "\n",
       "    .dataframe tbody tr th {\n",
       "        vertical-align: top;\n",
       "    }\n",
       "\n",
       "    .dataframe thead th {\n",
       "        text-align: right;\n",
       "    }\n",
       "</style>\n",
       "<table border=\"1\" class=\"dataframe\">\n",
       "  <thead>\n",
       "    <tr style=\"text-align: right;\">\n",
       "      <th></th>\n",
       "      <th>country</th>\n",
       "      <th>rgdp_pc</th>\n",
       "      <th>k_pc</th>\n",
       "      <th>avh</th>\n",
       "      <th>hc</th>\n",
       "    </tr>\n",
       "  </thead>\n",
       "  <tbody>\n",
       "    <tr>\n",
       "      <th>0</th>\n",
       "      <td>Aruba</td>\n",
       "      <td>-0.138189</td>\n",
       "      <td>2.924345</td>\n",
       "      <td>NaN</td>\n",
       "      <td>NaN</td>\n",
       "    </tr>\n",
       "    <tr>\n",
       "      <th>1</th>\n",
       "      <td>Angola</td>\n",
       "      <td>1.948414</td>\n",
       "      <td>-0.560107</td>\n",
       "      <td>NaN</td>\n",
       "      <td>0.734893</td>\n",
       "    </tr>\n",
       "    <tr>\n",
       "      <th>2</th>\n",
       "      <td>Anguilla</td>\n",
       "      <td>NaN</td>\n",
       "      <td>NaN</td>\n",
       "      <td>NaN</td>\n",
       "      <td>NaN</td>\n",
       "    </tr>\n",
       "    <tr>\n",
       "      <th>3</th>\n",
       "      <td>Albania</td>\n",
       "      <td>3.588328</td>\n",
       "      <td>NaN</td>\n",
       "      <td>NaN</td>\n",
       "      <td>0.387198</td>\n",
       "    </tr>\n",
       "    <tr>\n",
       "      <th>4</th>\n",
       "      <td>United Arab Emirates</td>\n",
       "      <td>-2.068514</td>\n",
       "      <td>NaN</td>\n",
       "      <td>NaN</td>\n",
       "      <td>0.335975</td>\n",
       "    </tr>\n",
       "  </tbody>\n",
       "</table>\n",
       "</div>"
      ],
      "text/plain": [
       "                country   rgdp_pc      k_pc  avh        hc\n",
       "0                 Aruba -0.138189  2.924345  NaN       NaN\n",
       "1                Angola  1.948414 -0.560107  NaN  0.734893\n",
       "2              Anguilla       NaN       NaN  NaN       NaN\n",
       "3               Albania  3.588328       NaN  NaN  0.387198\n",
       "4  United Arab Emirates -2.068514       NaN  NaN  0.335975"
      ]
     },
     "execution_count": 7,
     "metadata": {},
     "output_type": "execute_result"
    }
   ],
   "source": [
    "df_growth.head()"
   ]
  },
  {
   "cell_type": "markdown",
   "metadata": {
    "hidden": true,
    "id": "Hu0t_q-j7fbI"
   },
   "source": [
    "````{note}\n",
    "`DataFrame`にはグループ計算用のメソッド`groupby`が備わっており，それを使うとより短いコードで`df_growth`を作成することができる。\n",
    "```\n",
    "def calc_growth(x):\n",
    "    return ( x.iloc[-1] / x.iloc[0] )**(1/(len(x)-1))-1\n",
    "\n",
    "cond1 = ( 1999 <= df['year'] )\n",
    "cond2 = ( 2019 >= df['year'] )\n",
    "cond = cond1 & cond2\n",
    "df_growth = 100 * df.loc[cond,:].groupby('country')[['rgdp_pc','k_pc','avh','hc']].agg(calc_growth)\n",
    "```\n",
    "[ここを参考にしよう。](https://py4basics.github.io/3_Pandas.html#id35)\n",
    "````"
   ]
  },
  {
   "cell_type": "markdown",
   "metadata": {
    "hidden": true,
    "id": "piaetg2y7fbI"
   },
   "source": [
    "`rgdp_pc`の成長率のヒストグラムをプロットするが，ここでは`DataFrame`のメソッド`plot()`を使う。まず使用する列を選んでメソッド`plot()`の引数に`kind='hist'`を指定するだけである。`bins=20`は階級（棒）の数を指定する引数（デフォルトは`10`）と理解すれば良いだろう。"
   ]
  },
  {
   "cell_type": "code",
   "execution_count": 14,
   "metadata": {
    "hidden": true,
    "id": "LnjeqEls7fbI",
    "outputId": "24b47207-42cb-4d65-e0f7-daf8654b4711"
   },
   "outputs": [
    {
     "data": {
      "image/png": "[encoded data removed]",
      "text/plain": [
       "<Figure size 432x288 with 1 Axes>"
      ]
     },
     "metadata": {
      "needs_background": "light"
     },
     "output_type": "display_data"
    }
   ],
   "source": [
    "df_growth['rgdp_pc'].plot(kind='hist',bins=15)\n",
    "pass"
   ]
  },
  {
   "cell_type": "markdown",
   "metadata": {
    "hidden": true,
    "id": "boHhTtsL7fbI"
   },
   "source": [
    "多くの国はプラスの経済成長を遂げているが，マイナイス成長の経済も存在する。平均成長率がマイナスの国数を計算してみよう。"
   ]
  },
  {
   "cell_type": "code",
   "execution_count": 15,
   "metadata": {
    "hidden": true,
    "id": "FuxqZ9Y47fbI",
    "outputId": "5f673d7b-15f3-4299-b918-0915d52f579b"
   },
   "outputs": [
    {
     "data": {
      "text/plain": [
       "29"
      ]
     },
     "execution_count": 15,
     "metadata": {},
     "output_type": "execute_result"
    }
   ],
   "source": [
    "len(df_growth.query('rgdp_pc < 0'))"
   ]
  },
  {
   "cell_type": "markdown",
   "metadata": {
    "hidden": true,
    "id": "83pxcqwO7fbI"
   },
   "source": [
    "最も平均成長率が低い経済の国名を探してみよう。"
   ]
  },
  {
   "cell_type": "code",
   "execution_count": 16,
   "metadata": {
    "hidden": true,
    "id": "DjsF1u6w7fbJ",
    "outputId": "07d5aea6-7bb2-410a-dc43-14b503dbd4f7"
   },
   "outputs": [
    {
     "data": {
      "text/html": [
       "<div>\n",
       "<style scoped>\n",
       "    .dataframe tbody tr th:only-of-type {\n",
       "        vertical-align: middle;\n",
       "    }\n",
       "\n",
       "    .dataframe tbody tr th {\n",
       "        vertical-align: top;\n",
       "    }\n",
       "\n",
       "    .dataframe thead th {\n",
       "        text-align: right;\n",
       "    }\n",
       "</style>\n",
       "<table border=\"1\" class=\"dataframe\">\n",
       "  <thead>\n",
       "    <tr style=\"text-align: right;\">\n",
       "      <th></th>\n",
       "      <th>country</th>\n",
       "      <th>rgdp_pc</th>\n",
       "      <th>k_pc</th>\n",
       "      <th>avh</th>\n",
       "      <th>hc</th>\n",
       "    </tr>\n",
       "  </thead>\n",
       "  <tbody>\n",
       "    <tr>\n",
       "      <th>176</th>\n",
       "      <td>Venezuela (Bolivarian Republic of)</td>\n",
       "      <td>-4.638936</td>\n",
       "      <td>-0.912619</td>\n",
       "      <td>NaN</td>\n",
       "      <td>1.572541</td>\n",
       "    </tr>\n",
       "    <tr>\n",
       "      <th>179</th>\n",
       "      <td>Yemen</td>\n",
       "      <td>-3.991010</td>\n",
       "      <td>NaN</td>\n",
       "      <td>NaN</td>\n",
       "      <td>2.355876</td>\n",
       "    </tr>\n",
       "    <tr>\n",
       "      <th>130</th>\n",
       "      <td>Oman</td>\n",
       "      <td>-3.275396</td>\n",
       "      <td>-0.420316</td>\n",
       "      <td>NaN</td>\n",
       "      <td>NaN</td>\n",
       "    </tr>\n",
       "    <tr>\n",
       "      <th>4</th>\n",
       "      <td>United Arab Emirates</td>\n",
       "      <td>-2.068514</td>\n",
       "      <td>NaN</td>\n",
       "      <td>NaN</td>\n",
       "      <td>0.335975</td>\n",
       "    </tr>\n",
       "    <tr>\n",
       "      <th>158</th>\n",
       "      <td>Syrian Arab Republic</td>\n",
       "      <td>-1.832965</td>\n",
       "      <td>NaN</td>\n",
       "      <td>NaN</td>\n",
       "      <td>1.057546</td>\n",
       "    </tr>\n",
       "  </tbody>\n",
       "</table>\n",
       "</div>"
      ],
      "text/plain": [
       "                                country   rgdp_pc      k_pc  avh        hc\n",
       "176  Venezuela (Bolivarian Republic of) -4.638936 -0.912619  NaN  1.572541\n",
       "179                               Yemen -3.991010       NaN  NaN  2.355876\n",
       "130                                Oman -3.275396 -0.420316  NaN       NaN\n",
       "4                  United Arab Emirates -2.068514       NaN  NaN  0.335975\n",
       "158                Syrian Arab Republic -1.832965       NaN  NaN  1.057546"
      ]
     },
     "execution_count": 16,
     "metadata": {},
     "output_type": "execute_result"
    }
   ],
   "source": [
    "df_growth_sorted = df_growth.sort_values('rgdp_pc')\n",
    "df_growth_sorted.head()"
   ]
  },
  {
   "cell_type": "markdown",
   "metadata": {
    "hidden": true,
    "id": "oLQDC4xm7fbJ"
   },
   "source": [
    "ここで使ったメソッド`sort_values()`は，引数の列を基準に昇順に並べ替える。引数に`ascending=False`を使うと，降順に並び替えることができる。"
   ]
  },
  {
   "cell_type": "code",
   "execution_count": 18,
   "metadata": {
    "hidden": true,
    "id": "flvRpV0N7fbJ",
    "outputId": "0d73f67b-2c49-42bb-b14f-0b6e524bbb08",
    "tags": [
     "hide-input"
    ]
   },
   "outputs": [
    {
     "name": "stdout",
     "output_type": "stream",
     "text": [
      "上のヒストグラムで最も成長率が低い国はVenezuela (Bolivarian Republic of)である。\n"
     ]
    }
   ],
   "source": [
    "print( '上のヒストグラムで最も成長率が低い国は'\n",
    "      f'{df_growth_sorted.iloc[0,0]}である。')"
   ]
  },
  {
   "cell_type": "markdown",
   "metadata": {
    "hidden": true,
    "id": "jPULvUfL7fbJ"
   },
   "source": [
    "`df_growth_sorted`から分かるように，他の変数には欠損値が含まれているので`NaN`がある行は全て削除する。"
   ]
  },
  {
   "cell_type": "code",
   "execution_count": 19,
   "metadata": {
    "hidden": true,
    "id": "v5l-ndFi7fbJ"
   },
   "outputs": [],
   "source": [
    "df_growth = df_growth.dropna()"
   ]
  },
  {
   "cell_type": "markdown",
   "metadata": {
    "hidden": true,
    "id": "GTNiey7r7fbJ"
   },
   "source": [
    "残った国数を確認してみよう。"
   ]
  },
  {
   "cell_type": "code",
   "execution_count": 20,
   "metadata": {
    "hidden": true,
    "id": "o-CEWaAw7fbK",
    "outputId": "48889dc2-72c4-449c-c03c-38bd9405515a"
   },
   "outputs": [
    {
     "data": {
      "text/plain": [
       "60"
      ]
     },
     "execution_count": 20,
     "metadata": {},
     "output_type": "execute_result"
    }
   ],
   "source": [
    "len(df_growth)"
   ]
  },
  {
   "cell_type": "markdown",
   "metadata": {
    "heading_collapsed": true,
    "id": "RkIHnU1E7fbK"
   },
   "source": [
    "## 蓄積生産要素の成長率"
   ]
  },
  {
   "cell_type": "markdown",
   "metadata": {
    "hidden": true,
    "id": "j6HJA8yX7fbK"
   },
   "source": [
    "次に，下の式を使って蓄積生産要素の成長率を計算しよう。\n",
    "\n",
    "$$\n",
    "g_{\\text{factors}}=ag_k+(1-a)(g_h+g_H)\n",
    "$$\n",
    "\n",
    "結果を`df_growth`に追加するが，その際、$a=\\dfrac{1}{3}$と仮定する。"
   ]
  },
  {
   "cell_type": "code",
   "execution_count": 21,
   "metadata": {
    "hidden": true,
    "id": "p1wNbaqM7fbK"
   },
   "outputs": [],
   "source": [
    "df_growth['factors'] = (1/3)*df_growth['k_pc']+(1-1/3)*( df_growth['avh']+df_growth['hc'] )"
   ]
  },
  {
   "cell_type": "markdown",
   "metadata": {
    "hidden": true,
    "id": "FKoA_6np7fbK"
   },
   "source": [
    "`factors`の成長率のヒストグラムを図示する。"
   ]
  },
  {
   "cell_type": "code",
   "execution_count": 23,
   "metadata": {
    "hidden": true,
    "id": "Q2ceuFhy7fbK",
    "outputId": "495ff105-c064-41d0-f5fc-ead0f1c66a13"
   },
   "outputs": [
    {
     "data": {
      "image/png": "[encoded data removed]",
      "text/plain": [
       "<Figure size 432x288 with 1 Axes>"
      ]
     },
     "metadata": {
      "needs_background": "light"
     },
     "output_type": "display_data"
    }
   ],
   "source": [
    "df_growth['factors'].plot(kind='hist',bins=15)\n",
    "pass"
   ]
  },
  {
   "cell_type": "markdown",
   "metadata": {
    "hidden": true,
    "id": "cdi5S-cp7fbL"
   },
   "source": [
    "マイナスの成長率の国数を調べてみよう。"
   ]
  },
  {
   "cell_type": "code",
   "execution_count": 24,
   "metadata": {
    "hidden": true,
    "id": "7tCBwT5m7fbL",
    "outputId": "7c49cc96-26be-4205-8b33-468ce68ac171"
   },
   "outputs": [
    {
     "data": {
      "text/plain": [
       "1"
      ]
     },
     "execution_count": 24,
     "metadata": {},
     "output_type": "execute_result"
    }
   ],
   "source": [
    "len(df_growth.query('factors < 0'))"
   ]
  },
  {
   "cell_type": "markdown",
   "metadata": {
    "heading_collapsed": true,
    "id": "cUnKTp827fbL"
   },
   "source": [
    "## 全要素生産性"
   ]
  },
  {
   "cell_type": "markdown",
   "metadata": {
    "hidden": true,
    "id": "EP6V8DsL7fbL"
   },
   "source": [
    "全要素生産性は残差として計算される。\n",
    "\n",
    "$$\n",
    "g_A=g_y-g_{\\text{factors}}\n",
    "$$"
   ]
  },
  {
   "cell_type": "code",
   "execution_count": 25,
   "metadata": {
    "hidden": true,
    "id": "3-k0WhDj7fbL"
   },
   "outputs": [],
   "source": [
    "df_growth['tfp'] = df_growth['rgdp_pc'] - df_growth['factors']"
   ]
  },
  {
   "cell_type": "markdown",
   "metadata": {
    "hidden": true,
    "id": "QKg8RdSB7fbL"
   },
   "source": [
    "`tfp`の成長率のヒストグラムを図示してみよう。"
   ]
  },
  {
   "cell_type": "code",
   "execution_count": 26,
   "metadata": {
    "hidden": true,
    "id": "5cKJjWnS7fbL",
    "outputId": "f51f10b9-ac26-4158-e55a-398629da5e74"
   },
   "outputs": [
    {
     "data": {
      "image/png": "[encoded data removed]",
      "text/plain": [
       "<Figure size 432x288 with 1 Axes>"
      ]
     },
     "metadata": {
      "needs_background": "light"
     },
     "output_type": "display_data"
    }
   ],
   "source": [
    "df_growth['tfp'].plot(kind='hist',bins=15)\n",
    "pass"
   ]
  },
  {
   "cell_type": "markdown",
   "metadata": {
    "hidden": true,
    "id": "4jWdj4t47fbL"
   },
   "source": [
    "蓄積生産要素と比べると全要素生産性の成長率はよりマイナスに広がっている。TFP成長率がマイナスの国の数を確認してみよう。"
   ]
  },
  {
   "cell_type": "code",
   "execution_count": 27,
   "metadata": {
    "hidden": true,
    "id": "lmawhtGo7fbL",
    "outputId": "f1a6b177-b81f-4e9f-f547-3a4c7031357e"
   },
   "outputs": [
    {
     "data": {
      "text/plain": [
       "10"
      ]
     },
     "execution_count": 27,
     "metadata": {},
     "output_type": "execute_result"
    }
   ],
   "source": [
    "len(df_growth.query('tfp < 0'))"
   ]
  },
  {
   "cell_type": "markdown",
   "metadata": {
    "hidden": true,
    "id": "BH8sThMW7fbM"
   },
   "source": [
    "蓄積要素生産性のマイナス成長率の国数と比べると10倍である。"
   ]
  },
  {
   "cell_type": "markdown",
   "metadata": {
    "heading_collapsed": true,
    "id": "ATSVVFJE7fbM"
   },
   "source": [
    "## 全要素生産性と蓄積生産要素の貢献度"
   ]
  },
  {
   "cell_type": "markdown",
   "metadata": {
    "hidden": true,
    "id": "cOd5ly5s7fbM"
   },
   "source": [
    "全要素生産性と蓄積生産要素のどちらが成長率に貢献しているのだろうか。まず図を使って比較してみよう。"
   ]
  },
  {
   "cell_type": "code",
   "execution_count": 28,
   "metadata": {
    "hidden": true,
    "id": "I0YPCocG7fbM",
    "outputId": "144565f8-7e47-4894-b44c-917eb9bd15bf"
   },
   "outputs": [
    {
     "data": {
      "image/png": "[encoded data removed]",
      "text/plain": [
       "<Figure size 432x288 with 1 Axes>"
      ]
     },
     "metadata": {
      "needs_background": "light"
     },
     "output_type": "display_data"
    }
   ],
   "source": [
    "df_growth[['tfp','factors']].plot(kind='hist',bins=20,alpha=0.5)\n",
    "pass"
   ]
  },
  {
   "cell_type": "markdown",
   "metadata": {
    "hidden": true,
    "id": "7RxeYkAR7fbM"
   },
   "source": [
    "```{admonition} コードの説明\n",
    ":class: dropdown\n",
    "* ２つの列を選択することにより，同じ図に２つのヒストグラムが表示できるようになる。\n",
    "* 引数`alpha`は図の透過度を指定する。0から1の間の値が指定可能で，デフォルトは1（透過なし）。\n",
    "```"
   ]
  },
  {
   "cell_type": "markdown",
   "metadata": {
    "hidden": true,
    "id": "5bcCcgDt7fbM"
   },
   "source": [
    "図から次のことがわかる。蓄積生産要素の成長率は正の値になる傾向がある。即ち，殆どの経済で蓄積生産要素による経済成長が起こっているということである。一方，全要素生産性の成長率はマイナスへの広がりがあり，成長を妨げる要因になっているようである。\n",
    "\n",
    "次に，一人当たりGDPの成長率に対する全要素生産性の貢献度を数量化するが，２つの方法を考えよう。"
   ]
  },
  {
   "cell_type": "markdown",
   "metadata": {
    "heading_collapsed": true,
    "hidden": true,
    "id": "KR9RJBMf7fbM"
   },
   "source": [
    "### 方法１"
   ]
  },
  {
   "cell_type": "markdown",
   "metadata": {
    "hidden": true,
    "id": "5vHK75L57fbM"
   },
   "source": [
    "全要素生産性の貢献度を次の式で計算する。\n",
    "\n",
    "$$\n",
    "100\\times\\frac{g_{A}}{g_y}\n",
    "$$"
   ]
  },
  {
   "cell_type": "code",
   "execution_count": 29,
   "metadata": {
    "hidden": true,
    "id": "_3NACktF7fbM"
   },
   "outputs": [],
   "source": [
    "df_growth['tfp_contribution'] = 100 * df_growth['tfp']/df_growth['rgdp_pc']"
   ]
  },
  {
   "cell_type": "markdown",
   "metadata": {
    "hidden": true,
    "id": "bBObC-Zs7fbN"
   },
   "source": [
    "全要素生産性の貢献度が`50`％以上の国は何％かを計算する。"
   ]
  },
  {
   "cell_type": "code",
   "execution_count": 30,
   "metadata": {
    "hidden": true,
    "id": "fCmObG-W7fbN",
    "outputId": "0e105127-cf21-41f2-8fcf-7d9857c4daf0"
   },
   "outputs": [
    {
     "data": {
      "text/plain": [
       "56.666666666666664"
      ]
     },
     "execution_count": 30,
     "metadata": {},
     "output_type": "execute_result"
    }
   ],
   "source": [
    "100 * len(df_growth.query('50<=tfp_contribution')) / len(df_growth)"
   ]
  },
  {
   "cell_type": "code",
   "execution_count": 31,
   "metadata": {
    "hidden": true,
    "id": "58Ng3ioz7fbN",
    "outputId": "8c8d4c4e-fb97-412a-aa4f-6ca941430bec",
    "tags": [
     "remove-cell"
    ]
   },
   "outputs": [
    {
     "data": {
      "application/papermill.record/text/plain": "56.7"
     },
     "metadata": {
      "scrapbook": {
       "mime_prefix": "application/papermill.record/",
       "name": "tfp_contribution_more_than_50"
      }
     },
     "output_type": "display_data"
    }
   ],
   "source": [
    "from myst_nb import glue\n",
    "tfp_contribution_more_than_50 = round(100 * len(df_growth.query('50<=tfp_contribution')) / len(df_growth),1)\n",
    "glue(\"tfp_contribution_more_than_50\", tfp_contribution_more_than_50,display=False)"
   ]
  },
  {
   "cell_type": "markdown",
   "metadata": {
    "hidden": true,
    "id": "Un9ArGHr7fbN"
   },
   "source": [
    "約{glue:}`tfp_contribution_more_than_50`％の国で全要素生産性がより大きな貢献をしている。"
   ]
  },
  {
   "cell_type": "markdown",
   "metadata": {
    "heading_collapsed": true,
    "hidden": true,
    "id": "1G0cskD47fbN"
   },
   "source": [
    "### 方法２"
   ]
  },
  {
   "cell_type": "markdown",
   "metadata": {
    "hidden": true,
    "id": "9yAO0vOS7fbN"
   },
   "source": [
    "２つ目の方法として発展会計で使った方法を考える。\n",
    "\n",
    "$$\n",
    "g_{yi} = g_{Ai} + g_{\\text{factors},i}\n",
    "$$\n",
    "\n",
    "従って、分散を計算すると\n",
    "\n",
    "$$\n",
    "\\text{Var}\\left(g_{yi}\\right)=\n",
    "\\text{Var}\\left(g_{Ai}\\right)+\n",
    "\\text{Var}\\left(g_{\\text{factors},i}\\right)\n",
    "+2\\text{Cov}\\left(g_{Ai},g_{\\text{factors},i}\\right)\n",
    "$$\n",
    "\n",
    "となり、次式を定義することができる。\n",
    "\n",
    "$$\n",
    "\\begin{align*}\n",
    "\\text{全要素生産性の寄与度}&=\n",
    "\\dfrac{\n",
    "    \\text{Var}\\left(g_{Ai}\\right)+\n",
    "    \\text{Cov}\\left(g_{Ai},g_{\\text{factors},i}\\right)\n",
    "    }{\n",
    "    \\text{Var}\\left(g_{yi}\\right)\n",
    "    } \\\\\n",
    "\\text{生産要素の寄与度}&=\n",
    "\\dfrac{\n",
    "    \\text{Var}\\left(g_{\\text{factors},i}\\right)+\n",
    "    \\text{Cov}\\left(g_{Ai},g_{\\text{factors},i}\\right)\n",
    "    }{\n",
    "    \\text{Var}\\left(g_{yi}\\right)\n",
    "    }    \n",
    "\\end{align*}\n",
    "$$\n",
    "\n",
    "これらの式に従って計算してみよう。"
   ]
  },
  {
   "cell_type": "code",
   "execution_count": 32,
   "metadata": {
    "hidden": true,
    "id": "FkO09F4c7fbN"
   },
   "outputs": [],
   "source": [
    "# それぞれの変数を設定\n",
    "tfp_growth     = df_growth['tfp']\n",
    "factors_growth = df_growth['factors']\n",
    "rgdp_pc_growth = df_growth['rgdp_pc']\n",
    "\n",
    "# 分散・共分散の計算\n",
    "tfp_growth_var         = tfp_growth.var()\n",
    "factors_growth_var     = factors_growth.var()\n",
    "rgdp_pc_growth_var     = rgdp_pc_growth.var()\n",
    "tfp_factors_growth_cov = np.cov(tfp_growth, factors_growth)[0,1]"
   ]
  },
  {
   "cell_type": "markdown",
   "metadata": {
    "hidden": true,
    "id": "35B7sod27fbN"
   },
   "source": [
    "**全要素生産性の寄与度**"
   ]
  },
  {
   "cell_type": "code",
   "execution_count": 33,
   "metadata": {
    "hidden": true,
    "id": "HDmGJbe77fbN",
    "outputId": "cfcad73c-522b-47cd-d9b7-9643dcfea936"
   },
   "outputs": [
    {
     "data": {
      "text/plain": [
       "0.6120634566381636"
      ]
     },
     "execution_count": 33,
     "metadata": {},
     "output_type": "execute_result"
    }
   ],
   "source": [
    "(tfp_growth_var + tfp_factors_growth_cov) / rgdp_pc_growth_var"
   ]
  },
  {
   "cell_type": "markdown",
   "metadata": {
    "hidden": true,
    "id": "-kiNytao7fbN"
   },
   "source": [
    "**蓄積生産要素の寄与度**"
   ]
  },
  {
   "cell_type": "code",
   "execution_count": 34,
   "metadata": {
    "hidden": true,
    "id": "LmNIN5O27fbO",
    "outputId": "2f4a4a4a-21c2-4251-f6b6-16c09f026ce2"
   },
   "outputs": [
    {
     "data": {
      "text/plain": [
       "0.3879365433618367"
      ]
     },
     "execution_count": 34,
     "metadata": {},
     "output_type": "execute_result"
    }
   ],
   "source": [
    "(factors_growth_var+ tfp_factors_growth_cov) / rgdp_pc_growth_var"
   ]
  },
  {
   "cell_type": "markdown",
   "metadata": {
    "hidden": true,
    "id": "5YOlJvnL7fbO"
   },
   "source": [
    "蓄積生産要素と全要素生産性の寄与度は概ね6対4の割合でであることが確認できる。この結果は両変数の成長率のヒストグラムからも伺える。全要素生産性の方がより幅広く変化しているようである。いずれにしろ，蓄積生産要素と全要素生産性ともに一人当たりGDPの成長に大きく貢献していることが確認できる。"
   ]
  },
  {
   "cell_type": "markdown",
   "metadata": {
    "heading_collapsed": true,
    "id": "-1nWa-T07fbO"
   },
   "source": [
    "## 表の作成"
   ]
  },
  {
   "cell_type": "markdown",
   "metadata": {
    "hidden": true,
    "id": "lcHaHtMT7fbO"
   },
   "source": [
    "結果を表としてまとめてみる。右端の列は方法１の結果を使っている。"
   ]
  },
  {
   "cell_type": "code",
   "execution_count": 35,
   "metadata": {
    "hidden": true,
    "id": "ghFbKRE27fbO",
    "outputId": "488b9e99-087b-422c-91da-b10c28a53442"
   },
   "outputs": [
    {
     "data": {
      "text/html": [
       "<div>\n",
       "<style scoped>\n",
       "    .dataframe tbody tr th:only-of-type {\n",
       "        vertical-align: middle;\n",
       "    }\n",
       "\n",
       "    .dataframe tbody tr th {\n",
       "        vertical-align: top;\n",
       "    }\n",
       "\n",
       "    .dataframe thead th {\n",
       "        text-align: right;\n",
       "    }\n",
       "</style>\n",
       "<table border=\"1\" class=\"dataframe\">\n",
       "  <thead>\n",
       "    <tr style=\"text-align: right;\">\n",
       "      <th></th>\n",
       "      <th>一人当たりGDPの成長率</th>\n",
       "      <th>蓄積生産要素の成長率</th>\n",
       "      <th>全要素生産性の成長率</th>\n",
       "      <th>全要素生産性の寄与度(％)</th>\n",
       "    </tr>\n",
       "    <tr>\n",
       "      <th>country</th>\n",
       "      <th></th>\n",
       "      <th></th>\n",
       "      <th></th>\n",
       "      <th></th>\n",
       "    </tr>\n",
       "  </thead>\n",
       "  <tbody>\n",
       "    <tr>\n",
       "      <th>China</th>\n",
       "      <td>6.26</td>\n",
       "      <td>3.57</td>\n",
       "      <td>2.69</td>\n",
       "      <td>42.99</td>\n",
       "    </tr>\n",
       "    <tr>\n",
       "      <th>India</th>\n",
       "      <td>5.31</td>\n",
       "      <td>2.98</td>\n",
       "      <td>2.33</td>\n",
       "      <td>43.83</td>\n",
       "    </tr>\n",
       "    <tr>\n",
       "      <th>Peru</th>\n",
       "      <td>2.45</td>\n",
       "      <td>1.39</td>\n",
       "      <td>1.05</td>\n",
       "      <td>43.05</td>\n",
       "    </tr>\n",
       "    <tr>\n",
       "      <th>Singapore</th>\n",
       "      <td>1.73</td>\n",
       "      <td>1.86</td>\n",
       "      <td>-0.13</td>\n",
       "      <td>-7.48</td>\n",
       "    </tr>\n",
       "    <tr>\n",
       "      <th>United States</th>\n",
       "      <td>1.35</td>\n",
       "      <td>0.64</td>\n",
       "      <td>0.71</td>\n",
       "      <td>52.42</td>\n",
       "    </tr>\n",
       "    <tr>\n",
       "      <th>United Kingdom</th>\n",
       "      <td>0.78</td>\n",
       "      <td>0.49</td>\n",
       "      <td>0.29</td>\n",
       "      <td>36.96</td>\n",
       "    </tr>\n",
       "    <tr>\n",
       "      <th>Japan</th>\n",
       "      <td>0.63</td>\n",
       "      <td>0.12</td>\n",
       "      <td>0.51</td>\n",
       "      <td>80.75</td>\n",
       "    </tr>\n",
       "    <tr>\n",
       "      <th>Norway</th>\n",
       "      <td>0.61</td>\n",
       "      <td>0.61</td>\n",
       "      <td>0.00</td>\n",
       "      <td>0.20</td>\n",
       "    </tr>\n",
       "  </tbody>\n",
       "</table>\n",
       "</div>"
      ],
      "text/plain": [
       "                一人当たりGDPの成長率  蓄積生産要素の成長率  全要素生産性の成長率  全要素生産性の寄与度(％)\n",
       "country                                                            \n",
       "China                   6.26        3.57        2.69          42.99\n",
       "India                   5.31        2.98        2.33          43.83\n",
       "Peru                    2.45        1.39        1.05          43.05\n",
       "Singapore               1.73        1.86       -0.13          -7.48\n",
       "United States           1.35        0.64        0.71          52.42\n",
       "United Kingdom          0.78        0.49        0.29          36.96\n",
       "Japan                   0.63        0.12        0.51          80.75\n",
       "Norway                  0.61        0.61        0.00           0.20"
      ]
     },
     "execution_count": 35,
     "metadata": {},
     "output_type": "execute_result"
    }
   ],
   "source": [
    "country_table = ['Japan', 'United Kingdom','United States', 'Norway',\n",
    "                'Singapore','Peru','India','China']\n",
    "\n",
    "cond = df_growth['country'].isin(country_table)\n",
    "\n",
    "col = ['country','rgdp_pc','factors','tfp','tfp_contribution']\n",
    "\n",
    "df_growth.loc[cond,col].set_index('country') \\\n",
    "         .sort_values('rgdp_pc', ascending=False) \\\n",
    "         .round(2) \\\n",
    "         .rename(columns={'rgdp_pc':'一人当たりGDPの成長率',\n",
    "                          'factors':'蓄積生産要素の成長率',\n",
    "                          'tfp':'全要素生産性の成長率',\n",
    "                          'tfp_contribution':'全要素生産性の寄与度(％)'})"
   ]
  },
  {
   "cell_type": "markdown",
   "metadata": {
    "hidden": true,
    "id": "I09eI8H27fbO"
   },
   "source": [
    "ここでの全要素生産性の寄与度は，一人当たりGDPの成長率のうち何％がTFPによるものかを示している。この表を見ると，日本の全要素生産性の寄与度は非常に大きい。このデータは1999~2019年のデータであり，それ以前ではどうだったのかを含めて，次節では年代を区切って日本の経済成長を考察してみることにする。"
   ]
  },
  {
   "cell_type": "markdown",
   "metadata": {
    "heading_collapsed": true,
    "id": "cUevre6X7fbO"
   },
   "source": [
    "## 日本"
   ]
  },
  {
   "cell_type": "markdown",
   "metadata": {
    "hidden": true,
    "id": "-kYX7A_K7fbO"
   },
   "source": [
    "年代別に成長率を考えるために，次の関数を定義しよう。`start`から`end`までの間の平均成長率と全要素生産性の寄与度をリストとして返す。"
   ]
  },
  {
   "cell_type": "code",
   "execution_count": 36,
   "metadata": {
    "hidden": true,
    "id": "pj0JNfqS7fbO"
   },
   "outputs": [],
   "source": [
    "def jp_growth_decomposition(start, end):\n",
    "    \"\"\"引数：\n",
    "        start（int）: 開始年\n",
    "        end（int）: 最終年\n",
    "        \n",
    "       返り値：次の変数の成長率とTFPの寄与度からなるリスト\n",
    "                一人当たりGDP\n",
    "                一人当たり物的資本\n",
    "                平均労働時間\n",
    "                人的資本\n",
    "                全要素生産性（TFP）\"\"\"\n",
    "\n",
    "    var_list = ['rgdp_pc','k_pc','avh','hc']\n",
    "    \n",
    "    start = start\n",
    "    end = end\n",
    "    n = end-start\n",
    "    \n",
    "    df_start = df.query('country == \"Japan\" & year == @start')\n",
    "    df_end = df.query('country == \"Japan\" & year == @end')\n",
    "    \n",
    "    g_list = []\n",
    "    \n",
    "    \n",
    "    # ========== var_listの変数の平均成長率を計算しg_listに追加する ==========\n",
    "    for v in var_list:\n",
    "        \n",
    "        g = ( df_end[v].iat[0] / df_start[v].iat[0] )**(1/n)-1\n",
    "        g_list.append(100*g)\n",
    "\n",
    "        \n",
    "    # ========== 蓄積生産要素の平均成長率を計算しg_listに追加する ==========\n",
    "    factors = (1/3)*g_list[1]+(1-1/3)*( g_list[2]+g_list[3] )\n",
    "    g_list.append(factors)\n",
    "\n",
    "    \n",
    "    # ========== 全要素生産性の平均成長率を計算しg_listに追加する ==========\n",
    "    tfp = g_list[0]-factors\n",
    "    g_list.append(tfp)\n",
    "\n",
    "    # ========== 全要素生産性の寄与度を計算しg_listに追加する ==========\n",
    "    tfp_contribution = 100*tfp/g_list[0]\n",
    "    g_list.append(tfp_contribution)\n",
    "    \n",
    "    return g_list"
   ]
  },
  {
   "cell_type": "markdown",
   "metadata": {
    "hidden": true,
    "id": "SZLhnOx-7fbO"
   },
   "source": [
    "この関数を使って`DataFrame`を作成する。"
   ]
  },
  {
   "cell_type": "code",
   "execution_count": 37,
   "metadata": {
    "hidden": true,
    "id": "ghMQXltP7fbP",
    "outputId": "37942cd1-b652-4dec-e8fa-3d0400601011",
    "scrolled": true
   },
   "outputs": [
    {
     "data": {
      "text/html": [
       "<div>\n",
       "<style scoped>\n",
       "    .dataframe tbody tr th:only-of-type {\n",
       "        vertical-align: middle;\n",
       "    }\n",
       "\n",
       "    .dataframe tbody tr th {\n",
       "        vertical-align: top;\n",
       "    }\n",
       "\n",
       "    .dataframe thead th {\n",
       "        text-align: right;\n",
       "    }\n",
       "</style>\n",
       "<table border=\"1\" class=\"dataframe\">\n",
       "  <thead>\n",
       "    <tr style=\"text-align: right;\">\n",
       "      <th></th>\n",
       "      <th>1950s</th>\n",
       "      <th>1960s</th>\n",
       "      <th>1970s</th>\n",
       "      <th>1980s</th>\n",
       "      <th>1990s</th>\n",
       "      <th>2000s</th>\n",
       "      <th>2010s</th>\n",
       "    </tr>\n",
       "  </thead>\n",
       "  <tbody>\n",
       "    <tr>\n",
       "      <th>gdp_pc_growth</th>\n",
       "      <td>5.818810</td>\n",
       "      <td>8.574257</td>\n",
       "      <td>3.828061</td>\n",
       "      <td>3.638507</td>\n",
       "      <td>0.905053</td>\n",
       "      <td>0.220202</td>\n",
       "      <td>0.308059</td>\n",
       "    </tr>\n",
       "    <tr>\n",
       "      <th>k_pc_growth</th>\n",
       "      <td>NaN</td>\n",
       "      <td>11.263879</td>\n",
       "      <td>8.484514</td>\n",
       "      <td>4.983142</td>\n",
       "      <td>3.480964</td>\n",
       "      <td>1.046741</td>\n",
       "      <td>-0.272145</td>\n",
       "    </tr>\n",
       "    <tr>\n",
       "      <th>avh_growth</th>\n",
       "      <td>0.670331</td>\n",
       "      <td>-0.133080</td>\n",
       "      <td>-0.339988</td>\n",
       "      <td>-0.067591</td>\n",
       "      <td>-1.012446</td>\n",
       "      <td>-0.617680</td>\n",
       "      <td>-0.563402</td>\n",
       "    </tr>\n",
       "    <tr>\n",
       "      <th>hc_growth</th>\n",
       "      <td>1.265048</td>\n",
       "      <td>0.807691</td>\n",
       "      <td>0.711507</td>\n",
       "      <td>0.560457</td>\n",
       "      <td>0.516702</td>\n",
       "      <td>0.443183</td>\n",
       "      <td>0.303400</td>\n",
       "    </tr>\n",
       "    <tr>\n",
       "      <th>factors_growth</th>\n",
       "      <td>NaN</td>\n",
       "      <td>4.204367</td>\n",
       "      <td>3.075851</td>\n",
       "      <td>1.989625</td>\n",
       "      <td>0.829825</td>\n",
       "      <td>0.232582</td>\n",
       "      <td>-0.264049</td>\n",
       "    </tr>\n",
       "    <tr>\n",
       "      <th>tfp_growth</th>\n",
       "      <td>NaN</td>\n",
       "      <td>4.369890</td>\n",
       "      <td>0.752210</td>\n",
       "      <td>1.648882</td>\n",
       "      <td>0.075227</td>\n",
       "      <td>-0.012380</td>\n",
       "      <td>0.572108</td>\n",
       "    </tr>\n",
       "    <tr>\n",
       "      <th>tfp_contribution</th>\n",
       "      <td>NaN</td>\n",
       "      <td>50.965232</td>\n",
       "      <td>19.649905</td>\n",
       "      <td>45.317542</td>\n",
       "      <td>8.311944</td>\n",
       "      <td>-5.622092</td>\n",
       "      <td>185.713890</td>\n",
       "    </tr>\n",
       "  </tbody>\n",
       "</table>\n",
       "</div>"
      ],
      "text/plain": [
       "                     1950s      1960s      1970s      1980s     1990s  \\\n",
       "gdp_pc_growth     5.818810   8.574257   3.828061   3.638507  0.905053   \n",
       "k_pc_growth            NaN  11.263879   8.484514   4.983142  3.480964   \n",
       "avh_growth        0.670331  -0.133080  -0.339988  -0.067591 -1.012446   \n",
       "hc_growth         1.265048   0.807691   0.711507   0.560457  0.516702   \n",
       "factors_growth         NaN   4.204367   3.075851   1.989625  0.829825   \n",
       "tfp_growth             NaN   4.369890   0.752210   1.648882  0.075227   \n",
       "tfp_contribution       NaN  50.965232  19.649905  45.317542  8.311944   \n",
       "\n",
       "                     2000s       2010s  \n",
       "gdp_pc_growth     0.220202    0.308059  \n",
       "k_pc_growth       1.046741   -0.272145  \n",
       "avh_growth       -0.617680   -0.563402  \n",
       "hc_growth         0.443183    0.303400  \n",
       "factors_growth    0.232582   -0.264049  \n",
       "tfp_growth       -0.012380    0.572108  \n",
       "tfp_contribution -5.622092  185.713890  "
      ]
     },
     "execution_count": 37,
     "metadata": {},
     "output_type": "execute_result"
    }
   ],
   "source": [
    "dic = {}                                          # 1\n",
    "\n",
    "yr_list = ['1950s','1960s','1970s',               # 2\n",
    "           '1980s','1990s','2000s','2010s']\n",
    "\n",
    "for yr in yr_list:                                # 3\n",
    "    start = int(yr[:4])                           # 4\n",
    "    end = start+9                                 # 5\n",
    "    dic[yr] = jp_growth_decomposition(start,end)  # 6\n",
    "\n",
    "\n",
    "idx = ['gdp_pc_growth','k_pc_growth',             # 7\n",
    "       'avh_growth','hc_growth','factors_growth',\n",
    "       'tfp_growth','tfp_contribution']\n",
    "\n",
    "df_jp = pd.DataFrame(dic, index=idx)              # 8\n",
    "df_jp"
   ]
  },
  {
   "cell_type": "markdown",
   "metadata": {
    "hidden": true,
    "id": "ytJHfCKP7fbP"
   },
   "source": [
    "````{admonition} コードの説明\n",
    ":class: dropdown\n",
    "\n",
    "1~6のコードは次のコードを`for`ループとして書いている。\n",
    "```\n",
    "dic = {'1950s':jp_growth_decomposition(1950,1959),\n",
    "       '1960s':jp_growth_decomposition(1960,1969),\n",
    "       '1970s':jp_growth_decomposition(1970,1979),\n",
    "       '1980s':jp_growth_decomposition(1980,1989),\n",
    "       '1990s':jp_growth_decomposition(1990,1999),\n",
    "       '2000s':jp_growth_decomposition(2000,2010),\n",
    "       '2010s':jp_growth_decomposition(2010,2019)}\n",
    "\n",
    "```\n",
    "1. 空の辞書`dic`を作成する。\n",
    "2. `dic`のキーになる値のリストを作成する。\n",
    "3. `yr_list`に対しての`for`ループ。\n",
    "4. 関数`jp_growth_decomposition()`の引数として使用する開始年を作成する。\n",
    "    * 右辺の`yr`は5つの文字からなる文字列であり，`yr[:4]`は最初の4文字を抽出する。それを整数に変換するために`int()`を使っている。\n",
    "    * 右辺の開始年を変数`start`に割り当てる。\n",
    "5. 関数`jp_growth_decomposition()`の引数として使用する最終年を作成する。\n",
    "    * 右辺では`start`の9年後を最終年としている。\n",
    "    * 右辺の最終年を変数`end`に割り当てる。\n",
    "6. `dic`のキー`yr`に対応する値として`jp_growth_decomposition(start,end)`の返り値を`設定する。\n",
    "7. (8)で`DataFrame`を作成するが，その行ラベルに使うリストを作成する。\n",
    "8. `dic`を使い`DataFrame`を作成する。\n",
    "````"
   ]
  },
  {
   "cell_type": "markdown",
   "metadata": {
    "hidden": true,
    "id": "62ZoVM9N7fbP"
   },
   "source": [
    "値を確認するだけであればこのままでも良いが，棒グラフを作成するために列と行を入れ替えることにする。`df_jp`のメソッド`.transpose()`を使う。"
   ]
  },
  {
   "cell_type": "code",
   "execution_count": 38,
   "metadata": {
    "hidden": true,
    "id": "_ApYR0Ds7fbP",
    "outputId": "30b2ddf4-d897-4381-9669-84bc64e56602",
    "scrolled": true
   },
   "outputs": [
    {
     "data": {
      "text/html": [
       "<div>\n",
       "<style scoped>\n",
       "    .dataframe tbody tr th:only-of-type {\n",
       "        vertical-align: middle;\n",
       "    }\n",
       "\n",
       "    .dataframe tbody tr th {\n",
       "        vertical-align: top;\n",
       "    }\n",
       "\n",
       "    .dataframe thead th {\n",
       "        text-align: right;\n",
       "    }\n",
       "</style>\n",
       "<table border=\"1\" class=\"dataframe\">\n",
       "  <thead>\n",
       "    <tr style=\"text-align: right;\">\n",
       "      <th></th>\n",
       "      <th>gdp_pc_growth</th>\n",
       "      <th>k_pc_growth</th>\n",
       "      <th>avh_growth</th>\n",
       "      <th>hc_growth</th>\n",
       "      <th>factors_growth</th>\n",
       "      <th>tfp_growth</th>\n",
       "      <th>tfp_contribution</th>\n",
       "    </tr>\n",
       "  </thead>\n",
       "  <tbody>\n",
       "    <tr>\n",
       "      <th>1950s</th>\n",
       "      <td>5.818810</td>\n",
       "      <td>NaN</td>\n",
       "      <td>0.670331</td>\n",
       "      <td>1.265048</td>\n",
       "      <td>NaN</td>\n",
       "      <td>NaN</td>\n",
       "      <td>NaN</td>\n",
       "    </tr>\n",
       "    <tr>\n",
       "      <th>1960s</th>\n",
       "      <td>8.574257</td>\n",
       "      <td>11.263879</td>\n",
       "      <td>-0.133080</td>\n",
       "      <td>0.807691</td>\n",
       "      <td>4.204367</td>\n",
       "      <td>4.369890</td>\n",
       "      <td>50.965232</td>\n",
       "    </tr>\n",
       "    <tr>\n",
       "      <th>1970s</th>\n",
       "      <td>3.828061</td>\n",
       "      <td>8.484514</td>\n",
       "      <td>-0.339988</td>\n",
       "      <td>0.711507</td>\n",
       "      <td>3.075851</td>\n",
       "      <td>0.752210</td>\n",
       "      <td>19.649905</td>\n",
       "    </tr>\n",
       "    <tr>\n",
       "      <th>1980s</th>\n",
       "      <td>3.638507</td>\n",
       "      <td>4.983142</td>\n",
       "      <td>-0.067591</td>\n",
       "      <td>0.560457</td>\n",
       "      <td>1.989625</td>\n",
       "      <td>1.648882</td>\n",
       "      <td>45.317542</td>\n",
       "    </tr>\n",
       "    <tr>\n",
       "      <th>1990s</th>\n",
       "      <td>0.905053</td>\n",
       "      <td>3.480964</td>\n",
       "      <td>-1.012446</td>\n",
       "      <td>0.516702</td>\n",
       "      <td>0.829825</td>\n",
       "      <td>0.075227</td>\n",
       "      <td>8.311944</td>\n",
       "    </tr>\n",
       "    <tr>\n",
       "      <th>2000s</th>\n",
       "      <td>0.220202</td>\n",
       "      <td>1.046741</td>\n",
       "      <td>-0.617680</td>\n",
       "      <td>0.443183</td>\n",
       "      <td>0.232582</td>\n",
       "      <td>-0.012380</td>\n",
       "      <td>-5.622092</td>\n",
       "    </tr>\n",
       "    <tr>\n",
       "      <th>2010s</th>\n",
       "      <td>0.308059</td>\n",
       "      <td>-0.272145</td>\n",
       "      <td>-0.563402</td>\n",
       "      <td>0.303400</td>\n",
       "      <td>-0.264049</td>\n",
       "      <td>0.572108</td>\n",
       "      <td>185.713890</td>\n",
       "    </tr>\n",
       "  </tbody>\n",
       "</table>\n",
       "</div>"
      ],
      "text/plain": [
       "       gdp_pc_growth  k_pc_growth  avh_growth  hc_growth  factors_growth  \\\n",
       "1950s       5.818810          NaN    0.670331   1.265048             NaN   \n",
       "1960s       8.574257    11.263879   -0.133080   0.807691        4.204367   \n",
       "1970s       3.828061     8.484514   -0.339988   0.711507        3.075851   \n",
       "1980s       3.638507     4.983142   -0.067591   0.560457        1.989625   \n",
       "1990s       0.905053     3.480964   -1.012446   0.516702        0.829825   \n",
       "2000s       0.220202     1.046741   -0.617680   0.443183        0.232582   \n",
       "2010s       0.308059    -0.272145   -0.563402   0.303400       -0.264049   \n",
       "\n",
       "       tfp_growth  tfp_contribution  \n",
       "1950s         NaN               NaN  \n",
       "1960s    4.369890         50.965232  \n",
       "1970s    0.752210         19.649905  \n",
       "1980s    1.648882         45.317542  \n",
       "1990s    0.075227          8.311944  \n",
       "2000s   -0.012380         -5.622092  \n",
       "2010s    0.572108        185.713890  "
      ]
     },
     "execution_count": 38,
     "metadata": {},
     "output_type": "execute_result"
    }
   ],
   "source": [
    "df_jp = df_jp.transpose()\n",
    "df_jp"
   ]
  },
  {
   "cell_type": "markdown",
   "metadata": {
    "hidden": true,
    "id": "uQAzdiLu7fbP"
   },
   "source": [
    "1950年代に欠損値があるが，そのまま議論を進めよう。まず一人当たりGDP成長率`gdp_pc_growth`を棒グラフとして表示してみよう。表示したい列を選択し，引数に`kind='bar'`を選択するだけである。"
   ]
  },
  {
   "cell_type": "code",
   "execution_count": 39,
   "metadata": {
    "hidden": true,
    "id": "a-XMpQUg7fbP",
    "outputId": "d4a8a8a1-148c-4783-c6bb-d05c6aef8f45"
   },
   "outputs": [
    {
     "data": {
      "image/png": "[encoded data removed]",
      "text/plain": [
       "<Figure size 432x288 with 1 Axes>"
      ]
     },
     "metadata": {
      "needs_background": "light"
     },
     "output_type": "display_data"
    }
   ],
   "source": [
    "df_jp['gdp_pc_growth'].plot(kind='bar')\n",
    "pass"
   ]
  },
  {
   "cell_type": "markdown",
   "metadata": {
    "hidden": true,
    "id": "0EwOl0kn7fbP"
   },
   "source": [
    "1960年代をピークに成長率は下降線をたどっている。\n",
    "\n",
    "次にヒストグラムに異なる変数を並べて表示してみる。この場合も、表示したい変数を先に選び`kind='bar'`を指定するだけである。"
   ]
  },
  {
   "cell_type": "code",
   "execution_count": 40,
   "metadata": {
    "hidden": true,
    "id": "Tiko-qU67fbP",
    "outputId": "10d584a0-edc8-4e5c-8dc5-8484f4f6dfb3"
   },
   "outputs": [
    {
     "data": {
      "image/png": "[encoded data removed]",
      "text/plain": [
       "<Figure size 432x288 with 1 Axes>"
      ]
     },
     "metadata": {
      "needs_background": "light"
     },
     "output_type": "display_data"
    }
   ],
   "source": [
    "df_jp.iloc[:,[0,-3,-2]].plot(kind='bar')\n",
    "pass"
   ]
  },
  {
   "cell_type": "markdown",
   "metadata": {
    "hidden": true,
    "id": "eEOPwJrK7fbS"
   },
   "source": [
    "以下では，全要素生産性と蓄積生産要素の成長率に焦点を当てるので，`dropna()`を使って1950年代のデータは削除する。"
   ]
  },
  {
   "cell_type": "code",
   "execution_count": 41,
   "metadata": {
    "hidden": true,
    "id": "caZ7u5xa7fbS"
   },
   "outputs": [],
   "source": [
    "df_jp = df_jp.dropna()"
   ]
  },
  {
   "cell_type": "markdown",
   "metadata": {
    "hidden": true,
    "id": "fBPhpyeU7fbS"
   },
   "source": [
    "上の棒グラフで，引数`stacked=True`を設定すると棒を積み重ねて表示することができる。"
   ]
  },
  {
   "cell_type": "code",
   "execution_count": 42,
   "metadata": {
    "hidden": true,
    "id": "PFRTnxGQ7fbT",
    "outputId": "ffdd06d7-3e71-4f0b-e567-2e7ede815891"
   },
   "outputs": [
    {
     "data": {
      "image/png": "[encoded data removed]",
      "text/plain": [
       "<Figure size 432x288 with 1 Axes>"
      ]
     },
     "metadata": {
      "needs_background": "light"
     },
     "output_type": "display_data"
    }
   ],
   "source": [
    "df_jp.iloc[:,[-3,-2]].plot(kind='bar', stacked=True)\n",
    "pass"
   ]
  },
  {
   "cell_type": "markdown",
   "metadata": {
    "hidden": true,
    "id": "1r_BCPSl7fbT"
   },
   "source": [
    "次のグラフでは，一人当たりGDPの線グラフと一緒に表示している。"
   ]
  },
  {
   "cell_type": "code",
   "execution_count": 43,
   "metadata": {
    "hidden": true,
    "id": "zQ38GjR87fbT",
    "outputId": "9cc32b43-8d41-4a5f-dd32-6f2e9ab9e7d9"
   },
   "outputs": [
    {
     "data": {
      "image/png": "[encoded data removed]",
      "text/plain": [
       "<Figure size 432x288 with 1 Axes>"
      ]
     },
     "metadata": {
      "needs_background": "light"
     },
     "output_type": "display_data"
    }
   ],
   "source": [
    "ax_ = df_jp.iloc[:,0].plot(marker='o',color='k', legend=True)\n",
    "df_jp.iloc[:,[-3,-2]].plot(kind='bar', stacked=True, legend=True, ax=ax_)\n",
    "pass"
   ]
  },
  {
   "cell_type": "markdown",
   "metadata": {
    "hidden": true,
    "id": "Vunhj91U7fbT"
   },
   "source": [
    "1990年代に入ると，それ以前と比べて全要素生産性の成長率の下落が著しく，一人当たりGDPの成長率に大きく影響している。「失われた10年」の原因と主張する研究者もいる。"
   ]
  }
 ],
 "metadata": {
  "celltoolbar": "Tags",
  "colab": {
   "name": "5b_Growth_Accounting.ipynb",
   "provenance": [],
   "toc_visible": true
  },
  "kernelspec": {
   "display_name": "Python 3 (ipykernel)",
   "language": "python",
   "name": "python3"
  },
  "language_info": {
   "codemirror_mode": {
    "name": "ipython",
    "version": 3
   },
   "file_extension": ".py",
   "mimetype": "text/x-python",
   "name": "python",
   "nbconvert_exporter": "python",
   "pygments_lexer": "ipython3",
   "version": "3.8.9"
  }
 },
 "nbformat": 4,
 "nbformat_minor": 4
}
