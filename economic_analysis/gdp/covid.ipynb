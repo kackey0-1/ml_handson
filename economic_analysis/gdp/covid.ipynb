{
 "cells": [
  {
   "cell_type": "markdown",
   "id": "428f8939-10ec-40f2-9bfb-a720156a89eb",
   "metadata": {},
   "source": [
    "# COVID\n",
    "\n"
   ]
  },
  {
   "cell_type": "code",
   "execution_count": 29,
   "id": "a131df5c-3d9b-4bb7-a172-a86ad8220a77",
   "metadata": {},
   "outputs": [],
   "source": [
    "import urllib\n",
    "import json\n",
    "from datetime import datetime\n",
    "import pandas as pd"
   ]
  },
  {
   "cell_type": "code",
   "execution_count": 36,
   "id": "f686bc62-487e-4823-82ae-c51baab2bb39",
   "metadata": {},
   "outputs": [],
   "source": [
    "# today = datetime.strftime(datetime.now(), '%Y-%m-%d')\n",
    "# url = f'https://data.vrs.digital.go.jp/vaccination/opendata/{today}/prefecture.ndjson'\n",
    "# response = urllib.request.urlopen(url)\n",
    "# response = response.read()\n"
   ]
  },
  {
   "cell_type": "code",
   "execution_count": 47,
   "id": "a574c6f6-cb16-4a6b-8184-f421575f3c00",
   "metadata": {},
   "outputs": [
    {
     "data": {
      "text/html": [
       "<div>\n",
       "<style scoped>\n",
       "    .dataframe tbody tr th:only-of-type {\n",
       "        vertical-align: middle;\n",
       "    }\n",
       "\n",
       "    .dataframe tbody tr th {\n",
       "        vertical-align: top;\n",
       "    }\n",
       "\n",
       "    .dataframe thead th {\n",
       "        text-align: right;\n",
       "    }\n",
       "</style>\n",
       "<table border=\"1\" class=\"dataframe\">\n",
       "  <thead>\n",
       "    <tr style=\"text-align: right;\">\n",
       "      <th></th>\n",
       "      <th>prefecture</th>\n",
       "      <th>1st-time</th>\n",
       "      <th>2nd-time</th>\n",
       "      <th>3rd-time</th>\n",
       "      <th>4th-time</th>\n",
       "    </tr>\n",
       "  </thead>\n",
       "  <tbody>\n",
       "    <tr>\n",
       "      <th>0</th>\n",
       "      <td>北海道</td>\n",
       "      <td>76.52</td>\n",
       "      <td>75.99</td>\n",
       "      <td>65.80</td>\n",
       "      <td>14.27</td>\n",
       "    </tr>\n",
       "    <tr>\n",
       "      <th>1</th>\n",
       "      <td>青森県</td>\n",
       "      <td>81.74</td>\n",
       "      <td>81.21</td>\n",
       "      <td>70.24</td>\n",
       "      <td>13.70</td>\n",
       "    </tr>\n",
       "    <tr>\n",
       "      <th>2</th>\n",
       "      <td>岩手県</td>\n",
       "      <td>81.10</td>\n",
       "      <td>80.53</td>\n",
       "      <td>71.52</td>\n",
       "      <td>15.86</td>\n",
       "    </tr>\n",
       "    <tr>\n",
       "      <th>3</th>\n",
       "      <td>宮城県</td>\n",
       "      <td>78.37</td>\n",
       "      <td>77.86</td>\n",
       "      <td>66.75</td>\n",
       "      <td>16.12</td>\n",
       "    </tr>\n",
       "    <tr>\n",
       "      <th>4</th>\n",
       "      <td>秋田県</td>\n",
       "      <td>82.36</td>\n",
       "      <td>81.92</td>\n",
       "      <td>74.18</td>\n",
       "      <td>10.00</td>\n",
       "    </tr>\n",
       "  </tbody>\n",
       "</table>\n",
       "</div>"
      ],
      "text/plain": [
       "  prefecture  1st-time  2nd-time  3rd-time  4th-time\n",
       "0        北海道     76.52     75.99     65.80     14.27\n",
       "1        青森県     81.74     81.21     70.24     13.70\n",
       "2        岩手県     81.10     80.53     71.52     15.86\n",
       "3        宮城県     78.37     77.86     66.75     16.12\n",
       "4        秋田県     82.36     81.92     74.18     10.00"
      ]
     },
     "execution_count": 47,
     "metadata": {},
     "output_type": "execute_result"
    }
   ],
   "source": [
    "df = pd.read_csv('data/covid.tsv', delimiter='\\t')\n",
    "df.head()\n"
   ]
  },
  {
   "cell_type": "code",
   "execution_count": 45,
   "id": "aa234a55-792d-4831-8b65-7dd3093bb1e3",
   "metadata": {},
   "outputs": [
    {
     "data": {
      "text/html": [
       "<div>\n",
       "<style scoped>\n",
       "    .dataframe tbody tr th:only-of-type {\n",
       "        vertical-align: middle;\n",
       "    }\n",
       "\n",
       "    .dataframe tbody tr th {\n",
       "        vertical-align: top;\n",
       "    }\n",
       "\n",
       "    .dataframe thead th {\n",
       "        text-align: right;\n",
       "    }\n",
       "</style>\n",
       "<table border=\"1\" class=\"dataframe\">\n",
       "  <thead>\n",
       "    <tr style=\"text-align: right;\">\n",
       "      <th></th>\n",
       "      <th>date</th>\n",
       "      <th>prefecture</th>\n",
       "      <th>gender</th>\n",
       "      <th>age</th>\n",
       "      <th>medical_worker</th>\n",
       "      <th>status</th>\n",
       "      <th>count</th>\n",
       "    </tr>\n",
       "  </thead>\n",
       "  <tbody>\n",
       "    <tr>\n",
       "      <th>0</th>\n",
       "      <td>2021-04-12</td>\n",
       "      <td>1</td>\n",
       "      <td>F</td>\n",
       "      <td>-64</td>\n",
       "      <td>False</td>\n",
       "      <td>1</td>\n",
       "      <td>3</td>\n",
       "    </tr>\n",
       "    <tr>\n",
       "      <th>1</th>\n",
       "      <td>2021-04-12</td>\n",
       "      <td>1</td>\n",
       "      <td>F</td>\n",
       "      <td>65-</td>\n",
       "      <td>False</td>\n",
       "      <td>1</td>\n",
       "      <td>74</td>\n",
       "    </tr>\n",
       "    <tr>\n",
       "      <th>2</th>\n",
       "      <td>2021-04-12</td>\n",
       "      <td>1</td>\n",
       "      <td>M</td>\n",
       "      <td>-64</td>\n",
       "      <td>False</td>\n",
       "      <td>1</td>\n",
       "      <td>1</td>\n",
       "    </tr>\n",
       "    <tr>\n",
       "      <th>3</th>\n",
       "      <td>2021-04-12</td>\n",
       "      <td>1</td>\n",
       "      <td>M</td>\n",
       "      <td>65-</td>\n",
       "      <td>False</td>\n",
       "      <td>1</td>\n",
       "      <td>18</td>\n",
       "    </tr>\n",
       "    <tr>\n",
       "      <th>4</th>\n",
       "      <td>2021-04-12</td>\n",
       "      <td>1</td>\n",
       "      <td>U</td>\n",
       "      <td>UNK</td>\n",
       "      <td>False</td>\n",
       "      <td>1</td>\n",
       "      <td>18</td>\n",
       "    </tr>\n",
       "  </tbody>\n",
       "</table>\n",
       "</div>"
      ],
      "text/plain": [
       "        date  prefecture gender  age  medical_worker  status  count\n",
       "0 2021-04-12           1      F  -64           False       1      3\n",
       "1 2021-04-12           1      F  65-           False       1     74\n",
       "2 2021-04-12           1      M  -64           False       1      1\n",
       "3 2021-04-12           1      M  65-           False       1     18\n",
       "4 2021-04-12           1      U  UNK           False       1     18"
      ]
     },
     "execution_count": 45,
     "metadata": {},
     "output_type": "execute_result"
    }
   ],
   "source": [
    "import matplotlib.pyplot as plt\n",
    "\n",
    "plt."
   ]
  },
  {
   "cell_type": "code",
   "execution_count": null,
   "id": "3179370f-87ad-426b-b43e-d40cdce7fc32",
   "metadata": {},
   "outputs": [],
   "source": []
  }
 ],
 "metadata": {
  "kernelspec": {
   "display_name": "Python 3 (ipykernel)",
   "language": "python",
   "name": "python3"
  },
  "language_info": {
   "codemirror_mode": {
    "name": "ipython",
    "version": 3
   },
   "file_extension": ".py",
   "mimetype": "text/x-python",
   "name": "python",
   "nbconvert_exporter": "python",
   "pygments_lexer": "ipython3",
   "version": "3.8.9"
  }
 },
 "nbformat": 4,
 "nbformat_minor": 5
}
